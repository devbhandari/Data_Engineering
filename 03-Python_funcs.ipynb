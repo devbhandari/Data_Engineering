{
 "cells": [
  {
   "cell_type": "markdown",
   "id": "9aaf9e1b",
   "metadata": {},
   "source": [
    "# We will be learning advanced python functions like lambda, filter map and nested statement,methods and functions\n"
   ]
  },
  {
   "cell_type": "code",
   "execution_count": 1,
   "id": "cd9f5fcd",
   "metadata": {},
   "outputs": [
    {
     "name": "stdout",
     "output_type": "stream",
     "text": [
      "hello\n"
     ]
    }
   ],
   "source": [
    "print('hello')"
   ]
  },
  {
   "cell_type": "markdown",
   "id": "087cecb3",
   "metadata": {},
   "source": [
    "#### Map()function: map() applies a function to every item in an iterable (e.g., list, tuple).\n",
    "#### Syntax : map(function, iterable)\n",
    "\n",
    "#### filter() applies a function to an iterable and returns only the items that return True.\n",
    "#### Syntax : filter(function, iterable)\n",
    "\n",
    "#### lambda: A lambda is an anonymous function defined using the lambda keyword. It's typically used for short, simple functions.\n",
    "#### lambda arguments: expression\n",
    "\n",
    "\n",
    "#### When to Use\n",
    "#### 1. Use lambda when a function is simple and short-lived.\n",
    "\n",
    "#### 2. Use map when you want to transform all items\n",
    "\n",
    "#### 3. Use filter when you want to select specific items\n",
    "\n",
    "\n"
   ]
  },
  {
   "cell_type": "code",
   "execution_count": null,
   "id": "1d6fa42b",
   "metadata": {},
   "outputs": [],
   "source": [
    "# example of map function\n",
    "def sqr(num):\n",
    "    return num*num\n",
    "# sqr(2) #4\n",
    "inp_list=[1,2,3,4]\n",
    "op_list=list(map(sqr,inp_list))\n",
    "op_list #[1, 4, 9, 16]\n",
    "# another way to print\n",
    "for i in map(sqr,inp_list):\n",
    "    print(i)\n",
    "# 1\n",
    "# 4\n",
    "# 9\n",
    "# 16"
   ]
  },
  {
   "cell_type": "code",
   "execution_count": null,
   "id": "a4b19396",
   "metadata": {},
   "outputs": [],
   "source": [
    "# filter function\n",
    "def check_even(n):\n",
    "    return n%2==0\n",
    "# check_even(5)\n",
    "mynums=[1,2,3,4,5,6,7,8]\n",
    "op_list=list(filter(check_even,mynums))\n",
    "# op_list # op is : [2, 4, 6, 8]\n",
    "\n",
    "# # another way:\n",
    "# for i in filter(check_even,mynums):\n",
    "#     print(i) # (2,4,6,8)"
   ]
  },
  {
   "cell_type": "code",
   "execution_count": null,
   "id": "34b9c3a1",
   "metadata": {},
   "outputs": [
    {
     "data": {
      "text/plain": [
       "[1, 4, 9, 16]"
      ]
     },
     "execution_count": 5,
     "metadata": {},
     "output_type": "execute_result"
    }
   ],
   "source": [
    "#Lambda functions\n",
    "sqr=lambda num:num ** 2\n",
    "# sqr(2) #4\n",
    "mynums=[1,2,3,4]\n",
    "list(map(lambda num:num**2,mynums)) #[1, 4, 9, 16]\n"
   ]
  },
  {
   "cell_type": "code",
   "execution_count": null,
   "id": "15e66ca0",
   "metadata": {},
   "outputs": [
    {
     "data": {
      "text/plain": [
       "[2, 4, 6, 8]"
      ]
     },
     "execution_count": 9,
     "metadata": {},
     "output_type": "execute_result"
    }
   ],
   "source": [
    "check_even=lambda num:num%2==0\n",
    "# check_even(4) #True\n",
    "# check_even(3) #False\n",
    "mynums=[1,2,3,4,5,6,7,8]\n",
    "list(filter(lambda num : num%2==0,mynums)) #[2, 4, 6, 8]"
   ]
  },
  {
   "cell_type": "code",
   "execution_count": null,
   "id": "d2e1093f",
   "metadata": {},
   "outputs": [],
   "source": [
    "#### Functions and method homework\n",
    "\n"
   ]
  },
  {
   "cell_type": "markdown",
   "id": "372fff9a",
   "metadata": {},
   "source": []
  }
 ],
 "metadata": {
  "kernelspec": {
   "display_name": "Python 3",
   "language": "python",
   "name": "python3"
  },
  "language_info": {
   "codemirror_mode": {
    "name": "ipython",
    "version": 3
   },
   "file_extension": ".py",
   "mimetype": "text/x-python",
   "name": "python",
   "nbconvert_exporter": "python",
   "pygments_lexer": "ipython3",
   "version": "3.11.3"
  }
 },
 "nbformat": 4,
 "nbformat_minor": 5
}
