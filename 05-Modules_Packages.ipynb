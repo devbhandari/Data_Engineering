{
 "cells": [
  {
   "cell_type": "code",
   "execution_count": null,
   "id": "31295723",
   "metadata": {},
   "outputs": [],
   "source": [
    "# Modules are just .py scripts that you call in another .py script.\n",
    "# Packages are collection of modules\n",
    "#  these are the notes"
   ]
  }
 ],
 "metadata": {
  "language_info": {
   "name": "python"
  }
 },
 "nbformat": 4,
 "nbformat_minor": 5
}
