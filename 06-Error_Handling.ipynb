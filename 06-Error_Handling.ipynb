{
 "cells": [
  {
   "cell_type": "code",
   "execution_count": null,
   "id": "d8020cfa",
   "metadata": {},
   "outputs": [],
   "source": [
    "# try, except, else, and finally in Python with a real-world example in the simplest terms.\n",
    "# Real-World Scenario:\n",
    "# Let’s say we’re building a Bank ATM system where a user tries to withdraw money.\n",
    "# We want to handle situations like:\n",
    "# If the user enters a non-numeric amount → error\n",
    "# If the user tries to withdraw more than their balance → error\n",
    "# If everything is okay → proceed\n",
    "# Always say thank you to the user → regardless of success or error\n",
    "# example\n",
    "\n",
    "# def withdraw_money(balance):\n",
    "#     try:\n",
    "#         amount = int(input(\"Enter the amount to withdraw: \"))  # 💥 May raise ValueError\n",
    "#         if amount > balance:\n",
    "#             raise ValueError(\"Insufficient balance\")           # 💥 Custom exception\n",
    "#     except ValueError as ve:\n",
    "#         print(\"Error:\", ve)  # 👉 Runs if input is invalid or not enough balance\n",
    "#     else:\n",
    "#         balance -= amount\n",
    "#         print(f\"Withdrawal successful! New balance: {balance}\")  # 👉 Runs if try block has no error\n",
    "#     finally:\n",
    "#         print(\"Thank you for banking with us!\")  # 👉 Runs no matter what happens\n",
    "\n",
    "# # Simulate ATM with ₹1000 balance\n",
    "# withdraw_money(1000)\n",
    "\n",
    "# What Each Block Does\n",
    "# | Block     | When it runs                           | Purpose                               |\n",
    "# | --------- | -------------------------------------- | ------------------------------------- |\n",
    "# | `try`     | Always                                 | Test risky code                       |\n",
    "# | `except`  | Only if error occurs in `try`          | Handle known errors                   |\n",
    "# | `else`    | Only if `try` **succeeds** (no errors) | Code to run when everything goes well |\n",
    "# | `finally` | Always (error or not)                  | Clean-up or final message             |\n",
    "\n",
    "# When to Use What?\n",
    "# | Keyword   | Use It When…                                                                       |\n",
    "# | --------- | ---------------------------------------------------------------------------------- |\n",
    "# | `try`     | You have **risky code** (user input, file handling, API calls)                     |\n",
    "# | `except`  | You want to **handle specific errors** (like `ValueError`, `FileNotFoundError`)    |\n",
    "# | `else`    | You want to run code **only if no exception** occurred                             |\n",
    "# | `finally` | You want code to **always run** (e.g., cleanup, close connection, print thank you) |\n",
    "\n",
    "# Final Tip\n",
    "# Always use:\n",
    "# try + except: ✅ Required\n",
    "# else: Optional, for happy path\n",
    "# finally: Optional, for cleanup/final messages\n",
    "\n",
    "# Always avoid using a variable inside except unless you're sure it was defined before the error.\n",
    "    # for example in below case except block will fail as result if the input cannot be converted to int(), then this line will never assign anything \n",
    "    # to result so result doesn't exist yet. That’s why Python throws an UnboundLocalError.\n",
    "# It's better to use specific exceptions like ValueError instead of a generic except: — this helps avoid catching unrelated errors.\n",
    "\n",
    "def ask_for_int():\n",
    "    while True:\n",
    "        try:\n",
    "            result= int(input(\"Please enter a number\"))\n",
    "        except:\n",
    "            print(f\"You have entered {result}, which is not a number please try again !!!\")\n",
    "            continue\n",
    "        else:\n",
    "            print(f\"You have entered {result}, which is a number, thank you !!!\")\n",
    "            break\n",
    "        finally:\n",
    "            print(\"Thank you for playing this game !!!\")\n",
    "    \n"
   ]
  },
  {
   "cell_type": "code",
   "execution_count": 13,
   "id": "318a9d2f",
   "metadata": {},
   "outputs": [
    {
     "name": "stdout",
     "output_type": "stream",
     "text": [
      "Your input is not a number, please try again !!!\n",
      "Thank you for playing this game !!!\n",
      "Your input is not a number, please try again !!!\n",
      "Thank you for playing this game !!!\n",
      "Your input is not a number, please try again !!!\n",
      "Thank you for playing this game !!!\n",
      "Your input is not a number, please try again !!!\n",
      "Thank you for playing this game !!!\n",
      "You have entered 10, which is a number, thank you !!!\n",
      "Thank you for playing this game !!!\n"
     ]
    }
   ],
   "source": [
    "def ask_for_int():\n",
    "    while True:\n",
    "        try:\n",
    "            result= int(input(\"Please enter a number\"))\n",
    "        except:\n",
    "            print(f\"Your input is not a number, please try again !!!\")\n",
    "            continue\n",
    "        else:\n",
    "            print(f\"You have entered {result}, which is a number, thank you !!!\")\n",
    "            break\n",
    "        finally:\n",
    "            print(\"Thank you for playing this game !!!\")\n",
    "    \n",
    "# Function call\n",
    "ask_for_int()\n"
   ]
  },
  {
   "cell_type": "code",
   "execution_count": 15,
   "id": "1d02bb64",
   "metadata": {},
   "outputs": [
    {
     "name": "stdout",
     "output_type": "stream",
     "text": [
      "error unsupported operand type(s) for ** or pow(): 'str' and 'int'\n"
     ]
    }
   ],
   "source": [
    "# Problem 1\n",
    "# Handle the exception thrown by the code below by using try and except blocks.\n",
    "try:\n",
    "    for i in ['a','b','c']:\n",
    "        print(i**2)\n",
    "except TypeError as te:\n",
    "    print('error',te)"
   ]
  },
  {
   "cell_type": "code",
   "execution_count": 1,
   "id": "1911dd11",
   "metadata": {},
   "outputs": [
    {
     "name": "stdout",
     "output_type": "stream",
     "text": [
      "error:  division by zero\n",
      "thank you !!!\n"
     ]
    }
   ],
   "source": [
    "# Problem2\n",
    "# Handle the exception thrown by the code below by using try and except blocks. Then use a finally block to print 'All Done.'\n",
    "try:\n",
    "    x = 5\n",
    "    y = 0\n",
    "    z = x/y\n",
    "except ZeroDivisionError as zd:\n",
    "    print('error: ', zd)\n",
    "finally:\n",
    "    print('thank you !!!')"
   ]
  },
  {
   "cell_type": "code",
   "execution_count": null,
   "id": "da7cb935",
   "metadata": {},
   "outputs": [
    {
     "name": "stdout",
     "output_type": "stream",
     "text": [
      "An error occurred! Please try again!\n",
      "An error occurred! Please try again!\n",
      "An error occurred! Please try again!\n",
      "An error occurred! Please try again!\n",
      "Your number squared as 100\n",
      "An error occurred! Please try again!\n",
      "Your number squared as 1\n"
     ]
    }
   ],
   "source": [
    "# Problem 3:\n",
    "# Write a function that asks for an integer and prints the square of it. \n",
    "# Use a while loop with a try, except, else block to account for incorrect inputs.\n",
    "\n",
    "def ask():\n",
    "    while True:\n",
    "        try:\n",
    "            user_input= int(input('Input an integer !!!'))\n",
    "            result=user_input **2\n",
    "        except:\n",
    "            print('An error occurred! Please try again!')\n",
    "            continue\n",
    "            # except TypeError as te:\n",
    "                # print(f\"error\",te)\n",
    "        else:\n",
    "                print(f\"Your number squared as {result}\")\n",
    "                break\n",
    "\n",
    "# function call\n",
    "ask()\n",
    "\n"
   ]
  },
  {
   "cell_type": "code",
   "execution_count": null,
   "id": "941e66d5",
   "metadata": {},
   "outputs": [],
   "source": [
    "try:\n",
    "    connection = connect_to_db()\n",
    "    data = connection.fetch_data()\n",
    "except DatabaseError:\n",
    "    print(\"Failed to connect or fetch data from database.\")\n",
    "else:\n",
    "    try:\n",
    "        results = process(data)\n",
    "        with open(\"results.txt\", \"w\") as f:\n",
    "            f.write(results)\n",
    "    except Exception as e:\n",
    "        print(\"Processing or writing failed:\", e)\n",
    "\n",
    "\n",
    "# What's Happening Here?\n",
    "# try: Only wraps the code that is expected to raise DatabaseError.\n",
    "# else: Runs only if database was successfully connected and data fetched.\n",
    "# Inside else: We now handle other risks — like process() crashing or file.write() failing.\n",
    "# This separates concerns clearly.\n",
    "\n",
    "# Why This Is Better:\n",
    "# | Without `else` (everything in try) | With `else` (separation)       |\n",
    "# | ---------------------------------- | ------------------------------ |\n",
    "# | Hard to debug what failed          | Clear separation of risk zones |\n",
    "# | All exceptions handled together    | Scoped exception handling      |\n",
    "# | Harder to test or maintain         | Cleaner, readable code         |\n",
    "\n",
    "\n",
    "# What If We Put Everything in Try?\n",
    "# You can, but then your error handling becomes:\n",
    "# generic\n",
    "# hard to pinpoint\n",
    "# and you might accidentally catch exceptions you didn’t intend to (like a typo in print()).\n",
    "\n",
    "# You can do everything in try, but else is cleaner, safer, and professional practice.\n",
    "# Use else when you want to execute code only if try succeeds completely.\n",
    "# It makes debugging and maintaining your code much easier.\n",
    "\n"
   ]
  },
  {
   "cell_type": "code",
   "execution_count": null,
   "id": "1bc0612b",
   "metadata": {},
   "outputs": [],
   "source": [
    "# \n",
    "# pylint myexample.py -r y"
   ]
  }
 ],
 "metadata": {
  "kernelspec": {
   "display_name": "Python 3",
   "language": "python",
   "name": "python3"
  },
  "language_info": {
   "codemirror_mode": {
    "name": "ipython",
    "version": 3
   },
   "file_extension": ".py",
   "mimetype": "text/x-python",
   "name": "python",
   "nbconvert_exporter": "python",
   "pygments_lexer": "ipython3",
   "version": "3.11.3"
  }
 },
 "nbformat": 4,
 "nbformat_minor": 5
}
