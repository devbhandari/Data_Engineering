{
 "cells": [
  {
   "cell_type": "code",
   "execution_count": 11,
   "id": "d8020cfa",
   "metadata": {},
   "outputs": [],
   "source": [
    "# try, except, else, and finally in Python with a real-world example in the simplest terms.\n",
    "# Real-World Scenario:\n",
    "# Let’s say we’re building a Bank ATM system where a user tries to withdraw money.\n",
    "# We want to handle situations like:\n",
    "# If the user enters a non-numeric amount → error\n",
    "# If the user tries to withdraw more than their balance → error\n",
    "# If everything is okay → proceed\n",
    "# Always say thank you to the user → regardless of success or error\n",
    "# example\n",
    "\n",
    "# def withdraw_money(balance):\n",
    "#     try:\n",
    "#         amount = int(input(\"Enter the amount to withdraw: \"))  # 💥 May raise ValueError\n",
    "#         if amount > balance:\n",
    "#             raise ValueError(\"Insufficient balance\")           # 💥 Custom exception\n",
    "#     except ValueError as ve:\n",
    "#         print(\"Error:\", ve)  # 👉 Runs if input is invalid or not enough balance\n",
    "#     else:\n",
    "#         balance -= amount\n",
    "#         print(f\"Withdrawal successful! New balance: {balance}\")  # 👉 Runs if try block has no error\n",
    "#     finally:\n",
    "#         print(\"Thank you for banking with us!\")  # 👉 Runs no matter what happens\n",
    "\n",
    "# # Simulate ATM with ₹1000 balance\n",
    "# withdraw_money(1000)\n",
    "\n",
    "\n"
   ]
  },
  {
   "cell_type": "code",
   "execution_count": 8,
   "id": "318a9d2f",
   "metadata": {},
   "outputs": [
    {
     "name": "stdout",
     "output_type": "stream",
     "text": [
      "You are in finally block\n"
     ]
    },
    {
     "ename": "UnboundLocalError",
     "evalue": "cannot access local variable 'result' where it is not associated with a value",
     "output_type": "error",
     "traceback": [
      "\u001b[0;31m---------------------------------------------------------------------------\u001b[0m",
      "\u001b[0;31mValueError\u001b[0m                                Traceback (most recent call last)",
      "Cell \u001b[0;32mIn[8], line 4\u001b[0m, in \u001b[0;36mask_for_int\u001b[0;34m()\u001b[0m\n\u001b[1;32m      3\u001b[0m \u001b[38;5;28;01mtry\u001b[39;00m:\n\u001b[0;32m----> 4\u001b[0m     result\u001b[38;5;241m=\u001b[39m \u001b[38;5;28;43mint\u001b[39;49m\u001b[43m(\u001b[49m\u001b[38;5;28;43minput\u001b[39;49m\u001b[43m(\u001b[49m\u001b[38;5;124;43m\"\u001b[39;49m\u001b[38;5;124;43mPlease enter a number\u001b[39;49m\u001b[38;5;124;43m\"\u001b[39;49m\u001b[43m)\u001b[49m\u001b[43m)\u001b[49m\n\u001b[1;32m      5\u001b[0m \u001b[38;5;28;01mexcept\u001b[39;00m:\n",
      "\u001b[0;31mValueError\u001b[0m: invalid literal for int() with base 10: 'qw'",
      "\nDuring handling of the above exception, another exception occurred:\n",
      "\u001b[0;31mUnboundLocalError\u001b[0m                         Traceback (most recent call last)",
      "Cell \u001b[0;32mIn[8], line 15\u001b[0m\n\u001b[1;32m     12\u001b[0m             \u001b[38;5;28mprint\u001b[39m(\u001b[38;5;124m\"\u001b[39m\u001b[38;5;124mYou are in finally block\u001b[39m\u001b[38;5;124m\"\u001b[39m)\n\u001b[1;32m     14\u001b[0m \u001b[38;5;66;03m# Function call\u001b[39;00m\n\u001b[0;32m---> 15\u001b[0m \u001b[43mask_for_int\u001b[49m\u001b[43m(\u001b[49m\u001b[43m)\u001b[49m\n",
      "Cell \u001b[0;32mIn[8], line 6\u001b[0m, in \u001b[0;36mask_for_int\u001b[0;34m()\u001b[0m\n\u001b[1;32m      4\u001b[0m     result\u001b[38;5;241m=\u001b[39m \u001b[38;5;28mint\u001b[39m(\u001b[38;5;28minput\u001b[39m(\u001b[38;5;124m\"\u001b[39m\u001b[38;5;124mPlease enter a number\u001b[39m\u001b[38;5;124m\"\u001b[39m))\n\u001b[1;32m      5\u001b[0m \u001b[38;5;28;01mexcept\u001b[39;00m:\n\u001b[0;32m----> 6\u001b[0m     \u001b[38;5;28mprint\u001b[39m(\u001b[38;5;124mf\u001b[39m\u001b[38;5;124m\"\u001b[39m\u001b[38;5;124mYou have entered \u001b[39m\u001b[38;5;132;01m{\u001b[39;00m\u001b[43mresult\u001b[49m\u001b[38;5;132;01m}\u001b[39;00m\u001b[38;5;124m ,which is not a number, please try again !!!\u001b[39m\u001b[38;5;124m\"\u001b[39m)\n\u001b[1;32m      7\u001b[0m     \u001b[38;5;28;01mcontinue\u001b[39;00m\n\u001b[1;32m      8\u001b[0m \u001b[38;5;28;01melse\u001b[39;00m:\n",
      "\u001b[0;31mUnboundLocalError\u001b[0m: cannot access local variable 'result' where it is not associated with a value"
     ]
    }
   ],
   "source": [
    "def ask_for_int():\n",
    "    while True:\n",
    "        try:\n",
    "            result= int(input(\"Please enter a number\"))\n",
    "        except:\n",
    "            print(f\"You have entered {result} ,which is not a number, please try again !!!\")\n",
    "            continue\n",
    "        else:\n",
    "            print(f\"You have entered {result}, which is a number, thank you !!!\")\n",
    "            break\n",
    "        finally:\n",
    "            print(\"You are in finally block\")\n",
    "    \n",
    "# Function call\n",
    "ask_for_int()\n"
   ]
  },
  {
   "cell_type": "code",
   "execution_count": null,
   "id": "1d02bb64",
   "metadata": {},
   "outputs": [],
   "source": []
  },
  {
   "cell_type": "code",
   "execution_count": null,
   "id": "1911dd11",
   "metadata": {},
   "outputs": [],
   "source": []
  }
 ],
 "metadata": {
  "kernelspec": {
   "display_name": "Python 3",
   "language": "python",
   "name": "python3"
  },
  "language_info": {
   "codemirror_mode": {
    "name": "ipython",
    "version": 3
   },
   "file_extension": ".py",
   "mimetype": "text/x-python",
   "name": "python",
   "nbconvert_exporter": "python",
   "pygments_lexer": "ipython3",
   "version": "3.11.3"
  }
 },
 "nbformat": 4,
 "nbformat_minor": 5
}
