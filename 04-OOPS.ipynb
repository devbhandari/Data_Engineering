{
 "cells": [
  {
   "cell_type": "code",
   "execution_count": 40,
   "id": "30c389bb",
   "metadata": {},
   "outputs": [
    {
     "data": {
      "text/plain": [
       "__main__.SampleWord"
      ]
     },
     "execution_count": 40,
     "metadata": {},
     "output_type": "execute_result"
    }
   ],
   "source": [
    "## OOPS learning with PIERIAN Data\n",
    "class SampleWord():\n",
    "    pass # dont do anything\n",
    "my_sample=SampleWord()\n",
    "type(my_sample)\n"
   ]
  },
  {
   "cell_type": "code",
   "execution_count": 41,
   "id": "95e57ac2",
   "metadata": {},
   "outputs": [
    {
     "data": {
      "text/plain": [
       "'black'"
      ]
     },
     "execution_count": 41,
     "metadata": {},
     "output_type": "execute_result"
    }
   ],
   "source": [
    "class Car():\n",
    "    def __init__(self,brand,color):\n",
    "        self.brand=brand\n",
    "        self.color=color\n",
    "        # pass\n",
    "car1=Car(brand='Tata',color='black')\n",
    "car1.brand # op is Curve\n",
    "car1.color # black\n"
   ]
  },
  {
   "cell_type": "code",
   "execution_count": null,
   "id": "1a23b7a8",
   "metadata": {},
   "outputs": [
    {
     "name": "stdout",
     "output_type": "stream",
     "text": [
      "WOOF! Dogs name is sammy and number is 2\n"
     ]
    }
   ],
   "source": [
    "class Dog():\n",
    "    # Class object attributes. Same for any instance of a class\n",
    "    # Shared by all objects (instances) of the class.\n",
    "    # Like a constant value common to all members of that class\n",
    "    species='mammal'\n",
    "    \n",
    "    def __init__(self,breed,name,spot):\n",
    "        self.dogsbreed=breed\n",
    "        self.dogsname=name\n",
    "        self.dogsspot=spot\n",
    "    def bark(self,number):\n",
    "        print('WOOF! Dog''s name is {} and number is {}'.format(self.dogsname,number))\n",
    "        # pass\n",
    "dog1=Dog('lab','sammy',True)\n",
    "dog1.dogsbreed #lab\n",
    "dog1.dogsname #sammy\n",
    "dog1.dogsspot #true is boolean here\n",
    "\n",
    "dog1.species #mammal\n",
    "dog2=Dog('bhuteeya','deshi',True)\n",
    "dog2.dogsname #deshi\n",
    "dog2.species #mammal\n",
    "\n",
    "dog1.bark(2) #WOOF! Dogs name is sammy and number is 2"
   ]
  },
  {
   "cell_type": "code",
   "execution_count": null,
   "id": "f2f95427",
   "metadata": {},
   "outputs": [],
   "source": [
    "# New class\n",
    "class Circle():\n",
    "    # Class object attribute\n",
    "    pi=3.14\n",
    "    def __init__(self,radius=1):\n",
    "        self.radius=radius\n",
    "        self.area= Circle.pi * radius* radius #  also can be Called as self.pi\n",
    "        # pass\n",
    "    # method\n",
    "    def get_circumference(self):\n",
    "        return self.radius * Circle.pi * 2 "
   ]
  },
  {
   "cell_type": "code",
   "execution_count": 39,
   "id": "819e5fb0",
   "metadata": {},
   "outputs": [
    {
     "data": {
      "text/plain": [
       "2826.0"
      ]
     },
     "execution_count": 39,
     "metadata": {},
     "output_type": "execute_result"
    }
   ],
   "source": [
    "my_circle=Circle(30)\n",
    "my_circle.pi #3.14\n",
    "my_circle.radius # 30,default is 1 ( if no parameter provided)\n",
    "my_circle.get_circumference() #188.4\n",
    "my_circle.area #2826.0"
   ]
  },
  {
   "cell_type": "code",
   "execution_count": 42,
   "id": "e369f8d4",
   "metadata": {},
   "outputs": [],
   "source": [
    "#Inheritance:\n",
    "#Way to form a new classes using classes which are already defined/form.\n",
    "# Re use the code\n",
    "class Animal():\n",
    "    def __init__(self):\n",
    "        print(\"Welcome to the class of an Animal\")\n",
    "    def who_am_i():\n",
    "        print('I am an animal')\n",
    "    def eat():\n",
    "        print('I am eating')"
   ]
  },
  {
   "cell_type": "code",
   "execution_count": null,
   "id": "83976f6f",
   "metadata": {},
   "outputs": [
    {
     "name": "stdout",
     "output_type": "stream",
     "text": [
      "Welcome to the class of an Animal\n",
      "Dogs created\n",
      "I am eating\n"
     ]
    }
   ],
   "source": [
    "#create an object from class and call the methods\n",
    "\n",
    "# dog1=Animal.eat() # I am eating\n",
    "# dog1=Animal.who_am_i() # I am an animal\n",
    "# dog1=Animal() #Welcome to the class of an Animal\n",
    "\n",
    "# above code works\n",
    "\n",
    "# Why we need self in all methods inside a class it will give error 'TypeError: Animal.eat() takes 0 positional arguments but 1 was given'\n",
    "\n",
    "# self is needed when a method is meant to be used on an instance (like dog1.eat()).\n",
    "# If you don't include self, your function becomes a regular function, not bound to an object.\n",
    "# So yes — your above code without self works, but only because you're calling the methods on the class, not an instance like below.\n",
    "\n",
    "# class Animal():\n",
    "#     def __init__(self):\n",
    "#         print(\"Welcome to the class of an Animal\")\n",
    "#     def who_am_i():\n",
    "#         print('I am an animal')\n",
    "#     def eat():\n",
    "#         print('I am eating')\n",
    "\n",
    "# dog1=Animal()\n",
    "# dog1.eat()  #-- fail here 'TypeError: Animal.eat() takes 0 positional arguments but 1 was given'\n",
    "\n",
    "# corect way to define class:\n",
    "class Animal():\n",
    "    def __init__(self):\n",
    "        print(\"Welcome to the class of an Animal\")\n",
    "    def who_am_i(self):\n",
    "        print('I am an animal')\n",
    "    def eat(self):\n",
    "        print('I am eating')\n",
    "\n",
    "# object creation and call the method\n",
    "# dog1=Animal()\n",
    "# dog1.eat()\n",
    "\n",
    "# Output1\n",
    "# Welcome to the class of an Animal\n",
    "# I am eating\n",
    "\n",
    "#new class for inheritance : Class Dog is inheriting Class Animal\n",
    "class Dog(Animal):\n",
    "    def __init__(self):\n",
    "        super().__init__()\n",
    "        print('Dogs created')\n",
    "    def who_am_i(self):   #Overriding method from base class\n",
    "        print('I am a Dog')\n",
    "    def bark(self):\n",
    "        print('WOOF')\n",
    "\n",
    "mydog=Dog()\n",
    "# mydog.eat()\n",
    "# Output\n",
    "# Welcome to the class of an Animal\n",
    "# Dogs created\n",
    "# I am eating\n",
    "# mydog.who_am_i() # I am a Dog\n",
    "# mydog.bark()\n",
    "# Welcome to the class of an Animal\n",
    "# Dogs created\n",
    "# WOOF\n",
    "\n",
    "mydog.eat()\n",
    "# Welcome to the class of an Animal\n",
    "# Dogs created\n",
    "# I am eating\n",
    "# Above one is the example of inheritance \n"
   ]
  },
  {
   "cell_type": "code",
   "execution_count": 87,
   "id": "5ef48824",
   "metadata": {},
   "outputs": [
    {
     "name": "stdout",
     "output_type": "stream",
     "text": [
      "Ram , Welcome to the CultGym\n"
     ]
    }
   ],
   "source": [
    "# Polymorphism in OOps: \n",
    "# Difference object classses can refer the same method name, and those methods can be called from the same place.\n",
    "# Even though variety of the different objects might be passed in.\n",
    "# in laymen: One thing with multiple forms : \n",
    "# Different ways to do this 1) Duck Typing, 2) Method Overloading 3) Method Overriding 4)\n",
    "\n",
    "# 1)  Duck Typing:\n",
    "class cultgym():\n",
    "    def __init__(self,name):\n",
    "        self.name=name\n",
    "        # print('in cultgym')\n",
    "    def welcome(self):\n",
    "        return self.name + ' , Welcome to the CultGym'\n",
    "\n",
    "        # print('Dance')\n",
    "        # print('zumba')\n",
    "\n",
    "class goldgynm():\n",
    "    def __init__(self,name):\n",
    "        self.name=name\n",
    "        # print('Gold gym')\n",
    "    def welcome(self):\n",
    "        return self.name + ' ,Welcome to the Gold Gym'\n",
    "        # print('Dance')\n",
    "        # print('zumba')\n",
    "        # print('Swimming')\n",
    "\n",
    "\n",
    "member1=cultgym('Ram')\n",
    "# member1.welcome()\n",
    "# print(member1.welcome())\n",
    "member2=goldgynm('Shyam')\n",
    "# member2.welcome()\n",
    "# print(member2.welcome())\n",
    "\n",
    "\n",
    "# To show polymorphism:\n",
    "\n",
    "# for members in [member1,member2]:\n",
    "#     print(members.ofwelcomefers())\n",
    "\n",
    "# another way:\n",
    "def gyminfo(member):\n",
    "    print(member.welcome())\n",
    "\n",
    "gyminfo(member1)\n",
    "# gyminfo(member2)\n"
   ]
  },
  {
   "cell_type": "code",
   "execution_count": null,
   "id": "0966f089",
   "metadata": {},
   "outputs": [
    {
     "name": "stdout",
     "output_type": "stream",
     "text": [
      "Fido says woof !\n",
      "Isis says meow !\n"
     ]
    }
   ],
   "source": [
    "# An abstract class is a class that cannot be instantiated directly and is used to define a common interface for its subclasses.\n",
    "# It may contain:\n",
    "# Abstract methods (declared but not implemented)\n",
    "# Concrete methods (regular methods with implementation)\n",
    "\n",
    "# Why use Abstract Classes?\n",
    "# To define shared structure or contract across subclasses.\n",
    "# To force child classes to implement specific methods.\n",
    "# Useful in polymorphism — where multiple classes share the same interface but behave differently\n",
    "\n",
    "\n",
    "# | Use Case                          | Why Abstract Class Helps                         |\n",
    "# | --------------------------------- | ------------------------------------------------ |\n",
    "# | Payment methods (CreditCard, UPI) | Common `pay()` method, different implementations |\n",
    "# | Vehicle types (Car, Bike, Truck)  | All have `start_engine()` but behave differently |\n",
    "# | Notification system (Email, SMS)  | All have `send()` method, implementation varies  |\n",
    "\n",
    "\n",
    "\n",
    "\n",
    "class Animal():\n",
    "    def __init__(self,name):\n",
    "        self.name=name\n",
    "    def speak(self):\n",
    "        raise NotImplementedError(\"Subclass must implement this abstract method\")\n",
    "\n",
    "class Dog(Animal):\n",
    "    def speak(self):\n",
    "        return self.name + ' says woof !'\n",
    "    \n",
    "class Cat(Animal):\n",
    "    def speak(self):\n",
    "        return self.name + ' says meow !'\n",
    "\n",
    "fido=Dog(\"Fido\")\n",
    "isis = Cat(\"Isis\")\n",
    "\n",
    "print(fido.speak())\n",
    "print(isis.speak())"
   ]
  },
  {
   "cell_type": "code",
   "execution_count": null,
   "id": "8c21ea0e",
   "metadata": {},
   "outputs": [],
   "source": [
    "#special/Magic Method in python\n",
    "# What are Magic / Special Methods?\n",
    "# Magic methods in Python are built-in methods that have double underscores (__) at the beginning and end.\n",
    "\n",
    "# They are also called dunder methods (short for “double underscore”).\n",
    "\n",
    "# These methods override Python's default behavior for built-in functions (like str(), len(), +, etc.) and enable custom behavior in your classes.\n",
    "\n",
    "\n",
    "class Book():\n",
    "    def __init__(self,title,author,noOfPages):\n",
    "        self.title=title\n",
    "        self.author=author\n",
    "        self.pages=noOfPages\n",
    "    def __str__(self):\n",
    "        return f\"{self.title} by {self.author}\"\n",
    "    def __len__(self):\n",
    "        return self.pages\n",
    "    def __del__(self):\n",
    "        print(\"A book object has been deleted\")"
   ]
  },
  {
   "cell_type": "code",
   "execution_count": 104,
   "id": "3322aa61",
   "metadata": {},
   "outputs": [
    {
     "name": "stdout",
     "output_type": "stream",
     "text": [
      "A book object has been deleted\n",
      "A book object has been deleted\n"
     ]
    }
   ],
   "source": [
    "b1=Book('Python','Jose',2000)\n",
    "# print(b1)\n",
    "# str(b1)\n",
    "del(b1)"
   ]
  },
  {
   "cell_type": "code",
   "execution_count": 106,
   "id": "39898cb2",
   "metadata": {},
   "outputs": [],
   "source": [
    "# b1"
   ]
  },
  {
   "cell_type": "code",
   "execution_count": null,
   "id": "2be6e9c2",
   "metadata": {},
   "outputs": [
    {
     "data": {
      "text/plain": [
       "94.2"
      ]
     },
     "execution_count": 110,
     "metadata": {},
     "output_type": "execute_result"
    }
   ],
   "source": [
    "#Homework Assignment\n",
    "#1) find volume and surface area\n",
    "class cylender():\n",
    "    def __init__(self,height,radius):\n",
    "        self.height=height\n",
    "        self.radius=radius\n",
    "    def volume(self):\n",
    "        return 3.14 * self.radius**2\n",
    "    def surface_area(self):\n",
    "        return 2*3.14*self.radius*self.height + 2*3.14*self.radius**2\n",
    "\n",
    "c1=cylender(2,3)\n",
    "# print(c1)\n",
    "c1.volume() #28.26\n",
    "c1.surface_area() #94.2\n",
    "\n",
    "    "
   ]
  },
  {
   "cell_type": "code",
   "execution_count": 111,
   "id": "34cf50ec",
   "metadata": {},
   "outputs": [],
   "source": [
    "# 2) find the distance and slope of line\n",
    "import math\n",
    "class line():\n",
    "    def __init__(self,coor1,coor2):\n",
    "        self.coor1=coor1\n",
    "        self.coor2=coor2\n",
    "    def distance(self):\n",
    "        x1,y1=self.coor1\n",
    "        x2,y2=self.coor2\n",
    "        return math.sqrt((x2-x1)**2 +(y2-y1)**2)\n",
    "    def slope(self):\n",
    "        x1,y1=self.coor1\n",
    "        x2,y2=self.coor2\n",
    "        return ((y2-y1)/(x2-x1))\n",
    "\n"
   ]
  },
  {
   "cell_type": "code",
   "execution_count": 114,
   "id": "acb361c9",
   "metadata": {},
   "outputs": [
    {
     "data": {
      "text/plain": [
       "9.433981132056603"
      ]
     },
     "execution_count": 114,
     "metadata": {},
     "output_type": "execute_result"
    }
   ],
   "source": [
    "c1=(3,2)\n",
    "c2=(8,10)\n",
    "\n",
    "myline=line(c1,c2)\n",
    "myline.distance() #9.433981132056603\n",
    "# myline.slope() #1.6"
   ]
  },
  {
   "cell_type": "code",
   "execution_count": null,
   "id": "94e8e049",
   "metadata": {},
   "outputs": [],
   "source": []
  }
 ],
 "metadata": {
  "kernelspec": {
   "display_name": "Python 3",
   "language": "python",
   "name": "python3"
  },
  "language_info": {
   "codemirror_mode": {
    "name": "ipython",
    "version": 3
   },
   "file_extension": ".py",
   "mimetype": "text/x-python",
   "name": "python",
   "nbconvert_exporter": "python",
   "pygments_lexer": "ipython3",
   "version": "3.11.3"
  }
 },
 "nbformat": 4,
 "nbformat_minor": 5
}
