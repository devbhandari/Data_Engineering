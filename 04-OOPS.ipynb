{
 "cells": [
  {
   "cell_type": "code",
   "execution_count": null,
   "id": "30c389bb",
   "metadata": {},
   "outputs": [],
   "source": [
    "## OOPS learning with Data pirian"
   ]
  }
 ],
 "metadata": {
  "language_info": {
   "name": "python"
  }
 },
 "nbformat": 4,
 "nbformat_minor": 5
}
