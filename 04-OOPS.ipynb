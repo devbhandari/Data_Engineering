{
 "cells": [
  {
   "cell_type": "code",
   "execution_count": null,
   "id": "30c389bb",
   "metadata": {},
   "outputs": [
    {
     "data": {
      "text/plain": [
       "__main__.SampleWord"
      ]
     },
     "execution_count": 2,
     "metadata": {},
     "output_type": "execute_result"
    }
   ],
   "source": [
    "## OOPS learning with PIERIAN Data\n",
    "class SampleWord():\n",
    "    pass # dont do anything\n",
    "my_sample=SampleWord()\n",
    "type(my_sample)\n"
   ]
  },
  {
   "cell_type": "code",
   "execution_count": 9,
   "id": "95e57ac2",
   "metadata": {},
   "outputs": [
    {
     "data": {
      "text/plain": [
       "'black'"
      ]
     },
     "execution_count": 9,
     "metadata": {},
     "output_type": "execute_result"
    }
   ],
   "source": [
    "class Car():\n",
    "    def __init__(self,brand,color):\n",
    "        self.brand=brand\n",
    "        self.color=color\n",
    "        # pass\n",
    "car1=Car(brand='Tata',color='black')\n",
    "car1.brand # op is Curve\n",
    "car1.color # black\n"
   ]
  },
  {
   "cell_type": "code",
   "execution_count": null,
   "id": "1a23b7a8",
   "metadata": {},
   "outputs": [
    {
     "data": {
      "text/plain": [
       "'True'"
      ]
     },
     "execution_count": 12,
     "metadata": {},
     "output_type": "execute_result"
    }
   ],
   "source": [
    "class Dog():\n",
    "    def __init__(self,breed,name,spot):\n",
    "        self.dogsbreed=breed\n",
    "        self.dogsname=name\n",
    "        self.dogsspot=spot\n",
    "        # pass\n",
    "dog1=Dog('lab','sammy','True')\n",
    "dog1.dogsbreed #lab\n",
    "dog1.dogsname #sammy\n",
    "dog1.dogsspot #true"
   ]
  },
  {
   "cell_type": "code",
   "execution_count": null,
   "id": "f2f95427",
   "metadata": {},
   "outputs": [],
   "source": []
  }
 ],
 "metadata": {
  "kernelspec": {
   "display_name": "Python 3",
   "language": "python",
   "name": "python3"
  },
  "language_info": {
   "codemirror_mode": {
    "name": "ipython",
    "version": 3
   },
   "file_extension": ".py",
   "mimetype": "text/x-python",
   "name": "python",
   "nbconvert_exporter": "python",
   "pygments_lexer": "ipython3",
   "version": "3.11.3"
  }
 },
 "nbformat": 4,
 "nbformat_minor": 5
}
