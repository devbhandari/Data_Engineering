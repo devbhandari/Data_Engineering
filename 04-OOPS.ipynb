{
 "cells": [
  {
   "cell_type": "code",
   "execution_count": 40,
   "id": "30c389bb",
   "metadata": {},
   "outputs": [
    {
     "data": {
      "text/plain": [
       "__main__.SampleWord"
      ]
     },
     "execution_count": 40,
     "metadata": {},
     "output_type": "execute_result"
    }
   ],
   "source": [
    "## OOPS learning with PIERIAN Data\n",
    "class SampleWord():\n",
    "    pass # dont do anything\n",
    "my_sample=SampleWord()\n",
    "type(my_sample)\n"
   ]
  },
  {
   "cell_type": "code",
   "execution_count": 41,
   "id": "95e57ac2",
   "metadata": {},
   "outputs": [
    {
     "data": {
      "text/plain": [
       "'black'"
      ]
     },
     "execution_count": 41,
     "metadata": {},
     "output_type": "execute_result"
    }
   ],
   "source": [
    "class Car():\n",
    "    def __init__(self,brand,color):\n",
    "        self.brand=brand\n",
    "        self.color=color\n",
    "        # pass\n",
    "car1=Car(brand='Tata',color='black')\n",
    "car1.brand # op is Curve\n",
    "car1.color # black\n"
   ]
  },
  {
   "cell_type": "code",
   "execution_count": null,
   "id": "1a23b7a8",
   "metadata": {},
   "outputs": [
    {
     "name": "stdout",
     "output_type": "stream",
     "text": [
      "WOOF! Dogs name is sammy and number is 2\n"
     ]
    }
   ],
   "source": [
    "class Dog():\n",
    "    # Class object attributes. Same for any instance of a class\n",
    "    # Shared by all objects (instances) of the class.\n",
    "    # Like a constant value common to all members of that class\n",
    "    species='mammal'\n",
    "    \n",
    "    def __init__(self,breed,name,spot):\n",
    "        self.dogsbreed=breed\n",
    "        self.dogsname=name\n",
    "        self.dogsspot=spot\n",
    "    def bark(self,number):\n",
    "        print('WOOF! Dog''s name is {} and number is {}'.format(self.dogsname,number))\n",
    "        # pass\n",
    "dog1=Dog('lab','sammy',True)\n",
    "dog1.dogsbreed #lab\n",
    "dog1.dogsname #sammy\n",
    "dog1.dogsspot #true is boolean here\n",
    "\n",
    "dog1.species #mammal\n",
    "dog2=Dog('bhuteeya','deshi',True)\n",
    "dog2.dogsname #deshi\n",
    "dog2.species #mammal\n",
    "\n",
    "dog1.bark(2) #WOOF! Dogs name is sammy and number is 2"
   ]
  },
  {
   "cell_type": "code",
   "execution_count": null,
   "id": "f2f95427",
   "metadata": {},
   "outputs": [],
   "source": [
    "# New class\n",
    "class Circle():\n",
    "    # Class object attribute\n",
    "    pi=3.14\n",
    "    def __init__(self,radius=1):\n",
    "        self.radius=radius\n",
    "        self.area= Circle.pi * radius* radius #  also can be Called as self.pi\n",
    "        # pass\n",
    "    # method\n",
    "    def get_circumference(self):\n",
    "        return self.radius * Circle.pi * 2 "
   ]
  },
  {
   "cell_type": "code",
   "execution_count": 39,
   "id": "819e5fb0",
   "metadata": {},
   "outputs": [
    {
     "data": {
      "text/plain": [
       "2826.0"
      ]
     },
     "execution_count": 39,
     "metadata": {},
     "output_type": "execute_result"
    }
   ],
   "source": [
    "my_circle=Circle(30)\n",
    "my_circle.pi #3.14\n",
    "my_circle.radius # 30,default is 1 ( if no parameter provided)\n",
    "my_circle.get_circumference() #188.4\n",
    "my_circle.area #2826.0"
   ]
  },
  {
   "cell_type": "code",
   "execution_count": 42,
   "id": "e369f8d4",
   "metadata": {},
   "outputs": [],
   "source": [
    "#Inheritance:\n",
    "#Way to form a new classes using classes which are already defined/form.\n",
    "# Re use the code\n",
    "class Animal():\n",
    "    def __init__(self):\n",
    "        print(\"Welcome to the class of an Animal\")\n",
    "    def who_am_i():\n",
    "        print('I am an animal')\n",
    "    def eat():\n",
    "        print('I am eating')"
   ]
  },
  {
   "cell_type": "code",
   "execution_count": 45,
   "id": "83976f6f",
   "metadata": {},
   "outputs": [
    {
     "name": "stdout",
     "output_type": "stream",
     "text": [
      "I am eating\n",
      "I am an animal\n",
      "Welcome to the class of an Animal\n"
     ]
    }
   ],
   "source": [
    "dog1=Animal.eat()\n",
    "dog1=Animal.who_am_i()\n",
    "dog1=Animal()"
   ]
  },
  {
   "cell_type": "code",
   "execution_count": null,
   "id": "5ef48824",
   "metadata": {},
   "outputs": [],
   "source": []
  }
 ],
 "metadata": {
  "kernelspec": {
   "display_name": "Python 3",
   "language": "python",
   "name": "python3"
  },
  "language_info": {
   "codemirror_mode": {
    "name": "ipython",
    "version": 3
   },
   "file_extension": ".py",
   "mimetype": "text/x-python",
   "name": "python",
   "nbconvert_exporter": "python",
   "pygments_lexer": "ipython3",
   "version": "3.11.3"
  }
 },
 "nbformat": 4,
 "nbformat_minor": 5
}
