{
 "cells": [
  {
   "cell_type": "code",
   "execution_count": null,
   "id": "56775449",
   "metadata": {},
   "outputs": [
    {
     "name": "stdout",
     "output_type": "stream",
     "text": [
      "Welcome to generators in python !\n"
     ]
    }
   ],
   "source": [
    "# print('Welcome to generators in python !')\n",
    "# Generator function allow us to write a function that can send back a value and then later resume to pick up where it left off\n"
   ]
  },
  {
   "cell_type": "code",
   "execution_count": null,
   "id": "5eb7dbf3",
   "metadata": {},
   "outputs": [],
   "source": []
  }
 ],
 "metadata": {
  "kernelspec": {
   "display_name": "Python 3",
   "language": "python",
   "name": "python3"
  },
  "language_info": {
   "codemirror_mode": {
    "name": "ipython",
    "version": 3
   },
   "file_extension": ".py",
   "mimetype": "text/x-python",
   "name": "python",
   "nbconvert_exporter": "python",
   "pygments_lexer": "ipython3",
   "version": "3.11.3"
  }
 },
 "nbformat": 4,
 "nbformat_minor": 5
}
