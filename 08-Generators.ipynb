{
 "cells": [
  {
   "cell_type": "code",
   "execution_count": null,
   "id": "56775449",
   "metadata": {},
   "outputs": [
    {
     "data": {
      "text/plain": [
       "[0, 1, 8, 27, 64, 125, 216, 343, 512, 729]"
      ]
     },
     "execution_count": 10,
     "metadata": {},
     "output_type": "execute_result"
    }
   ],
   "source": [
    "# print('Welcome to generators in python !')\n",
    "# Generator function allow us to write a function that can send back a value and then later resume to pick up where it left off\n",
    "# allowing us to generate a sequence of values over time.\n",
    "# syntax will be the use of 'yield' statement\n",
    "# when generator functions is compiled they become an object that supports an iteration protocol.\n",
    "# That means when they are called in your code they dont actually return a value and then exit\n",
    "# instead of having to compute an entire series of values up front,the generator computes one value waits until the next value is cllled for.\n",
    "# ex: range() function --> itself is a generator\n",
    "\n",
    "# Advantages\n",
    "# | Feature                 | Explanation                                                                                 |\n",
    "# | ----------------------- | ------------------------------------------------------------------------------------------- |\n",
    "# | 🧠 **Memory Efficient** | Doesn't store all values in memory. It produces them one by one. Great for large data sets! |\n",
    "# | ⚡ **Faster Start-up**   | You don’t wait for the whole result; it gives you the **first value immediately**.          |\n",
    "# | 🔁 **Infinite Series**  | You can create infinite loops or streams without crashing your memory.                      |\n",
    "\n",
    "# Disadvantages\n",
    "# | Limitation                  | Why it matters                                                                    |\n",
    "# | --------------------------- | --------------------------------------------------------------------------------- |\n",
    "# | 💾 **No backtracking**      | Once a value is yielded, it’s gone. You can’t go back.                            |\n",
    "# | 🔄 **One-time Use**         | Generators can only be **used once**. If you need to reuse, you must recreate it. |\n",
    "# | 🔍 **No built-in indexing** | You can’t access items using `[index]` like lists.                                |\n",
    "\n",
    "\n",
    "\n",
    "def create_cubes(n):\n",
    "    result=[]\n",
    "    for x in range(n):\n",
    "        result.append(x**3)\n",
    "    return result\n",
    "\n",
    "# create_cubes(10)\n",
    "\n",
    "def create_cubes_new(n):\n",
    "    for x in range(n):\n",
    "        yield x**3\n",
    "        \n",
    "create_cubes_new(10)\n",
    "list(create_cubes_new(10))\n",
    "# for x in create_cubes_new(10000):\n",
    "#     print(x)\n"
   ]
  },
  {
   "cell_type": "code",
   "execution_count": 11,
   "id": "5eb7dbf3",
   "metadata": {},
   "outputs": [],
   "source": [
    "def gen_fibon(n):\n",
    "    a=1\n",
    "    b=1\n",
    "    for i in range(n):\n",
    "        yield a\n",
    "        a,b=b,a+b"
   ]
  },
  {
   "cell_type": "code",
   "execution_count": 12,
   "id": "9b092183",
   "metadata": {},
   "outputs": [
    {
     "name": "stdout",
     "output_type": "stream",
     "text": [
      "1\n",
      "1\n",
      "2\n",
      "3\n",
      "5\n",
      "8\n",
      "13\n",
      "21\n",
      "34\n",
      "55\n"
     ]
    }
   ],
   "source": [
    "for number in gen_fibon(10):\n",
    "    print(number)"
   ]
  },
  {
   "cell_type": "code",
   "execution_count": null,
   "id": "1baac2f2",
   "metadata": {},
   "outputs": [
    {
     "data": {
      "text/plain": [
       "[0, 1, 2]"
      ]
     },
     "execution_count": 16,
     "metadata": {},
     "output_type": "execute_result"
    }
   ],
   "source": [
    "# next and iter function in generators\n",
    "# 1) next function\n",
    "\n",
    "\n",
    "def simple_gen():\n",
    "    for x in range(3):\n",
    "        yield x\n",
    "\n",
    "# for number in simple_gen():\n",
    "#     print(number)\n",
    "# or\n",
    "# list(simple_gen())"
   ]
  },
  {
   "cell_type": "code",
   "execution_count": 26,
   "id": "b63b5dbe",
   "metadata": {},
   "outputs": [
    {
     "name": "stdout",
     "output_type": "stream",
     "text": [
      "0\n",
      "1\n",
      "2\n"
     ]
    }
   ],
   "source": [
    "g=simple_gen()\n",
    "g\n",
    "print(next(g)) #0\n",
    "print(next(g)) #1\n",
    "print(next(g)) #2\n",
    "# print(next(g)) #StopIteration : It means all the values have been yielded\n",
    "# print(next(g))\n"
   ]
  },
  {
   "cell_type": "code",
   "execution_count": 29,
   "id": "ce621d04",
   "metadata": {},
   "outputs": [
    {
     "name": "stdout",
     "output_type": "stream",
     "text": [
      "h\n",
      "e\n",
      "l\n",
      "l\n",
      "o\n"
     ]
    }
   ],
   "source": [
    "s='hello'\n",
    "for letter in s:\n",
    "    print(letter)"
   ]
  },
  {
   "cell_type": "code",
   "execution_count": null,
   "id": "41651c9d",
   "metadata": {},
   "outputs": [
    {
     "ename": "StopIteration",
     "evalue": "",
     "output_type": "error",
     "traceback": [
      "\u001b[0;31m---------------------------------------------------------------------------\u001b[0m",
      "\u001b[0;31mStopIteration\u001b[0m                             Traceback (most recent call last)",
      "Cell \u001b[0;32mIn[33], line 8\u001b[0m\n\u001b[1;32m      6\u001b[0m \u001b[38;5;28mnext\u001b[39m(s_iter)\n\u001b[1;32m      7\u001b[0m \u001b[38;5;28mnext\u001b[39m(s_iter)\n\u001b[0;32m----> 8\u001b[0m \u001b[38;5;28;43mnext\u001b[39;49m\u001b[43m(\u001b[49m\u001b[43ms_iter\u001b[49m\u001b[43m)\u001b[49m\n",
      "\u001b[0;31mStopIteration\u001b[0m: "
     ]
    }
   ],
   "source": [
    "# next(s) #TypeError: 'str' object is not an iterator\n",
    "s_iter=iter(s)\n",
    "next(s_iter) #h\n",
    "next(s_iter) #e\n",
    "next(s_iter) #l\n",
    "next(s_iter) #l\n",
    "next(s_iter) #o\n",
    "next(s_iter) #StopIteration"
   ]
  },
  {
   "cell_type": "code",
   "execution_count": null,
   "id": "13be9a9f",
   "metadata": {},
   "outputs": [],
   "source": []
  }
 ],
 "metadata": {
  "kernelspec": {
   "display_name": "Python 3",
   "language": "python",
   "name": "python3"
  },
  "language_info": {
   "codemirror_mode": {
    "name": "ipython",
    "version": 3
   },
   "file_extension": ".py",
   "mimetype": "text/x-python",
   "name": "python",
   "nbconvert_exporter": "python",
   "pygments_lexer": "ipython3",
   "version": "3.11.3"
  }
 },
 "nbformat": 4,
 "nbformat_minor": 5
}
