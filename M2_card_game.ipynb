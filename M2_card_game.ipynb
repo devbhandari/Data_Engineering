{
 "cells": [
  {
   "cell_type": "code",
   "execution_count": null,
   "id": "d2491674",
   "metadata": {},
   "outputs": [],
   "source": [
    "#logic\n",
    "# 1) Card class\n",
    "    # it should be able to suit of card : hearts ,diamonds,spades,clubs\n",
    "    # Rank of Card : 2 ,3, 4, jack ,queen\n",
    "    # corresponding to the rank integer Value of card: to compare Ace(1 or 11) vs jack(12) vs queen(13) vs king (14)\n",
    "\n",
    "# 2) Deck class :\n",
    "    # 52 uniqiue cards, we will generate a deck\n",
    "# 3) Player Classs:\n",
    "    # Who can hold the cards from the deck\n",
    "# Create global variables \n",
    "\n",
    "# check the case sensitivity with keys of dictionary in python?"
   ]
  },
  {
   "cell_type": "code",
   "execution_count": null,
   "id": "507c6d1e",
   "metadata": {},
   "outputs": [
    {
     "data": {
      "text/plain": [
       "True"
      ]
     },
     "execution_count": 38,
     "metadata": {},
     "output_type": "execute_result"
    }
   ],
   "source": [
    "\n",
    "# global variable\n",
    "suits = ('Hearts', 'Diamonds', 'Spades', 'Clubs')\n",
    "ranks = ('Two', 'Three', 'Four', 'Five', 'Six', 'Seven', 'Eight', 'Nine', 'Ten', 'Jack', 'Queen', 'King', 'Ace')\n",
    "# values = {'Two':2, 'Three':3, 'Four':4, 'Five':5, 'Six':6, 'Seven':7, 'Eight':8, 'Nine':9, 'Ten':10, 'Jack':11,\n",
    "#          'Queen':12, 'King':13, 'Ace':14}\n",
    "\n",
    "# values dictionary is not needed now as we have converted this to function below:\n",
    "\n",
    "def get_card_values(rank):\n",
    "    values = {'two':2, 'three':3, 'four':4, 'five':5, 'six':6, 'seven':7, 'eight':8, 'nine':9, 'ten':10, 'jack':11,\n",
    "         'queen':12, 'king':13, 'ace':14}\n",
    "    return values.get(rank.lower())\n",
    "\n",
    "\n",
    "class card():\n",
    "    def __init__(self,suit,rank):\n",
    "        self.suit=suit\n",
    "        self.rank=rank\n",
    "        self.value=get_card_values(rank)\n",
    "    def __str__(self):\n",
    "        return self.rank + \" of \" + self.suit\n",
    "    \n",
    "three_of_clubs=card(\"Clubs\",\"three\")\n",
    "three_of_clubs.suit #Clubs\n",
    "three_of_clubs.rank #Three\n",
    "three_of_clubs.value #3\n",
    "\n",
    "king_of_hearts=card(\"heart\",\"king\")\n",
    "king_of_hearts.suit\n",
    "king_of_hearts.rank\n",
    "king_of_hearts.value\n",
    "\n",
    "# get_card_values('king')\n",
    "\n",
    "king_of_hearts.value > three_of_clubs.value # True\n"
   ]
  },
  {
   "cell_type": "code",
   "execution_count": 11,
   "id": "a53a501c",
   "metadata": {},
   "outputs": [
    {
     "data": {
      "text/plain": [
       "4"
      ]
     },
     "execution_count": 11,
     "metadata": {},
     "output_type": "execute_result"
    }
   ],
   "source": [
    "# three_of_clubs=card(\"Clubs\",3)\n",
    "values = {'Two':2, 'Three':3, 'Four':4, 'Five':5, 'Six':6, 'Seven':7, 'Eight':8, 'Nine':9, 'Ten':10, 'Jack':10,\n",
    "         'Queen':10, 'King':10, 'Ace':11}\n",
    "values[\"Four\"]"
   ]
  },
  {
   "cell_type": "code",
   "execution_count": null,
   "id": "1340a478",
   "metadata": {},
   "outputs": [],
   "source": []
  }
 ],
 "metadata": {
  "kernelspec": {
   "display_name": "Python 3",
   "language": "python",
   "name": "python3"
  },
  "language_info": {
   "codemirror_mode": {
    "name": "ipython",
    "version": 3
   },
   "file_extension": ".py",
   "mimetype": "text/x-python",
   "name": "python",
   "nbconvert_exporter": "python",
   "pygments_lexer": "ipython3",
   "version": "3.11.3"
  }
 },
 "nbformat": 4,
 "nbformat_minor": 5
}
