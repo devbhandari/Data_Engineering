{
 "cells": [
  {
   "cell_type": "code",
   "execution_count": 116,
   "id": "d2491674",
   "metadata": {},
   "outputs": [],
   "source": [
    "#logic\n",
    "# 1) Card class\n",
    "    # it should be able to suit of card : hearts ,diamonds,spades,clubs\n",
    "    # Rank of Card : 2 ,3, 4, jack ,queen\n",
    "    # corresponding to the rank integer Value of card: to compare Ace(1 or 11) vs jack(12) vs queen(13) vs king (14)\n",
    "\n",
    "# 2) Deck class :\n",
    "    # 52 uniqiue cards, we will generate a deck\n",
    "# 3) Player Classs:\n",
    "    # Who can hold the cards from the deck\n",
    "# Create global variables \n",
    "\n",
    "# check the case sensitivity with keys of dictionary in python?"
   ]
  },
  {
   "cell_type": "code",
   "execution_count": 117,
   "id": "507c6d1e",
   "metadata": {},
   "outputs": [
    {
     "data": {
      "text/plain": [
       "True"
      ]
     },
     "execution_count": 117,
     "metadata": {},
     "output_type": "execute_result"
    }
   ],
   "source": [
    "\n",
    "# global variable\n",
    "suits = ('Hearts', 'Diamonds', 'Spades', 'Clubs')\n",
    "ranks = ('Two', 'Three', 'Four', 'Five', 'Six', 'Seven', 'Eight', 'Nine', 'Ten', 'Jack', 'Queen', 'King', 'Ace')\n",
    "# values = {'Two':2, 'Three':3, 'Four':4, 'Five':5, 'Six':6, 'Seven':7, 'Eight':8, 'Nine':9, 'Ten':10, 'Jack':11,\n",
    "#          'Queen':12, 'King':13, 'Ace':14}\n",
    "\n",
    "# values dictionary is not needed now as we have converted this to function below:\n",
    "\n",
    "def get_card_values(rank):\n",
    "    values = {'two':2, 'three':3, 'four':4, 'five':5, 'six':6, 'seven':7, 'eight':8, 'nine':9, 'ten':10, 'jack':11,\n",
    "         'queen':12, 'king':13, 'ace':14}\n",
    "    return values.get(rank.lower())\n",
    "\n",
    "class card():\n",
    "    def __init__(self,suit,rank):\n",
    "        self.suit=suit\n",
    "        self.rank=rank\n",
    "        self.value=get_card_values(rank)\n",
    "    def __str__(self):\n",
    "        return self.rank + \" of \" + self.suit\n",
    "    \n",
    "three_of_clubs=card(\"Clubs\",\"three\")\n",
    "three_of_clubs.suit #Clubs\n",
    "three_of_clubs.rank #three\n",
    "three_of_clubs.value #3\n",
    "\n",
    "king_of_hearts=card(\"Heart\",\"king\")\n",
    "king_of_hearts.suit\n",
    "king_of_hearts.rank\n",
    "king_of_hearts.value\n",
    "\n",
    "get_card_values('king')\n",
    "\n",
    "king_of_hearts.value > three_of_clubs.value # True\n"
   ]
  },
  {
   "cell_type": "code",
   "execution_count": 118,
   "id": "a53a501c",
   "metadata": {},
   "outputs": [],
   "source": [
    "# # three_of_clubs=card(\"Clubs\",3)\n",
    "# values = {'Two':2, 'Three':3, 'Four':4, 'Five':5, 'Six':6, 'Seven':7, 'Eight':8, 'Nine':9, 'Ten':10, 'Jack':10,\n",
    "#          'Queen':10, 'King':10, 'Ace':11}\n",
    "# values[\"Four\"]\n"
   ]
  },
  {
   "cell_type": "code",
   "execution_count": 119,
   "id": "78771eaa",
   "metadata": {},
   "outputs": [
    {
     "data": {
      "text/plain": [
       "[1, 2, 4, 5, 3]"
      ]
     },
     "execution_count": 119,
     "metadata": {},
     "output_type": "execute_result"
    }
   ],
   "source": [
    "# for suit in suits:\n",
    "#     for rank in ranks:\n",
    "#         print('suit is : ' + suit + ' and rank is :' + rank)\n",
    "\n",
    "from random import shuffle\n",
    "mylist=[1,2,3,4,5]\n",
    "random.shuffle(mylist)\n",
    "mylist # shuffling value in each run"
   ]
  },
  {
   "cell_type": "code",
   "execution_count": 120,
   "id": "1340a478",
   "metadata": {},
   "outputs": [],
   "source": [
    "# from random import shuffle\n",
    "class Deck():\n",
    "    def __init__(self):\n",
    "        self.all_cards=[]\n",
    "        for suit in suits:\n",
    "            for rank in ranks:\n",
    "                created_cards=card(suit,rank)\n",
    "                self.all_cards.append(created_cards)\n",
    "    def shuffle(self):\n",
    "        random.shuffle(self.all_cards)\n",
    "# Remove a card from a deck\n",
    "    def deal_one(self):\n",
    "        return self.all_cards.pop()"
   ]
  },
  {
   "cell_type": "code",
   "execution_count": 121,
   "id": "a6f20264",
   "metadata": {},
   "outputs": [
    {
     "name": "stdout",
     "output_type": "stream",
     "text": [
      "Two of Hearts\n",
      "Ace of Clubs\n",
      "Seven of Hearts\n",
      "Two of Clubs\n",
      "my card is  Two of Clubs\n"
     ]
    },
    {
     "data": {
      "text/plain": [
       "51"
      ]
     },
     "execution_count": 121,
     "metadata": {},
     "output_type": "execute_result"
    }
   ],
   "source": [
    "# Before SHUFFLE \n",
    "new_deck1=Deck()\n",
    "print(new_deck1.all_cards[0]) #First card,Two of Hearts\n",
    "print(new_deck1.all_cards[-1]) #Last Card,Ace of Clubs\n",
    "# After SHUFFLE \n",
    "new_deck1.shuffle()\n",
    "print(new_deck1.all_cards[0]) #First card,Queen of Diamonds but shuffles to new card\n",
    "print(new_deck1.all_cards[-1]) #Last Card,Ten of Hearts but shuffles to new card\n",
    "\n",
    "mycard=new_deck1.deal_one()\n",
    "print('my card is ', mycard)\n",
    "len(new_deck1.all_cards)"
   ]
  },
  {
   "cell_type": "code",
   "execution_count": 122,
   "id": "f4d183cc",
   "metadata": {},
   "outputs": [
    {
     "name": "stdout",
     "output_type": "stream",
     "text": [
      "my card is  Six of Spades\n"
     ]
    },
    {
     "data": {
      "text/plain": [
       "50"
      ]
     },
     "execution_count": 122,
     "metadata": {},
     "output_type": "execute_result"
    }
   ],
   "source": [
    "mycard=new_deck1.deal_one()\n",
    "print('my card is ', mycard)\n",
    "len(new_deck1.all_cards)"
   ]
  },
  {
   "cell_type": "code",
   "execution_count": 123,
   "id": "b064d940",
   "metadata": {},
   "outputs": [],
   "source": [
    "# Player Class\n",
    "class player():\n",
    "    def __init__(self,name):\n",
    "        self.name=name\n",
    "        self.all_cards=[]\n",
    "    \n",
    "    def remove_one(self):\n",
    "        return self.all_cards.pop(0)\n",
    "    def add_cards(self,new_cards):\n",
    "        if type(new_cards)==type([]):\n",
    "            # list of multiple cards objects\n",
    "            self.all_cards.extend(new_cards)\n",
    "        else:\n",
    "            # For a single card objects   \n",
    "            self.all_cards.append(new_cards)\n",
    "    \n",
    "    def __str__(self):\n",
    "        return f'Player {self.name} has {len(self.all_cards)} cards.'"
   ]
  },
  {
   "cell_type": "code",
   "execution_count": 124,
   "id": "3c2e7a2b",
   "metadata": {},
   "outputs": [
    {
     "name": "stdout",
     "output_type": "stream",
     "text": [
      "Player ram has 0 cards.\n",
      "Player ram has 1 cards.\n",
      "Six of Spades\n",
      "Player ram has 4 cards.\n",
      "after remove: Player ram has 3 cards.\n"
     ]
    }
   ],
   "source": [
    "new_player1=player('ram')\n",
    "print(new_player1)\n",
    "new_player1.add_cards(mycard)\n",
    "print(new_player1)\n",
    "\n",
    "print(new_player1.all_cards[0])\n",
    "\n",
    "new_player1.add_cards([mycard,mycard,mycard])\n",
    "print(new_player1)\n",
    "\n",
    "new_player1.remove_one()\n",
    "print('after remove:',new_player1)"
   ]
  },
  {
   "cell_type": "code",
   "execution_count": null,
   "id": "e921934e",
   "metadata": {},
   "outputs": [
    {
     "data": {
      "text/plain": [
       "26"
      ]
     },
     "execution_count": 128,
     "metadata": {},
     "output_type": "execute_result"
    }
   ],
   "source": [
    "# Game setup\n",
    "player_one=player(\"One\")\n",
    "player_two=player(\"Two\")\n",
    "new_deck=Deck()\n",
    "new_deck.shuffle()\n",
    "\n",
    "for x in range(26):\n",
    "    player_one.add_cards(new_deck.deal_one())\n",
    "    player_two.add_cards(new_deck.deal_one())\n",
    "# len(player_one.all_cards)"
   ]
  },
  {
   "cell_type": "code",
   "execution_count": null,
   "id": "9f6d7b49",
   "metadata": {},
   "outputs": [
    {
     "name": "stdout",
     "output_type": "stream",
     "text": [
      "Round 1\n",
      "Round 2\n",
      "Round 3\n",
      "Round 4\n",
      "Round 5\n",
      "Round 6\n",
      "Round 7\n",
      "Round 8\n",
      "Round 9\n",
      "Round 10\n",
      "Round 11\n",
      "Round 12\n",
      "Round 13\n",
      "Round 14\n",
      "Round 15\n",
      "Round 16\n",
      "Round 17\n",
      "Round 18\n",
      "Round 19\n",
      "Round 20\n",
      "Round 21\n",
      "Round 22\n",
      "Round 23\n",
      "Round 24\n",
      "Round 25\n",
      "Round 26\n",
      "Round 27\n",
      "Player One, Out of cards ! Player Two wins !\n"
     ]
    }
   ],
   "source": [
    "game_on=True\n",
    "round_num=0\n",
    "while game_on:\n",
    "    round_num+=1\n",
    "    print(f\"Round {round_num}\")\n",
    "\n",
    "    if len(player_one.all_cards)==0:\n",
    "        print('Player One, Out of cards ! Player Two wins !')\n",
    "        game_on=False\n",
    "        break\n",
    "\n",
    "    if len(player_two.all_cards)==0:\n",
    "        print('Player two, Out of cards ! Player one wins !')\n",
    "        game_on=False\n",
    "        break    \n",
    "    # Start a new round\n",
    "    player_one_current_cards=[]\n",
    "    player_one_current_cards.append(player_one.remove_one())\n",
    "    player_two_current_cards=[]\n",
    "    player_two_current_cards.append(player_two.remove_one())\n",
    "\n",
    "# while at war/tie\n",
    "\n"
   ]
  },
  {
   "cell_type": "markdown",
   "id": "b9ad0bfa",
   "metadata": {},
   "source": []
  },
  {
   "cell_type": "code",
   "execution_count": null,
   "id": "348b614b",
   "metadata": {},
   "outputs": [],
   "source": []
  }
 ],
 "metadata": {
  "kernelspec": {
   "display_name": "Python 3",
   "language": "python",
   "name": "python3"
  },
  "language_info": {
   "codemirror_mode": {
    "name": "ipython",
    "version": 3
   },
   "file_extension": ".py",
   "mimetype": "text/x-python",
   "name": "python",
   "nbconvert_exporter": "python",
   "pygments_lexer": "ipython3",
   "version": "3.11.3"
  }
 },
 "nbformat": 4,
 "nbformat_minor": 5
}
