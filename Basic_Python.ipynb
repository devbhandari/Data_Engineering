{
 "cells": [
  {
   "cell_type": "code",
   "execution_count": 1,
   "id": "b2299ce3",
   "metadata": {},
   "outputs": [
    {
     "name": "stdout",
     "output_type": "stream",
     "text": [
      "Hello Python\n"
     ]
    }
   ],
   "source": [
    "print(\"Hello Python\")"
   ]
  },
  {
   "cell_type": "code",
   "execution_count": 2,
   "id": "c9f08054",
   "metadata": {},
   "outputs": [
    {
     "data": {
      "text/plain": [
       "12"
      ]
     },
     "execution_count": 2,
     "metadata": {},
     "output_type": "execute_result"
    }
   ],
   "source": [
    "len(\"Hello Python\")"
   ]
  },
  {
   "cell_type": "code",
   "execution_count": null,
   "id": "53b96469",
   "metadata": {},
   "outputs": [
    {
     "data": {
      "text/plain": [
       "'i'"
      ]
     },
     "execution_count": 8,
     "metadata": {},
     "output_type": "execute_result"
    }
   ],
   "source": [
    "### Indexing and Slicing\n",
    "mystring=\"Hello India\"\n",
    "mystring\n",
    "mystring[0] #H\n",
    "mystring[6] #I\n",
    "#Reverse Indexing\n",
    "mystring[-2] #i"
   ]
  },
  {
   "cell_type": "code",
   "execution_count": null,
   "id": "bedd5e72",
   "metadata": {},
   "outputs": [
    {
     "data": {
      "text/plain": [
       "'aidnI olleH'"
      ]
     },
     "execution_count": 21,
     "metadata": {},
     "output_type": "execute_result"
    }
   ],
   "source": [
    "#Slicing\n",
    "mystring=\"Hello India\"\n",
    "mystring[3:] #'lo India'\n",
    "mystring[:5] #Hello\n",
    "mystring[2:5]#llo\n",
    "mystring[::] # 'Hello India'\n",
    "mystring[::2] #'HloIda'\n",
    "mystring[::-1] #'aidnI olleH'"
   ]
  },
  {
   "cell_type": "code",
   "execution_count": 29,
   "id": "4bc52ec6",
   "metadata": {},
   "outputs": [
    {
     "name": "stdout",
     "output_type": "stream",
     "text": [
      "(1, 'ram', 'Delhi')\n",
      "(2, 'shyam', 'Punjab')\n",
      "(3, 'mohan', 'Kolkata')\n"
     ]
    }
   ],
   "source": [
    "#useful functions in python\n",
    "# for i in range(1,10,2):\n",
    "#     print(i)\n",
    "#list function\n",
    "list(range(1,11))\n",
    "#enumerate function: \n",
    "# mystring=\"Hello India\"\n",
    "# for index,item in enumerate(mystring):\n",
    "#     print(index,item)\n",
    "#zip function\n",
    "mylist1=[1,2,3]\n",
    "mylist2=['ram','shyam','mohan']\n",
    "mylist3=['Delhi','Punjab','Kolkata']\n",
    "for item in zip(mylist1,mylist2,mylist3):\n",
    "    print(item)"
   ]
  },
  {
   "cell_type": "code",
   "execution_count": 30,
   "id": "c17463a2",
   "metadata": {},
   "outputs": [
    {
     "name": "stdout",
     "output_type": "stream",
     "text": [
      "Delhi\n",
      "Punjab\n",
      "Kolkata\n"
     ]
    }
   ],
   "source": [
    "mylist1=[1,2,3]\n",
    "mylist2=['ram','shyam','mohan']\n",
    "mylist3=['Delhi','Punjab','Kolkata']\n",
    "for a,b,c in zip(mylist1,mylist2,mylist3):\n",
    "    print(c)"
   ]
  },
  {
   "cell_type": "code",
   "execution_count": null,
   "id": "fd3232fa",
   "metadata": {},
   "outputs": [],
   "source": [
    "# # 'x' in 'xyz'\n",
    "# # 2 in [2,3,4]\n",
    "# # 'mykey' in {'mykey1':'python'} #False\n",
    "# d= {'mysub1':'python'}\n",
    "# 'python' in d.values() #True\n",
    "#shuffle function\n",
    "# mylist11=[1,2,3,4,5,6,7]\n",
    "# from random import shuffle\n",
    "# shuffle(mylist11)\n",
    "# mylist11\n",
    "from random import randint\n",
    "mynum=randint(1,11)\n",
    "mynum"
   ]
  },
  {
   "cell_type": "code",
   "execution_count": null,
   "id": "8ed61f73",
   "metadata": {},
   "outputs": [
    {
     "data": {
      "text/plain": [
       "[10, 20, 30, 20, 40, 60, 30, 60, 90]"
      ]
     },
     "execution_count": 9,
     "metadata": {},
     "output_type": "execute_result"
    }
   ],
   "source": [
    "#list comprehension in python\n",
    "# mylistcomp=[]\n",
    "# mystringval=\"Indian\"\n",
    "# for i in mystringval:\n",
    "#     mylistcomp.append(i)\n",
    "# mylistcomp #['I', 'n', 'd', 'i', 'a', 'n']\n",
    "\n",
    "#now lets achieve the same with list comprehension\n",
    "# mylistcomp=[i for i in 'indians']\n",
    "# mylistcomp # op ['i', 'n', 'd', 'i', 'a', 'n', 's']\n",
    "\n",
    "\n",
    "# mynumlist =[num**2 for num in range(1,11) if num%2==0]\n",
    "# mynumlist  # op : [4, 16, 36, 64, 100]\n",
    "\n",
    "#if else in list comprehension\n",
    "# mynumlistcond= ['Even' if i%2==0 else 'ODD' for i in range(1,11)]\n",
    "# mynumlistcond # ['ODD', 'Even', 'ODD', 'Even', 'ODD', 'Even', 'ODD', 'Even', 'ODD', 'Even']\n",
    "\n",
    "## Nested loops in list comprehension\n",
    "\n",
    "mynestedlist=[ x*y for x in [2,4,6] for y in [5,10,15]]\n",
    "mynestedlist\n",
    "\n"
   ]
  },
  {
   "cell_type": "code",
   "execution_count": null,
   "id": "93ff64cc",
   "metadata": {},
   "outputs": [
    {
     "data": {
      "text/plain": [
       "1.35"
      ]
     },
     "execution_count": 16,
     "metadata": {},
     "output_type": "execute_result"
    }
   ],
   "source": [
    "## *args and **kwargs\n",
    "# *args are positional arguments --> returns tuples, and kwargs are keyword arguments --> returns dictionary\n",
    "def myfunc(*args):\n",
    "    # print(args)\n",
    "    return sum((args))*.05\n",
    "\n",
    "myfunc(2,5,10,10) # op is 1.35\n",
    "\n"
   ]
  },
  {
   "cell_type": "code",
   "execution_count": null,
   "id": "a19f244f",
   "metadata": {},
   "outputs": [
    {
     "name": "stdout",
     "output_type": "stream",
     "text": [
      "(10, 20, 30)\n",
      "{'fruit': 'apple', 'veggie': 'tomato'}\n",
      "Please give me 20 apple \n"
     ]
    }
   ],
   "source": [
    "# def myfunckw(**kwargs):\n",
    "#     if 'fruit' in kwargs:\n",
    "#         print('My fruit of choice in {}'.format(kwargs['fruit']))\n",
    "#     else:\n",
    "#         print('i didnt find any fruits here')\n",
    "\n",
    "# myfunckw(fruit='apple',veggie='potato') #My fruit of choice in apple\n",
    "# myfunckw(veggie='potato',fruits='apple') #i didnt find any fruits here\n",
    "\n",
    "# include args and kwargs together\n",
    "\n",
    "def myfuncargkwg(*args,**kwargs):\n",
    "    print(args)\n",
    "    print(kwargs)\n",
    "    print('Please give me {} {} '.format(args[1],kwargs['fruit']))\n",
    "myfuncargkwg(10,20,30, fruit='apple', veggie='tomato')\n",
    "\n",
    "#  op is :\n",
    "# (10, 20, 30)\n",
    "# {'fruit': 'apple', 'veggie': 'tomato'}\n",
    "# Please give me 20 apple\n",
    "\n",
    "#from 50th "
   ]
  },
  {
   "cell_type": "code",
   "execution_count": null,
   "id": "cda5eba0",
   "metadata": {},
   "outputs": [
    {
     "data": {
      "text/plain": [
       "2"
      ]
     },
     "execution_count": 38,
     "metadata": {},
     "output_type": "execute_result"
    }
   ],
   "source": [
    "## Functions Practice with Data pierian\n",
    "#Copyrights are with pierian i am just practising them for learning\n",
    "# Prac01 \n",
    "'''\n",
    "Write a function that returns the lesser of two given numbers if both numbers are even, \n",
    "but returns the greater if one or both numbers are odd\n",
    "lesser_of_two_evens(2,4) --> 2\n",
    "lesser_of_two_evens(2,5) --> 5\n",
    "'''\n",
    "def lesser_of_two_evens(a,b):\n",
    "    if (a%2==0) and (b%2==0):\n",
    "        return min(a,b)\n",
    "    else:\n",
    "        return max(a,b)\n",
    "#call function\n",
    "# lesser_of_two_evens(2,4) # op 2\n",
    "# lesser_of_two_evens(2,5) # op is 5\n",
    "# lesser_of_two_evens(5,2) # op is 5\n",
    "# lesser_of_two_evens(4,2) op is 2\n"
   ]
  },
  {
   "cell_type": "code",
   "execution_count": null,
   "id": "774b98a0",
   "metadata": {},
   "outputs": [],
   "source": []
  }
 ],
 "metadata": {
  "kernelspec": {
   "display_name": "Python 3",
   "language": "python",
   "name": "python3"
  },
  "language_info": {
   "codemirror_mode": {
    "name": "ipython",
    "version": 3
   },
   "file_extension": ".py",
   "mimetype": "text/x-python",
   "name": "python",
   "nbconvert_exporter": "python",
   "pygments_lexer": "ipython3",
   "version": "3.11.3"
  }
 },
 "nbformat": 4,
 "nbformat_minor": 5
}
