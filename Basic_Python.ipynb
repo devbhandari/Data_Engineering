{
 "cells": [
  {
   "cell_type": "code",
   "execution_count": null,
   "id": "b67fc543",
   "metadata": {},
   "outputs": [],
   "source": [
    "# This is basic python learnings and i am using data pierion and other learning courses material here.\n",
    "# Since we all are learning from each other so in my initial learning days i am utilizing these puzzles/questions to enhance my learnings."
   ]
  },
  {
   "cell_type": "code",
   "execution_count": 252,
   "id": "b2299ce3",
   "metadata": {},
   "outputs": [
    {
     "name": "stdout",
     "output_type": "stream",
     "text": [
      "Hello Python\n"
     ]
    }
   ],
   "source": [
    "print(\"Hello Python\")"
   ]
  },
  {
   "cell_type": "code",
   "execution_count": 253,
   "id": "c9f08054",
   "metadata": {},
   "outputs": [
    {
     "data": {
      "text/plain": [
       "12"
      ]
     },
     "execution_count": 253,
     "metadata": {},
     "output_type": "execute_result"
    }
   ],
   "source": [
    "len(\"Hello Python\")"
   ]
  },
  {
   "cell_type": "code",
   "execution_count": 254,
   "id": "53b96469",
   "metadata": {},
   "outputs": [
    {
     "data": {
      "text/plain": [
       "'i'"
      ]
     },
     "execution_count": 254,
     "metadata": {},
     "output_type": "execute_result"
    }
   ],
   "source": [
    "### Indexing and Slicing\n",
    "mystring=\"Hello India\"\n",
    "mystring\n",
    "mystring[0] #H\n",
    "mystring[6] #I\n",
    "#Reverse Indexing\n",
    "mystring[-2] #i"
   ]
  },
  {
   "cell_type": "code",
   "execution_count": 255,
   "id": "bedd5e72",
   "metadata": {},
   "outputs": [
    {
     "data": {
      "text/plain": [
       "'aidnI olleH'"
      ]
     },
     "execution_count": 255,
     "metadata": {},
     "output_type": "execute_result"
    }
   ],
   "source": [
    "#Slicing\n",
    "mystring=\"Hello India\"\n",
    "mystring[3:] #'lo India'\n",
    "mystring[:5] #Hello\n",
    "mystring[2:5]#llo\n",
    "mystring[::] # 'Hello India'\n",
    "mystring[::2] #'HloIda'\n",
    "mystring[::-1] #'aidnI olleH'"
   ]
  },
  {
   "cell_type": "code",
   "execution_count": 256,
   "id": "4bc52ec6",
   "metadata": {},
   "outputs": [
    {
     "name": "stdout",
     "output_type": "stream",
     "text": [
      "(1, 'ram', 'Delhi')\n",
      "(2, 'shyam', 'Punjab')\n",
      "(3, 'mohan', 'Kolkata')\n"
     ]
    }
   ],
   "source": [
    "#useful functions in python\n",
    "# for i in range(1,10,2):\n",
    "#     print(i)\n",
    "#list function\n",
    "list(range(1,11))\n",
    "#enumerate function: \n",
    "# mystring=\"Hello India\"\n",
    "# for index,item in enumerate(mystring):\n",
    "#     print(index,item)\n",
    "#zip function\n",
    "mylist1=[1,2,3]\n",
    "mylist2=['ram','shyam','mohan']\n",
    "mylist3=['Delhi','Punjab','Kolkata']\n",
    "for item in zip(mylist1,mylist2,mylist3):\n",
    "    print(item)"
   ]
  },
  {
   "cell_type": "code",
   "execution_count": 257,
   "id": "c17463a2",
   "metadata": {},
   "outputs": [
    {
     "name": "stdout",
     "output_type": "stream",
     "text": [
      "Delhi\n",
      "Punjab\n",
      "Kolkata\n"
     ]
    }
   ],
   "source": [
    "mylist1=[1,2,3]\n",
    "mylist2=['ram','shyam','mohan']\n",
    "mylist3=['Delhi','Punjab','Kolkata']\n",
    "for a,b,c in zip(mylist1,mylist2,mylist3):\n",
    "    print(c)"
   ]
  },
  {
   "cell_type": "code",
   "execution_count": 258,
   "id": "fd3232fa",
   "metadata": {},
   "outputs": [
    {
     "data": {
      "text/plain": [
       "10"
      ]
     },
     "execution_count": 258,
     "metadata": {},
     "output_type": "execute_result"
    }
   ],
   "source": [
    "# # 'x' in 'xyz'\n",
    "# # 2 in [2,3,4]\n",
    "# # 'mykey' in {'mykey1':'python'} #False\n",
    "# d= {'mysub1':'python'}\n",
    "# 'python' in d.values() #True\n",
    "#shuffle function\n",
    "# mylist11=[1,2,3,4,5,6,7]\n",
    "# from random import shuffle\n",
    "# shuffle(mylist11)\n",
    "# mylist11\n",
    "from random import randint\n",
    "mynum=randint(1,11)\n",
    "mynum"
   ]
  },
  {
   "cell_type": "code",
   "execution_count": 259,
   "id": "8ed61f73",
   "metadata": {},
   "outputs": [
    {
     "data": {
      "text/plain": [
       "[10, 20, 30, 20, 40, 60, 30, 60, 90]"
      ]
     },
     "execution_count": 259,
     "metadata": {},
     "output_type": "execute_result"
    }
   ],
   "source": [
    "#list comprehension in python\n",
    "# mylistcomp=[]\n",
    "# mystringval=\"Indian\"\n",
    "# for i in mystringval:\n",
    "#     mylistcomp.append(i)\n",
    "# mylistcomp #['I', 'n', 'd', 'i', 'a', 'n']\n",
    "\n",
    "#now lets achieve the same with list comprehension\n",
    "# mylistcomp=[i for i in 'indians']\n",
    "# mylistcomp # op ['i', 'n', 'd', 'i', 'a', 'n', 's']\n",
    "\n",
    "\n",
    "# mynumlist =[num**2 for num in range(1,11) if num%2==0]\n",
    "# mynumlist  # op : [4, 16, 36, 64, 100]\n",
    "\n",
    "#if else in list comprehension\n",
    "# mynumlistcond= ['Even' if i%2==0 else 'ODD' for i in range(1,11)]\n",
    "# mynumlistcond # ['ODD', 'Even', 'ODD', 'Even', 'ODD', 'Even', 'ODD', 'Even', 'ODD', 'Even']\n",
    "\n",
    "## Nested loops in list comprehension\n",
    "\n",
    "mynestedlist=[ x*y for x in [2,4,6] for y in [5,10,15]]\n",
    "mynestedlist\n",
    "\n"
   ]
  },
  {
   "cell_type": "code",
   "execution_count": 260,
   "id": "93ff64cc",
   "metadata": {},
   "outputs": [
    {
     "data": {
      "text/plain": [
       "1.35"
      ]
     },
     "execution_count": 260,
     "metadata": {},
     "output_type": "execute_result"
    }
   ],
   "source": [
    "## *args and **kwargs\n",
    "# *args are positional arguments --> returns tuples, and kwargs are keyword arguments --> returns dictionary\n",
    "def myfunc(*args):\n",
    "    # print(args)\n",
    "    return sum((args))*.05\n",
    "\n",
    "myfunc(2,5,10,10) # op is 1.35\n",
    "\n"
   ]
  },
  {
   "cell_type": "code",
   "execution_count": 261,
   "id": "a19f244f",
   "metadata": {},
   "outputs": [
    {
     "name": "stdout",
     "output_type": "stream",
     "text": [
      "(10, 20, 30)\n",
      "{'fruit': 'apple', 'veggie': 'tomato'}\n",
      "Please give me 20 apple \n"
     ]
    }
   ],
   "source": [
    "# def myfunckw(**kwargs):\n",
    "#     if 'fruit' in kwargs:\n",
    "#         print('My fruit of choice in {}'.format(kwargs['fruit']))\n",
    "#     else:\n",
    "#         print('i didnt find any fruits here')\n",
    "\n",
    "# myfunckw(fruit='apple',veggie='potato') #My fruit of choice in apple\n",
    "# myfunckw(veggie='potato',fruits='apple') #i didnt find any fruits here\n",
    "\n",
    "# include args and kwargs together\n",
    "\n",
    "def myfuncargkwg(*args,**kwargs):\n",
    "    print(args)\n",
    "    print(kwargs)\n",
    "    print('Please give me {} {} '.format(args[1],kwargs['fruit']))\n",
    "myfuncargkwg(10,20,30, fruit='apple', veggie='tomato')\n",
    "\n",
    "#  op is :\n",
    "# (10, 20, 30)\n",
    "# {'fruit': 'apple', 'veggie': 'tomato'}\n",
    "# Please give me 20 apple\n",
    "\n",
    "#from 50th "
   ]
  },
  {
   "cell_type": "code",
   "execution_count": 262,
   "id": "cda5eba0",
   "metadata": {},
   "outputs": [],
   "source": [
    "## Functions Practice with Data pierian\n",
    "#Copyrights are with Data pierian i am just practising them for learning\n",
    "# Prac01 \n",
    "'''\n",
    "Write a function that returns the lesser of two given numbers if both numbers are even, \n",
    "but returns the greater if one or both numbers are odd\n",
    "lesser_of_two_evens(2,4) --> 2\n",
    "lesser_of_two_evens(2,5) --> 5\n",
    "'''\n",
    "def lesser_of_two_evens(a,b):\n",
    "    if (a%2==0) and (b%2==0):\n",
    "        return min(a,b)\n",
    "    else:\n",
    "        return max(a,b)\n",
    "#call function\n",
    "# lesser_of_two_evens(2,4) # op 2\n",
    "# lesser_of_two_evens(2,5) # op is 5\n",
    "# lesser_of_two_evens(5,2) # op is 5\n",
    "# lesser_of_two_evens(4,2) op is 2\n"
   ]
  },
  {
   "cell_type": "code",
   "execution_count": 263,
   "id": "774b98a0",
   "metadata": {},
   "outputs": [
    {
     "data": {
      "text/plain": [
       "False"
      ]
     },
     "execution_count": 263,
     "metadata": {},
     "output_type": "execute_result"
    }
   ],
   "source": [
    "#Prac02\n",
    "''' \n",
    "Write a function takes a two-word string and returns True if both words begin with same letter\n",
    "animal_crackers('Levelheaded Llama') --> True\n",
    "animal_crackers('Crazy Kangaroo') --> False\n",
    "'''\n",
    "def animal_crackers(str1):\n",
    "    parts=str1.split(' ')\n",
    "    # print(parts)\n",
    "    if len(parts)>=2:\n",
    "        if parts[0][0]==parts[1][0]:\n",
    "            return True\n",
    "        else:\n",
    "            return False\n",
    "    else:\n",
    "        print('value of parts is {} and type is {}'.format(parts,type(parts)))\n",
    "        # print('Please give me {} {} '.format(args[1],kwargs['fruit']))\n",
    "#Call function:\n",
    "# animal_crackers('Levelheaded Llama') #True\n",
    "animal_crackers('Crazy Kangaroo') #False\n",
    "# animal_crackers('Crazy Kangaroo akra') #False"
   ]
  },
  {
   "cell_type": "code",
   "execution_count": 264,
   "id": "9d01e3fc",
   "metadata": {},
   "outputs": [],
   "source": [
    "''' \n",
    "Prac03\n",
    "Given two integers, return True if the sum of the integers is 20 or if one of the integers is 20. If not, return False\n",
    "makes_twenty(20,10) --> True\n",
    "makes_twenty(12,8) --> True\n",
    "makes_twenty(2,3) --> False\n",
    "'''\n",
    "def makes_twenty(a,b):\n",
    "    if (a+b)==20 or a==20 or b ==20:\n",
    "        return True\n",
    "    else:\n",
    "        return False\n",
    "# call function\n",
    "# makes_twenty(20,10)  # op is True\n",
    "# makes_twenty(12,8) #--> True\n",
    "# makes_twenty(2,3) #--> False\n",
    "\n",
    "#another way to achieve\n",
    "# def makes_twenty(a, b):\n",
    "#     return a + b == 20 or a == 20 or b == 20\n",
    "\n",
    "# makes_twenty(20,10)  # op is True\n",
    "# makes_twenty(12,8) #--> True\n",
    "# makes_twenty(2,3) #--> False"
   ]
  },
  {
   "cell_type": "code",
   "execution_count": 265,
   "id": "8be61976",
   "metadata": {},
   "outputs": [
    {
     "data": {
      "text/plain": [
       "'MacDonald'"
      ]
     },
     "execution_count": 265,
     "metadata": {},
     "output_type": "execute_result"
    }
   ],
   "source": [
    "''' \n",
    "Prac04\n",
    "OLD MACDONALD: Write a function that capitalizes the first and fourth letters of a name\n",
    "old_macdonald('macdonald') --> MacDonald\n",
    "'''\n",
    "def old_macdonald(str1):\n",
    "    return str1[0].upper()+str1[1:4].lower()+str1[3].upper()+str1[4:].lower()\n",
    "old_macdonald('macdonald')\n",
    "# old_macdonald('kactonald')\n",
    "\n",
    "# another way2:\n",
    "def old_macdonald(str1):\n",
    "    return str1[0:3].capitalize() + str1[3:].capitalize()\n",
    "\n",
    "    #below code is for testing \n",
    "    # first_half=str1[0:3].capitalize()\n",
    "    # second_half=str1[3:].capitalize()\n",
    "    # return first_half+second_half\n",
    "old_macdonald('macdonald')"
   ]
  },
  {
   "cell_type": "code",
   "execution_count": 266,
   "id": "ababfbc9",
   "metadata": {},
   "outputs": [
    {
     "name": "stdout",
     "output_type": "stream",
     "text": [
      "MacDonald\n"
     ]
    }
   ],
   "source": [
    "# text ='macdonald'\n",
    "# text[0].capitalize()\n",
    "# # text[3]\n",
    "#way 3\n",
    "def old_macdonald(str1):\n",
    "    flist = []\n",
    "    for i in range(len(str1)):\n",
    "        if i == 0 or i == 3:\n",
    "            flist.append(str1[i].upper())  # Capitalize 1st and 4th characters\n",
    "        else:\n",
    "            flist.append(str1[i])\n",
    "    return ''.join(flist)  # Join the characters back into a string\n",
    "    # return flist  # Join the characters back into a string\n",
    "\n",
    "# Example\n",
    "print(old_macdonald('macdonald'))  # Output: MacDonald\n"
   ]
  },
  {
   "cell_type": "code",
   "execution_count": 267,
   "id": "c4847ec4",
   "metadata": {},
   "outputs": [],
   "source": [
    "''' \n",
    "Prac05:\n",
    "\n",
    "Given a sentence, return a sentence with the words reversed\n",
    "master_yoda('I am home') --> 'home am I'\n",
    "master_yoda('We are ready') --> 'ready are We'\n",
    "'''\n",
    "def master_yoda(text):\n",
    "    return ' '.join(text.split(' ')[::-1])\n",
    "# master_yoda('I am home') # op is 'home am I'\n",
    "# master_yoda('We are ready') # op is 'ready are We'\n"
   ]
  },
  {
   "cell_type": "code",
   "execution_count": 268,
   "id": "3215188f",
   "metadata": {},
   "outputs": [
    {
     "data": {
      "text/plain": [
       "str"
      ]
     },
     "execution_count": 268,
     "metadata": {},
     "output_type": "execute_result"
    }
   ],
   "source": [
    "text='I am home'\n",
    "# text[::-1]\n",
    "flist=text.split(' ')\n",
    "flist\n",
    "flist[::-1]\n",
    "type(flist)\n",
    "type(text)\n",
    "# print(flist.reverse())\n",
    "# llist"
   ]
  },
  {
   "cell_type": "code",
   "execution_count": 269,
   "id": "beee506c",
   "metadata": {},
   "outputs": [],
   "source": [
    "''' \n",
    "Prac06\n",
    "Given an integer n, return True if n is within 10 of either 100 or 200\n",
    "almost_there(90) --> True\n",
    "almost_there(104) --> True\n",
    "almost_there(150) --> False\n",
    "almost_there(209) --> True\n",
    "'''\n",
    "def almost_there(n):\n",
    "    return abs(100-n)<=10 or abs(200-n)<=10\n",
    "# almost_there(90) #True\n",
    "# almost_there(104) #True\n",
    "# almost_there(150) #False\n",
    "# almost_there(209) #True"
   ]
  },
  {
   "cell_type": "code",
   "execution_count": 270,
   "id": "ec392b71",
   "metadata": {},
   "outputs": [],
   "source": [
    "''' \n",
    "Prac 07:\n",
    "Given a list of ints, return True if the array contains a 3 next to a 3 somewhere.\n",
    "\n",
    "has_33([1, 3, 3]) → True\n",
    "has_33([1, 3, 1, 3]) → False\n",
    "has_33([3, 1, 3]) → False\n",
    "'''\n",
    "def has_33(nums):\n",
    "    for i in range(len(nums) - 1):\n",
    "        if nums[i] == 3 and nums[i + 1] == 3:\n",
    "            return True\n",
    "    return False\n",
    "# has_33([1, 3, 3]) #→ True\n",
    "# has_33([1, 3, 1, 3]) #→ False\n",
    "# has_33([3, 1, 3]) #→ False\n"
   ]
  },
  {
   "cell_type": "code",
   "execution_count": 271,
   "id": "347b8d56",
   "metadata": {},
   "outputs": [],
   "source": [
    "''' \n",
    "Prac07:\n",
    "PAPER DOLL: Given a string, return a string where for every character in the original there are three characters\n",
    "paper_doll('Hello') --> 'HHHeeellllllooo'\n",
    "paper_doll('Mississippi') --> 'MMMiiissssssiiippppppiii'\n",
    "'''\n",
    "\n",
    "# def paper_doll(input):\n",
    "#     flist=[]\n",
    "#     for i in range(len(input)):\n",
    "#         flist.append(input[i]*3)\n",
    "#     print(''.join(flist))\n",
    "# paper_doll('Hello')\n",
    "\n",
    "# Optimiswd way:\n",
    "def paper_doll(text):\n",
    "    return ''.join([char * 3 for char in text])\n",
    "\n",
    "# paper_doll('Hello') #--> 'HHHeeellllllooo'\n",
    "# paper_doll('Mississippi') #--> MMMiiissssssiiissssssiiippppppiii\n"
   ]
  },
  {
   "cell_type": "code",
   "execution_count": 272,
   "id": "50366de8",
   "metadata": {},
   "outputs": [
    {
     "data": {
      "text/plain": [
       "'HHHeeellllllooo'"
      ]
     },
     "execution_count": 272,
     "metadata": {},
     "output_type": "execute_result"
    }
   ],
   "source": [
    "txt='Hello'\n",
    "flist=[i*3 for i in txt]\n",
    "''.join(flist)"
   ]
  },
  {
   "cell_type": "code",
   "execution_count": 273,
   "id": "c829de89",
   "metadata": {},
   "outputs": [],
   "source": [
    "''' \n",
    "Prac08 :\n",
    "Given three integers between 1 and 11, if their sum is less than or equal to 21, return their sum. \n",
    "If their sum exceeds 21 and there's an eleven, reduce the total sum by 10. \n",
    "Finally, if the sum (even after adjustment) exceeds 21, return 'BUST'\n",
    "\n",
    "blackjack(5,6,7) --> 18\n",
    "blackjack(9,9,9) --> 'BUST'\n",
    "blackjack(9,9,11) --> 19\n",
    "'''\n",
    "def blackjack(a, b, c):\n",
    "    total = a + b + c\n",
    "    if total <= 21:\n",
    "        return total\n",
    "    elif 11 in (a, b, c) and total > 21:\n",
    "        return total - 10 if total - 10 <= 21 else 'BUST'\n",
    "    else:\n",
    "        return 'BUST'"
   ]
  },
  {
   "cell_type": "code",
   "execution_count": 274,
   "id": "fcea107a",
   "metadata": {},
   "outputs": [
    {
     "name": "stdout",
     "output_type": "stream",
     "text": [
      "4\n",
      "initially True\n",
      "inside if add  True\n",
      "inside else add is  True\n",
      "5\n",
      "initially True\n",
      "inside if add  True\n",
      "inside else add is  True\n",
      "6\n",
      "initially True\n",
      "inside if add  True\n",
      "inside if i=6 add is  False\n",
      "7\n",
      "initially False\n",
      "8\n",
      "initially False\n",
      "9\n",
      "initially False\n",
      "inside elif add is  True\n",
      "1\n",
      "initially True\n",
      "inside if add  True\n",
      "inside else add is  True\n"
     ]
    },
    {
     "data": {
      "text/plain": [
       "10"
      ]
     },
     "execution_count": 274,
     "metadata": {},
     "output_type": "execute_result"
    }
   ],
   "source": [
    "def blackjack(a, b, c):\n",
    "    total = a + b + c\n",
    "\n",
    "    if total <= 21:\n",
    "        return total\n",
    "    elif 11 in (a, b, c):\n",
    "        total -= 10  # adjust one 11 to be 1 instead of 11\n",
    "        if total <= 21:\n",
    "            return total\n",
    "        else:\n",
    "            return 'BUST'\n",
    "    else:\n",
    "        return 'BUST'\n",
    "\n",
    "# blackjack(5,6,7) #--> 18\n",
    "# blackjack(9,9,9) #--> 'BUST'\n",
    "# blackjack(9,9,11) #--> 19\n",
    "# blackjack(11, 11, 10) #--> BUST\n",
    "\n",
    "\n",
    "''' \n",
    "Prac09 :\n",
    "SUMMER OF '69: Return the sum of the numbers in the array, except ignore sections of \n",
    "numbers starting with a 6 and extending to the next 9 (every 6 will be followed by at least one 9). Return 0 for no numbers.\n",
    "summer_69([1, 3, 5]) --> 9\n",
    "summer_69([4, 5, 6, 7, 8, 9]) --> 9\n",
    "summer_69([2, 1, 6, 9, 11]) --> 14\n",
    "'''\n",
    "# def summer_69(inp_list):\n",
    "#     return sum(inp_list);\n",
    "\n",
    "# summer_69([1,3,5]) -->9\n",
    "\n",
    "# def summer_69(arr):\n",
    "#     total = 0\n",
    "#     add = True  # whether to add the number or not\n",
    "\n",
    "#     for num in arr:\n",
    "#         if add:\n",
    "#             if num == 6:\n",
    "#                 add = False  # start ignoring numbers\n",
    "#             else:\n",
    "#                 total += num\n",
    "#         elif num == 9:\n",
    "#             add = True  # resume adding numbers after hitting 9\n",
    "#     return total\n",
    "\n",
    "# summer_69([1, 3, 5]) #--> 9\n",
    "# summer_69([4, 5, 6, 7, 8, 9]) #--> 9\n",
    "# summer_69([2, 1, 6, 9, 11]) #--> 14\n",
    "\n",
    "def summer_69(inp_list):\n",
    "    total=0\n",
    "    add=True\n",
    "    for i in inp_list:\n",
    "        print(i)\n",
    "        print('initially',add)\n",
    "        if add:\n",
    "            print('inside if add ',add)\n",
    "            if i==6:\n",
    "                add=False\n",
    "                print('inside if i=6 add is ',add)\n",
    "            else:\n",
    "                print('inside else add is ',add)\n",
    "                total+=i\n",
    "        elif i==9:\n",
    "            add=True\n",
    "            print('inside elif add is ',add)\n",
    "    return total\n",
    "\n",
    "# summer_69([2,1,6,7,8,20,9,11])\n",
    "summer_69([4, 5, 6, 7, 8, 9,1])\n",
    "\n",
    "\n",
    "\n",
    "\n"
   ]
  },
  {
   "cell_type": "code",
   "execution_count": 275,
   "id": "2bd6a88f",
   "metadata": {},
   "outputs": [],
   "source": [
    "''' \n",
    "SPY GAME: Write a function that takes in a list of integers and returns True if it contains 007 in order\n",
    " spy_game([1,2,4,0,0,7,5]) --> True\n",
    " spy_game([1,0,2,4,0,5,7]) --> True\n",
    " spy_game([1,7,2,0,4,5,0]) --> False\n",
    "'''\n",
    "def spy_game(inp_list):\n",
    "    check_list=[0,0,7]\n",
    "    for inp in inp_list:\n",
    "        if inp==check_list[0]:\n",
    "            check_list.pop(0)\n",
    "        if not check_list:\n",
    "            return True\n",
    "    return False\n",
    "\n",
    "# spy_game([1,2,4,0,0,7,5])#--> True\n",
    "# spy_game([1,0,2,4,0,5,7]) #--> True\n",
    "# spy_game([1,7,2,0,4,5,0]) #--> False\n",
    "\n"
   ]
  },
  {
   "cell_type": "code",
   "execution_count": 276,
   "id": "cab53f64",
   "metadata": {},
   "outputs": [
    {
     "name": "stdout",
     "output_type": "stream",
     "text": [
      "[False, False, True, True, False, True, False, True, False, False, False, True, False, True, False, False, False, True, False, True, False, False, False, True, False, False]\n"
     ]
    },
    {
     "data": {
      "text/plain": [
       "9"
      ]
     },
     "execution_count": 276,
     "metadata": {},
     "output_type": "execute_result"
    }
   ],
   "source": [
    "''' \n",
    "COUNT PRIMES: Write a function that returns the number of prime numbers that exist up to and including a given number\n",
    "count_primes(100) --> 25\n",
    "By convention, 0 and 1 are not prime.\n",
    "\n",
    "'''\n",
    "\n",
    "# def count_primes(n):\n",
    "#     if n < 2:\n",
    "#         return 0  # No primes less than 2\n",
    "\n",
    "#     # Step 1: Create a boolean list \"is_prime\" and initialize all entries as True\n",
    "#     is_prime = [True] * (n + 1)\n",
    "#     is_prime[0] = is_prime[1] = False  # 0 and 1 are not primes\n",
    "\n",
    "#     # Step 2: Sieve - Mark non-primes as False\n",
    "#     for i in range(2, int(n**0.5) + 1):  # Only check up to sqrt(n)\n",
    "#         if is_prime[i]:\n",
    "#             # Mark all multiples of i from i*i to n as False\n",
    "#             for j in range(i * i, n + 1, i):\n",
    "#                 is_prime[j] = False\n",
    "\n",
    "#     # Step 3: Count the number of primes\n",
    "#     print(is_prime)\n",
    "#     return sum(is_prime)\n",
    "# # count_primes(10)\n",
    "# count_primes(25)\n",
    "\n",
    "# using math function\n",
    "import math\n",
    "def count_primes(n):\n",
    "    if n < 2:\n",
    "        return 0  # No primes less than 2\n",
    "\n",
    "    # Step 1: Create a boolean list \"is_prime\" and initialize all entries as True\n",
    "    is_prime = [True] * (n + 1)\n",
    "    is_prime[0] = is_prime[1] = False  # 0 and 1 are not primes\n",
    "\n",
    "    # Step 2: Sieve - Mark non-primes as False\n",
    "    for i in range(2, int(math.sqrt(n)) + 1):  # Only check up to sqrt(n)\n",
    "        if is_prime[i]:\n",
    "            # Mark all multiples of i from i*i to n as False\n",
    "            for j in range(i * i, n + 1, i):\n",
    "                is_prime[j] = False\n",
    "\n",
    "    # Step 3: Count the number of primes\n",
    "    print(is_prime)\n",
    "    return sum(is_prime)\n",
    "# count_primes(10)\n",
    "count_primes(25)\n",
    "\n",
    "# 10**2"
   ]
  },
  {
   "cell_type": "code",
   "execution_count": 277,
   "id": "6c1d0aec",
   "metadata": {},
   "outputs": [
    {
     "data": {
      "text/plain": [
       "' \\nJust for fun:\\nPRINT BIG: Write a function that takes in a single letter, and returns a 5x5 representation of that letter\\nprint_big(\\'a\\')\\n\\nout:   *  \\n      * *\\n     *****\\n     *   *\\n     *   *\\nHINT: Consider making a dictionary of possible patterns, and mapping the alphabet to specific 5-line combinations of patterns.\\nFor purposes of this exercise, it\\'s ok if your dictionary stops at \"E\".\\n\\n\\n'"
      ]
     },
     "execution_count": 277,
     "metadata": {},
     "output_type": "execute_result"
    }
   ],
   "source": [
    "''' \n",
    "Just for fun:\n",
    "PRINT BIG: Write a function that takes in a single letter, and returns a 5x5 representation of that letter\n",
    "print_big('a')\n",
    "\n",
    "out:   *  \n",
    "      * *\n",
    "     *****\n",
    "     *   *\n",
    "     *   *\n",
    "HINT: Consider making a dictionary of possible patterns, and mapping the alphabet to specific 5-line combinations of patterns.\n",
    "For purposes of this exercise, it's ok if your dictionary stops at \"E\".\n",
    "\n",
    "\n",
    "'''"
   ]
  }
 ],
 "metadata": {
  "kernelspec": {
   "display_name": "Python 3",
   "language": "python",
   "name": "python3"
  },
  "language_info": {
   "codemirror_mode": {
    "name": "ipython",
    "version": 3
   },
   "file_extension": ".py",
   "mimetype": "text/x-python",
   "name": "python",
   "nbconvert_exporter": "python",
   "pygments_lexer": "ipython3",
   "version": "3.11.3"
  }
 },
 "nbformat": 4,
 "nbformat_minor": 5
}
