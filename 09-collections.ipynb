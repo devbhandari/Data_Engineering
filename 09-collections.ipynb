{
 "cells": [
  {
   "cell_type": "code",
   "execution_count": 3,
   "id": "156a6a50",
   "metadata": {},
   "outputs": [
    {
     "data": {
      "text/plain": [
       "Counter({1: 5, 2: 4, 3: 5})"
      ]
     },
     "execution_count": 3,
     "metadata": {},
     "output_type": "execute_result"
    }
   ],
   "source": [
    "from collections import Counter\n",
    "mylist=[1,1,1,1,1,2,2,2,2,3,3,3,3,3]\n",
    "Counter(mylist)"
   ]
  },
  {
   "cell_type": "code",
   "execution_count": 10,
   "id": "66df5e3d",
   "metadata": {},
   "outputs": [
    {
     "data": {
      "text/plain": [
       "[('a', 4), ('b', 4)]"
      ]
     },
     "execution_count": 10,
     "metadata": {},
     "output_type": "execute_result"
    }
   ],
   "source": [
    "mylist2=['a','a',10,10,10]\n",
    "Counter(mylist2)\n",
    "\n",
    "Counter('aaaassssbbsssnbnmmmkk')\n",
    "sentence=(\"How many times india has ocurred in this sentence where we talk about india\")\n",
    "Counter(sentence.lower().split())\n",
    "letters='aaaabbbbcccdddeeffgg'\n",
    "c=Counter(letters)\n",
    "c.most_common() #[('a', 4), ('b', 4), ('c', 3), ('d', 3), ('e', 2), ('f', 2), ('g', 2)]\n",
    "c.most_common(n=2) # [('a', 4), ('b', 4)]"
   ]
  },
  {
   "cell_type": "code",
   "execution_count": null,
   "id": "e801d702",
   "metadata": {},
   "outputs": [],
   "source": []
  }
 ],
 "metadata": {
  "kernelspec": {
   "display_name": "Python 3",
   "language": "python",
   "name": "python3"
  },
  "language_info": {
   "codemirror_mode": {
    "name": "ipython",
    "version": 3
   },
   "file_extension": ".py",
   "mimetype": "text/x-python",
   "name": "python",
   "nbconvert_exporter": "python",
   "pygments_lexer": "ipython3",
   "version": "3.11.3"
  }
 },
 "nbformat": 4,
 "nbformat_minor": 5
}
