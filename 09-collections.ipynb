{
 "cells": [
  {
   "cell_type": "code",
   "execution_count": 3,
   "id": "156a6a50",
   "metadata": {},
   "outputs": [
    {
     "data": {
      "text/plain": [
       "Counter({1: 5, 2: 4, 3: 5})"
      ]
     },
     "execution_count": 3,
     "metadata": {},
     "output_type": "execute_result"
    }
   ],
   "source": [
    "from collections import Counter\n",
    "mylist=[1,1,1,1,1,2,2,2,2,3,3,3,3,3]\n",
    "Counter(mylist)"
   ]
  },
  {
   "cell_type": "code",
   "execution_count": 10,
   "id": "66df5e3d",
   "metadata": {},
   "outputs": [
    {
     "data": {
      "text/plain": [
       "[('a', 4), ('b', 4)]"
      ]
     },
     "execution_count": 10,
     "metadata": {},
     "output_type": "execute_result"
    }
   ],
   "source": [
    "mylist2=['a','a',10,10,10]\n",
    "Counter(mylist2)\n",
    "\n",
    "Counter('aaaassssbbsssnbnmmmkk')\n",
    "sentence=(\"How many times india has ocurred in this sentence where we talk about india\")\n",
    "Counter(sentence.lower().split())\n",
    "letters='aaaabbbbcccdddeeffgg'\n",
    "c=Counter(letters)\n",
    "c.most_common() #[('a', 4), ('b', 4), ('c', 3), ('d', 3), ('e', 2), ('f', 2), ('g', 2)]\n",
    "c.most_common(n=2) # [('a', 4), ('b', 4)]"
   ]
  },
  {
   "cell_type": "code",
   "execution_count": 18,
   "id": "e801d702",
   "metadata": {},
   "outputs": [
    {
     "data": {
      "text/plain": [
       "'Sam'"
      ]
     },
     "execution_count": 18,
     "metadata": {},
     "output_type": "execute_result"
    }
   ],
   "source": [
    "from collections import defaultdict\n",
    "d={'a':10}\n",
    "d\n",
    "d['a']\n",
    "# d['b'] #KeyError: 'b'\n",
    "\n",
    "#default dictionary: to have default value for any new key which is not available\n",
    "d=defaultdict(lambda:0)\n",
    "d['c']=100\n",
    "d['d']\n",
    "d['e']\n",
    "d\n",
    "\n",
    "\n",
    "# mytuple\n",
    "mytuple=(10,20,30)\n",
    "mytuple[0]\n",
    "\n",
    "from collections import namedtuple\n",
    "Dog=namedtuple('Dog',['age','breed','name'])\n",
    "sammy=Dog(age=5,breed='husky',name='Sam')\n",
    "type(sammy)\n",
    "\n",
    "sammy\n",
    "sammy.age\n",
    "sammy.name"
   ]
  },
  {
   "cell_type": "code",
   "execution_count": null,
   "id": "be2bab8d",
   "metadata": {},
   "outputs": [
    {
     "name": "stdout",
     "output_type": "stream",
     "text": [
      "5\n"
     ]
    },
    {
     "ename": "TypeError",
     "evalue": "can only concatenate list (not \"int\") to list",
     "output_type": "error",
     "traceback": [
      "\u001b[0;31m---------------------------------------------------------------------------\u001b[0m",
      "\u001b[0;31mTypeError\u001b[0m                                 Traceback (most recent call last)",
      "Cell \u001b[0;32mIn[26], line 9\u001b[0m\n\u001b[1;32m      7\u001b[0m result\u001b[38;5;241m=\u001b[39my\u001b[38;5;241m+\u001b[39mz\n\u001b[1;32m      8\u001b[0m \u001b[38;5;28mprint\u001b[39m(result)\n\u001b[0;32m----> 9\u001b[0m result2\u001b[38;5;241m=\u001b[39m\u001b[43mx\u001b[49m\u001b[38;5;241;43m+\u001b[39;49m\u001b[43my\u001b[49m \u001b[38;5;66;03m#TypeError: can only concatenate list (not \"int\") to list\u001b[39;00m\n\u001b[1;32m     10\u001b[0m \u001b[38;5;28mprint\u001b[39m(y)\n\u001b[1;32m     11\u001b[0m \u001b[38;5;28mprint\u001b[39m(result2)\n",
      "\u001b[0;31mTypeError\u001b[0m: can only concatenate list (not \"int\") to list"
     ]
    }
   ],
   "source": [
    "#debugging with Python\n",
    "x=[1,2,3]\n",
    "y=2\n",
    "z=3\n",
    "\n",
    "\n",
    "result=y+z\n",
    "print(result)\n",
    "result2=x+y #TypeError: can only concatenate list (not \"int\") to list\n",
    "print(y)\n",
    "print(result2)\n",
    "\n"
   ]
  },
  {
   "cell_type": "code",
   "execution_count": null,
   "id": "8cf18251",
   "metadata": {},
   "outputs": [
    {
     "name": "stdout",
     "output_type": "stream",
     "text": [
      "--Return--\n",
      "None\n",
      "> \u001b[0;32m/var/folders/f_/nnhhbl_14s37s_bknrj3xmfr0000gn/T/ipykernel_7813/592225934.py\u001b[0m(7)\u001b[0;36m<module>\u001b[0;34m()\u001b[0m\n",
      "\u001b[0;32m      4 \u001b[0;31m\u001b[0mz\u001b[0m\u001b[0;34m=\u001b[0m\u001b[0;36m3\u001b[0m\u001b[0;34m\u001b[0m\u001b[0;34m\u001b[0m\u001b[0m\n",
      "\u001b[0m\u001b[0;32m      5 \u001b[0;31m\u001b[0mresult_one\u001b[0m\u001b[0;34m=\u001b[0m\u001b[0my\u001b[0m\u001b[0;34m+\u001b[0m\u001b[0mz\u001b[0m\u001b[0;34m\u001b[0m\u001b[0;34m\u001b[0m\u001b[0m\n",
      "\u001b[0m\u001b[0;32m      6 \u001b[0;31m\u001b[0;34m\u001b[0m\u001b[0m\n",
      "\u001b[0m\u001b[0;32m----> 7 \u001b[0;31m\u001b[0mpdb\u001b[0m\u001b[0;34m.\u001b[0m\u001b[0mset_trace\u001b[0m\u001b[0;34m(\u001b[0m\u001b[0;34m)\u001b[0m\u001b[0;34m\u001b[0m\u001b[0;34m\u001b[0m\u001b[0m\n",
      "\u001b[0m\u001b[0;32m      8 \u001b[0;31m\u001b[0mresult_two\u001b[0m\u001b[0;34m=\u001b[0m\u001b[0my\u001b[0m\u001b[0;34m+\u001b[0m\u001b[0mx\u001b[0m\u001b[0;34m\u001b[0m\u001b[0;34m\u001b[0m\u001b[0m\n",
      "\u001b[0m\n"
     ]
    }
   ],
   "source": [
    "import pdb\n",
    "x=[1,2,3]\n",
    "y=2\n",
    "z=3\n",
    "result_one=y+z\n",
    "\n",
    "pdb.set_trace()\n",
    "result_two=y+x"
   ]
  },
  {
   "cell_type": "code",
   "execution_count": null,
   "id": "775be80b",
   "metadata": {},
   "outputs": [],
   "source": [
    "# We need to complete following session in Collection modules\n",
    "# check unread one from section 14\n",
    "# https://www.udemy.com/course/complete-python-bootcamp/learn/lecture/20447379#lecture-article\n"
   ]
  }
 ],
 "metadata": {
  "kernelspec": {
   "display_name": "Python 3",
   "language": "python",
   "name": "python3"
  },
  "language_info": {
   "codemirror_mode": {
    "name": "ipython",
    "version": 3
   },
   "file_extension": ".py",
   "mimetype": "text/x-python",
   "name": "python",
   "nbconvert_exporter": "python",
   "pygments_lexer": "ipython3",
   "version": "3.11.3"
  }
 },
 "nbformat": 4,
 "nbformat_minor": 5
}
