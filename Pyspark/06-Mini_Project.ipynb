{
 "cells": [
  {
   "cell_type": "code",
   "execution_count": 0,
   "metadata": {
    "application/vnd.databricks.v1+cell": {
     "cellMetadata": {
      "byteLimit": 2048000,
      "rowLimit": 10000
     },
     "inputWidgets": {},
     "nuid": "fe819695-bcdd-4b93-a02a-61982d2d3596",
     "showTitle": false,
     "tableResultSettingsMap": {},
     "title": ""
    }
   },
   "outputs": [
    {
     "output_type": "display_data",
     "data": {
      "text/html": [
       "\n",
       "            <div>\n",
       "                <p><b>SparkSession - hive</b></p>\n",
       "                \n",
       "        <div>\n",
       "            <p><b>SparkContext</b></p>\n",
       "\n",
       "            <p><a href=\"/?o=5818115954523666#setting/sparkui/0629-061038-avx1mrcs/driver-399284054361628962\">Spark UI</a></p>\n",
       "\n",
       "            <dl>\n",
       "              <dt>Version</dt>\n",
       "                <dd><code>v3.3.2</code></dd>\n",
       "              <dt>Master</dt>\n",
       "                <dd><code>local[8]</code></dd>\n",
       "              <dt>AppName</dt>\n",
       "                <dd><code>Databricks Shell</code></dd>\n",
       "            </dl>\n",
       "        </div>\n",
       "        \n",
       "            </div>\n",
       "        "
      ]
     },
     "metadata": {
      "application/vnd.databricks.v1+output": {
       "addedWidgets": {},
       "arguments": {},
       "data": "\n            <div>\n                <p><b>SparkSession - hive</b></p>\n                \n        <div>\n            <p><b>SparkContext</b></p>\n\n            <p><a href=\"/?o=5818115954523666#setting/sparkui/0629-061038-avx1mrcs/driver-399284054361628962\">Spark UI</a></p>\n\n            <dl>\n              <dt>Version</dt>\n                <dd><code>v3.3.2</code></dd>\n              <dt>Master</dt>\n                <dd><code>local[8]</code></dd>\n              <dt>AppName</dt>\n                <dd><code>Databricks Shell</code></dd>\n            </dl>\n        </div>\n        \n            </div>\n        ",
       "datasetInfos": [],
       "metadata": {},
       "removedWidgets": [],
       "textData": null,
       "type": "htmlSandbox"
      }
     },
     "output_type": "display_data"
    }
   ],
   "source": [
    "spark\n",
    "# df=spark.range(5)\n",
    "# df.show()"
   ]
  },
  {
   "cell_type": "markdown",
   "metadata": {
    "application/vnd.databricks.v1+cell": {
     "cellMetadata": {
      "byteLimit": 2048000,
      "rowLimit": 10000
     },
     "inputWidgets": {},
     "nuid": "c1cf1895-089f-48ae-8c58-56289328f9b3",
     "showTitle": false,
     "tableResultSettingsMap": {},
     "title": ""
    }
   },
   "source": [
    "Mini Project Data analysis for ecommerce "
   ]
  },
  {
   "cell_type": "code",
   "execution_count": 0,
   "metadata": {
    "application/vnd.databricks.v1+cell": {
     "cellMetadata": {
      "byteLimit": 2048000,
      "rowLimit": 10000
     },
     "inputWidgets": {},
     "nuid": "74cf94b6-3aff-4bf8-a1b7-51a57382aba4",
     "showTitle": false,
     "tableResultSettingsMap": {},
     "title": ""
    }
   },
   "outputs": [
    {
     "output_type": "stream",
     "name": "stdout",
     "output_type": "stream",
     "text": [
      "+-----+---------------+----------+---------+--------------------+-----------------+--------------------+--------------------+--------------------+--------------------+-----------------+--------------------+\n|Index|    Customer Id|First Name|Last Name|             Company|             City|             Country|             Phone 1|             Phone 2|               Email|Subscription Date|             Website|\n+-----+---------------+----------+---------+--------------------+-----------------+--------------------+--------------------+--------------------+--------------------+-----------------+--------------------+\n|    1|DD37Cf93aecA6Dc|    Sheryl|   Baxter|     Rasmussen Group|     East Leonard|               Chile|        229.077.5154|    397.884.0519x718|zunigavanessa@smi...|       2020-08-24|http://www.stephe...|\n|    2|1Ef7b82A4CAAD10|   Preston|   Lozano|         Vega-Gentry|East Jimmychester|            Djibouti|          5153435776|    686-620-1820x944|     vmata@colon.com|       2021-04-23|http://www.hobbs....|\n|    3|6F94879bDAfE5a6|       Roy|    Berry|       Murillo-Perry|    Isabelborough| Antigua and Barbuda|     +1-539-402-0259| (496)978-3969x58947| beckycarr@hogan.com|       2020-03-25|http://www.lawren...|\n|    4|5Cef8BFA16c5e3c|     Linda|    Olsen|Dominguez, Mcmill...|       Bensonview|  Dominican Republic|001-808-617-6467x...|     +1-813-324-8756|stanleyblackwell@...|       2020-06-02|http://www.good-l...|\n|    5|053d585Ab6b3159|    Joanna|   Bender|Martin, Lang and ...|   West Priscilla|Slovakia (Slovak ...|001-234-203-0635x...|001-199-446-3860x...|colinalvarado@mil...|       2021-04-17|https://goodwin-i...|\n+-----+---------------+----------+---------+--------------------+-----------------+--------------------+--------------------+--------------------+--------------------+-----------------+--------------------+\nonly showing top 5 rows\n\n"
     ]
    }
   ],
   "source": [
    "# df=spark.read.csv('dbfs:/FileStore/team_employee/customers_100.csv')\n",
    "# df=spark.read.format('csv').option(\"header\",\"True\").load(\"dbfs:/FileStore/team_employee/customers_100.csv\")\n",
    "df=spark.read.format('csv').option(\"header\",\"True\").option('Inferschema','true').load(\"dbfs:/FileStore/team_employee/customers_100.csv\")\n",
    "\n",
    "\n",
    "df.show(5)"
   ]
  },
  {
   "cell_type": "code",
   "execution_count": 0,
   "metadata": {
    "application/vnd.databricks.v1+cell": {
     "cellMetadata": {
      "byteLimit": 2048000,
      "rowLimit": 10000
     },
     "inputWidgets": {},
     "nuid": "f3c2f79c-fb22-45fd-8327-596b45ccbff5",
     "showTitle": false,
     "tableResultSettingsMap": {},
     "title": ""
    }
   },
   "outputs": [
    {
     "output_type": "stream",
     "name": "stdout",
     "output_type": "stream",
     "text": [
      "root\n |-- Index: integer (nullable = true)\n |-- Customer Id: string (nullable = true)\n |-- First Name: string (nullable = true)\n |-- Last Name: string (nullable = true)\n |-- Company: string (nullable = true)\n |-- City: string (nullable = true)\n |-- Country: string (nullable = true)\n |-- Phone 1: string (nullable = true)\n |-- Phone 2: string (nullable = true)\n |-- Email: string (nullable = true)\n |-- Subscription Date: date (nullable = true)\n |-- Website: string (nullable = true)\n\n"
     ]
    }
   ],
   "source": [
    "df.printSchema()"
   ]
  },
  {
   "cell_type": "code",
   "execution_count": 0,
   "metadata": {
    "application/vnd.databricks.v1+cell": {
     "cellMetadata": {
      "byteLimit": 2048000,
      "rowLimit": 10000
     },
     "inputWidgets": {},
     "nuid": "52d18712-4040-4af4-b790-be37f3641195",
     "showTitle": false,
     "tableResultSettingsMap": {},
     "title": ""
    }
   },
   "outputs": [
    {
     "output_type": "stream",
     "name": "stdout",
     "output_type": "stream",
     "text": [
      "+--------------------+\n|count(DISTINCT city)|\n+--------------------+\n|                 100|\n+--------------------+\n\n"
     ]
    }
   ],
   "source": [
    "# Count distinct city\n",
    "from pyspark.sql.functions import *\n",
    "dist_city=df.select('city').distinct()\n",
    "dist_city_count=df.select(countDistinct('city'))\n",
    "dist_city_count.show()\n"
   ]
  },
  {
   "cell_type": "markdown",
   "metadata": {
    "application/vnd.databricks.v1+cell": {
     "cellMetadata": {
      "byteLimit": 2048000,
      "rowLimit": 10000
     },
     "inputWidgets": {},
     "nuid": "0f94a949-9525-4fba-ace2-e265c4fb52f1",
     "showTitle": false,
     "tableResultSettingsMap": {},
     "title": ""
    }
   },
   "source": [
    "\n",
    "\n",
    "\n",
    "| Function Name      | Context                | Description                                                          |\n",
    "| ------------------ | ---------------------- | -------------------------------------------------------------------- |\n",
    "| `countDistinct()`  | **Python / Scala API** | A **function** from `pyspark.sql.functions` used in **PySpark code** |\n",
    "| `count_distinct()` | **SQL syntax**         | A **SQL aggregate function** used in **Spark SQL queries**           |\n"
   ]
  },
  {
   "cell_type": "code",
   "execution_count": 0,
   "metadata": {
    "application/vnd.databricks.v1+cell": {
     "cellMetadata": {
      "byteLimit": 2048000,
      "rowLimit": 10000
     },
     "inputWidgets": {},
     "nuid": "f0f80b89-9860-4e21-b3b4-f1738df82a1e",
     "showTitle": false,
     "tableResultSettingsMap": {},
     "title": ""
    }
   },
   "outputs": [
    {
     "output_type": "stream",
     "name": "stdout",
     "output_type": "stream",
     "text": [
      "+-----+---------------+----------+---------+--------------+---------+---------+------------------+------------+--------------------+-----------------+--------------------+\n|Index|    Customer Id|First Name|Last Name|       Company|     City|  Country|           Phone 1|     Phone 2|               Email|Subscription Date|             Website|\n+-----+---------------+----------+---------+--------------+---------+---------+------------------+------------+--------------------+-----------------+--------------------+\n|   15|6fEaA1b7cab7B6C|     Faith|     Lutz|Carter-Hancock|Burchbury|Singapore|(781)861-7180x8306|207-185-3665|cassieparrish@ble...|       2022-01-26|http://stevenson....|\n+-----+---------------+----------+---------+--------------+---------+---------+------------------+------------+--------------------+-----------------+--------------------+\n\n"
     ]
    }
   ],
   "source": [
    "# find customer from singapore\n",
    "sing_cust= df.filter(col('country')=='Singapore')\n",
    "sing_cust.show()"
   ]
  },
  {
   "cell_type": "code",
   "execution_count": 0,
   "metadata": {
    "application/vnd.databricks.v1+cell": {
     "cellMetadata": {
      "byteLimit": 2048000,
      "rowLimit": 10000
     },
     "inputWidgets": {},
     "nuid": "4b938589-45f1-42ef-91a3-3dccb21d7582",
     "showTitle": false,
     "tableResultSettingsMap": {},
     "title": ""
    }
   },
   "outputs": [
    {
     "output_type": "stream",
     "name": "stdout",
     "output_type": "stream",
     "text": [
      "+---+-----+\n| id| name|\n+---+-----+\n|  1|  ram|\n|  2|shyam|\n|  3|Mohan|\n|  4| null|\n+---+-----+\n\nroot\n |-- id: long (nullable = true)\n |-- name: string (nullable = true)\n\n"
     ]
    }
   ],
   "source": [
    "sample_data=[(1,'ram'),(2,'shyam'),(3,'Mohan'),(4,None)]\n",
    "dfd=spark.createDataFrame(data=sample_data,schema=['id','name'])\n",
    "dfd.show()\n",
    "dfd.printSchema()\n"
   ]
  },
  {
   "cell_type": "code",
   "execution_count": 0,
   "metadata": {
    "application/vnd.databricks.v1+cell": {
     "cellMetadata": {
      "byteLimit": 2048000,
      "rowLimit": 10000
     },
     "inputWidgets": {},
     "nuid": "5fc36ea9-ef55-4551-b115-68401e5836d4",
     "showTitle": false,
     "tableResultSettingsMap": {},
     "title": ""
    }
   },
   "outputs": [
    {
     "output_type": "stream",
     "name": "stdout",
     "output_type": "stream",
     "text": [
      "+---+-------------+\n| id|         name|\n+---+-------------+\n|  1|          ram|\n|  2|        shyam|\n|  3|        Mohan|\n|  4|Not available|\n+---+-------------+\n\n"
     ]
    }
   ],
   "source": [
    "dfd.fillna({'name':'Not available'}).show()"
   ]
  },
  {
   "cell_type": "code",
   "execution_count": 0,
   "metadata": {
    "application/vnd.databricks.v1+cell": {
     "cellMetadata": {
      "byteLimit": 2048000,
      "rowLimit": 10000
     },
     "inputWidgets": {},
     "nuid": "f382bd0b-b16f-445d-a366-d8241376deab",
     "showTitle": false,
     "tableResultSettingsMap": {},
     "title": ""
    }
   },
   "outputs": [
    {
     "output_type": "stream",
     "name": "stdout",
     "output_type": "stream",
     "text": [
      "root\n |-- Index: integer (nullable = true)\n |-- Customer Id: string (nullable = true)\n |-- First Name: string (nullable = true)\n |-- Last Name: string (nullable = true)\n |-- Company: string (nullable = true)\n |-- City: string (nullable = true)\n |-- Country: string (nullable = true)\n |-- Phone 1: string (nullable = true)\n |-- Phone 2: string (nullable = true)\n |-- Email: string (nullable = true)\n |-- Subscription Date: date (nullable = true)\n |-- Website: string (nullable = true)\n\n+-----------------+-----------------+------------------+\n|Subscription Date|Subscription_Year|Subscription_Month|\n+-----------------+-----------------+------------------+\n|       2020-08-24|             2020|                 8|\n|       2021-04-23|             2021|                 4|\n|       2020-03-25|             2020|                 3|\n|       2020-06-02|             2020|                 6|\n|       2021-04-17|             2021|                 4|\n+-----------------+-----------------+------------------+\nonly showing top 5 rows\n\n"
     ]
    }
   ],
   "source": [
    "# df.show(10)\n",
    "df.printSchema()\n",
    "df_year_month=df.withColumn('Subscription_Year',year(col('Subscription Date')))\\\n",
    "    .withColumn('Subscription_Month',month(col('Subscription Date')))\n",
    "\n",
    "df_year_month.select('Subscription Date','Subscription_Year','Subscription_Month').show(5)"
   ]
  },
  {
   "cell_type": "code",
   "execution_count": 0,
   "metadata": {
    "application/vnd.databricks.v1+cell": {
     "cellMetadata": {
      "byteLimit": 2048000,
      "rowLimit": 10000
     },
     "inputWidgets": {},
     "nuid": "02d2c00b-f32f-4ee8-b1ec-49ab94caec8e",
     "showTitle": false,
     "tableResultSettingsMap": {},
     "title": ""
    }
   },
   "outputs": [
    {
     "output_type": "display_data",
     "data": {
      "text/html": [
       "\n",
       "            <div>\n",
       "                <p><b>SparkSession - hive</b></p>\n",
       "                \n",
       "        <div>\n",
       "            <p><b>SparkContext</b></p>\n",
       "\n",
       "            <p><a href=\"/?o=5818115954523666#setting/sparkui/0629-061038-avx1mrcs/driver-399284054361628962\">Spark UI</a></p>\n",
       "\n",
       "            <dl>\n",
       "              <dt>Version</dt>\n",
       "                <dd><code>v3.3.2</code></dd>\n",
       "              <dt>Master</dt>\n",
       "                <dd><code>local[8]</code></dd>\n",
       "              <dt>AppName</dt>\n",
       "                <dd><code>Databricks Shell</code></dd>\n",
       "            </dl>\n",
       "        </div>\n",
       "        \n",
       "            </div>\n",
       "        "
      ]
     },
     "metadata": {
      "application/vnd.databricks.v1+output": {
       "addedWidgets": {},
       "arguments": {},
       "data": "\n            <div>\n                <p><b>SparkSession - hive</b></p>\n                \n        <div>\n            <p><b>SparkContext</b></p>\n\n            <p><a href=\"/?o=5818115954523666#setting/sparkui/0629-061038-avx1mrcs/driver-399284054361628962\">Spark UI</a></p>\n\n            <dl>\n              <dt>Version</dt>\n                <dd><code>v3.3.2</code></dd>\n              <dt>Master</dt>\n                <dd><code>local[8]</code></dd>\n              <dt>AppName</dt>\n                <dd><code>Databricks Shell</code></dd>\n            </dl>\n        </div>\n        \n            </div>\n        ",
       "datasetInfos": [],
       "metadata": {},
       "removedWidgets": [],
       "textData": null,
       "type": "htmlSandbox"
      }
     },
     "output_type": "display_data"
    }
   ],
   "source": [
    "spark"
   ]
  },
  {
   "cell_type": "code",
   "execution_count": 0,
   "metadata": {
    "application/vnd.databricks.v1+cell": {
     "cellMetadata": {
      "byteLimit": 2048000,
      "rowLimit": 10000
     },
     "inputWidgets": {},
     "nuid": "7f0ccbc0-1bd2-4973-ae21-5f5d9de5f227",
     "showTitle": false,
     "tableResultSettingsMap": {},
     "title": ""
    }
   },
   "outputs": [
    {
     "output_type": "stream",
     "name": "stdout",
     "output_type": "stream",
     "text": [
      "+-----+---------------+----------+---------+--------------------+-----------------+--------------------+--------------------+--------------------+--------------------+-----------------+--------------------+\n|Index|    Customer Id|First Name|Last Name|             Company|             City|             Country|             Phone 1|             Phone 2|               Email|Subscription Date|             Website|\n+-----+---------------+----------+---------+--------------------+-----------------+--------------------+--------------------+--------------------+--------------------+-----------------+--------------------+\n|    1|DD37Cf93aecA6Dc|    Sheryl|   Baxter|     Rasmussen Group|     East Leonard|               Chile|        229.077.5154|    397.884.0519x718|zunigavanessa@smi...|       2020-08-24|http://www.stephe...|\n|    2|1Ef7b82A4CAAD10|   Preston|   Lozano|         Vega-Gentry|East Jimmychester|            Djibouti|          5153435776|    686-620-1820x944|     vmata@colon.com|       2021-04-23|http://www.hobbs....|\n|    3|6F94879bDAfE5a6|       Roy|    Berry|       Murillo-Perry|    Isabelborough| Antigua and Barbuda|     +1-539-402-0259| (496)978-3969x58947| beckycarr@hogan.com|       2020-03-25|http://www.lawren...|\n|    4|5Cef8BFA16c5e3c|     Linda|    Olsen|Dominguez, Mcmill...|       Bensonview|  Dominican Republic|001-808-617-6467x...|     +1-813-324-8756|stanleyblackwell@...|       2020-06-02|http://www.good-l...|\n|    5|053d585Ab6b3159|    Joanna|   Bender|Martin, Lang and ...|   West Priscilla|Slovakia (Slovak ...|001-234-203-0635x...|001-199-446-3860x...|colinalvarado@mil...|       2021-04-17|https://goodwin-i...|\n|    6|2d08FB17EE273F4|     Aimee|    Downs|        Steele Group|    Chavezborough|Bosnia and Herzeg...| (283)437-3886x88321|        999-728-1637| louis27@gilbert.com|       2020-02-25|http://www.berger...|\n|    7|EA4d384DfDbBf77|    Darren|     Peck|Lester, Woodard a...|         Lake Ana|    Pitcairn Islands|  (496)452-6181x3291|+1-247-266-0963x4995| tgates@cantrell.com|       2021-08-24| https://www.le.com/|\n|    8|0e04AFde9f225dE|     Brett|   Mullen|Sanford, Davenpor...|          Kimport|            Bulgaria|001-583-352-7197x297|    001-333-145-0369|     asnow@colon.com|       2021-04-12|https://hammond-r...|\n|    9|C2dE4dEEc489ae0|    Sheryl|   Meyers|      Browning-Simon|     Robersonstad|              Cyprus|   854-138-4911x5772| +1-448-910-2276x729|mariokhan@ryan-po...|       2020-01-13|https://www.bullo...|\n|   10|8C2811a503C7c5a|  Michelle|Gallagher|        Beck-Hendrix|       Elaineberg|         Timor-Leste|    739.218.2516x459|001-054-401-0347x617|   mdyer@escobar.net|       2021-11-08|  https://arias.com/|\n|   11|216E205d6eBb815|      Carl|Schroeder|Oconnell, Meza an...|     Shannonville|            Guernsey|    637-854-0256x825|    114.336.0784x788|  kirksalas@webb.com|       2021-10-20|https://simmons-h...|\n|   12|CEDec94deE6d69B|     Jenna|   Dodson|Hoffman, Reed and...|      East Andrea|             Vietnam|       (041)737-3846|+1-556-888-3485x4...|  mark42@robbins.com|       2020-11-29|http://www.dougla...|\n|   13|e35426EbDEceaFF|    Tracey|     Mata|      Graham-Francis|South Joannamouth|                Togo|    001-949-844-8787|       (855)713-8773|    alex56@walls.org|       2021-12-02|http://www.beck.com/|\n|   14|A08A8aF8BE9FaD4|  Kristine|      Cox|      Carpenter-Cook|         Jodyberg|           Sri Lanka|  786-284-3358x62152|+1-315-627-1796x8074|holdenmiranda@cla...|       2021-02-08|https://www.brand...|\n|   15|6fEaA1b7cab7B6C|     Faith|     Lutz|      Carter-Hancock|        Burchbury|           Singapore|  (781)861-7180x8306|        207-185-3665|cassieparrish@ble...|       2022-01-26|http://stevenson....|\n|   16|8cad0b4CBceaeec|   Miranda|  Beasley|  Singleton and Sons|     Desireeshire|                Oman|    540.085.3135x185|+1-600-462-6432x2...|vduncan@parks-har...|       2022-04-12|  http://acosta.org/|\n|   17|a5DC21AE3a21eaA|  Caroline|    Foley|     Winters-Mendoza|West Adriennestad|      Western Sahara|   936.222.4746x9924|001-469-948-6341x359|holtgwendolyn@wat...|       2021-03-10|http://www.benson...|\n|   18|F8Aa9d6DfcBeeF8|      Greg|     Mata|       Valentine LLC|      Lake Leslie|          Mozambique|       (701)087-2415| (195)156-1861x26241|jaredjuarez@carro...|       2022-03-26|http://pitts-cher...|\n|   19|F160f5Db3EfE973|  Clifford| Jacobson|           Simon LLC|       Harmonview|South Georgia and...|001-151-330-3524x...|       (748)477-7174|joseph26@jacobson...|       2020-09-24|https://mcconnell...|\n|   20|0F60FF3DdCd7aB0|    Joanna|     Kirk|      Mays-Mccormick|       Jamesshire|    French Polynesia|   (266)131-7001x711| (283)312-5579x11543|tuckerangie@salaz...|       2021-09-24|https://www.camac...|\n+-----+---------------+----------+---------+--------------------+-----------------+--------------------+--------------------+--------------------+--------------------+-----------------+--------------------+\nonly showing top 20 rows\n\n"
     ]
    }
   ],
   "source": [
    "df.show()"
   ]
  },
  {
   "cell_type": "code",
   "execution_count": 0,
   "metadata": {
    "application/vnd.databricks.v1+cell": {
     "cellMetadata": {
      "byteLimit": 2048000,
      "rowLimit": 10000
     },
     "inputWidgets": {},
     "nuid": "828dddae-8b2c-434f-a470-8791b53c141b",
     "showTitle": false,
     "tableResultSettingsMap": {},
     "title": ""
    }
   },
   "outputs": [
    {
     "output_type": "stream",
     "name": "stdout",
     "output_type": "stream",
     "text": [
      "+-----+---------------+----------+---------+--------------------+-----------------+--------------------+--------------------+--------------------+--------------------+-----------------+--------------------+\n|Index|    Customer Id|First Name|Last Name|             Company|             City|             Country|             Phone 1|             Phone 2|               Email|Subscription Date|             Website|\n+-----+---------------+----------+---------+--------------------+-----------------+--------------------+--------------------+--------------------+--------------------+-----------------+--------------------+\n|    1|DD37Cf93aecA6Dc|    Sheryl|   Baxter|     Rasmussen Group|     East Leonard|               Chile|        229.077.5154|    397.884.0519x718|zunigavanessa@smi...|       2020-08-24|http://www.stephe...|\n|    2|1Ef7b82A4CAAD10|   Preston|   Lozano|         Vega-Gentry|East Jimmychester|            Djibouti|          5153435776|    686-620-1820x944|     vmata@colon.com|       2021-04-23|http://www.hobbs....|\n|    3|6F94879bDAfE5a6|       Roy|    Berry|       Murillo-Perry|    Isabelborough| Antigua and Barbuda|     +1-539-402-0259| (496)978-3969x58947| beckycarr@hogan.com|       2020-03-25|http://www.lawren...|\n|    4|5Cef8BFA16c5e3c|     Linda|    Olsen|Dominguez, Mcmill...|       Bensonview|  Dominican Republic|001-808-617-6467x...|     +1-813-324-8756|stanleyblackwell@...|       2020-06-02|http://www.good-l...|\n|    5|053d585Ab6b3159|    Joanna|   Bender|Martin, Lang and ...|   West Priscilla|Slovakia (Slovak ...|001-234-203-0635x...|001-199-446-3860x...|colinalvarado@mil...|       2021-04-17|https://goodwin-i...|\n|    6|2d08FB17EE273F4|     Aimee|    Downs|        Steele Group|    Chavezborough|Bosnia and Herzeg...| (283)437-3886x88321|        999-728-1637| louis27@gilbert.com|       2020-02-25|http://www.berger...|\n|    7|EA4d384DfDbBf77|    Darren|     Peck|Lester, Woodard a...|         Lake Ana|    Pitcairn Islands|  (496)452-6181x3291|+1-247-266-0963x4995| tgates@cantrell.com|       2021-08-24| https://www.le.com/|\n|    8|0e04AFde9f225dE|     Brett|   Mullen|Sanford, Davenpor...|          Kimport|            Bulgaria|001-583-352-7197x297|    001-333-145-0369|     asnow@colon.com|       2021-04-12|https://hammond-r...|\n|    9|C2dE4dEEc489ae0|    Sheryl|   Meyers|      Browning-Simon|     Robersonstad|              Cyprus|   854-138-4911x5772| +1-448-910-2276x729|mariokhan@ryan-po...|       2020-01-13|https://www.bullo...|\n|   10|8C2811a503C7c5a|  Michelle|Gallagher|        Beck-Hendrix|       Elaineberg|         Timor-Leste|    739.218.2516x459|001-054-401-0347x617|   mdyer@escobar.net|       2021-11-08|  https://arias.com/|\n|   11|216E205d6eBb815|      Carl|Schroeder|Oconnell, Meza an...|     Shannonville|            Guernsey|    637-854-0256x825|    114.336.0784x788|  kirksalas@webb.com|       2021-10-20|https://simmons-h...|\n|   12|CEDec94deE6d69B|     Jenna|   Dodson|Hoffman, Reed and...|      East Andrea|             Vietnam|       (041)737-3846|+1-556-888-3485x4...|  mark42@robbins.com|       2020-11-29|http://www.dougla...|\n|   13|e35426EbDEceaFF|    Tracey|     Mata|      Graham-Francis|South Joannamouth|                Togo|    001-949-844-8787|       (855)713-8773|    alex56@walls.org|       2021-12-02|http://www.beck.com/|\n|   14|A08A8aF8BE9FaD4|  Kristine|      Cox|      Carpenter-Cook|         Jodyberg|           Sri Lanka|  786-284-3358x62152|+1-315-627-1796x8074|holdenmiranda@cla...|       2021-02-08|https://www.brand...|\n|   15|6fEaA1b7cab7B6C|     Faith|     Lutz|      Carter-Hancock|        Burchbury|           Singapore|  (781)861-7180x8306|        207-185-3665|cassieparrish@ble...|       2022-01-26|http://stevenson....|\n|   16|8cad0b4CBceaeec|   Miranda|  Beasley|  Singleton and Sons|     Desireeshire|                Oman|    540.085.3135x185|+1-600-462-6432x2...|vduncan@parks-har...|       2022-04-12|  http://acosta.org/|\n|   17|a5DC21AE3a21eaA|  Caroline|    Foley|     Winters-Mendoza|West Adriennestad|      Western Sahara|   936.222.4746x9924|001-469-948-6341x359|holtgwendolyn@wat...|       2021-03-10|http://www.benson...|\n|   18|F8Aa9d6DfcBeeF8|      Greg|     Mata|       Valentine LLC|      Lake Leslie|          Mozambique|       (701)087-2415| (195)156-1861x26241|jaredjuarez@carro...|       2022-03-26|http://pitts-cher...|\n|   19|F160f5Db3EfE973|  Clifford| Jacobson|           Simon LLC|       Harmonview|South Georgia and...|001-151-330-3524x...|       (748)477-7174|joseph26@jacobson...|       2020-09-24|https://mcconnell...|\n|   20|0F60FF3DdCd7aB0|    Joanna|     Kirk|      Mays-Mccormick|       Jamesshire|    French Polynesia|   (266)131-7001x711| (283)312-5579x11543|tuckerangie@salaz...|       2021-09-24|https://www.camac...|\n+-----+---------------+----------+---------+--------------------+-----------------+--------------------+--------------------+--------------------+--------------------+-----------------+--------------------+\nonly showing top 20 rows\n\n"
     ]
    }
   ],
   "source": [
    "#count customer by city\n",
    "df.show()"
   ]
  },
  {
   "cell_type": "code",
   "execution_count": 0,
   "metadata": {
    "application/vnd.databricks.v1+cell": {
     "cellMetadata": {
      "byteLimit": 2048000,
      "rowLimit": 10000
     },
     "inputWidgets": {},
     "nuid": "f90136dd-e7ac-4f6b-a3bf-d0bb6d95a9cf",
     "showTitle": false,
     "tableResultSettingsMap": {},
     "title": ""
    }
   },
   "outputs": [
    {
     "output_type": "stream",
     "name": "stdout",
     "output_type": "stream",
     "text": [
      "+------------------+-----+\n|              city|count|\n+------------------+-----+\n|         Burchbury|    1|\n|         Huangfort|    1|\n|     Zimmermanland|    1|\n|        Selenabury|    1|\n|         Coreybury|    1|\n|         Judymouth|    1|\n|    North Kerriton|    1|\n|        Thomasfurt|    1|\n| North Jillianview|    1|\n|        North Drew|    1|\n|      Robersonstad|    1|\n|      East Leonard|    1|\n|        Jamesshire|    1|\n|     Isabelborough|    1|\n|Lake Sherryborough|    1|\n|       Skinnerport|    1|\n|       East Andrea|    1|\n|    East Jaredbury|    1|\n| North Eileenville|    1|\n| South Joshuashire|    1|\n+------------------+-----+\nonly showing top 20 rows\n\n"
     ]
    }
   ],
   "source": [
    "df.groupBy('city').count().orderBy('count',descending=True).show()\n",
    "# df.groupBy(\"city\") \\\n",
    "#   .count() \\\n",
    "#   .orderBy(\"count\", descending=True) \\\n",
    "#   .show(100)\n"
   ]
  },
  {
   "cell_type": "code",
   "execution_count": 0,
   "metadata": {
    "application/vnd.databricks.v1+cell": {
     "cellMetadata": {
      "byteLimit": 2048000,
      "rowLimit": 10000
     },
     "inputWidgets": {},
     "nuid": "78ac8cee-eeef-4d8a-a4e6-e70ca9d00175",
     "showTitle": false,
     "tableResultSettingsMap": {},
     "title": ""
    }
   },
   "outputs": [
    {
     "output_type": "stream",
     "name": "stdout",
     "output_type": "stream",
     "text": [
      "+-----+---------------+----------+----------+--------------------+-----------------+--------------------+--------------------+--------------------+--------------------+-----------------+--------------------+\n|Index|    Customer Id|First Name| Last Name|             Company|             City|             Country|             Phone 1|             Phone 2|               Email|Subscription Date|             Website|\n+-----+---------------+----------+----------+--------------------+-----------------+--------------------+--------------------+--------------------+--------------------+-----------------+--------------------+\n|   15|6fEaA1b7cab7B6C|     Faith|      Lutz|      Carter-Hancock|        Burchbury|           Singapore|  (781)861-7180x8306|        207-185-3665|cassieparrish@ble...|       2022-01-26|http://stevenson....|\n|   16|8cad0b4CBceaeec|   Miranda|   Beasley|  Singleton and Sons|     Desireeshire|                Oman|    540.085.3135x185|+1-600-462-6432x2...|vduncan@parks-har...|       2022-04-12|  http://acosta.org/|\n|   18|F8Aa9d6DfcBeeF8|      Greg|      Mata|       Valentine LLC|      Lake Leslie|          Mozambique|       (701)087-2415| (195)156-1861x26241|jaredjuarez@carro...|       2022-03-26|http://pitts-cher...|\n|   21|9F9AdB7B8A6f7F2|   Maxwell|      Frye|       Patterson Inc|       East Carly|               Malta|        423.262.3059|   202-880-0688x7491|fgibson@drake-web...|       2022-01-12|http://www.robert...|\n|   26|09D7D7C8Fe09aea|    Marcus|     Moody|           Giles Ltd|      Kaitlyntown|              Panama|        674-677-8623|    909-277-5485x566|donnamullins@norr...|       2022-05-24|https://www.curry...|\n|   27|aBdfcF2c50b0bfD|    Dakota|     Poole|       Simmons Group|     Michealshire|             Belarus|  (371)987-8576x4720|        071-152-1376| stacey67@fields.org|       2022-02-20|https://sanford-w...|\n|   28|b92EBfdF8a3f0E6| Frederick|    Harper|Hinton, Chaney an...|South Marissatown|         Switzerland|+1-077-121-1558x0687|        264.742.7149|jacobkhan@bright.biz|       2022-05-26|https://callahan....|\n|   32|679c6c83DD872d6|       Tom|  Trujillo|         Mcgee Group|Cunninghamborough|             Denmark|        416-338-3758|       (775)890-7209|tapiagreg@beard.info|       2022-01-13|http://www.daniel...|\n|   36|E11dfb2DB8C9f72|    Tammie|     Haley|Palmer, Barnes an...|      East Teresa|              Belize|001-276-734-4113x...|       (430)300-8770|harrisisaiah@jenk...|       2022-01-04|http://evans-simo...|\n|   44|D3fC11A9C235Dc6|      Luis|     Greer|           Cross PLC|       North Drew|            Bulgaria|001-336-025-6849x701|   684.698.2911x6092|bstuart@williamso...|       2022-05-15|https://fletcher-...|\n|   48|283DFCD0Dba40aF|    Gloria|    Mccall|Brennan, Acosta a...|   North Kerriton|               Ghana|        445-603-6729|001-395-959-4736x...|bartlettjenna@zun...|       2022-03-11|http://burgess-fr...|\n|   49|F4Fc91fEAEad286|     Brady|     Cohen|    Osborne-Erickson|North Eileenville|United Arab Emirates|    741.849.0139x524|+1-028-691-7497x0894|mccalltyrone@durh...|       2022-03-10|http://hammond-ba...|\n|   55|f3BEf3Be028166f|     Robin|      West|Nixon, Blackwell ...|        Wallstown|             Ecuador|        698.303.4267|001-683-837-7651x525|greenemiranda@zim...|       2022-01-13|https://www.mora....|\n|   63|aEcbe5365BbC67D|     Eddie|   Jimenez|      Caldwell Group|    West Kristine|            Ethiopia|+1-235-657-1073x6306|  (026)401-7353x2417|kristiwhitney@ber...|       2022-03-24|  http://cherry.com/|\n|   64|FCBdfCEAe20A8Dc|     Chloe|Hutchinson|           Simon LLC|      South Julia|         Netherlands|        981-544-9452| +1-288-552-4666x060|leah85@sutton-ter...|       2022-05-15|https://mitchell....|\n|   75|D01Af0AF7cBbFeA|    Regina|     Stein|        Guzman-Brown|          Raystad|     Solomon Islands|001-469-848-0724x...|001-085-360-4426x...|zrosario@rojas-ha...|       2022-01-15|http://www.johnst...|\n|   86|C6763c99d0bd16D|      Emma|Cunningham|        Stephens Inc|North Jillianview|         New Zealand|  128-059-0206x60217|  (312)164-4545x2284| walter83@juarez.org|       2022-05-13|http://www.reid.i...|\n|   95|BE91A0bdcA49Bbc|   Darrell|   Douglas|Newton, Petersen ...|     Daisyborough|                Mali|001-084-845-9524x...|    001-769-564-6303|grayjean@lowery-g...|       2022-02-17|  https://banks.biz/|\n|   96|cb8E23e48d22Eae|      Karl|     Greer|           Carey LLC|     East Richard|              Guyana| (188)169-1674x58692|001-841-293-3519x614|    hhart@jensen.com|       2022-01-30|http://hayes-pere...|\n+-----+---------------+----------+----------+--------------------+-----------------+--------------------+--------------------+--------------------+--------------------+-----------------+--------------------+\n\n"
     ]
    }
   ],
   "source": [
    "# customer who has subscribed after 2021\n",
    "# df2=df.withColumn('Subscription_year',year('Subscription Date'))\n",
    "# df2.filter(\"Subscription_year>2021\").show()\n",
    "\n",
    "# other way to acheive the same\n",
    "\n",
    "df.filter(year('Subscription Date')>2021).show()"
   ]
  },
  {
   "cell_type": "code",
   "execution_count": 0,
   "metadata": {
    "application/vnd.databricks.v1+cell": {
     "cellMetadata": {
      "byteLimit": 2048000,
      "rowLimit": 10000
     },
     "inputWidgets": {},
     "nuid": "b695ead1-e672-423e-a71f-a3896fbf8dce",
     "showTitle": false,
     "tableResultSettingsMap": {},
     "title": ""
    }
   },
   "outputs": [
    {
     "output_type": "stream",
     "name": "stdout",
     "output_type": "stream",
     "text": [
      "+-----+---------------+----------+---------+-------------+----------+-------+------------+-----------------+--------------------+-----------------+--------------------+\n|Index|    Customer Id|First Name|Last Name|      Company|      City|Country|     Phone 1|          Phone 2|               Email|Subscription Date|             Website|\n+-----+---------------+----------+---------+-------------+----------+-------+------------+-----------------+--------------------+-----------------+--------------------+\n|   21|9F9AdB7B8A6f7F2|   Maxwell|     Frye|Patterson Inc|East Carly|  Malta|423.262.3059|202-880-0688x7491|fgibson@drake-web...|       2022-01-12|http://www.robert...|\n+-----+---------------+----------+---------+-------------+----------+-------+------------+-----------------+--------------------+-----------------+--------------------+\n\n"
     ]
    }
   ],
   "source": [
    "df.filter(col('city')=='East Carly').show()"
   ]
  },
  {
   "cell_type": "code",
   "execution_count": 0,
   "metadata": {
    "application/vnd.databricks.v1+cell": {
     "cellMetadata": {},
     "inputWidgets": {},
     "nuid": "c8175a74-75a7-4057-abed-0b8a28833f31",
     "showTitle": false,
     "tableResultSettingsMap": {},
     "title": ""
    }
   },
   "outputs": [],
   "source": []
  }
 ],
 "metadata": {
  "application/vnd.databricks.v1+notebook": {
   "computePreferences": null,
   "dashboards": [],
   "environmentMetadata": {
    "base_environment": "",
    "environment_version": "1"
   },
   "inputWidgetPreferences": null,
   "language": "python",
   "notebookMetadata": {
    "pythonIndentUnit": 4
   },
   "notebookName": "06-Mini_Project",
   "widgets": {}
  }
 },
 "nbformat": 4,
 "nbformat_minor": 0
}