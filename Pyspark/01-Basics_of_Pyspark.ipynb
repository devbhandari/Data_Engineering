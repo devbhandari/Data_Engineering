{
 "cells": [
  {
   "cell_type": "markdown",
   "metadata": {
    "application/vnd.databricks.v1+cell": {
     "cellMetadata": {},
     "inputWidgets": {},
     "nuid": "71eba239-897f-45ec-819e-9bd7a7aff289",
     "showTitle": false,
     "tableResultSettingsMap": {},
     "title": ""
    }
   },
   "source": [
    "## This is first class to learn pyspark\n",
    "##### 1. learn about basics of pyspark\n",
    "##### 2. Magic command to use different interpretor like python and scala in same notebook"
   ]
  },
  {
   "cell_type": "code",
   "execution_count": 0,
   "metadata": {
    "application/vnd.databricks.v1+cell": {
     "cellMetadata": {
      "byteLimit": 2048000,
      "rowLimit": 10000
     },
     "inputWidgets": {},
     "nuid": "d9d6c9ef-964f-4fa3-bb3e-8ca5d9ebe002",
     "showTitle": false,
     "tableResultSettingsMap": {},
     "title": ""
    }
   },
   "outputs": [
    {
     "output_type": "stream",
     "name": "stdout",
     "output_type": "stream",
     "text": [
      "Hi Python\nHi Pyspark\n"
     ]
    }
   ],
   "source": [
    "# Run python command\n",
    "print(\"Hi Python\")\n",
    "print('Hi Pyspark')"
   ]
  },
  {
   "cell_type": "code",
   "execution_count": 0,
   "metadata": {
    "application/vnd.databricks.v1+cell": {
     "cellMetadata": {
      "byteLimit": 2048000,
      "implicitDf": true,
      "rowLimit": 10000
     },
     "inputWidgets": {},
     "nuid": "a594db6a-002a-4bf8-a949-c3c609656950",
     "showTitle": false,
     "tableResultSettingsMap": {},
     "title": ""
    }
   },
   "outputs": [
    {
     "output_type": "display_data",
     "data": {
      "text/html": [
       "<style scoped>\n",
       "  .table-result-container {\n",
       "    max-height: 300px;\n",
       "    overflow: auto;\n",
       "  }\n",
       "  table, th, td {\n",
       "    border: 1px solid black;\n",
       "    border-collapse: collapse;\n",
       "  }\n",
       "  th, td {\n",
       "    padding: 5px;\n",
       "  }\n",
       "  th {\n",
       "    text-align: left;\n",
       "  }\n",
       "</style><div class='table-result-container'><table class='table-result'><thead style='background-color: white'><tr><th>hi sql</th></tr></thead><tbody><tr><td>hi sql</td></tr></tbody></table></div>"
      ]
     },
     "metadata": {
      "application/vnd.databricks.v1+output": {
       "addedWidgets": {},
       "aggData": [],
       "aggError": "",
       "aggOverflow": false,
       "aggSchema": [],
       "aggSeriesLimitReached": false,
       "aggType": "",
       "arguments": {},
       "columnCustomDisplayInfos": {},
       "data": [
        [
         "hi sql"
        ]
       ],
       "datasetInfos": [],
       "dbfsResultPath": null,
       "isJsonSchema": true,
       "metadata": {},
       "overflow": false,
       "plotOptions": {
        "customPlotOptions": {},
        "displayType": "table",
        "pivotAggregation": null,
        "pivotColumns": null,
        "xColumns": null,
        "yColumns": null
       },
       "removedWidgets": [],
       "schema": [
        {
         "metadata": "{}",
         "name": "hi sql",
         "type": "\"string\""
        }
       ],
       "type": "table"
      }
     },
     "output_type": "display_data"
    }
   ],
   "source": [
    "%sql\n",
    "select \"hi sql\""
   ]
  },
  {
   "cell_type": "code",
   "execution_count": 0,
   "metadata": {
    "application/vnd.databricks.v1+cell": {
     "cellMetadata": {
      "byteLimit": 2048000,
      "rowLimit": 10000
     },
     "inputWidgets": {},
     "nuid": "543a223c-1fe1-48ee-8277-03db5a720e1c",
     "showTitle": false,
     "tableResultSettingsMap": {},
     "title": ""
    }
   },
   "outputs": [
    {
     "output_type": "display_data",
     "data": {
      "text/html": [
       "<style scoped>\n",
       "  .ansiout {\n",
       "    display: block;\n",
       "    unicode-bidi: embed;\n",
       "    white-space: pre-wrap;\n",
       "    word-wrap: break-word;\n",
       "    word-break: break-all;\n",
       "    font-family: \"Menlo\", \"Monaco\", \"Consolas\", \"Ubuntu Mono\", \"Source Code Pro\", monospace;\n",
       "    font-size: 13px;\n",
       "    color: #555;\n",
       "    margin-left: 4px;\n",
       "    line-height: 19px;\n",
       "  }\n",
       "</style>\n",
       "<div class=\"ansiout\">hey scala\n",
       "</div>"
      ]
     },
     "metadata": {
      "application/vnd.databricks.v1+output": {
       "addedWidgets": {},
       "arguments": {},
       "data": "<div class=\"ansiout\">hey scala\n</div>",
       "datasetInfos": [],
       "metadata": {
        "isDbfsCommandResult": false
       },
       "removedWidgets": [],
       "type": "html"
      }
     },
     "output_type": "display_data"
    }
   ],
   "source": [
    "%scala\n",
    "println(\"hey scala\")"
   ]
  },
  {
   "cell_type": "code",
   "execution_count": 0,
   "metadata": {
    "application/vnd.databricks.v1+cell": {
     "cellMetadata": {
      "byteLimit": 2048000,
      "rowLimit": 10000
     },
     "inputWidgets": {},
     "nuid": "4573f09a-094c-480c-bd47-4188d4762192",
     "showTitle": false,
     "tableResultSettingsMap": {},
     "title": ""
    }
   },
   "outputs": [
    {
     "output_type": "stream",
     "name": "stdout",
     "output_type": "stream",
     "text": [
      "+---+------+\n| id|  name|\n+---+------+\n|  1|   ram|\n|  2| shyam|\n|  3| Mohan|\n|  4|Mukesh|\n+---+------+\n\nroot\n |-- id: long (nullable = true)\n |-- name: string (nullable = true)\n\n"
     ]
    }
   ],
   "source": [
    "#first simple program\n",
    "sample_data=[(1,'ram'),(2,'shyam'),(3,'Mohan'),(4,'Mukesh')]\n",
    "df=spark.createDataFrame(data=sample_data,schema=['id','name'])\n",
    "df.show()\n",
    "df.printSchema()"
   ]
  },
  {
   "cell_type": "code",
   "execution_count": 0,
   "metadata": {
    "application/vnd.databricks.v1+cell": {
     "cellMetadata": {
      "byteLimit": 2048000,
      "rowLimit": 10000
     },
     "inputWidgets": {},
     "nuid": "497bc0bd-9a49-4544-a08e-ee8cd4f6f1aa",
     "showTitle": false,
     "tableResultSettingsMap": {},
     "title": ""
    }
   },
   "outputs": [
    {
     "output_type": "stream",
     "name": "stdout",
     "output_type": "stream",
     "text": [
      "+---+------+------+\n|sid| sname|Salary|\n+---+------+------+\n|  1|   ram|  15.2|\n|  2| Mohan|  25.3|\n|  3|Mukesh|  45.2|\n+---+------+------+\n\nroot\n |-- sid: integer (nullable = true)\n |-- sname: string (nullable = true)\n |-- Salary: float (nullable = true)\n\n"
     ]
    }
   ],
   "source": [
    "#lets define our own schema instead pyspark infer it on the basis of data\n",
    "from pyspark.sql.types import *\n",
    "sample_data =[(1,'ram',15.20),(2,'Mohan',25.30),(3,'Mukesh',45.20)]\n",
    "sample_schema= StructType([StructField(name='sid',dataType=IntegerType()),\n",
    "                           StructField(name='sname',dataType=StringType()),\n",
    "                           StructField(name='Salary',dataType=FloatType())\n",
    "                            ])\n",
    "df=spark.createDataFrame(data=sample_data,schema=sample_schema)\n",
    "df.show()\n",
    "df.printSchema()"
   ]
  },
  {
   "cell_type": "markdown",
   "metadata": {
    "application/vnd.databricks.v1+cell": {
     "cellMetadata": {
      "byteLimit": 2048000,
      "rowLimit": 10000
     },
     "inputWidgets": {},
     "nuid": "1e292233-8539-4724-8ce9-1fd51f14693a",
     "showTitle": false,
     "tableResultSettingsMap": {},
     "title": ""
    }
   },
   "source": [
    "## Read CSV file"
   ]
  },
  {
   "cell_type": "code",
   "execution_count": 0,
   "metadata": {
    "application/vnd.databricks.v1+cell": {
     "cellMetadata": {
      "byteLimit": 2048000,
      "rowLimit": 10000
     },
     "inputWidgets": {},
     "nuid": "d0f62137-4876-4c72-b87e-2e09cbb80462",
     "showTitle": false,
     "tableResultSettingsMap": {},
     "title": ""
    }
   },
   "outputs": [
    {
     "output_type": "display_data",
     "data": {
      "text/html": [
       "<style scoped>\n",
       "  .table-result-container {\n",
       "    max-height: 300px;\n",
       "    overflow: auto;\n",
       "  }\n",
       "  table, th, td {\n",
       "    border: 1px solid black;\n",
       "    border-collapse: collapse;\n",
       "  }\n",
       "  th, td {\n",
       "    padding: 5px;\n",
       "  }\n",
       "  th {\n",
       "    text-align: left;\n",
       "  }\n",
       "</style><div class='table-result-container'><table class='table-result'><thead style='background-color: white'><tr><th>id</th><th>name</th><th>company</th><th>salary</th><th>expenses</th></tr></thead><tbody><tr><td>1</td><td>ram</td><td>abc</td><td>1200</td><td>12.23</td></tr><tr><td>2</td><td>mohan</td><td>def</td><td>13000</td><td>1.34</td></tr></tbody></table></div>"
      ]
     },
     "metadata": {
      "application/vnd.databricks.v1+output": {
       "addedWidgets": {},
       "aggData": [],
       "aggError": "",
       "aggOverflow": false,
       "aggSchema": [],
       "aggSeriesLimitReached": false,
       "aggType": "",
       "arguments": {},
       "columnCustomDisplayInfos": {},
       "data": [
        [
         "1",
         "ram",
         "abc",
         "1200",
         "12.23"
        ],
        [
         "2",
         "mohan",
         "def",
         "13000",
         "1.34"
        ]
       ],
       "datasetInfos": [],
       "dbfsResultPath": null,
       "isJsonSchema": true,
       "metadata": {},
       "overflow": false,
       "plotOptions": {
        "customPlotOptions": {},
        "displayType": "table",
        "pivotAggregation": null,
        "pivotColumns": null,
        "xColumns": null,
        "yColumns": null
       },
       "removedWidgets": [],
       "schema": [
        {
         "metadata": "{}",
         "name": "id",
         "type": "\"string\""
        },
        {
         "metadata": "{}",
         "name": "name",
         "type": "\"string\""
        },
        {
         "metadata": "{}",
         "name": "company",
         "type": "\"string\""
        },
        {
         "metadata": "{}",
         "name": "salary",
         "type": "\"string\""
        },
        {
         "metadata": "{}",
         "name": "expenses",
         "type": "\"string\""
        }
       ],
       "type": "table"
      }
     },
     "output_type": "display_data"
    },
    {
     "output_type": "stream",
     "name": "stdout",
     "output_type": "stream",
     "text": [
      "root\n |-- id: string (nullable = true)\n |-- name: string (nullable = true)\n |-- company: string (nullable = true)\n |-- salary: string (nullable = true)\n |-- expenses: string (nullable = true)\n\n"
     ]
    }
   ],
   "source": [
    "df=spark.read.csv(path='dbfs:/FileStore/tables/emp1-1.csv', header=True)\n",
    "display(df)\n",
    "df.printSchema()"
   ]
  },
  {
   "cell_type": "code",
   "execution_count": 0,
   "metadata": {
    "application/vnd.databricks.v1+cell": {
     "cellMetadata": {
      "byteLimit": 2048000,
      "rowLimit": 10000
     },
     "inputWidgets": {},
     "nuid": "41460d98-5723-429f-8037-02b955af67c0",
     "showTitle": false,
     "tableResultSettingsMap": {},
     "title": ""
    }
   },
   "outputs": [
    {
     "output_type": "display_data",
     "data": {
      "text/html": [
       "<style scoped>\n",
       "  .table-result-container {\n",
       "    max-height: 300px;\n",
       "    overflow: auto;\n",
       "  }\n",
       "  table, th, td {\n",
       "    border: 1px solid black;\n",
       "    border-collapse: collapse;\n",
       "  }\n",
       "  th, td {\n",
       "    padding: 5px;\n",
       "  }\n",
       "  th {\n",
       "    text-align: left;\n",
       "  }\n",
       "</style><div class='table-result-container'><table class='table-result'><thead style='background-color: white'><tr><th>id</th><th>name</th><th>company</th><th>salary</th><th>expenses</th></tr></thead><tbody><tr><td>1</td><td>ram</td><td>abc</td><td>1200</td><td>12.23</td></tr><tr><td>2</td><td>mohan</td><td>def</td><td>13000</td><td>1.34</td></tr></tbody></table></div>"
      ]
     },
     "metadata": {
      "application/vnd.databricks.v1+output": {
       "addedWidgets": {},
       "aggData": [],
       "aggError": "",
       "aggOverflow": false,
       "aggSchema": [],
       "aggSeriesLimitReached": false,
       "aggType": "",
       "arguments": {},
       "columnCustomDisplayInfos": {},
       "data": [
        [
         "1",
         "ram",
         "abc",
         "1200",
         "12.23"
        ],
        [
         "2",
         "mohan",
         "def",
         "13000",
         "1.34"
        ]
       ],
       "datasetInfos": [],
       "dbfsResultPath": null,
       "isJsonSchema": true,
       "metadata": {},
       "overflow": false,
       "plotOptions": {
        "customPlotOptions": {},
        "displayType": "table",
        "pivotAggregation": null,
        "pivotColumns": null,
        "xColumns": null,
        "yColumns": null
       },
       "removedWidgets": [],
       "schema": [
        {
         "metadata": "{}",
         "name": "id",
         "type": "\"string\""
        },
        {
         "metadata": "{}",
         "name": "name",
         "type": "\"string\""
        },
        {
         "metadata": "{}",
         "name": "company",
         "type": "\"string\""
        },
        {
         "metadata": "{}",
         "name": "salary",
         "type": "\"string\""
        },
        {
         "metadata": "{}",
         "name": "expenses",
         "type": "\"string\""
        }
       ],
       "type": "table"
      }
     },
     "output_type": "display_data"
    },
    {
     "output_type": "stream",
     "name": "stdout",
     "output_type": "stream",
     "text": [
      "root\n |-- id: string (nullable = true)\n |-- name: string (nullable = true)\n |-- company: string (nullable = true)\n |-- salary: string (nullable = true)\n |-- expenses: string (nullable = true)\n\n"
     ]
    }
   ],
   "source": [
    "#another way to read csv file using format ,option and load method\n",
    "df=spark.read.format(source='csv').option(key='Header',value='True').load('dbfs:/FileStore/tables/emp1-1.csv')\n",
    "display(df)\n",
    "df.printSchema()"
   ]
  },
  {
   "cell_type": "code",
   "execution_count": 0,
   "metadata": {
    "application/vnd.databricks.v1+cell": {
     "cellMetadata": {
      "byteLimit": 2048000,
      "rowLimit": 10000
     },
     "inputWidgets": {},
     "nuid": "9fc460aa-9747-4da1-9a9e-071de2f89f99",
     "showTitle": false,
     "tableResultSettingsMap": {},
     "title": ""
    }
   },
   "outputs": [
    {
     "output_type": "display_data",
     "data": {
      "text/html": [
       "<style scoped>\n",
       "  .table-result-container {\n",
       "    max-height: 300px;\n",
       "    overflow: auto;\n",
       "  }\n",
       "  table, th, td {\n",
       "    border: 1px solid black;\n",
       "    border-collapse: collapse;\n",
       "  }\n",
       "  th, td {\n",
       "    padding: 5px;\n",
       "  }\n",
       "  th {\n",
       "    text-align: left;\n",
       "  }\n",
       "</style><div class='table-result-container'><table class='table-result'><thead style='background-color: white'><tr><th>PK\u0003\u0004\u0014\u0000\u0006\u0000\b\u0000\u0000\u0000!\u0000b�h^\u0001\u0000\u0000�\u0004\u0000\u0000\u0013\u0000\b\u0002[Content_Types].xml �\u0004\u0002(�\u0000\u0002\u0000\u0000\u0000\u0000\u0000\u0000\u0000\u0000\u0000\u0000\u0000\u0000\u0000\u0000\u0000\u0000\u0000\u0000\u0000\u0000\u0000\u0000\u0000\u0000\u0000\u0000\u0000\u0000\u0000\u0000\u0000\u0000\u0000\u0000\u0000\u0000\u0000\u0000\u0000\u0000\u0000\u0000\u0000\u0000\u0000\u0000\u0000\u0000\u0000\u0000\u0000\u0000\u0000\u0000\u0000\u0000\u0000\u0000\u0000\u0000\u0000\u0000\u0000\u0000\u0000\u0000\u0000\u0000\u0000\u0000\u0000\u0000\u0000\u0000\u0000\u0000\u0000\u0000\u0000\u0000\u0000\u0000\u0000\u0000\u0000\u0000\u0000\u0000\u0000\u0000\u0000\u0000\u0000\u0000\u0000\u0000\u0000\u0000\u0000\u0000\u0000\u0000\u0000\u0000\u0000\u0000\u0000\u0000\u0000\u0000\u0000\u0000\u0000\u0000\u0000\u0000\u0000\u0000\u0000\u0000\u0000\u0000\u0000\u0000\u0000\u0000\u0000\u0000\u0000\u0000\u0000\u0000\u0000\u0000\u0000\u0000\u0000\u0000\u0000\u0000\u0000\u0000\u0000\u0000\u0000\u0000\u0000\u0000\u0000\u0000\u0000\u0000\u0000\u0000\u0000\u0000\u0000\u0000\u0000\u0000\u0000\u0000\u0000\u0000\u0000\u0000\u0000\u0000\u0000\u0000\u0000\u0000\u0000\u0000\u0000\u0000\u0000\u0000\u0000\u0000\u0000\u0000\u0000\u0000\u0000\u0000\u0000\u0000\u0000\u0000\u0000\u0000\u0000\u0000\u0000\u0000\u0000\u0000\u0000\u0000\u0000\u0000\u0000\u0000\u0000\u0000\u0000\u0000\u0000\u0000\u0000\u0000\u0000\u0000\u0000\u0000\u0000\u0000\u0000\u0000\u0000\u0000\u0000\u0000\u0000\u0000\u0000\u0000\u0000\u0000\u0000\u0000\u0000\u0000\u0000\u0000\u0000\u0000\u0000\u0000\u0000\u0000\u0000\u0000\u0000\u0000\u0000\u0000\u0000\u0000\u0000\u0000\u0000\u0000\u0000\u0000\u0000\u0000\u0000\u0000\u0000\u0000\u0000\u0000\u0000\u0000\u0000\u0000\u0000\u0000\u0000\u0000\u0000\u0000\u0000\u0000\u0000\u0000\u0000\u0000\u0000\u0000\u0000\u0000\u0000\u0000\u0000\u0000\u0000\u0000\u0000\u0000\u0000\u0000\u0000\u0000\u0000\u0000\u0000\u0000\u0000\u0000\u0000\u0000\u0000\u0000\u0000\u0000\u0000\u0000\u0000\u0000\u0000\u0000\u0000\u0000\u0000\u0000\u0000\u0000\u0000\u0000\u0000\u0000\u0000\u0000\u0000\u0000\u0000\u0000\u0000\u0000\u0000\u0000\u0000\u0000\u0000\u0000\u0000\u0000\u0000\u0000\u0000\u0000\u0000\u0000\u0000\u0000\u0000\u0000\u0000\u0000\u0000\u0000\u0000\u0000\u0000\u0000\u0000\u0000\u0000\u0000\u0000\u0000\u0000\u0000\u0000\u0000\u0000\u0000\u0000\u0000\u0000\u0000\u0000\u0000\u0000\u0000\u0000\u0000\u0000\u0000\u0000\u0000\u0000\u0000\u0000\u0000\u0000\u0000\u0000\u0000\u0000\u0000\u0000\u0000\u0000\u0000\u0000\u0000\u0000\u0000\u0000\u0000\u0000\u0000\u0000\u0000\u0000\u0000\u0000\u0000\u0000\u0000\u0000\u0000\u0000\u0000\u0000\u0000\u0000\u0000\u0000\u0000\u0000\u0000\u0000\u0000\u0000\u0000\u0000\u0000\u0000\u0000\u0000\u0000\u0000\u0000\u0000\u0000\u0000\u0000\u0000\u0000\u0000\u0000\u0000\u0000\u0000\u0000\u0000\u0000\u0000\u0000\u0000\u0000\u0000\u0000\u0000\u0000\u0000\u0000\u0000\u0000\u0000\u0000\u0000\u0000\u0000\u0000\u0000\u0000\u0000\u0000\u0000\u0000\u0000\u0000\u0000\u0000\u0000\u0000\u0000\u0000\u0000\u0000\u0000\u0000\u0000\u0000\u0000\u0000\u0000\u0000\u0000\u0000\u0000\u0000\u0000\u0000\u0000\u0000\u0000\u0000\u0000\u0000\u0000\u0000\u0000\u0000\u0000\u0000���N�0\u0010E�H�C�-Jܲ@\b5��\u0012*Q>�ēƪc[�ii����\u0010B�\u0015j7�\u0012��{2��h�nm���ƻR\f����U^\u001B7/���%�\u0017\u0019�rZY�\u0014\u001B@1\u0019__�f�\u0000�q��R4D�AJ�\u001Ah\u0015\u0016>����V\u0011�ƹ\f�Z�9����NV�\u00118ʩ�\u0010��\u0013�ji){^��-I\u0004�\"{�\u0016v^�P!XS)bR�r��K�s(�3�`c\u0002�0���\u000E���\u0006��7\u001EM4\u001A�����ZƐk+�|\\|z�(���P��6\u0015h_-[�@�!���\u0000Pk��\u0016�2n�}�?\u0015�L��� ��%�\u0013\u001C��\u001Bd����dN\u0018\"m</th><th>�ǞDO97*�~��ɸ8�O�c\u001C|n��\u0007�\u0004E��\u0014�\u0011���B\u0010��!$}�����;{���[����2�\u0006\u0000\u0000��\u0003\u0000PK\u0003\u0004\u0014\u0000\u0006\u0000\b\u0000\u0000\u0000!\u0000�U0#�\u0000\u0000\u0000L\u0002\u0000\u0000\u000B\u0000\b\u0002_rels/.rels �\u0004\u0002(�\u0000\u0002\u0000\u0000\u0000\u0000\u0000\u0000\u0000\u0000\u0000\u0000\u0000\u0000\u0000\u0000\u0000\u0000\u0000\u0000\u0000\u0000\u0000\u0000\u0000\u0000\u0000\u0000\u0000\u0000\u0000\u0000\u0000\u0000\u0000\u0000\u0000\u0000\u0000\u0000\u0000\u0000\u0000\u0000\u0000\u0000\u0000\u0000\u0000\u0000\u0000\u0000\u0000\u0000\u0000\u0000\u0000\u0000\u0000\u0000\u0000\u0000\u0000\u0000\u0000\u0000\u0000\u0000\u0000\u0000\u0000\u0000\u0000\u0000\u0000\u0000\u0000\u0000\u0000\u0000\u0000\u0000\u0000\u0000\u0000\u0000\u0000\u0000\u0000\u0000\u0000\u0000\u0000\u0000\u0000\u0000\u0000\u0000\u0000\u0000\u0000\u0000\u0000\u0000\u0000\u0000\u0000\u0000\u0000\u0000\u0000\u0000\u0000\u0000\u0000\u0000\u0000\u0000\u0000\u0000\u0000\u0000\u0000\u0000\u0000\u0000\u0000\u0000\u0000\u0000\u0000\u0000\u0000\u0000\u0000\u0000\u0000\u0000\u0000\u0000\u0000\u0000\u0000\u0000\u0000\u0000\u0000\u0000\u0000\u0000\u0000\u0000\u0000\u0000\u0000\u0000\u0000\u0000\u0000\u0000\u0000\u0000\u0000\u0000\u0000\u0000\u0000\u0000\u0000\u0000\u0000\u0000\u0000\u0000\u0000\u0000\u0000\u0000\u0000\u0000\u0000\u0000\u0000\u0000\u0000\u0000\u0000\u0000\u0000\u0000\u0000\u0000\u0000\u0000\u0000\u0000\u0000\u0000\u0000\u0000\u0000\u0000\u0000\u0000\u0000\u0000\u0000\u0000\u0000\u0000\u0000\u0000\u0000\u0000\u0000\u0000\u0000\u0000\u0000\u0000\u0000\u0000\u0000\u0000\u0000\u0000\u0000\u0000\u0000\u0000\u0000\u0000\u0000\u0000\u0000\u0000\u0000\u0000\u0000\u0000\u0000\u0000\u0000\u0000\u0000\u0000\u0000\u0000\u0000\u0000\u0000\u0000\u0000\u0000\u0000\u0000\u0000\u0000\u0000\u0000\u0000\u0000\u0000\u0000\u0000\u0000\u0000\u0000\u0000\u0000\u0000\u0000\u0000\u0000\u0000\u0000\u0000\u0000\u0000\u0000\u0000\u0000\u0000\u0000\u0000\u0000\u0000\u0000\u0000\u0000\u0000\u0000\u0000\u0000\u0000\u0000\u0000\u0000\u0000\u0000\u0000\u0000\u0000\u0000\u0000\u0000\u0000\u0000\u0000\u0000\u0000\u0000\u0000\u0000\u0000\u0000\u0000\u0000\u0000\u0000\u0000\u0000\u0000\u0000\u0000\u0000\u0000\u0000\u0000\u0000\u0000\u0000\u0000\u0000\u0000\u0000\u0000\u0000\u0000\u0000\u0000\u0000\u0000\u0000\u0000\u0000\u0000\u0000\u0000\u0000\u0000\u0000\u0000\u0000\u0000\u0000\u0000\u0000\u0000\u0000\u0000\u0000\u0000\u0000\u0000\u0000\u0000\u0000\u0000\u0000\u0000\u0000\u0000\u0000\u0000\u0000\u0000\u0000\u0000\u0000\u0000\u0000\u0000\u0000\u0000\u0000\u0000\u0000\u0000\u0000\u0000\u0000\u0000\u0000\u0000\u0000\u0000\u0000\u0000\u0000\u0000\u0000\u0000\u0000\u0000\u0000\u0000\u0000\u0000\u0000\u0000\u0000\u0000\u0000\u0000\u0000\u0000\u0000\u0000\u0000\u0000\u0000\u0000\u0000\u0000\u0000\u0000\u0000\u0000\u0000\u0000\u0000\u0000\u0000\u0000\u0000\u0000\u0000\u0000\u0000\u0000\u0000\u0000\u0000\u0000\u0000\u0000\u0000\u0000\u0000\u0000\u0000\u0000\u0000\u0000\u0000\u0000\u0000\u0000\u0000\u0000\u0000\u0000\u0000\u0000\u0000\u0000\u0000\u0000\u0000\u0000\u0000\u0000\u0000\u0000\u0000\u0000\u0000\u0000\u0000\u0000\u0000\u0000\u0000\u0000\u0000\u0000\u0000\u0000\u0000\u0000\u0000\u0000\u0000\u0000\u0000\u0000\u0000\u0000\u0000\u0000\u0000\u0000\u0000\u0000\u0000\u0000\u0000\u0000\u0000\u0000\u0000\u0000\u0000��MO�0\f��H�����ݐ\u0010BKwAH�!T~�I�\u000F���$\u001Bݿ'\u001C\u0010T\u001A�\u0003G�~����<���!��4��\u0012\u0014;#�w����qu\u0007*&r�Fq���\u0011v�����GJy(v��*����K��#F��D�\u0010�.W\u001A\t\u0013�\u001C�\u0016=��Z�MY�b��\u0001�BS���7��ϛז��</th></tr></thead><tbody><tr><td>?�9L�ҙ\u0015�sbgٮ|�l!��\u001AUSh9i�b�r:\"y_dl��D��\u0013�|-N��R\"4\u0012�2�G�%��Z�4�˝y�7\të��ɂ�\u001F��\u0001\u0000\u0000��\u0003\u0000PK\u0003\u0004\u0014\u0000\u0006\u0000\b\u0000\u0000\u0000!\u0000l7��>\u0003\u0000\u0000?\u0007\u0000\u0000\u000F\u0000\u0000\u0000xl/workbook.xml�U]o�6\u0014}\u001F�� �]!�O[�Sؒ�\u0005�\u0006�͚G��舋Dj$����}�t\u0014��K�N�IQW::��s��\u000FǾ��Li.��'7����e������q\u0019L|O\u001B*\u001A�I�f��i��ݯ��\u001E�z�H��\u0001��3�5f�\u0011�u�z�o��\u0004D�R���R=#=(F\u001B�2f�\u000E�\u0018���\\�g�\\�\u0007Cn��f��w=\u0013�\f�XG</td><td>null</td></tr><tr><td>��-\u001F�����z�</td><td>null</td></tr><tr><td>A-�\u0001 6����@}����g!\u0015�t���$�Q�/�?�0�� t����Jj�57\u0000�Τ��'\u0018\u0011�]\t��5x\u001FR�\u0014�s��7V*�AV�\u001BVz\u0001#���\bH�i%��� Z��-��n��c�����0�A{۩��:�M�pÚ���R\u001E��\u0002d�v�b�;��Y\u0018\u0011\u001Fݽ�y�`\u0001��w�)A</td><td>null</td></tr><tr><td>+�0 �W�?++�]�\u0012D�}d�b�\u001D�\u0010�\u0003#�s��+jZo��s�4��?5���Mǻ��45@�R�\u000EmZkN��</td><td>null</td></tr><tr><td>�3�(����v�n][��nѨd�uI</td><td>null</td></tr><tr><td>E\u0018\u0007+%�b�Y?��\u0011��\u0007F��'m�խ�5�c\u0012؇.�8X��\u0000�AZն\u0001\u001A}c\u0004z��`\u0005Z�N ���B��w\u0002</td><td>null</td></tr><tr><td>��Q�+�<8�/\u001F���\u001E\u0004@����\u0006q\u000F-&d�\f��Ȳh\u001E&�|Q΋��x�CBH�\u0016�<Y�U2YƐ�J�Zҝi_�eqg~\f*�</td><td>null</td></tr><tr><td>�N�c��|Ǜ\u000B�/e���\"e0�.� ��*�N�$��\u0004gː��\"�j��[�g�\u000E�\"A��O\\4�0�\u0003b�s�~yp�'ޘ\u0016\u0012��!�r��\u001B��-0�\u0004�E��e6���#���\u0003\u000E�p�a�9F�\u001BJn�\u0006jn��3�'��\u0013�*��\u0015\u0018\f��w���y\t��������nL�)�l��h\u001E�q3\b�\u0003=\u0012�y��q��(\t��4\f&q\u0014\u0006E\\�U�Ue�H���[��[>~�</td><td>˖*�h�\u0002.�ȶ\u000B����$�/�qd�Ƨ��\u0001\u0000\u0000��\u0003\u0000PK\u0003\u0004\u0014\u0000\u0006\u0000\b\u0000\u0000\u0000!\u0000�>���\u0000\u0000\u0000�\u0002\u0000\u0000\u001A\u0000\b\u0001xl/_rels/workbook.xml.rels �\u0004\u0001(�\u0000\u0001\u0000\u0000\u0000\u0000\u0000\u0000\u0000\u0000\u0000\u0000\u0000\u0000\u0000\u0000\u0000\u0000\u0000\u0000\u0000\u0000\u0000\u0000\u0000\u0000\u0000\u0000\u0000\u0000\u0000\u0000\u0000\u0000\u0000\u0000\u0000\u0000\u0000\u0000\u0000\u0000\u0000\u0000\u0000\u0000\u0000\u0000\u0000\u0000\u0000\u0000\u0000\u0000\u0000\u0000\u0000\u0000\u0000\u0000\u0000\u0000\u0000\u0000\u0000\u0000\u0000\u0000\u0000\u0000\u0000\u0000\u0000\u0000\u0000\u0000\u0000\u0000\u0000\u0000\u0000\u0000\u0000\u0000\u0000\u0000\u0000\u0000\u0000\u0000\u0000\u0000\u0000\u0000\u0000\u0000\u0000\u0000\u0000\u0000\u0000\u0000\u0000\u0000\u0000\u0000\u0000\u0000\u0000\u0000\u0000\u0000\u0000\u0000\u0000\u0000\u0000\u0000\u0000\u0000\u0000\u0000\u0000\u0000\u0000\u0000\u0000\u0000\u0000\u0000\u0000\u0000\u0000\u0000\u0000\u0000\u0000\u0000\u0000\u0000\u0000\u0000\u0000\u0000\u0000\u0000\u0000\u0000\u0000\u0000\u0000\u0000\u0000\u0000\u0000\u0000\u0000\u0000\u0000\u0000\u0000\u0000\u0000\u0000\u0000\u0000\u0000\u0000\u0000\u0000\u0000\u0000\u0000\u0000\u0000\u0000\u0000\u0000\u0000\u0000\u0000\u0000\u0000\u0000\u0000\u0000\u0000\u0000\u0000\u0000\u0000\u0000\u0000\u0000\u0000\u0000\u0000\u0000\u0000\u0000\u0000\u0000\u0000\u0000\u0000\u0000\u0000\u0000\u0000\u0000\u0000\u0000\u0000\u0000\u0000\u0000\u0000\u0000\u0000\u0000\u0000\u0000\u0000\u0000\u0000\u0000\u0000\u0000\u0000\u0000\u0000\u0000\u0000\u0000\u0000\u0000\u0000\u0000\u0000\u0000\u0000\u0000\u0000\u0000\u0000\u0000\u0000\u0000\u0000\u0000\u0000\u0000\u0000\u0000\u0000\u0000\u0000\u0000�RMK�0\u0010�\u000B��0w�v\u0015\u0011�t/\"�U�\u000F\bɴ)�&!3~��\u001B*�]X�K/\u0003o�y���v�5\u000E�\u0003\u0013��+��\u0012\u0004z\u0013l�;\u0005o���\u0003\bb�\u001E�G\u0005\u0013\u0012����\u000B\u000E�s\u0013�>��</td></tr><tr><td>y\u0000���!+��E�\b��fMy�k���\f�\u001C�K\u001E�5=|�t ��G\u001F)�s墙�U��tB��)���</td><td>���f�����\u0000\u0000\u0000��\u0003\u0000PK\u0003\u0004\u0014\u0000\u0006\u0000\b\u0000\u0000\u0000!\u0000��f£\u0002\u0000\u0000\u0012\u0006\u0000\u0000\u0018\u0000\u0000\u0000xl/worksheets/sheet1.xml���n�0\u0010���\u000E���\tKU\"\u0002�</td></tr><tr><td>�ܪnw�L����6���{'�</td><td>\u0012\u0017D��\u0013/�?c���V+�\u0006�5\u0019M��\u00120���</td></tr><tr><td>Ns�\\U-au���T2�\u001A(%Z������\u0015ֽM�\\��÷�_� ӌ_(i)���\b\u0011��>�����ϸ8�.�</td><td>null</td></tr><tr><td>�t����/��jߖR�;��'X�F��\u0011V\u001F�KW2��O����O�&>5��_:\u001C�\u0012o���8(2����\u000Ee�A�/\t\u001B\u0016����@\u0004@���ڞsk���\u0019\u000E�H�͂��E�kx\u0006�2:�ÿ\u001B</td><td>null</td></tr><tr><td>\fQ�\u001D\u0015��ڴ1��#9\u0014|�ݼ�\\�\u0001e�Q\u000F\u000B����1x�\u0016E��C�\u001F\u0000\u0000\u0000��\u0000\u0000\u0000�����\u000E� \u0018��[q\\���9�l�^\b#���������!P'��/|{dJw�v����\u001C��ll\u0010E�{���S-P���6���Yg�05��\\ %�w�\u00196�+\u0007�Y\u0011�g%��Z\u001B6\u001A�K�Xܺ���a�|�@�~v��\u0016y�ka���\"��M$�m\u001A#$��~-� �~&R�#j���{ka�W��:l�D�N��W���\u001A���\u0007\u0000\u0000��\u0000\u0000\u0000���)HLO�M</td><td>J��+V�IM+�U2�3WR(�Lπ�K�\u000B���J</td></tr><tr><td>I�%%��0^FjbJj\u0011�g�����_\u0002������\u0017e\u0017g����\u0001\u0000\u0000\u0000��\u0003\u0000PK\u0003\u0004\u0014\u0000\u0006\u0000\b\u0000\u0000\u0000!\u0000u>�i�\u0006\u0000\u0000�\u001A\u0000\u0000\u0013\u0000\u0000\u0000xl/theme/theme1.xml�Y[��F\u0014~/�?\b�;�I���\u001Bl�N��&!��ql��Ɏ4F3ލ\t��<��PHK_</td><td>null</td></tr><tr><td>}�C)</td><td>null</td></tr><tr><td>4�З����6�\u0011=3����8�˦�%kX��w�|s��7\u0017]�t/��\u0011N9aIۭ^��\u000EN�lB�Y۽5\u001C����\u0005J&��\u0004��%��ݏ?��vD�c�}�wPۍ����|\f͈_`s���)Kc$�6��'):\u0006�1-�*��\u001C#��N�bp{}:%c�\f�Kww�O�6\u0011\\6�iz ]c�Ba'�U��K\u001E��9B��B?\u0013v<����P�\u0005<h�\u0015��w/��NnD�\u0016[�n��r��`rXS}��ѺS�󽠳��\u0000Tl���~�\u000F��\u0014\u0000��0Ҍ���ﶺ=?�j������ի\u0006^�_�������+P����\u000F\u0006!D��+P��-1i�B��+P�\u000F6��J��5\f�\u0002E�$�\u001B�\u001F���hא)�W���</td><td>null</td></tr><tr><td>\u001A��y��jXW��b�\u0012���bt��\u0003\u0000H E�$�X��\u0014���CD�(%�\u001E�EPxs�0\u000E͕ZeP����ԕ�\b��H����\t�h�|\u001C>N�\\��O���A�?{v�����_O\u001E=:y�s޷re�]A�L�{��W}����/߿|�u��i<��/~���o���=��\b��o��x����_���c��N�F:|Hb̝k�ع�b\u0018��?\u001E�of1�\u00101</td><td>P\u0004�-��\"2�ז��p]l��v</td></tr><tr><td>*c\u0003^^�5�\u001ED�B\u0010K�W��\u0000�3F�</td><td>�\u0006��K��p��읧\u000B\u001Dw\u0013�#[�!J�\u0004�\u0017s�Wbs\u0019Fؠy��D�\u0019N�p�3v��etw\b1�O�)�l*�;��\"b</td></tr><tr><td>ɐ��B*���\u0018�\u0011�T\u001B�ٿ�t\u0019�����L$�\u0016�Z�\u000F15�x\u0019-\u0004�m.�(�z����l$\u000F��X����L�0eN�9��\\Oa�Zү���ӾO���L\u00059���C���\u001E;\f#\u0014ϭ�I\u0012��O�!�(rn0a��3�</td><td>null</td></tr><tr><td>���\u0007�lM�m��t�-\u0004�@\\uJE��'�Ԓ�˘���N\u0011V*\u0003�oHzL�3���������5�\u001C4���]Լ�\u0012�;u唆o��\u0007���\u0016�</td><td>null</td></tr><tr><td>\f/����A�?\b���\u0017�m����u�� ��Z]���\u000B�)��@</td><td>)��j��a^�\f�Qm*��r���Gp�o\u0013\f�</td></tr><tr><td>\u0012Z��$�2��\u0004�թ\u001F��g�[EJ</td><td>null</td></tr><tr><td>z2\u0014�����h��\\K\u00119�</td><td>null</td></tr><tr><td>4ѕ�&�q�</td><td>null</td></tr><tr><td>�>���Ѽ�Na�\u000F��\u001Cj��\u0005/�38<\u001B�4{��FY�)\u0017=ģ</td><td>�Jt25����CI�v����@\u0013�!�[�\u0006��%�\u0002Y������I��)\u001E\u000B=�Z��tv\u000B</td></tr><tr><td>�i���2{��d\u000BH�A49vFt��DPb~�*\u00038!\u001C��Y4'\u0004�3�BV�ߩ�)�]�@Q�P֎�<B����y\u0006W\"�����1���1C@7C8��\t��gݳ�j\u00199M4�9�P\u00159k����M�\u001A�b\u00125Xeҭ�</td><td>null</td></tr><tr><td>�к�J�P���\u0019��kL\b\u001A��3��d�)�R��V��9.\b�H\u0004[⶞#��xۙ\u001F�NW�� V�JU��Ç�m���x��\u0014xA\u0005W��/\u000F)�E_v���\u0006�\"�D�F�+g���{��w��懥J��W)5�N����z��W+�n�\u0001L</td><td>��~��e\u0000\u0007Qt�zQ�\u001B�_��Yۅ1��L}^)+���K����C@t�\u0007�A���\u0006�V�3(y�n��\n",
       "</td></tr><tr><td>�n�\u0017��ޠ\u0017������\u001C)�ש�^�o��j\u0018���\"�7[��W�u�F���:\u000F�e\f�<��<\u0016\u0010^�k�o\u0000\u0000\u0000��\u0003\u0000PK\u0003\u0004\u0014\u0000\u0006\u0000\b\u0000\u0000\u0000!\u0000y��l�\u0002\u0000\u0000R\u0006\u0000\u0000</td><td>null</td></tr><tr><td>\u0000\u0000\u0000xl/styles.xml�Umk�0\u0010�>�\u0010���v�</td><td>\t����P�Ơ\u001D�bˉ�^�$g����Nv^\u001C:��~�N��s��sRқN</td></tr><tr><td>�c�r�2\u001C]�\u00181UꊫM��>\u0015�\f#먪�Њex�</td><td>��߿K��\u000B��e�!�P6�[�\u0005!��2I�n��/�6�:ؚ</td></tr><tr><td>��a����\u0014$\u000E�)��+< </td><td>d�? ���\tJ-\u001B���\u000B��=\u0016F�\\�o�6t-�j\u0017Mh��hjbԙc���\"���V��</td></tr><tr><td>p��k^��t�dNhyF\u0002��!E\t\t��;�J�\t1lǽ|8Ok��E�n�\u00031��o��Y���s��S�\u0003�\u0000O�I��Zh�\u001CH\u0007��=�J6D�R�׆���J.��;��^�C���{�$��a�p�\u000Bqb\u0015{\u0002��S��1�</td><td>null</td></tr><tr><td>ؠ���o ��I\u001B`��Do\f�Gq2:@��y�֦��>����S�j\u0007D</td><td>null</td></tr><tr><td>�l��t\u0003�k�\u001C���\u0015�\u001B���\f '\u0003�)�\u0010�~���\u0017�]�T+\u000B��\f�=�M8�P��\u001C����\u001F�</td><td>null</td></tr><tr><td>�o�E]}�\u000F�#�\u0017�O��;ß�u\u001509\u0007\b�n�p\\��0`Vݹ\u0005�W����7�\u0005:Q����=�>f�lb\u0015oe|���w��\u0010\u0019>�\u000F^�h�s��=X\u0018/XQkx��-?�WwE\u001C���</td><td>�\\�$�'�U�Ln��U1\u000F�����\u0001x���߫<����\u0002\u001E\ts(�P��ٗ��f���(�\u001Es����c\u0012�Aq\u001DF�dJg�lz�\u0004E\u0012ū�dy�\u0014Ɉ{��g\"$Q4<8�|�p\\2��Q��Bc/�\u0004ۿ\u0014A�J��A�\u001B\u0000\u0000��\u0003\u0000PK\u0003\u0004\u0014\u0000\u0006\u0000\b\u0000\u0000\u0000!\u0000\u0013\u0001�\u0000\u0000\u0000Y\u0001\u0000\u0000\u0014\u0000\u0000\u0000xl/sharedStrings.xmldбN\u00031\f\u0006�\u001D�w���\u001C\u001D\u0010�$\u001D*�uA�\u0000���\"]�k�C��\u0013�\u0010R\u0018�Ͽ\u0007��.y6�T%\u0015�p�\u0019�\u0010�%&>yx{�{\u0004#�\u001Cq.L\u001E�$�\u000B�7NDM�e�0�.���8QFٔ��M��f�\u0016���R\t�LD�g�\u001D�\u0007�11����\u001E�����+�sp��Ӑ��\u001A��N?��}�\u000B�g�\u0019�?}��\u0017�c��P&�\u001E#\u001D{�K;WH�ܶׄ/\u0000\u0000\u0000��\u0003\u0000PK\u0003\u0004\u0014\u0000\u0006\u0000\b\u0000\u0000\u0000!\u0000ꊋ�W\u0001\u0000\u0000\u0002\u0000\u0000\u0011\u0000\b\u0001docProps/core.xml �\u0004\u0001(�\u0000\u0001\u0000\u0000\u0000\u0000\u0000\u0000\u0000\u0000\u0000\u0000\u0000\u0000\u0000\u0000\u0000\u0000\u0000\u0000\u0000\u0000\u0000\u0000\u0000\u0000\u0000\u0000\u0000\u0000\u0000\u0000\u0000\u0000\u0000\u0000\u0000\u0000\u0000\u0000\u0000\u0000\u0000\u0000\u0000\u0000\u0000\u0000\u0000\u0000\u0000\u0000\u0000\u0000\u0000\u0000\u0000\u0000\u0000\u0000\u0000\u0000\u0000\u0000\u0000\u0000\u0000\u0000\u0000\u0000\u0000\u0000\u0000\u0000\u0000\u0000\u0000\u0000\u0000\u0000\u0000\u0000\u0000\u0000\u0000\u0000\u0000\u0000\u0000\u0000\u0000\u0000\u0000\u0000\u0000\u0000\u0000\u0000\u0000\u0000\u0000\u0000\u0000\u0000\u0000\u0000\u0000\u0000\u0000\u0000\u0000\u0000\u0000\u0000\u0000\u0000\u0000\u0000\u0000\u0000\u0000\u0000\u0000\u0000\u0000\u0000\u0000\u0000\u0000\u0000\u0000\u0000\u0000\u0000\u0000\u0000\u0000\u0000\u0000\u0000\u0000\u0000\u0000\u0000\u0000\u0000\u0000\u0000\u0000\u0000\u0000\u0000\u0000\u0000\u0000\u0000\u0000\u0000\u0000\u0000\u0000\u0000\u0000\u0000\u0000\u0000\u0000\u0000\u0000\u0000\u0000\u0000\u0000\u0000\u0000\u0000\u0000\u0000\u0000\u0000\u0000\u0000\u0000\u0000\u0000\u0000\u0000\u0000\u0000\u0000\u0000\u0000\u0000\u0000\u0000\u0000\u0000\u0000\u0000\u0000\u0000\u0000\u0000\u0000\u0000\u0000\u0000\u0000\u0000\u0000\u0000\u0000\u0000\u0000\u0000\u0000\u0000\u0000\u0000\u0000\u0000\u0000\u0000\u0000\u0000\u0000\u0000\u0000\u0000\u0000\u0000\u0000\u0000\u0000\u0000\u0000\u0000\u0000\u0000\u0000\u0000\u0000\u0000\u0000\u0000\u0000\u0000\u0000\u0000\u0000\u0000\u0000\u0000\u0000\u0000\u0000\u0000\u0000|�_k�0\u0014��\u0007�\u000E�w���\u0006�Е>�0�cco!��2\u0013%�j��\u0017m�\u001C�\u0006yI{�!��(K�\u0000�\u0014�J\u0010\tB��(�>A/�ڟ!�X�\u0004++\u0005\t:�A���.�5商g]ՠm\u0001�s$e(�\u0013�[[S�</td></tr><tr><td>�A2\u00138�r�]�%����f���\u0001Ga8�\u0012</td><td>\u0013�2�\u0002��'�\u000BR�\u001EY�\u0003\b��\u0004\t�\u001AL\u0002���\u0016�4�6t��R\u0016�T��.v�l���^}4E/l�&hF�</td></tr><tr><td>���Ӷ[�/T�\u0015\u0007�ƂS���J�+8�\u0012�y[�j�-�6N]�x�i�</td><td>��\u001B\u0017��\u0000�<��v+uӺ��#Ax�.=/w���\u001EW�\u001A�QH&~8��IFf�<�(|o���o�\u001F��Ͽ�h��22�dN���x\u0005�1��2�\u0017\u0000\u0000\u0000��\u0003\u0000PK\u0003\u0004\u0014\u0000\u0006\u0000\b\u0000\u0000\u0000!\u0000aI\t\u0010�\u0001\u0000\u0000\u0011\u0003\u0000\u0000\u0010\u0000\b\u0001docProps/app.xml �\u0004\u0001(�\u0000\u0001\u0000\u0000\u0000\u0000\u0000\u0000\u0000\u0000\u0000\u0000\u0000\u0000\u0000\u0000\u0000\u0000\u0000\u0000\u0000\u0000\u0000\u0000\u0000\u0000\u0000\u0000\u0000\u0000\u0000\u0000\u0000\u0000\u0000\u0000\u0000\u0000\u0000\u0000\u0000\u0000\u0000\u0000\u0000\u0000\u0000\u0000\u0000\u0000\u0000\u0000\u0000\u0000\u0000\u0000\u0000\u0000\u0000\u0000\u0000\u0000\u0000\u0000\u0000\u0000\u0000\u0000\u0000\u0000\u0000\u0000\u0000\u0000\u0000\u0000\u0000\u0000\u0000\u0000\u0000\u0000\u0000\u0000\u0000\u0000\u0000\u0000\u0000\u0000\u0000\u0000\u0000\u0000\u0000\u0000\u0000\u0000\u0000\u0000\u0000\u0000\u0000\u0000\u0000\u0000\u0000\u0000\u0000\u0000\u0000\u0000\u0000\u0000\u0000\u0000\u0000\u0000\u0000\u0000\u0000\u0000\u0000\u0000\u0000\u0000\u0000\u0000\u0000\u0000\u0000\u0000\u0000\u0000\u0000\u0000\u0000\u0000\u0000\u0000\u0000\u0000\u0000\u0000\u0000\u0000\u0000\u0000\u0000\u0000\u0000\u0000\u0000\u0000\u0000\u0000\u0000\u0000\u0000\u0000\u0000\u0000\u0000\u0000\u0000\u0000\u0000\u0000\u0000\u0000\u0000\u0000\u0000\u0000\u0000\u0000\u0000\u0000\u0000\u0000\u0000\u0000\u0000\u0000\u0000\u0000\u0000\u0000\u0000\u0000\u0000\u0000\u0000\u0000\u0000\u0000\u0000\u0000\u0000\u0000\u0000\u0000\u0000\u0000\u0000\u0000\u0000\u0000\u0000\u0000\u0000\u0000\u0000\u0000\u0000\u0000\u0000\u0000\u0000\u0000\u0000\u0000\u0000\u0000\u0000\u0000\u0000\u0000\u0000\u0000\u0000\u0000\u0000\u0000\u0000\u0000\u0000\u0000\u0000\u0000\u0000\u0000\u0000\u0000\u0000\u0000\u0000\u0000\u0000\u0000\u0000\u0000\u0000\u0000\u0000\u0000\u0000\u0000��Ao�0\f��\u0003�\u001F\f�\u001B9�P\f��bHW��a\u0001��gM�c��$����׏����z��{x�DI�\u001C:_����P��\u0014\u0005\u0004\u001Bk\u0017��x��]~\u0015\u0005�\t��1@%���F_|R�\u001C\u0013dr�\u0005G\u0004�DK�VR�m�3�`9����\u0019�6�el\u001Ag�6ڗ\u000E\u0002ɫ���p \b5ԗ�\u0014(��UO\u001F</td></tr><tr><td>��\u001D��qwL\f�շ���������9bl��~�������`_���.���jk��5\u0007��x\u0004%�\u0006�\u001Ḛ��q\u0019��iՃ��\u000BtxmW��m\u0010\u0006�J�&;\u0013��\u0006�Ԍ�OHY?���-\u0000��l��c9��k�E/G\u0003\u0017��!`\u0002a�\u001Cq��\u0003�j6&�;��9��0�N8ہo:s�7^�O�'{\u001D�d�S�Åg|H�xk\b^�y>T��d��\u0005N�></td><td>null</td></tr><tr><td>�=o2�!dݚ�����0<������zQ~.�]g3%����\u000B\u0000\u0000��\u0003\u0000PK\u0001\u0002-\u0000\u0014\u0000\u0006\u0000\b\u0000\u0000\u0000!\u0000b�h^\u0001\u0000\u0000�\u0004\u0000\u0000\u0013\u0000\u0000\u0000\u0000\u0000\u0000\u0000\u0000\u0000\u0000\u0000\u0000\u0000\u0000\u0000\u0000\u0000[Content_Types].xmlPK\u0001\u0002-\u0000\u0014\u0000\u0006\u0000\b\u0000\u0000\u0000!\u0000�U0#�\u0000\u0000\u0000L\u0002\u0000\u0000\u000B\u0000\u0000\u0000\u0000\u0000\u0000\u0000\u0000\u0000\u0000\u0000\u0000\u0000�\u0003\u0000\u0000_rels/.relsPK\u0001\u0002-\u0000\u0014\u0000\u0006\u0000\b\u0000\u0000\u0000!\u0000l7��>\u0003\u0000\u0000?\u0007\u0000\u0000\u000F\u0000\u0000\u0000\u0000\u0000\u0000\u0000\u0000\u0000\u0000\u0000\u0000\u0000�\u0006\u0000\u0000xl/workbook.xmlPK\u0001\u0002-\u0000\u0014\u0000\u0006\u0000\b\u0000\u0000\u0000!\u0000�>���\u0000\u0000\u0000�\u0002\u0000\u0000\u001A\u0000\u0000\u0000\u0000\u0000\u0000\u0000\u0000\u0000\u0000\u0000\u0000\u0000'</td><td>null</td></tr><tr><td>\u0000\u0000xl/_rels/workbook.xml.relsPK\u0001\u0002-\u0000\u0014\u0000\u0006\u0000\b\u0000\u0000\u0000!\u0000��f£\u0002\u0000\u0000\u0012\u0006\u0000\u0000\u0018\u0000\u0000\u0000\u0000\u0000\u0000\u0000\u0000\u0000\u0000\u0000\u0000\u0000Z\f\u0000\u0000xl/worksheets/sheet1.xmlPK\u0001\u0002-\u0000\u0014\u0000\u0006\u0000\b\u0000\u0000\u0000!\u0000u>�i�\u0006\u0000\u0000�\u001A\u0000\u0000\u0013\u0000\u0000\u0000\u0000\u0000\u0000\u0000\u0000\u0000\u0000\u0000\u0000\u00003\u000F\u0000\u0000xl/theme/theme1.xmlPK\u0001\u0002-\u0000\u0014\u0000\u0006\u0000\b\u0000\u0000\u0000!\u0000y��l�\u0002\u0000\u0000R\u0006\u0000\u0000</td><td>null</td></tr><tr><td>\u0000\u0000\u0000\u0000\u0000\u0000\u0000\u0000\u0000\u0000\u0000\u0000\u0000�\u0015\u0000\u0000xl/styles.xmlPK\u0001\u0002-\u0000\u0014\u0000\u0006\u0000\b\u0000\u0000\u0000!\u0000\u0013\u0001�\u0000\u0000\u0000Y\u0001\u0000\u0000\u0014\u0000\u0000\u0000\u0000\u0000\u0000\u0000\u0000\u0000\u0000\u0000\u0000\u0000�\u0018\u0000\u0000xl/sharedStrings.xmlPK\u0001\u0002-\u0000\u0014\u0000\u0006\u0000\b\u0000\u0000\u0000!\u0000ꊋ�W\u0001\u0000\u0000\u0002\u0000\u0000\u0011\u0000\u0000\u0000\u0000\u0000\u0000\u0000\u0000\u0000\u0000\u0000\u0000\u0000�\u0019\u0000\u0000docProps/core.xmlPK\u0001\u0002-\u0000\u0014\u0000\u0006\u0000\b\u0000\u0000\u0000!\u0000aI\t\u0010�\u0001\u0000\u0000\u0011\u0003\u0000\u0000\u0010\u0000\u0000\u0000\u0000\u0000\u0000\u0000\u0000\u0000\u0000\u0000\u0000\u0000O\u001C\u0000\u0000docProps/app.xmlPK\u0005\u0006\u0000\u0000\u0000\u0000</td><td>null</td></tr><tr><td>\u0000�\u0002\u0000\u0000\u000E\u001F\u0000\u0000\u0000\u0000</td><td>null</td></tr><tr><td>?�9L�ҙ\u0015�sbgٮ|�l!��\u001AUSh9i�b�r:\"y_dl��D��\u0013�|-N��R\"4\u0012�2�G�%��Z�4�˝y�7\të��ɂ�\u001F��\u0001\u0000\u0000��\u0003\u0000PK\u0003\u0004\u0014\u0000\u0006\u0000\b\u0000\u0000\u0000!\u0000{�q�&\u0003\u0000\u0000%\u0007\u0000\u0000\u000F\u0000\u0000\u0000xl/workbook.xml�UMo�8\u0010�/��@𮈔e9\u0016�\u0014��`\u0003��F�6\u0017\u0001\u0001C�\u00117\u0012�%�/\u0014��;����/ٶ�M�\u001C���̛���}S��0Vj�azF0\u0012��R��\f��\u000E�1�����Z�\f\u001F���/��q����A�'\u0004\u0000�f�r�M���J4̞�V(���i���y\fmk\u0004+m%�k�0\"$\t\u001B&\u0015�\u0011R�\u0016\f�^K.r�7�P�\u00071�f\u000E��J�v@k�[�\u001Af�6m�u�\u0002ă��;t�\u00185<�yTڰ�\u001A���1�\u001B�%�\u0004�hx\u0013�N^�Hn��kw\u0006�aO��JBJ_�`\u001A��!š\u0011[�s���$?�*y�J�`��2\u001A\u0005iuZI!x?�6~�\u0016�ˋ��ŗ^����_��1��u�R:Qfx\u0002K�\u0013�</td><td>null</td></tr><tr><td>��lګ���\u001AM�\u0011��勜W\u0006\u0016��Y�Q̉�V\u000E��L�We�a�+</td><td>null</td></tr><tr><td>F\u001Fſ\u001Bi\u0004�\u000EH\b܁��=�\u0015s\u0015ژ:���l��bIȔN'��J�Fn\u0005\n",
       "</td><td>null</td></tr><tr><td>Т�h)����:��KX\u001D�\\l�s�XAH�2�\u001F���\u001D�jAF�R0�����V�JI����\u001F:\u001A�`u�-TFa</td><td>null</td></tr><tr><td>�1��wZg���?�θ\u000Fv\b\u0001����\u0018l��I\u0007E��Ap�/!���\u0016r\fJ*�[�</td><td>null</td></tr><tr><td>$���\u00157)��zE)�@c\t��|\u0016ĳ�E0�M� �ŋy2Σ�|\u0003gL�r�6�z����p\fZ91}`��BI����W�|\u0005~�a\u0018l߼þQ~�bg�B�K����Ի\f\u0007@\u001C����3���U��4���~�O!\u001F+`LI�\t\u0005�e�\u0015��gt</td><td>null</td></tr><tr><td>W��W���(u-\u0019�u3R]\u0019}�m�B��s\u0017d(�Կ�ܔ]ń�1\u0010\u0011_\u0019���$�ґ�Z��Һn\u00069K�Gc2�\u0010H\bY��A|>���x\u0014\u0005�8�\u0016��\"_\\�}~�'%�\u001D����t�Vy�\u00153��0�\u0004��Q���\u0005A�\u000E\u0001_���:\u001CN]�\u0007\u0000\u0000��\u0003\u0000PK\u0003\u0004\u0014\u0000\u0006\u0000\b\u0000\u0000\u0000!\u0000�>���\u0000\u0000\u0000�\u0002\u0000\u0000\u001A\u0000\b\u0001xl/_rels/workbook.xml.rels �\u0004\u0001(�\u0000\u0001\u0000\u0000\u0000\u0000\u0000\u0000\u0000\u0000\u0000\u0000\u0000\u0000\u0000\u0000\u0000\u0000\u0000\u0000\u0000\u0000\u0000\u0000\u0000\u0000\u0000\u0000\u0000\u0000\u0000\u0000\u0000\u0000\u0000\u0000\u0000\u0000\u0000\u0000\u0000\u0000\u0000\u0000\u0000\u0000\u0000\u0000\u0000\u0000\u0000\u0000\u0000\u0000\u0000\u0000\u0000\u0000\u0000\u0000\u0000\u0000\u0000\u0000\u0000\u0000\u0000\u0000\u0000\u0000\u0000\u0000\u0000\u0000\u0000\u0000\u0000\u0000\u0000\u0000\u0000\u0000\u0000\u0000\u0000\u0000\u0000\u0000\u0000\u0000\u0000\u0000\u0000\u0000\u0000\u0000\u0000\u0000\u0000\u0000\u0000\u0000\u0000\u0000\u0000\u0000\u0000\u0000\u0000\u0000\u0000\u0000\u0000\u0000\u0000\u0000\u0000\u0000\u0000\u0000\u0000\u0000\u0000\u0000\u0000\u0000\u0000\u0000\u0000\u0000\u0000\u0000\u0000\u0000\u0000\u0000\u0000\u0000\u0000\u0000\u0000\u0000\u0000\u0000\u0000\u0000\u0000\u0000\u0000\u0000\u0000\u0000\u0000\u0000\u0000\u0000\u0000\u0000\u0000\u0000\u0000\u0000\u0000\u0000\u0000\u0000\u0000\u0000\u0000\u0000\u0000\u0000\u0000\u0000\u0000\u0000\u0000\u0000\u0000\u0000\u0000\u0000\u0000\u0000\u0000\u0000\u0000\u0000\u0000\u0000\u0000\u0000\u0000\u0000\u0000\u0000\u0000\u0000\u0000\u0000\u0000\u0000\u0000\u0000\u0000\u0000\u0000\u0000\u0000\u0000\u0000\u0000\u0000\u0000\u0000\u0000\u0000\u0000\u0000\u0000\u0000\u0000\u0000\u0000\u0000\u0000\u0000\u0000\u0000\u0000\u0000\u0000\u0000\u0000\u0000\u0000\u0000\u0000\u0000\u0000\u0000\u0000\u0000\u0000\u0000\u0000\u0000\u0000\u0000\u0000\u0000\u0000\u0000\u0000\u0000\u0000\u0000\u0000�RMK�0\u0010�\u000B��0w�v\u0015\u0011�t/\"�U�\u000F\bɴ)�&!3~��\u001B*�]X�K/\u0003o�y���v�5\u000E�\u0003\u0013��+��\u0012\u0004z\u0013l�;\u0005o���\u0003\bb�\u001E�G\u0005\u0013\u0012����\u000B\u000E�s\u0013�>��</td><td>�\u00148��(%\u0019���\"D��҆4j�0u2js�\u001D�MY�˴���S쭂��� �)f���C��\u0006��y\u001F��\u0019\tI<</td></tr><tr><td>y\u0000���!+��E�\b��fMy�k���\f�\u001C�K\u001E�5=|�t ��G\u001F)�s墙�U��tB��)���</td><td>���f�����\u0000\u0000\u0000��\u0003\u0000PK\u0003\u0004\u0014\u0000\u0006\u0000\b\u0000\u0000\u0000!\u0000\u0002�\u0002\u0000\u0000\u0010\u0006\u0000\u0000\u0018\u0000\u0000\u0000xl/worksheets/sheet1.xml���n�0\u0010���\u000E���\t�JD@m)joU��q&��Kj�MU߽�P\u0016�\u000B\"J쉗��x�\u0015Y��Қ�&QL\t\u0018asi�\u0019�����(񁛜+k �[�t<��\u0019��[�\u0012 \u0010$\u0018��2�*e̋\u00124�����La��\u0001ݜ��\u0001ϛMZ�v\u001C�����\u001D!u�0lQH\u0001\u0013+�\u001AL�A\u001C(\u001E0_���iZ\\���-�UKX]!b&�\f�\u0006J�\u0016���X�g</td></tr><tr><td>��$].����Ư��i�ϔ�\u0014�z[�\b�l��y�\u00036`\\\u001CH��_�I���J�\u0017xD��K)�\u001DX�#�s%�����ҥ�3�\u0013�?-쓺���~���\u001B��\"\u000E���'�S��Ѱ�ϗ��?�I�wP \u0002�FBImϙ��z�\u000B\u000E�H�͂��E�+x\u0004�2�����F\u0003C\u0014`\u0007��x�6m\f��H\u000E\u0005_��f�� �e@�n��Bk���v\u0002^�EQ:����\u0007\u0000\u0000��\u0000\u0000\u0000�����\u000E� \u0014�_��\u0000�O�\u001C�e� �غ�&���#m\b�+���;\u001FgHw����k%����ZDQ�\u001Ezta�\bT�h�Ms}��\u0019;�\u0016��\u000B���֞Cq8ra?+\"�$6?֥���2��>e<gC�Dd8�G�ǟ-�K\u0017\"�j`��</td><td>null</td></tr><tr><td>��iT\u00100�!��ow2k�ǚ/֠{\u0017\"��\u0001X��\b��4�'��SR�'0i���\u000F\u0000\u0000\u0000��\u0000\u0000\u0000���)HLO�M</td><td>J��+V�IM+�U2�3WR(�Lπ�K�\u000B���J</td></tr><tr><td>I�%%��0^FjbJj\u0011�g�����_\u0002������\u0017e\u0017g����\u0001\u0000\u0000\u0000��\u0003\u0000PK\u0003\u0004\u0014\u0000\u0006\u0000\b\u0000\u0000\u0000!\u0000u>�i�\u0006\u0000\u0000�\u001A\u0000\u0000\u0013\u0000\u0000\u0000xl/theme/theme1.xml�Y[��F\u0014~/�?\b�;�I���\u001Bl�N��&!��ql��Ɏ4F3ލ\t��<��PHK_</td><td>null</td></tr><tr><td>}�C)</td><td>null</td></tr><tr><td>4�З����6�\u0011=3����8�˦�%kX��w�|s��7\u0017]�t/��\u0011N9aIۭ^��\u000EN�lB�Y۽5\u001C����\u0005J&��\u0004��%��ݏ?��vD�c�}�wPۍ����|\f͈_`s���)Kc$�6��'):\u0006�1-�*��\u001C#��N�bp{}:%c�\f�Kww�O�6\u0011\\6�iz ]c�Ba'�U��K\u001E��9B��B?\u0013v<����P�\u0005<h�\u0015��w/��NnD�\u0016[�n��r��`rXS}��ѺS�󽠳��\u0000Tl���~�\u000F��\u0014\u0000��0Ҍ���ﶺ=?�j������ի\u0006^�_�������+P����\u000F\u0006!D��+P��-1i�B��+P�\u000F6��J��5\f�\u0002E�$�\u001B�\u001F���hא)�W���</td><td>null</td></tr><tr><td>\u001A��y��jXW��b�\u0012���bt��\u0003\u0000H E�$�X��\u0014���CD�(%�\u001E�EPxs�0\u000E͕ZeP����ԕ�\b��H����\t�h�|\u001C>N�\\��O���A�?{v�����_O\u001E=:y�s޷re�]A�L�{��W}����/߿|�u��i<��/~���o���=��\b��o��x����_���c��N�F:|Hb̝k�ع�b\u0018��?\u001E�of1�\u00101</td><td>P\u0004�-��\"2�ז��p]l��v</td></tr><tr><td>*c\u0003^^�5�\u001ED�B\u0010K�W��\u0000�3F�</td><td>�\u0006��K��p��읧\u000B\u001Dw\u0013�#[�!J�\u0004�\u0017s�Wbs\u0019Fؠy��D�\u0019N�p�3v��etw\b1�O�)�l*�;��\"b</td></tr><tr><td>ɐ��B*���\u0018�\u0011�T\u001B�ٿ�t\u0019�����L$�\u0016�Z�\u000F15�x\u0019-\u0004�m.�(�z����l$\u000F��X����L�0eN�9��\\Oa�Zү���ӾO���L\u00059���C���\u001E;\f#\u0014ϭ�I\u0012��O�!�(rn0a��3�</td><td>null</td></tr><tr><td>���\u0007�lM�m��t�-\u0004�@\\uJE��'�Ԓ�˘���N\u0011V*\u0003�oHzL�3���������5�\u001C4���]Լ�\u0012�;u唆o��\u0007���\u0016�</td><td>null</td></tr><tr><td>\f/����A�?\b���\u0017�m����u�� ��Z]���\u000B�)��@</td><td>)��j��a^�\f�Qm*��r���Gp�o\u0013\f�</td></tr><tr><td>\u0012Z��$�2��\u0004�թ\u001F��g�[EJ</td><td>null</td></tr><tr><td>z2\u0014�����h��\\K\u00119�</td><td>null</td></tr><tr><td>4ѕ�&�q�</td><td>null</td></tr><tr><td>�>���Ѽ�Na�\u000F��\u001Cj��\u0005/�38<\u001B�4{��FY�)\u0017=ģ</td><td>�Jt25����CI�v����@\u0013�!�[�\u0006��%�\u0002Y������I��)\u001E\u000B=�Z��tv\u000B</td></tr><tr><td>�i���2{��d\u000BH�A49vFt��DPb~�*\u00038!\u001C��Y4'\u0004�3�BV�ߩ�)�]�@Q�P֎�<B����y\u0006W\"�����1���1C@7C8��\t��gݳ�j\u00199M4�9�P\u00159k����M�\u001A�b\u00125Xeҭ�</td><td>null</td></tr><tr><td>�к�J�P���\u0019��kL\b\u001A��3��d�)�R��V��9.\b�H\u0004[⶞#��xۙ\u001F�NW�� V�JU��Ç�m���x��\u0014xA\u0005W��/\u000F)�E_v���\u0006�\"�D�F�+g���{��w��懥J��W)5�N����z��W+�n�\u0001L</td><td>��~��e\u0000\u0007Qt�zQ�\u001B�_��Yۅ1��L}^)+���K����C@t�\u0007�A���\u0006�V�3(y�n��\n",
       "</td></tr><tr><td>�n�\u0017��ޠ\u0017������\u001C)�ש�^�o��j\u0018���\"�7[��W�u�F���:\u000F�e\f�<��<\u0016\u0010^�k�o\u0000\u0000\u0000��\u0003\u0000PK\u0003\u0004\u0014\u0000\u0006\u0000\b\u0000\u0000\u0000!\u0000y��l�\u0002\u0000\u0000R\u0006\u0000\u0000</td><td>null</td></tr><tr><td>\u0000\u0000\u0000xl/styles.xml�Umk�0\u0010�>�\u0010���v�</td><td>\t����P�Ơ\u001D�bˉ�^�$g����Nv^\u001C:��~�N��s��sRқN</td></tr><tr><td>�c�r�2\u001C]�\u00181UꊫM��>\u0015�\f#먪�Њex�</td><td>��߿K��\u000B��e�!�P6�[�\u0005!��2I�n��/�6�:ؚ</td></tr><tr><td>��a����\u0014$\u000E�)��+< </td><td>d�? ���\tJ-\u001B���\u000B��=\u0016F�\\�o�6t-�j\u0017Mh��hjbԙc���\"���V��</td></tr><tr><td>p��k^��t�dNhyF\u0002��!E\t\t��;�J�\t1lǽ|8Ok��E�n�\u00031��o��Y���s��S�\u0003�\u0000O�I��Zh�\u001CH\u0007��=�J6D�R�׆���J.��;��^�C���{�$��a�p�\u000Bqb\u0015{\u0002��S��1�</td><td>null</td></tr><tr><td>ؠ���o ��I\u001B`��Do\f�Gq2:@��y�֦��>����S�j\u0007D</td><td>null</td></tr><tr><td>�l��t\u0003�k�\u001C���\u0015�\u001B���\f '\u0003�)�\u0010�~���\u0017�]�T+\u000B��\f�=�M8�P��\u001C����\u001F�</td><td>null</td></tr><tr><td>�o�E]}�\u000F�#�\u0017�O��;ß�u\u001509\u0007\b�n�p\\��0`Vݹ\u0005�W����7�\u0005:Q����=�>f�lb\u0015oe|���w��\u0010\u0019>�\u000F^�h�s��=X\u0018/XQkx��-?�WwE\u001C���</td><td>�\\�$�'�U�Ln��U1\u000F�����\u0001x���߫<����\u0002\u001E\ts(�P��ٗ��f���(�\u001Es����c\u0012�Aq\u001DF�dJg�lz�\u0004E\u0012ū�dy�\u0014Ɉ{��g\"$Q4<8�|�p\\2��Q��Bc/�\u0004ۿ\u0014A�J��A�\u001B\u0000\u0000��\u0003\u0000PK\u0003\u0004\u0014\u0000\u0006\u0000\b\u0000\u0000\u0000!\u0000�\u0013��\u0000\u0000\u0000^\u0001\u0000\u0000\u0014\u0000\u0000\u0000xl/sharedStrings.xmld��J\u00031\u0010\u0006��;��۬\u001ED%I���^�>���n\u0002��6�-��7\"\"����?0��^Ҭ�T$f��\u0019@\u0011��G�</td></tr><tr><td>j�xZi�����Lu�\u001B]����G\u0018\u0013���iA��</td><td>8c����}�.�f!�}�\u0003r���\u0014bO�x�����\u0000\u0000\u0000��\u0003\u0000PK\u0003\u0004\u0014\u0000\u0006\u0000\b\u0000\u0000\u0000!\u0000�y1T\u0001\u0000\u0000\u0002\u0000\u0000\u0011\u0000\b\u0001docProps/core.xml �\u0004\u0001(�\u0000\u0001\u0000\u0000\u0000\u0000\u0000\u0000\u0000\u0000\u0000\u0000\u0000\u0000\u0000\u0000\u0000\u0000\u0000\u0000\u0000\u0000\u0000\u0000\u0000\u0000\u0000\u0000\u0000\u0000\u0000\u0000\u0000\u0000\u0000\u0000\u0000\u0000\u0000\u0000\u0000\u0000\u0000\u0000\u0000\u0000\u0000\u0000\u0000\u0000\u0000\u0000\u0000\u0000\u0000\u0000\u0000\u0000\u0000\u0000\u0000\u0000\u0000\u0000\u0000\u0000\u0000\u0000\u0000\u0000\u0000\u0000\u0000\u0000\u0000\u0000\u0000\u0000\u0000\u0000\u0000\u0000\u0000\u0000\u0000\u0000\u0000\u0000\u0000\u0000\u0000\u0000\u0000\u0000\u0000\u0000\u0000\u0000\u0000\u0000\u0000\u0000\u0000\u0000\u0000\u0000\u0000\u0000\u0000\u0000\u0000\u0000\u0000\u0000\u0000\u0000\u0000\u0000\u0000\u0000\u0000\u0000\u0000\u0000\u0000\u0000\u0000\u0000\u0000\u0000\u0000\u0000\u0000\u0000\u0000\u0000\u0000\u0000\u0000\u0000\u0000\u0000\u0000\u0000\u0000\u0000\u0000\u0000\u0000\u0000\u0000\u0000\u0000\u0000\u0000\u0000\u0000\u0000\u0000\u0000\u0000\u0000\u0000\u0000\u0000\u0000\u0000\u0000\u0000\u0000\u0000\u0000\u0000\u0000\u0000\u0000\u0000\u0000\u0000\u0000\u0000\u0000\u0000\u0000\u0000\u0000\u0000\u0000\u0000\u0000\u0000\u0000\u0000\u0000\u0000\u0000\u0000\u0000\u0000\u0000\u0000\u0000\u0000\u0000\u0000\u0000\u0000\u0000\u0000\u0000\u0000\u0000\u0000\u0000\u0000\u0000\u0000\u0000\u0000\u0000\u0000\u0000\u0000\u0000\u0000\u0000\u0000\u0000\u0000\u0000\u0000\u0000\u0000\u0000\u0000\u0000\u0000\u0000\u0000\u0000\u0000\u0000\u0000\u0000\u0000\u0000\u0000\u0000\u0000\u0000\u0000\u0000\u0000\u0000\u0000\u0000\u0000\u0000|�_k�0\u0014��\u0007�\u000E�w��?+A-t�O+\f���[Hnk���d�����:G�A^�{��{H�<��;�6�R)��\u0010y�XŅ:��%��\u000B�\u0019K\u0015�e� Eg0h���%�&���\u001A�\u0015`<GR��:E��5�ذ\u0002$5�S(W�WZR���k�>�\u0001p\u001C�s</td></tr><tr><td>]e��k�����Y_\u001C�'#\u0006a�4A3�l8�\u0011~�>�U}�ڬ\u0018�</td><td>�0</td></tr><tr><td>�V:[�\u0011\u0014��۹T\u000BoU�qj����ͳ��n]�{\u0001|u���V�u��#�{�.闻V^'��|��8�f~8��Y\u001E-H�@��u򣿵�?ȋ����\u000Fݙ�����lL�\u0002�\u0004�|��\u000B\u0000\u0000��\u0003\u0000PK\u0003\u0004\u0014\u0000\u0006\u0000\b\u0000\u0000\u0000!\u0000aI\t\u0010�\u0001\u0000\u0000\u0011\u0003\u0000\u0000\u0010\u0000\b\u0001docProps/app.xml �\u0004\u0001(�\u0000\u0001\u0000\u0000\u0000\u0000\u0000\u0000\u0000\u0000\u0000\u0000\u0000\u0000\u0000\u0000\u0000\u0000\u0000\u0000\u0000\u0000\u0000\u0000\u0000\u0000\u0000\u0000\u0000\u0000\u0000\u0000\u0000\u0000\u0000\u0000\u0000\u0000\u0000\u0000\u0000\u0000\u0000\u0000\u0000\u0000\u0000\u0000\u0000\u0000\u0000\u0000\u0000\u0000\u0000\u0000\u0000\u0000\u0000\u0000\u0000\u0000\u0000\u0000\u0000\u0000\u0000\u0000\u0000\u0000\u0000\u0000\u0000\u0000\u0000\u0000\u0000\u0000\u0000\u0000\u0000\u0000\u0000\u0000\u0000\u0000\u0000\u0000\u0000\u0000\u0000\u0000\u0000\u0000\u0000\u0000\u0000\u0000\u0000\u0000\u0000\u0000\u0000\u0000\u0000\u0000\u0000\u0000\u0000\u0000\u0000\u0000\u0000\u0000\u0000\u0000\u0000\u0000\u0000\u0000\u0000\u0000\u0000\u0000\u0000\u0000\u0000\u0000\u0000\u0000\u0000\u0000\u0000\u0000\u0000\u0000\u0000\u0000\u0000\u0000\u0000\u0000\u0000\u0000\u0000\u0000\u0000\u0000\u0000\u0000\u0000\u0000\u0000\u0000\u0000\u0000\u0000\u0000\u0000\u0000\u0000\u0000\u0000\u0000\u0000\u0000\u0000\u0000\u0000\u0000\u0000\u0000\u0000\u0000\u0000\u0000\u0000\u0000\u0000\u0000\u0000\u0000\u0000\u0000\u0000\u0000\u0000\u0000\u0000\u0000\u0000\u0000\u0000\u0000\u0000\u0000\u0000\u0000\u0000\u0000\u0000\u0000\u0000\u0000\u0000\u0000\u0000\u0000\u0000\u0000\u0000\u0000\u0000\u0000\u0000\u0000\u0000\u0000\u0000\u0000\u0000\u0000\u0000\u0000\u0000\u0000\u0000\u0000\u0000\u0000\u0000\u0000\u0000\u0000\u0000\u0000\u0000\u0000\u0000\u0000\u0000\u0000\u0000\u0000\u0000\u0000\u0000\u0000\u0000\u0000\u0000\u0000\u0000\u0000\u0000\u0000\u0000\u0000��Ao�0\f��\u0003�\u001F\f�\u001B9�P\f��bHW��a\u0001��gM�c��$����׏����z��{x�DI�\u001C:_����P��\u0014\u0005\u0004\u001Bk\u0017��x��]~\u0015\u0005�\t��1@%���F_|R�\u001C\u0013dr�\u0005G\u0004�DK�VR�m�3�`9����\u0019�6�el\u001Ag�6ڗ\u000E\u0002ɫ���p \b5ԗ�\u0014(��UO\u001F</td><td>null</td></tr><tr><td>��\u001D��qwL\f�շ���������9bl��~�������`_���.���jk��5\u0007��x\u0004%�\u0006�\u001Ḛ��q\u0019��iՃ��\u000BtxmW��m\u0010\u0006�J�&;\u0013��\u0006�Ԍ�OHY?���-\u0000��l��c9��k�E/G\u0003\u0017��!`\u0002a�\u001Cq��\u0003�j6&�;��9��0�N8ہo:s�7^�O�'{\u001D�d�S�Åg|H�xk\b^�y>T��d��\u0005N�></td><td>null</td></tr><tr><td>�=o2�!dݚ�����0<������zQ~.�]g3%����\u000B\u0000\u0000��\u0003\u0000PK\u0001\u0002-\u0000\u0014\u0000\u0006\u0000\b\u0000\u0000\u0000!\u0000b�h^\u0001\u0000\u0000�\u0004\u0000\u0000\u0013\u0000\u0000\u0000\u0000\u0000\u0000\u0000\u0000\u0000\u0000\u0000\u0000\u0000\u0000\u0000\u0000\u0000[Content_Types].xmlPK\u0001\u0002-\u0000\u0014\u0000\u0006\u0000\b\u0000\u0000\u0000!\u0000�U0#�\u0000\u0000\u0000L\u0002\u0000\u0000\u000B\u0000\u0000\u0000\u0000\u0000\u0000\u0000\u0000\u0000\u0000\u0000\u0000\u0000�\u0003\u0000\u0000_rels/.relsPK\u0001\u0002-\u0000\u0014\u0000\u0006\u0000\b\u0000\u0000\u0000!\u0000{�q�&\u0003\u0000\u0000%\u0007\u0000\u0000\u000F\u0000\u0000\u0000\u0000\u0000\u0000\u0000\u0000\u0000\u0000\u0000\u0000\u0000�\u0006\u0000\u0000xl/workbook.xmlPK\u0001\u0002-\u0000\u0014\u0000\u0006\u0000\b\u0000\u0000\u0000!\u0000�>���\u0000\u0000\u0000�\u0002\u0000\u0000\u001A\u0000\u0000\u0000\u0000\u0000\u0000\u0000\u0000\u0000\u0000\u0000\u0000\u0000\u000F</td><td>null</td></tr><tr><td>\u0000\u0000xl/_rels/workbook.xml.relsPK\u0001\u0002-\u0000\u0014\u0000\u0006\u0000\b\u0000\u0000\u0000!\u0000\u0002�\u0002\u0000\u0000\u0010\u0006\u0000\u0000\u0018\u0000\u0000\u0000\u0000\u0000\u0000\u0000\u0000\u0000\u0000\u0000\u0000\u0000B\f\u0000\u0000xl/worksheets/sheet1.xmlPK\u0001\u0002-\u0000\u0014\u0000\u0006\u0000\b\u0000\u0000\u0000!\u0000u>�i�\u0006\u0000\u0000�\u001A\u0000\u0000\u0013\u0000\u0000\u0000\u0000\u0000\u0000\u0000\u0000\u0000\u0000\u0000\u0000\u0000\u001C\u000F\u0000\u0000xl/theme/theme1.xmlPK\u0001\u0002-\u0000\u0014\u0000\u0006\u0000\b\u0000\u0000\u0000!\u0000y��l�\u0002\u0000\u0000R\u0006\u0000\u0000</td><td>null</td></tr><tr><td>\u0000\u0000\u0000\u0000\u0000\u0000\u0000\u0000\u0000\u0000\u0000\u0000\u0000�\u0015\u0000\u0000xl/styles.xmlPK\u0001\u0002-\u0000\u0014\u0000\u0006\u0000\b\u0000\u0000\u0000!\u0000�\u0013��\u0000\u0000\u0000^\u0001\u0000\u0000\u0014\u0000\u0000\u0000\u0000\u0000\u0000\u0000\u0000\u0000\u0000\u0000\u0000\u0000�\u0018\u0000\u0000xl/sharedStrings.xmlPK\u0001\u0002-\u0000\u0014\u0000\u0006\u0000\b\u0000\u0000\u0000!\u0000�y1T\u0001\u0000\u0000\u0002\u0000\u0000\u0011\u0000\u0000\u0000\u0000\u0000\u0000\u0000\u0000\u0000\u0000\u0000\u0000\u0000�\u0019\u0000\u0000docProps/core.xmlPK\u0001\u0002-\u0000\u0014\u0000\u0006\u0000\b\u0000\u0000\u0000!\u0000aI\t\u0010�\u0001\u0000\u0000\u0011\u0003\u0000\u0000\u0010\u0000\u0000\u0000\u0000\u0000\u0000\u0000\u0000\u0000\u0000\u0000\u0000\u00008\u001C\u0000\u0000docProps/app.xmlPK\u0005\u0006\u0000\u0000\u0000\u0000</td><td>null</td></tr><tr><td>\u0000�\u0002\u0000\u0000�\u001E\u0000\u0000\u0000\u0000</td><td>null</td></tr><tr><td>1</td><td>ram</td></tr><tr><td>2</td><td>mohan</td></tr><tr><td>3</td><td>Mukesh</td></tr><tr><td>4</td><td>Ramesh</td></tr><tr><td>1</td><td>ram</td></tr><tr><td>2</td><td>scott</td></tr></tbody></table></div>"
      ]
     },
     "metadata": {
      "application/vnd.databricks.v1+output": {
       "addedWidgets": {},
       "aggData": [],
       "aggError": "",
       "aggOverflow": false,
       "aggSchema": [],
       "aggSeriesLimitReached": false,
       "aggType": "",
       "arguments": {},
       "columnCustomDisplayInfos": {},
       "data": [
        [
         "?�9L�ҙ\u0015�sbgٮ|�l!��\u001AUSh9i�b�r:\"y_dl��D��\u0013�|-N��R\"4\u0012�2�G�%��Z�4�˝y�7\të��ɂ�\u001F��\u0001\u0000\u0000��\u0003\u0000PK\u0003\u0004\u0014\u0000\u0006\u0000\b\u0000\u0000\u0000!\u0000l7��>\u0003\u0000\u0000?\u0007\u0000\u0000\u000F\u0000\u0000\u0000xl/workbook.xml�U]o�6\u0014}\u001F�� �]!�O[�Sؒ�\u0005�\u0006�͚G��舋Dj$����}�t\u0014��K�N�IQW::��s��\u000FǾ��Li.��'7����e������q\u0019L|O\u001B*\u001A�I�f��i��ݯ��\u001E�z�H��\u0001��3�5f�\u0011�u�z�o��\u0004D�R���R=#=(F\u001B�2f�\u000E�\u0018���\\�g�\\�\u0007Cn��f��w=\u0013�\f�XG",
         null
        ],
        [
         "��-\u001F�����z�",
         null
        ],
        [
         "A-�\u0001 6����@}����g!\u0015�t���$�Q�/�?�0�� t����Jj�57\u0000�Τ��'\u0018\u0011�]\t��5x\u001FR�\u0014�s��7V*�AV�\u001BVz\u0001#���\bH�i%��� Z��-��n��c�����0�A{۩��:�M�pÚ���R\u001E��\u0002d�v�b�;��Y\u0018\u0011\u001Fݽ�y�`\u0001��w�)A",
         null
        ],
        [
         "+�0 �W�?++�]�\u0012D�}d�b�\u001D�\u0010�\u0003#�s��+jZo��s�4��?5���Mǻ��45@�R�\u000EmZkN��",
         null
        ],
        [
         "�3�(����v�n][��nѨd�uI",
         null
        ],
        [
         "E\u0018\u0007+%�b�Y?��\u0011��\u0007F��'m�խ�5�c\u0012؇.�8X��\u0000�AZն\u0001\u001A}c\u0004z��`\u0005Z�N ���B��w\u0002",
         null
        ],
        [
         "��Q�+�<8�/\u001F���\u001E\u0004@����\u0006q\u000F-&d�\f��Ȳh\u001E&�|Q΋��x�CBH�\u0016�<Y�U2YƐ�J�Zҝi_�eqg~\f*�",
         null
        ],
        [
         "�N�c��|Ǜ\u000B�/e���\"e0�.� ��*�N�$��\u0004gː��\"�j��[�g�\u000E�\"A��O\\4�0�\u0003b�s�~yp�'ޘ\u0016\u0012��!�r��\u001B��-0�\u0004�E��e6���#���\u0003\u000E�p�a�9F�\u001BJn�\u0006jn��3�'��\u0013�*��\u0015\u0018\f��w���y\t��������nL�)�l��h\u001E�q3\b�\u0003=\u0012�y��q��(\t��4\f&q\u0014\u0006E\\�U�Ue�H���[��[>~�",
         "˖*�h�\u0002.�ȶ\u000B����$�/�qd�Ƨ��\u0001\u0000\u0000��\u0003\u0000PK\u0003\u0004\u0014\u0000\u0006\u0000\b\u0000\u0000\u0000!\u0000�>���\u0000\u0000\u0000�\u0002\u0000\u0000\u001A\u0000\b\u0001xl/_rels/workbook.xml.rels �\u0004\u0001(�\u0000\u0001\u0000\u0000\u0000\u0000\u0000\u0000\u0000\u0000\u0000\u0000\u0000\u0000\u0000\u0000\u0000\u0000\u0000\u0000\u0000\u0000\u0000\u0000\u0000\u0000\u0000\u0000\u0000\u0000\u0000\u0000\u0000\u0000\u0000\u0000\u0000\u0000\u0000\u0000\u0000\u0000\u0000\u0000\u0000\u0000\u0000\u0000\u0000\u0000\u0000\u0000\u0000\u0000\u0000\u0000\u0000\u0000\u0000\u0000\u0000\u0000\u0000\u0000\u0000\u0000\u0000\u0000\u0000\u0000\u0000\u0000\u0000\u0000\u0000\u0000\u0000\u0000\u0000\u0000\u0000\u0000\u0000\u0000\u0000\u0000\u0000\u0000\u0000\u0000\u0000\u0000\u0000\u0000\u0000\u0000\u0000\u0000\u0000\u0000\u0000\u0000\u0000\u0000\u0000\u0000\u0000\u0000\u0000\u0000\u0000\u0000\u0000\u0000\u0000\u0000\u0000\u0000\u0000\u0000\u0000\u0000\u0000\u0000\u0000\u0000\u0000\u0000\u0000\u0000\u0000\u0000\u0000\u0000\u0000\u0000\u0000\u0000\u0000\u0000\u0000\u0000\u0000\u0000\u0000\u0000\u0000\u0000\u0000\u0000\u0000\u0000\u0000\u0000\u0000\u0000\u0000\u0000\u0000\u0000\u0000\u0000\u0000\u0000\u0000\u0000\u0000\u0000\u0000\u0000\u0000\u0000\u0000\u0000\u0000\u0000\u0000\u0000\u0000\u0000\u0000\u0000\u0000\u0000\u0000\u0000\u0000\u0000\u0000\u0000\u0000\u0000\u0000\u0000\u0000\u0000\u0000\u0000\u0000\u0000\u0000\u0000\u0000\u0000\u0000\u0000\u0000\u0000\u0000\u0000\u0000\u0000\u0000\u0000\u0000\u0000\u0000\u0000\u0000\u0000\u0000\u0000\u0000\u0000\u0000\u0000\u0000\u0000\u0000\u0000\u0000\u0000\u0000\u0000\u0000\u0000\u0000\u0000\u0000\u0000\u0000\u0000\u0000\u0000\u0000\u0000\u0000\u0000\u0000\u0000\u0000\u0000\u0000\u0000\u0000\u0000\u0000\u0000�RMK�0\u0010�\u000B��0w�v\u0015\u0011�t/\"�U�\u000F\bɴ)�&!3~��\u001B*�]X�K/\u0003o�y���v�5\u000E�\u0003\u0013��+��\u0012\u0004z\u0013l�;\u0005o���\u0003\bb�\u001E�G\u0005\u0013\u0012����\u000B\u000E�s\u0013�>��"
        ],
        [
         "y\u0000���!+��E�\b��fMy�k���\f�\u001C�K\u001E�5=|�t ��G\u001F)�s墙�U��tB��)���",
         "���f�����\u0000\u0000\u0000��\u0003\u0000PK\u0003\u0004\u0014\u0000\u0006\u0000\b\u0000\u0000\u0000!\u0000��f£\u0002\u0000\u0000\u0012\u0006\u0000\u0000\u0018\u0000\u0000\u0000xl/worksheets/sheet1.xml���n�0\u0010���\u000E���\tKU\"\u0002�"
        ],
        [
         "�ܪnw�L����6���{'�",
         "\u0012\u0017D��\u0013/�?c���V+�\u0006�5\u0019M��\u00120���"
        ],
        [
         "Ns�\\U-au���T2�\u001A(%Z������\u0015ֽM�\\��÷�_� ӌ_(i)���\b\u0011��>�����ϸ8�.�",
         null
        ],
        [
         "�t����/��jߖR�;��'X�F��\u0011V\u001F�KW2��O����O�&>5��_:\u001C�\u0012o���8(2����\u000Ee�A�/\t\u001B\u0016����@\u0004@���ڞsk���\u0019\u000E�H�͂��E�kx\u0006�2:�ÿ\u001B",
         null
        ],
        [
         "\fQ�\u001D\u0015��ڴ1��#9\u0014|�ݼ�\\�\u0001e�Q\u000F\u000B����1x�\u0016E��C�\u001F\u0000\u0000\u0000��\u0000\u0000\u0000�����\u000E� \u0018��[q\\���9�l�^\b#���������!P'��/|{dJw�v����\u001C��ll\u0010E�{���S-P���6���Yg�05��\\ %�w�\u00196�+\u0007�Y\u0011�g%��Z\u001B6\u001A�K�Xܺ���a�|�@�~v��\u0016y�ka���\"��M$�m\u001A#$��~-� �~&R�#j���{ka�W��:l�D�N��W���\u001A���\u0007\u0000\u0000��\u0000\u0000\u0000���)HLO�M",
         "J��+V�IM+�U2�3WR(�Lπ�K�\u000B���J"
        ],
        [
         "I�%%��0^FjbJj\u0011�g�����_\u0002������\u0017e\u0017g����\u0001\u0000\u0000\u0000��\u0003\u0000PK\u0003\u0004\u0014\u0000\u0006\u0000\b\u0000\u0000\u0000!\u0000u>�i�\u0006\u0000\u0000�\u001A\u0000\u0000\u0013\u0000\u0000\u0000xl/theme/theme1.xml�Y[��F\u0014~/�?\b�;�I���\u001Bl�N��&!��ql��Ɏ4F3ލ\t��<��PHK_",
         null
        ],
        [
         "}�C)",
         null
        ],
        [
         "4�З����6�\u0011=3����8�˦�%kX��w�|s��7\u0017]�t/��\u0011N9aIۭ^��\u000EN�lB�Y۽5\u001C����\u0005J&��\u0004��%��ݏ?��vD�c�}�wPۍ����|\f͈_`s���)Kc$�6��'):\u0006�1-�*��\u001C#��N�bp{}:%c�\f�Kww�O�6\u0011\\6�iz ]c�Ba'�U��K\u001E��9B��B?\u0013v<����P�\u0005<h�\u0015��w/��NnD�\u0016[�n��r��`rXS}��ѺS�󽠳��\u0000Tl���~�\u000F��\u0014\u0000��0Ҍ���ﶺ=?�j������ի\u0006^�_�������+P����\u000F\u0006!D��+P��-1i�B��+P�\u000F6��J��5\f�\u0002E�$�\u001B�\u001F���hא)�W���",
         null
        ],
        [
         "\u001A��y��jXW��b�\u0012���bt��\u0003\u0000H E�$�X��\u0014���CD�(%�\u001E�EPxs�0\u000E͕ZeP����ԕ�\b��H����\t�h�|\u001C>N�\\��O���A�?{v�����_O\u001E=:y�s޷re�]A�L�{��W}����/߿|�u��i<��/~���o���=��\b��o��x����_���c��N�F:|Hb̝k�ع�b\u0018��?\u001E�of1�\u00101",
         "P\u0004�-��\"2�ז��p]l��v"
        ],
        [
         "*c\u0003^^�5�\u001ED�B\u0010K�W��\u0000�3F�",
         "�\u0006��K��p��읧\u000B\u001Dw\u0013�#[�!J�\u0004�\u0017s�Wbs\u0019Fؠy��D�\u0019N�p�3v��etw\b1�O�)�l*�;��\"b"
        ],
        [
         "ɐ��B*���\u0018�\u0011�T\u001B�ٿ�t\u0019�����L$�\u0016�Z�\u000F15�x\u0019-\u0004�m.�(�z����l$\u000F��X����L�0eN�9��\\Oa�Zү���ӾO���L\u00059���C���\u001E;\f#\u0014ϭ�I\u0012��O�!�(rn0a��3�",
         null
        ],
        [
         "���\u0007�lM�m��t�-\u0004�@\\uJE��'�Ԓ�˘���N\u0011V*\u0003�oHzL�3���������5�\u001C4���]Լ�\u0012�;u唆o��\u0007���\u0016�",
         null
        ],
        [
         "\f/����A�?\b���\u0017�m����u�� ��Z]���\u000B�)��@",
         ")��j��a^�\f�Qm*��r���Gp�o\u0013\f�"
        ],
        [
         "\u0012Z��$�2��\u0004�թ\u001F��g�[EJ",
         null
        ],
        [
         "z2\u0014�����h��\\K\u00119�",
         null
        ],
        [
         "4ѕ�&�q�",
         null
        ],
        [
         "�>���Ѽ�Na�\u000F��\u001Cj��\u0005/�38<\u001B�4{��FY�)\u0017=ģ",
         "�Jt25����CI�v����@\u0013�!�[�\u0006��%�\u0002Y������I��)\u001E\u000B=�Z��tv\u000B"
        ],
        [
         "�i���2{��d\u000BH�A49vFt��DPb~�*\u00038!\u001C��Y4'\u0004�3�BV�ߩ�)�]�@Q�P֎�<B����y\u0006W\"�����1���1C@7C8��\t��gݳ�j\u00199M4�9�P\u00159k����M�\u001A�b\u00125Xeҭ�",
         null
        ],
        [
         "�к�J�P���\u0019��kL\b\u001A��3��d�)�R��V��9.\b�H\u0004[⶞#��xۙ\u001F�NW�� V�JU��Ç�m���x��\u0014xA\u0005W��/\u000F)�E_v���\u0006�\"�D�F�+g���{��w��懥J��W)5�N����z��W+�n�\u0001L",
         "��~��e\u0000\u0007Qt�zQ�\u001B�_��Yۅ1��L}^)+���K����C@t�\u0007�A���\u0006�V�3(y�n��\n"
        ],
        [
         "�n�\u0017��ޠ\u0017������\u001C)�ש�^�o��j\u0018���\"�7[��W�u�F���:\u000F�e\f�<��<\u0016\u0010^�k�o\u0000\u0000\u0000��\u0003\u0000PK\u0003\u0004\u0014\u0000\u0006\u0000\b\u0000\u0000\u0000!\u0000y��l�\u0002\u0000\u0000R\u0006\u0000\u0000",
         null
        ],
        [
         "\u0000\u0000\u0000xl/styles.xml�Umk�0\u0010�>�\u0010���v�",
         "\t����P�Ơ\u001D�bˉ�^�$g����Nv^\u001C:��~�N��s��sRқN"
        ],
        [
         "�c�r�2\u001C]�\u00181UꊫM��>\u0015�\f#먪�Њex�",
         "��߿K��\u000B��e�!�P6�[�\u0005!��2I�n��/�6�:ؚ"
        ],
        [
         "��a����\u0014$\u000E�)��+< ",
         "d�? ���\tJ-\u001B���\u000B��=\u0016F�\\�o�6t-�j\u0017Mh��hjbԙc���\"���V��"
        ],
        [
         "p��k^��t�dNhyF\u0002��!E\t\t��;�J�\t1lǽ|8Ok��E�n�\u00031��o��Y���s��S�\u0003�\u0000O�I��Zh�\u001CH\u0007��=�J6D�R�׆���J.��;��^�C���{�$��a�p�\u000Bqb\u0015{\u0002��S��1�",
         null
        ],
        [
         "ؠ���o ��I\u001B`��Do\f�Gq2:@��y�֦��>����S�j\u0007D",
         null
        ],
        [
         "�l��t\u0003�k�\u001C���\u0015�\u001B���\f '\u0003�)�\u0010�~���\u0017�]�T+\u000B��\f�=�M8�P��\u001C����\u001F�",
         null
        ],
        [
         "�o�E]}�\u000F�#�\u0017�O��;ß�u\u001509\u0007\b�n�p\\��0`Vݹ\u0005�W����7�\u0005:Q����=�>f�lb\u0015oe|���w��\u0010\u0019>�\u000F^�h�s��=X\u0018/XQkx��-?�WwE\u001C���",
         "�\\�$�'�U�Ln��U1\u000F�����\u0001x���߫<����\u0002\u001E\ts(�P��ٗ��f���(�\u001Es����c\u0012�Aq\u001DF�dJg�lz�\u0004E\u0012ū�dy�\u0014Ɉ{��g\"$Q4<8�|�p\\2��Q��Bc/�\u0004ۿ\u0014A�J��A�\u001B\u0000\u0000��\u0003\u0000PK\u0003\u0004\u0014\u0000\u0006\u0000\b\u0000\u0000\u0000!\u0000\u0013\u0001�\u0000\u0000\u0000Y\u0001\u0000\u0000\u0014\u0000\u0000\u0000xl/sharedStrings.xmldбN\u00031\f\u0006�\u001D�w���\u001C\u001D\u0010�$\u001D*�uA�\u0000���\"]�k�C��\u0013�\u0010R\u0018�Ͽ\u0007��.y6�T%\u0015�p�\u0019�\u0010�%&>yx{�{\u0004#�\u001Cq.L\u001E�$�\u000B�7NDM�e�0�.���8QFٔ��M��f�\u0016���R\t�LD�g�\u001D�\u0007�11����\u001E�����+�sp��Ӑ��\u001A��N?��}�\u000B�g�\u0019�?}��\u0017�c��P&�\u001E#\u001D{�K;WH�ܶׄ/\u0000\u0000\u0000��\u0003\u0000PK\u0003\u0004\u0014\u0000\u0006\u0000\b\u0000\u0000\u0000!\u0000ꊋ�W\u0001\u0000\u0000\u0002\u0000\u0000\u0011\u0000\b\u0001docProps/core.xml �\u0004\u0001(�\u0000\u0001\u0000\u0000\u0000\u0000\u0000\u0000\u0000\u0000\u0000\u0000\u0000\u0000\u0000\u0000\u0000\u0000\u0000\u0000\u0000\u0000\u0000\u0000\u0000\u0000\u0000\u0000\u0000\u0000\u0000\u0000\u0000\u0000\u0000\u0000\u0000\u0000\u0000\u0000\u0000\u0000\u0000\u0000\u0000\u0000\u0000\u0000\u0000\u0000\u0000\u0000\u0000\u0000\u0000\u0000\u0000\u0000\u0000\u0000\u0000\u0000\u0000\u0000\u0000\u0000\u0000\u0000\u0000\u0000\u0000\u0000\u0000\u0000\u0000\u0000\u0000\u0000\u0000\u0000\u0000\u0000\u0000\u0000\u0000\u0000\u0000\u0000\u0000\u0000\u0000\u0000\u0000\u0000\u0000\u0000\u0000\u0000\u0000\u0000\u0000\u0000\u0000\u0000\u0000\u0000\u0000\u0000\u0000\u0000\u0000\u0000\u0000\u0000\u0000\u0000\u0000\u0000\u0000\u0000\u0000\u0000\u0000\u0000\u0000\u0000\u0000\u0000\u0000\u0000\u0000\u0000\u0000\u0000\u0000\u0000\u0000\u0000\u0000\u0000\u0000\u0000\u0000\u0000\u0000\u0000\u0000\u0000\u0000\u0000\u0000\u0000\u0000\u0000\u0000\u0000\u0000\u0000\u0000\u0000\u0000\u0000\u0000\u0000\u0000\u0000\u0000\u0000\u0000\u0000\u0000\u0000\u0000\u0000\u0000\u0000\u0000\u0000\u0000\u0000\u0000\u0000\u0000\u0000\u0000\u0000\u0000\u0000\u0000\u0000\u0000\u0000\u0000\u0000\u0000\u0000\u0000\u0000\u0000\u0000\u0000\u0000\u0000\u0000\u0000\u0000\u0000\u0000\u0000\u0000\u0000\u0000\u0000\u0000\u0000\u0000\u0000\u0000\u0000\u0000\u0000\u0000\u0000\u0000\u0000\u0000\u0000\u0000\u0000\u0000\u0000\u0000\u0000\u0000\u0000\u0000\u0000\u0000\u0000\u0000\u0000\u0000\u0000\u0000\u0000\u0000\u0000\u0000\u0000\u0000\u0000\u0000\u0000\u0000\u0000\u0000\u0000\u0000|�_k�0\u0014��\u0007�\u000E�w���\u0006�Е>�0�cco!��2\u0013%�j��\u0017m�\u001C�\u0006yI{�!��(K�\u0000�\u0014�J\u0010\tB��(�>A/�ڟ!�X�\u0004++\u0005\t:�A���.�5商g]ՠm\u0001�s$e(�\u0013�[[S�"
        ],
        [
         "�A2\u00138�r�]�%����f���\u0001Ga8�\u0012",
         "\u0013�2�\u0002��'�\u000BR�\u001EY�\u0003\b��\u0004\t�\u001AL\u0002���\u0016�4�6t��R\u0016�T��.v�l���^}4E/l�&hF�"
        ],
        [
         "���Ӷ[�/T�\u0015\u0007�ƂS���J�+8�\u0012�y[�j�-�6N]�x�i�",
         "��\u001B\u0017��\u0000�<��v+uӺ��#Ax�.=/w���\u001EW�\u001A�QH&~8��IFf�<�(|o���o�\u001F��Ͽ�h��22�dN���x\u0005�1��2�\u0017\u0000\u0000\u0000��\u0003\u0000PK\u0003\u0004\u0014\u0000\u0006\u0000\b\u0000\u0000\u0000!\u0000aI\t\u0010�\u0001\u0000\u0000\u0011\u0003\u0000\u0000\u0010\u0000\b\u0001docProps/app.xml �\u0004\u0001(�\u0000\u0001\u0000\u0000\u0000\u0000\u0000\u0000\u0000\u0000\u0000\u0000\u0000\u0000\u0000\u0000\u0000\u0000\u0000\u0000\u0000\u0000\u0000\u0000\u0000\u0000\u0000\u0000\u0000\u0000\u0000\u0000\u0000\u0000\u0000\u0000\u0000\u0000\u0000\u0000\u0000\u0000\u0000\u0000\u0000\u0000\u0000\u0000\u0000\u0000\u0000\u0000\u0000\u0000\u0000\u0000\u0000\u0000\u0000\u0000\u0000\u0000\u0000\u0000\u0000\u0000\u0000\u0000\u0000\u0000\u0000\u0000\u0000\u0000\u0000\u0000\u0000\u0000\u0000\u0000\u0000\u0000\u0000\u0000\u0000\u0000\u0000\u0000\u0000\u0000\u0000\u0000\u0000\u0000\u0000\u0000\u0000\u0000\u0000\u0000\u0000\u0000\u0000\u0000\u0000\u0000\u0000\u0000\u0000\u0000\u0000\u0000\u0000\u0000\u0000\u0000\u0000\u0000\u0000\u0000\u0000\u0000\u0000\u0000\u0000\u0000\u0000\u0000\u0000\u0000\u0000\u0000\u0000\u0000\u0000\u0000\u0000\u0000\u0000\u0000\u0000\u0000\u0000\u0000\u0000\u0000\u0000\u0000\u0000\u0000\u0000\u0000\u0000\u0000\u0000\u0000\u0000\u0000\u0000\u0000\u0000\u0000\u0000\u0000\u0000\u0000\u0000\u0000\u0000\u0000\u0000\u0000\u0000\u0000\u0000\u0000\u0000\u0000\u0000\u0000\u0000\u0000\u0000\u0000\u0000\u0000\u0000\u0000\u0000\u0000\u0000\u0000\u0000\u0000\u0000\u0000\u0000\u0000\u0000\u0000\u0000\u0000\u0000\u0000\u0000\u0000\u0000\u0000\u0000\u0000\u0000\u0000\u0000\u0000\u0000\u0000\u0000\u0000\u0000\u0000\u0000\u0000\u0000\u0000\u0000\u0000\u0000\u0000\u0000\u0000\u0000\u0000\u0000\u0000\u0000\u0000\u0000\u0000\u0000\u0000\u0000\u0000\u0000\u0000\u0000\u0000\u0000\u0000\u0000\u0000\u0000\u0000\u0000\u0000\u0000\u0000\u0000\u0000��Ao�0\f��\u0003�\u001F\f�\u001B9�P\f��bHW��a\u0001��gM�c��$����׏����z��{x�DI�\u001C:_����P��\u0014\u0005\u0004\u001Bk\u0017��x��]~\u0015\u0005�\t��1@%���F_|R�\u001C\u0013dr�\u0005G\u0004�DK�VR�m�3�`9����\u0019�6�el\u001Ag�6ڗ\u000E\u0002ɫ���p \b5ԗ�\u0014(��UO\u001F"
        ],
        [
         "��\u001D��qwL\f�շ���������9bl��~�������`_���.���jk��5\u0007��x\u0004%�\u0006�\u001Ḛ��q\u0019��iՃ��\u000BtxmW��m\u0010\u0006�J�&;\u0013��\u0006�Ԍ�OHY?���-\u0000��l��c9��k�E/G\u0003\u0017��!`\u0002a�\u001Cq��\u0003�j6&�;��9��0�N8ہo:s�7^�O�'{\u001D�d�S�Åg|H�xk\b^�y>T��d��\u0005N�>",
         null
        ],
        [
         "�=o2�!dݚ�����0<������zQ~.�]g3%����\u000B\u0000\u0000��\u0003\u0000PK\u0001\u0002-\u0000\u0014\u0000\u0006\u0000\b\u0000\u0000\u0000!\u0000b�h^\u0001\u0000\u0000�\u0004\u0000\u0000\u0013\u0000\u0000\u0000\u0000\u0000\u0000\u0000\u0000\u0000\u0000\u0000\u0000\u0000\u0000\u0000\u0000\u0000[Content_Types].xmlPK\u0001\u0002-\u0000\u0014\u0000\u0006\u0000\b\u0000\u0000\u0000!\u0000�U0#�\u0000\u0000\u0000L\u0002\u0000\u0000\u000B\u0000\u0000\u0000\u0000\u0000\u0000\u0000\u0000\u0000\u0000\u0000\u0000\u0000�\u0003\u0000\u0000_rels/.relsPK\u0001\u0002-\u0000\u0014\u0000\u0006\u0000\b\u0000\u0000\u0000!\u0000l7��>\u0003\u0000\u0000?\u0007\u0000\u0000\u000F\u0000\u0000\u0000\u0000\u0000\u0000\u0000\u0000\u0000\u0000\u0000\u0000\u0000�\u0006\u0000\u0000xl/workbook.xmlPK\u0001\u0002-\u0000\u0014\u0000\u0006\u0000\b\u0000\u0000\u0000!\u0000�>���\u0000\u0000\u0000�\u0002\u0000\u0000\u001A\u0000\u0000\u0000\u0000\u0000\u0000\u0000\u0000\u0000\u0000\u0000\u0000\u0000'",
         null
        ],
        [
         "\u0000\u0000xl/_rels/workbook.xml.relsPK\u0001\u0002-\u0000\u0014\u0000\u0006\u0000\b\u0000\u0000\u0000!\u0000��f£\u0002\u0000\u0000\u0012\u0006\u0000\u0000\u0018\u0000\u0000\u0000\u0000\u0000\u0000\u0000\u0000\u0000\u0000\u0000\u0000\u0000Z\f\u0000\u0000xl/worksheets/sheet1.xmlPK\u0001\u0002-\u0000\u0014\u0000\u0006\u0000\b\u0000\u0000\u0000!\u0000u>�i�\u0006\u0000\u0000�\u001A\u0000\u0000\u0013\u0000\u0000\u0000\u0000\u0000\u0000\u0000\u0000\u0000\u0000\u0000\u0000\u00003\u000F\u0000\u0000xl/theme/theme1.xmlPK\u0001\u0002-\u0000\u0014\u0000\u0006\u0000\b\u0000\u0000\u0000!\u0000y��l�\u0002\u0000\u0000R\u0006\u0000\u0000",
         null
        ],
        [
         "\u0000\u0000\u0000\u0000\u0000\u0000\u0000\u0000\u0000\u0000\u0000\u0000\u0000�\u0015\u0000\u0000xl/styles.xmlPK\u0001\u0002-\u0000\u0014\u0000\u0006\u0000\b\u0000\u0000\u0000!\u0000\u0013\u0001�\u0000\u0000\u0000Y\u0001\u0000\u0000\u0014\u0000\u0000\u0000\u0000\u0000\u0000\u0000\u0000\u0000\u0000\u0000\u0000\u0000�\u0018\u0000\u0000xl/sharedStrings.xmlPK\u0001\u0002-\u0000\u0014\u0000\u0006\u0000\b\u0000\u0000\u0000!\u0000ꊋ�W\u0001\u0000\u0000\u0002\u0000\u0000\u0011\u0000\u0000\u0000\u0000\u0000\u0000\u0000\u0000\u0000\u0000\u0000\u0000\u0000�\u0019\u0000\u0000docProps/core.xmlPK\u0001\u0002-\u0000\u0014\u0000\u0006\u0000\b\u0000\u0000\u0000!\u0000aI\t\u0010�\u0001\u0000\u0000\u0011\u0003\u0000\u0000\u0010\u0000\u0000\u0000\u0000\u0000\u0000\u0000\u0000\u0000\u0000\u0000\u0000\u0000O\u001C\u0000\u0000docProps/app.xmlPK\u0005\u0006\u0000\u0000\u0000\u0000",
         null
        ],
        [
         "\u0000�\u0002\u0000\u0000\u000E\u001F\u0000\u0000\u0000\u0000",
         null
        ],
        [
         "?�9L�ҙ\u0015�sbgٮ|�l!��\u001AUSh9i�b�r:\"y_dl��D��\u0013�|-N��R\"4\u0012�2�G�%��Z�4�˝y�7\të��ɂ�\u001F��\u0001\u0000\u0000��\u0003\u0000PK\u0003\u0004\u0014\u0000\u0006\u0000\b\u0000\u0000\u0000!\u0000{�q�&\u0003\u0000\u0000%\u0007\u0000\u0000\u000F\u0000\u0000\u0000xl/workbook.xml�UMo�8\u0010�/��@𮈔e9\u0016�\u0014��`\u0003��F�6\u0017\u0001\u0001C�\u00117\u0012�%�/\u0014��;����/ٶ�M�\u001C���̛���}S��0Vj�azF0\u0012��R��\f��\u000E�1�����Z�\f\u001F���/��q����A�'\u0004\u0000�f�r�M���J4̞�V(���i���y\fmk\u0004+m%�k�0\"$\t\u001B&\u0015�\u0011R�\u0016\f�^K.r�7�P�\u00071�f\u000E��J�v@k�[�\u001Af�6m�u�\u0002ă��;t�\u00185<�yTڰ�\u001A���1�\u001B�%�\u0004�hx\u0013�N^�Hn��kw\u0006�aO��JBJ_�`\u001A��!š\u0011[�s���$?�*y�J�`��2\u001A\u0005iuZI!x?�6~�\u0016�ˋ��ŗ^����_��1��u�R:Qfx\u0002K�\u0013�",
         null
        ],
        [
         "��lګ���\u001AM�\u0011��勜W\u0006\u0016��Y�Q̉�V\u000E��L�We�a�+",
         null
        ],
        [
         "F\u001Fſ\u001Bi\u0004�\u000EH\b܁��=�\u0015s\u0015ژ:���l��bIȔN'��J�Fn\u0005\n",
         null
        ],
        [
         "Т�h)����:��KX\u001D�\\l�s�XAH�2�\u001F���\u001D�jAF�R0�����V�JI����\u001F:\u001A�`u�-TFa",
         null
        ],
        [
         "�1��wZg���?�θ\u000Fv\b\u0001����\u0018l��I\u0007E��Ap�/!���\u0016r\fJ*�[�",
         null
        ],
        [
         "$���\u00157)��zE)�@c\t��|\u0016ĳ�E0�M� �ŋy2Σ�|\u0003gL�r�6�z����p\fZ91}`��BI����W�|\u0005~�a\u0018l߼þQ~�bg�B�K����Ի\f\u0007@\u001C����3���U��4���~�O!\u001F+`LI�\t\u0005�e�\u0015��gt",
         null
        ],
        [
         "W��W���(u-\u0019�u3R]\u0019}�m�B��s\u0017d(�Կ�ܔ]ń�1\u0010\u0011_\u0019���$�ґ�Z��Һn\u00069K�Gc2�\u0010H\bY��A|>���x\u0014\u0005�8�\u0016��\"_\\�}~�'%�\u001D����t�Vy�\u00153��0�\u0004��Q���\u0005A�\u000E\u0001_���:\u001CN]�\u0007\u0000\u0000��\u0003\u0000PK\u0003\u0004\u0014\u0000\u0006\u0000\b\u0000\u0000\u0000!\u0000�>���\u0000\u0000\u0000�\u0002\u0000\u0000\u001A\u0000\b\u0001xl/_rels/workbook.xml.rels �\u0004\u0001(�\u0000\u0001\u0000\u0000\u0000\u0000\u0000\u0000\u0000\u0000\u0000\u0000\u0000\u0000\u0000\u0000\u0000\u0000\u0000\u0000\u0000\u0000\u0000\u0000\u0000\u0000\u0000\u0000\u0000\u0000\u0000\u0000\u0000\u0000\u0000\u0000\u0000\u0000\u0000\u0000\u0000\u0000\u0000\u0000\u0000\u0000\u0000\u0000\u0000\u0000\u0000\u0000\u0000\u0000\u0000\u0000\u0000\u0000\u0000\u0000\u0000\u0000\u0000\u0000\u0000\u0000\u0000\u0000\u0000\u0000\u0000\u0000\u0000\u0000\u0000\u0000\u0000\u0000\u0000\u0000\u0000\u0000\u0000\u0000\u0000\u0000\u0000\u0000\u0000\u0000\u0000\u0000\u0000\u0000\u0000\u0000\u0000\u0000\u0000\u0000\u0000\u0000\u0000\u0000\u0000\u0000\u0000\u0000\u0000\u0000\u0000\u0000\u0000\u0000\u0000\u0000\u0000\u0000\u0000\u0000\u0000\u0000\u0000\u0000\u0000\u0000\u0000\u0000\u0000\u0000\u0000\u0000\u0000\u0000\u0000\u0000\u0000\u0000\u0000\u0000\u0000\u0000\u0000\u0000\u0000\u0000\u0000\u0000\u0000\u0000\u0000\u0000\u0000\u0000\u0000\u0000\u0000\u0000\u0000\u0000\u0000\u0000\u0000\u0000\u0000\u0000\u0000\u0000\u0000\u0000\u0000\u0000\u0000\u0000\u0000\u0000\u0000\u0000\u0000\u0000\u0000\u0000\u0000\u0000\u0000\u0000\u0000\u0000\u0000\u0000\u0000\u0000\u0000\u0000\u0000\u0000\u0000\u0000\u0000\u0000\u0000\u0000\u0000\u0000\u0000\u0000\u0000\u0000\u0000\u0000\u0000\u0000\u0000\u0000\u0000\u0000\u0000\u0000\u0000\u0000\u0000\u0000\u0000\u0000\u0000\u0000\u0000\u0000\u0000\u0000\u0000\u0000\u0000\u0000\u0000\u0000\u0000\u0000\u0000\u0000\u0000\u0000\u0000\u0000\u0000\u0000\u0000\u0000\u0000\u0000\u0000\u0000\u0000\u0000\u0000\u0000\u0000\u0000�RMK�0\u0010�\u000B��0w�v\u0015\u0011�t/\"�U�\u000F\bɴ)�&!3~��\u001B*�]X�K/\u0003o�y���v�5\u000E�\u0003\u0013��+��\u0012\u0004z\u0013l�;\u0005o���\u0003\bb�\u001E�G\u0005\u0013\u0012����\u000B\u000E�s\u0013�>��",
         "�\u00148��(%\u0019���\"D��҆4j�0u2js�\u001D�MY�˴���S쭂��� �)f���C��\u0006��y\u001F��\u0019\tI<"
        ],
        [
         "y\u0000���!+��E�\b��fMy�k���\f�\u001C�K\u001E�5=|�t ��G\u001F)�s墙�U��tB��)���",
         "���f�����\u0000\u0000\u0000��\u0003\u0000PK\u0003\u0004\u0014\u0000\u0006\u0000\b\u0000\u0000\u0000!\u0000\u0002�\u0002\u0000\u0000\u0010\u0006\u0000\u0000\u0018\u0000\u0000\u0000xl/worksheets/sheet1.xml���n�0\u0010���\u000E���\t�JD@m)joU��q&��Kj�MU߽�P\u0016�\u000B\"J쉗��x�\u0015Y��Қ�&QL\t\u0018asi�\u0019�����(񁛜+k �[�t<��\u0019��[�\u0012 \u0010$\u0018��2�*e̋\u00124�����La��\u0001ݜ��\u0001ϛMZ�v\u001C�����\u001D!u�0lQH\u0001\u0013+�\u001AL�A\u001C(\u001E0_���iZ\\���-�UKX]!b&�\f�\u0006J�\u0016���X�g"
        ],
        [
         "��$].����Ư��i�ϔ�\u0014�z[�\b�l��y�\u00036`\\\u001CH��_�I���J�\u0017xD��K)�\u001DX�#�s%�����ҥ�3�\u0013�?-쓺���~���\u001B��\"\u000E���'�S��Ѱ�ϗ��?�I�wP \u0002�FBImϙ��z�\u000B\u000E�H�͂��E�+x\u0004�2�����F\u0003C\u0014`\u0007��x�6m\f��H\u000E\u0005_��f�� �e@�n��Bk���v\u0002^�EQ:����\u0007\u0000\u0000��\u0000\u0000\u0000�����\u000E� \u0014�_��\u0000�O�\u001C�e� �غ�&���#m\b�+���;\u001FgHw����k%����ZDQ�\u001Ezta�\bT�h�Ms}��\u0019;�\u0016��\u000B���֞Cq8ra?+\"�$6?֥���2��>e<gC�Dd8�G�ǟ-�K\u0017\"�j`��",
         null
        ],
        [
         "��iT\u00100�!��ow2k�ǚ/֠{\u0017\"��\u0001X��\b��4�'��SR�'0i���\u000F\u0000\u0000\u0000��\u0000\u0000\u0000���)HLO�M",
         "J��+V�IM+�U2�3WR(�Lπ�K�\u000B���J"
        ],
        [
         "I�%%��0^FjbJj\u0011�g�����_\u0002������\u0017e\u0017g����\u0001\u0000\u0000\u0000��\u0003\u0000PK\u0003\u0004\u0014\u0000\u0006\u0000\b\u0000\u0000\u0000!\u0000u>�i�\u0006\u0000\u0000�\u001A\u0000\u0000\u0013\u0000\u0000\u0000xl/theme/theme1.xml�Y[��F\u0014~/�?\b�;�I���\u001Bl�N��&!��ql��Ɏ4F3ލ\t��<��PHK_",
         null
        ],
        [
         "}�C)",
         null
        ],
        [
         "4�З����6�\u0011=3����8�˦�%kX��w�|s��7\u0017]�t/��\u0011N9aIۭ^��\u000EN�lB�Y۽5\u001C����\u0005J&��\u0004��%��ݏ?��vD�c�}�wPۍ����|\f͈_`s���)Kc$�6��'):\u0006�1-�*��\u001C#��N�bp{}:%c�\f�Kww�O�6\u0011\\6�iz ]c�Ba'�U��K\u001E��9B��B?\u0013v<����P�\u0005<h�\u0015��w/��NnD�\u0016[�n��r��`rXS}��ѺS�󽠳��\u0000Tl���~�\u000F��\u0014\u0000��0Ҍ���ﶺ=?�j������ի\u0006^�_�������+P����\u000F\u0006!D��+P��-1i�B��+P�\u000F6��J��5\f�\u0002E�$�\u001B�\u001F���hא)�W���",
         null
        ],
        [
         "\u001A��y��jXW��b�\u0012���bt��\u0003\u0000H E�$�X��\u0014���CD�(%�\u001E�EPxs�0\u000E͕ZeP����ԕ�\b��H����\t�h�|\u001C>N�\\��O���A�?{v�����_O\u001E=:y�s޷re�]A�L�{��W}����/߿|�u��i<��/~���o���=��\b��o��x����_���c��N�F:|Hb̝k�ع�b\u0018��?\u001E�of1�\u00101",
         "P\u0004�-��\"2�ז��p]l��v"
        ],
        [
         "*c\u0003^^�5�\u001ED�B\u0010K�W��\u0000�3F�",
         "�\u0006��K��p��읧\u000B\u001Dw\u0013�#[�!J�\u0004�\u0017s�Wbs\u0019Fؠy��D�\u0019N�p�3v��etw\b1�O�)�l*�;��\"b"
        ],
        [
         "ɐ��B*���\u0018�\u0011�T\u001B�ٿ�t\u0019�����L$�\u0016�Z�\u000F15�x\u0019-\u0004�m.�(�z����l$\u000F��X����L�0eN�9��\\Oa�Zү���ӾO���L\u00059���C���\u001E;\f#\u0014ϭ�I\u0012��O�!�(rn0a��3�",
         null
        ],
        [
         "���\u0007�lM�m��t�-\u0004�@\\uJE��'�Ԓ�˘���N\u0011V*\u0003�oHzL�3���������5�\u001C4���]Լ�\u0012�;u唆o��\u0007���\u0016�",
         null
        ],
        [
         "\f/����A�?\b���\u0017�m����u�� ��Z]���\u000B�)��@",
         ")��j��a^�\f�Qm*��r���Gp�o\u0013\f�"
        ],
        [
         "\u0012Z��$�2��\u0004�թ\u001F��g�[EJ",
         null
        ],
        [
         "z2\u0014�����h��\\K\u00119�",
         null
        ],
        [
         "4ѕ�&�q�",
         null
        ],
        [
         "�>���Ѽ�Na�\u000F��\u001Cj��\u0005/�38<\u001B�4{��FY�)\u0017=ģ",
         "�Jt25����CI�v����@\u0013�!�[�\u0006��%�\u0002Y������I��)\u001E\u000B=�Z��tv\u000B"
        ],
        [
         "�i���2{��d\u000BH�A49vFt��DPb~�*\u00038!\u001C��Y4'\u0004�3�BV�ߩ�)�]�@Q�P֎�<B����y\u0006W\"�����1���1C@7C8��\t��gݳ�j\u00199M4�9�P\u00159k����M�\u001A�b\u00125Xeҭ�",
         null
        ],
        [
         "�к�J�P���\u0019��kL\b\u001A��3��d�)�R��V��9.\b�H\u0004[⶞#��xۙ\u001F�NW�� V�JU��Ç�m���x��\u0014xA\u0005W��/\u000F)�E_v���\u0006�\"�D�F�+g���{��w��懥J��W)5�N����z��W+�n�\u0001L",
         "��~��e\u0000\u0007Qt�zQ�\u001B�_��Yۅ1��L}^)+���K����C@t�\u0007�A���\u0006�V�3(y�n��\n"
        ],
        [
         "�n�\u0017��ޠ\u0017������\u001C)�ש�^�o��j\u0018���\"�7[��W�u�F���:\u000F�e\f�<��<\u0016\u0010^�k�o\u0000\u0000\u0000��\u0003\u0000PK\u0003\u0004\u0014\u0000\u0006\u0000\b\u0000\u0000\u0000!\u0000y��l�\u0002\u0000\u0000R\u0006\u0000\u0000",
         null
        ],
        [
         "\u0000\u0000\u0000xl/styles.xml�Umk�0\u0010�>�\u0010���v�",
         "\t����P�Ơ\u001D�bˉ�^�$g����Nv^\u001C:��~�N��s��sRқN"
        ],
        [
         "�c�r�2\u001C]�\u00181UꊫM��>\u0015�\f#먪�Њex�",
         "��߿K��\u000B��e�!�P6�[�\u0005!��2I�n��/�6�:ؚ"
        ],
        [
         "��a����\u0014$\u000E�)��+< ",
         "d�? ���\tJ-\u001B���\u000B��=\u0016F�\\�o�6t-�j\u0017Mh��hjbԙc���\"���V��"
        ],
        [
         "p��k^��t�dNhyF\u0002��!E\t\t��;�J�\t1lǽ|8Ok��E�n�\u00031��o��Y���s��S�\u0003�\u0000O�I��Zh�\u001CH\u0007��=�J6D�R�׆���J.��;��^�C���{�$��a�p�\u000Bqb\u0015{\u0002��S��1�",
         null
        ],
        [
         "ؠ���o ��I\u001B`��Do\f�Gq2:@��y�֦��>����S�j\u0007D",
         null
        ],
        [
         "�l��t\u0003�k�\u001C���\u0015�\u001B���\f '\u0003�)�\u0010�~���\u0017�]�T+\u000B��\f�=�M8�P��\u001C����\u001F�",
         null
        ],
        [
         "�o�E]}�\u000F�#�\u0017�O��;ß�u\u001509\u0007\b�n�p\\��0`Vݹ\u0005�W����7�\u0005:Q����=�>f�lb\u0015oe|���w��\u0010\u0019>�\u000F^�h�s��=X\u0018/XQkx��-?�WwE\u001C���",
         "�\\�$�'�U�Ln��U1\u000F�����\u0001x���߫<����\u0002\u001E\ts(�P��ٗ��f���(�\u001Es����c\u0012�Aq\u001DF�dJg�lz�\u0004E\u0012ū�dy�\u0014Ɉ{��g\"$Q4<8�|�p\\2��Q��Bc/�\u0004ۿ\u0014A�J��A�\u001B\u0000\u0000��\u0003\u0000PK\u0003\u0004\u0014\u0000\u0006\u0000\b\u0000\u0000\u0000!\u0000�\u0013��\u0000\u0000\u0000^\u0001\u0000\u0000\u0014\u0000\u0000\u0000xl/sharedStrings.xmld��J\u00031\u0010\u0006��;��۬\u001ED%I���^�>���n\u0002��6�-��7\"\"����?0��^Ҭ�T$f��\u0019@\u0011��G�"
        ],
        [
         "j�xZi�����Lu�\u001B]����G\u0018\u0013���iA��",
         "8c����}�.�f!�}�\u0003r���\u0014bO�x�����\u0000\u0000\u0000��\u0003\u0000PK\u0003\u0004\u0014\u0000\u0006\u0000\b\u0000\u0000\u0000!\u0000�y1T\u0001\u0000\u0000\u0002\u0000\u0000\u0011\u0000\b\u0001docProps/core.xml �\u0004\u0001(�\u0000\u0001\u0000\u0000\u0000\u0000\u0000\u0000\u0000\u0000\u0000\u0000\u0000\u0000\u0000\u0000\u0000\u0000\u0000\u0000\u0000\u0000\u0000\u0000\u0000\u0000\u0000\u0000\u0000\u0000\u0000\u0000\u0000\u0000\u0000\u0000\u0000\u0000\u0000\u0000\u0000\u0000\u0000\u0000\u0000\u0000\u0000\u0000\u0000\u0000\u0000\u0000\u0000\u0000\u0000\u0000\u0000\u0000\u0000\u0000\u0000\u0000\u0000\u0000\u0000\u0000\u0000\u0000\u0000\u0000\u0000\u0000\u0000\u0000\u0000\u0000\u0000\u0000\u0000\u0000\u0000\u0000\u0000\u0000\u0000\u0000\u0000\u0000\u0000\u0000\u0000\u0000\u0000\u0000\u0000\u0000\u0000\u0000\u0000\u0000\u0000\u0000\u0000\u0000\u0000\u0000\u0000\u0000\u0000\u0000\u0000\u0000\u0000\u0000\u0000\u0000\u0000\u0000\u0000\u0000\u0000\u0000\u0000\u0000\u0000\u0000\u0000\u0000\u0000\u0000\u0000\u0000\u0000\u0000\u0000\u0000\u0000\u0000\u0000\u0000\u0000\u0000\u0000\u0000\u0000\u0000\u0000\u0000\u0000\u0000\u0000\u0000\u0000\u0000\u0000\u0000\u0000\u0000\u0000\u0000\u0000\u0000\u0000\u0000\u0000\u0000\u0000\u0000\u0000\u0000\u0000\u0000\u0000\u0000\u0000\u0000\u0000\u0000\u0000\u0000\u0000\u0000\u0000\u0000\u0000\u0000\u0000\u0000\u0000\u0000\u0000\u0000\u0000\u0000\u0000\u0000\u0000\u0000\u0000\u0000\u0000\u0000\u0000\u0000\u0000\u0000\u0000\u0000\u0000\u0000\u0000\u0000\u0000\u0000\u0000\u0000\u0000\u0000\u0000\u0000\u0000\u0000\u0000\u0000\u0000\u0000\u0000\u0000\u0000\u0000\u0000\u0000\u0000\u0000\u0000\u0000\u0000\u0000\u0000\u0000\u0000\u0000\u0000\u0000\u0000\u0000\u0000\u0000\u0000\u0000\u0000\u0000\u0000\u0000\u0000\u0000\u0000\u0000|�_k�0\u0014��\u0007�\u000E�w��?+A-t�O+\f���[Hnk���d�����:G�A^�{��{H�<��;�6�R)��\u0010y�XŅ:��%��\u000B�\u0019K\u0015�e� Eg0h���%�&���\u001A�\u0015`<GR��:E��5�ذ\u0002$5�S(W�WZR���k�>�\u0001p\u001C�s"
        ],
        [
         "]e��k�����Y_\u001C�'#\u0006a�4A3�l8�\u0011~�>�U}�ڬ\u0018�",
         "�0"
        ],
        [
         "�V:[�\u0011\u0014��۹T\u000BoU�qj����ͳ��n]�{\u0001|u���V�u��#�{�.闻V^'��|��8�f~8��Y\u001E-H�@��u򣿵�?ȋ����\u000Fݙ�����lL�\u0002�\u0004�|��\u000B\u0000\u0000��\u0003\u0000PK\u0003\u0004\u0014\u0000\u0006\u0000\b\u0000\u0000\u0000!\u0000aI\t\u0010�\u0001\u0000\u0000\u0011\u0003\u0000\u0000\u0010\u0000\b\u0001docProps/app.xml �\u0004\u0001(�\u0000\u0001\u0000\u0000\u0000\u0000\u0000\u0000\u0000\u0000\u0000\u0000\u0000\u0000\u0000\u0000\u0000\u0000\u0000\u0000\u0000\u0000\u0000\u0000\u0000\u0000\u0000\u0000\u0000\u0000\u0000\u0000\u0000\u0000\u0000\u0000\u0000\u0000\u0000\u0000\u0000\u0000\u0000\u0000\u0000\u0000\u0000\u0000\u0000\u0000\u0000\u0000\u0000\u0000\u0000\u0000\u0000\u0000\u0000\u0000\u0000\u0000\u0000\u0000\u0000\u0000\u0000\u0000\u0000\u0000\u0000\u0000\u0000\u0000\u0000\u0000\u0000\u0000\u0000\u0000\u0000\u0000\u0000\u0000\u0000\u0000\u0000\u0000\u0000\u0000\u0000\u0000\u0000\u0000\u0000\u0000\u0000\u0000\u0000\u0000\u0000\u0000\u0000\u0000\u0000\u0000\u0000\u0000\u0000\u0000\u0000\u0000\u0000\u0000\u0000\u0000\u0000\u0000\u0000\u0000\u0000\u0000\u0000\u0000\u0000\u0000\u0000\u0000\u0000\u0000\u0000\u0000\u0000\u0000\u0000\u0000\u0000\u0000\u0000\u0000\u0000\u0000\u0000\u0000\u0000\u0000\u0000\u0000\u0000\u0000\u0000\u0000\u0000\u0000\u0000\u0000\u0000\u0000\u0000\u0000\u0000\u0000\u0000\u0000\u0000\u0000\u0000\u0000\u0000\u0000\u0000\u0000\u0000\u0000\u0000\u0000\u0000\u0000\u0000\u0000\u0000\u0000\u0000\u0000\u0000\u0000\u0000\u0000\u0000\u0000\u0000\u0000\u0000\u0000\u0000\u0000\u0000\u0000\u0000\u0000\u0000\u0000\u0000\u0000\u0000\u0000\u0000\u0000\u0000\u0000\u0000\u0000\u0000\u0000\u0000\u0000\u0000\u0000\u0000\u0000\u0000\u0000\u0000\u0000\u0000\u0000\u0000\u0000\u0000\u0000\u0000\u0000\u0000\u0000\u0000\u0000\u0000\u0000\u0000\u0000\u0000\u0000\u0000\u0000\u0000\u0000\u0000\u0000\u0000\u0000\u0000\u0000\u0000\u0000\u0000\u0000\u0000\u0000��Ao�0\f��\u0003�\u001F\f�\u001B9�P\f��bHW��a\u0001��gM�c��$����׏����z��{x�DI�\u001C:_����P��\u0014\u0005\u0004\u001Bk\u0017��x��]~\u0015\u0005�\t��1@%���F_|R�\u001C\u0013dr�\u0005G\u0004�DK�VR�m�3�`9����\u0019�6�el\u001Ag�6ڗ\u000E\u0002ɫ���p \b5ԗ�\u0014(��UO\u001F",
         null
        ],
        [
         "��\u001D��qwL\f�շ���������9bl��~�������`_���.���jk��5\u0007��x\u0004%�\u0006�\u001Ḛ��q\u0019��iՃ��\u000BtxmW��m\u0010\u0006�J�&;\u0013��\u0006�Ԍ�OHY?���-\u0000��l��c9��k�E/G\u0003\u0017��!`\u0002a�\u001Cq��\u0003�j6&�;��9��0�N8ہo:s�7^�O�'{\u001D�d�S�Åg|H�xk\b^�y>T��d��\u0005N�>",
         null
        ],
        [
         "�=o2�!dݚ�����0<������zQ~.�]g3%����\u000B\u0000\u0000��\u0003\u0000PK\u0001\u0002-\u0000\u0014\u0000\u0006\u0000\b\u0000\u0000\u0000!\u0000b�h^\u0001\u0000\u0000�\u0004\u0000\u0000\u0013\u0000\u0000\u0000\u0000\u0000\u0000\u0000\u0000\u0000\u0000\u0000\u0000\u0000\u0000\u0000\u0000\u0000[Content_Types].xmlPK\u0001\u0002-\u0000\u0014\u0000\u0006\u0000\b\u0000\u0000\u0000!\u0000�U0#�\u0000\u0000\u0000L\u0002\u0000\u0000\u000B\u0000\u0000\u0000\u0000\u0000\u0000\u0000\u0000\u0000\u0000\u0000\u0000\u0000�\u0003\u0000\u0000_rels/.relsPK\u0001\u0002-\u0000\u0014\u0000\u0006\u0000\b\u0000\u0000\u0000!\u0000{�q�&\u0003\u0000\u0000%\u0007\u0000\u0000\u000F\u0000\u0000\u0000\u0000\u0000\u0000\u0000\u0000\u0000\u0000\u0000\u0000\u0000�\u0006\u0000\u0000xl/workbook.xmlPK\u0001\u0002-\u0000\u0014\u0000\u0006\u0000\b\u0000\u0000\u0000!\u0000�>���\u0000\u0000\u0000�\u0002\u0000\u0000\u001A\u0000\u0000\u0000\u0000\u0000\u0000\u0000\u0000\u0000\u0000\u0000\u0000\u0000\u000F",
         null
        ],
        [
         "\u0000\u0000xl/_rels/workbook.xml.relsPK\u0001\u0002-\u0000\u0014\u0000\u0006\u0000\b\u0000\u0000\u0000!\u0000\u0002�\u0002\u0000\u0000\u0010\u0006\u0000\u0000\u0018\u0000\u0000\u0000\u0000\u0000\u0000\u0000\u0000\u0000\u0000\u0000\u0000\u0000B\f\u0000\u0000xl/worksheets/sheet1.xmlPK\u0001\u0002-\u0000\u0014\u0000\u0006\u0000\b\u0000\u0000\u0000!\u0000u>�i�\u0006\u0000\u0000�\u001A\u0000\u0000\u0013\u0000\u0000\u0000\u0000\u0000\u0000\u0000\u0000\u0000\u0000\u0000\u0000\u0000\u001C\u000F\u0000\u0000xl/theme/theme1.xmlPK\u0001\u0002-\u0000\u0014\u0000\u0006\u0000\b\u0000\u0000\u0000!\u0000y��l�\u0002\u0000\u0000R\u0006\u0000\u0000",
         null
        ],
        [
         "\u0000\u0000\u0000\u0000\u0000\u0000\u0000\u0000\u0000\u0000\u0000\u0000\u0000�\u0015\u0000\u0000xl/styles.xmlPK\u0001\u0002-\u0000\u0014\u0000\u0006\u0000\b\u0000\u0000\u0000!\u0000�\u0013��\u0000\u0000\u0000^\u0001\u0000\u0000\u0014\u0000\u0000\u0000\u0000\u0000\u0000\u0000\u0000\u0000\u0000\u0000\u0000\u0000�\u0018\u0000\u0000xl/sharedStrings.xmlPK\u0001\u0002-\u0000\u0014\u0000\u0006\u0000\b\u0000\u0000\u0000!\u0000�y1T\u0001\u0000\u0000\u0002\u0000\u0000\u0011\u0000\u0000\u0000\u0000\u0000\u0000\u0000\u0000\u0000\u0000\u0000\u0000\u0000�\u0019\u0000\u0000docProps/core.xmlPK\u0001\u0002-\u0000\u0014\u0000\u0006\u0000\b\u0000\u0000\u0000!\u0000aI\t\u0010�\u0001\u0000\u0000\u0011\u0003\u0000\u0000\u0010\u0000\u0000\u0000\u0000\u0000\u0000\u0000\u0000\u0000\u0000\u0000\u0000\u00008\u001C\u0000\u0000docProps/app.xmlPK\u0005\u0006\u0000\u0000\u0000\u0000",
         null
        ],
        [
         "\u0000�\u0002\u0000\u0000�\u001E\u0000\u0000\u0000\u0000",
         null
        ],
        [
         "1",
         "ram"
        ],
        [
         "2",
         "mohan"
        ],
        [
         "3",
         "Mukesh"
        ],
        [
         "4",
         "Ramesh"
        ],
        [
         "1",
         "ram"
        ],
        [
         "2",
         "scott"
        ]
       ],
       "datasetInfos": [],
       "dbfsResultPath": null,
       "isJsonSchema": true,
       "metadata": {},
       "overflow": false,
       "plotOptions": {
        "customPlotOptions": {},
        "displayType": "table",
        "pivotAggregation": null,
        "pivotColumns": null,
        "xColumns": null,
        "yColumns": null
       },
       "removedWidgets": [],
       "schema": [
        {
         "metadata": "{}",
         "name": "PK\u0003\u0004\u0014\u0000\u0006\u0000\b\u0000\u0000\u0000!\u0000b�h^\u0001\u0000\u0000�\u0004\u0000\u0000\u0013\u0000\b\u0002[Content_Types].xml �\u0004\u0002(�\u0000\u0002\u0000\u0000\u0000\u0000\u0000\u0000\u0000\u0000\u0000\u0000\u0000\u0000\u0000\u0000\u0000\u0000\u0000\u0000\u0000\u0000\u0000\u0000\u0000\u0000\u0000\u0000\u0000\u0000\u0000\u0000\u0000\u0000\u0000\u0000\u0000\u0000\u0000\u0000\u0000\u0000\u0000\u0000\u0000\u0000\u0000\u0000\u0000\u0000\u0000\u0000\u0000\u0000\u0000\u0000\u0000\u0000\u0000\u0000\u0000\u0000\u0000\u0000\u0000\u0000\u0000\u0000\u0000\u0000\u0000\u0000\u0000\u0000\u0000\u0000\u0000\u0000\u0000\u0000\u0000\u0000\u0000\u0000\u0000\u0000\u0000\u0000\u0000\u0000\u0000\u0000\u0000\u0000\u0000\u0000\u0000\u0000\u0000\u0000\u0000\u0000\u0000\u0000\u0000\u0000\u0000\u0000\u0000\u0000\u0000\u0000\u0000\u0000\u0000\u0000\u0000\u0000\u0000\u0000\u0000\u0000\u0000\u0000\u0000\u0000\u0000\u0000\u0000\u0000\u0000\u0000\u0000\u0000\u0000\u0000\u0000\u0000\u0000\u0000\u0000\u0000\u0000\u0000\u0000\u0000\u0000\u0000\u0000\u0000\u0000\u0000\u0000\u0000\u0000\u0000\u0000\u0000\u0000\u0000\u0000\u0000\u0000\u0000\u0000\u0000\u0000\u0000\u0000\u0000\u0000\u0000\u0000\u0000\u0000\u0000\u0000\u0000\u0000\u0000\u0000\u0000\u0000\u0000\u0000\u0000\u0000\u0000\u0000\u0000\u0000\u0000\u0000\u0000\u0000\u0000\u0000\u0000\u0000\u0000\u0000\u0000\u0000\u0000\u0000\u0000\u0000\u0000\u0000\u0000\u0000\u0000\u0000\u0000\u0000\u0000\u0000\u0000\u0000\u0000\u0000\u0000\u0000\u0000\u0000\u0000\u0000\u0000\u0000\u0000\u0000\u0000\u0000\u0000\u0000\u0000\u0000\u0000\u0000\u0000\u0000\u0000\u0000\u0000\u0000\u0000\u0000\u0000\u0000\u0000\u0000\u0000\u0000\u0000\u0000\u0000\u0000\u0000\u0000\u0000\u0000\u0000\u0000\u0000\u0000\u0000\u0000\u0000\u0000\u0000\u0000\u0000\u0000\u0000\u0000\u0000\u0000\u0000\u0000\u0000\u0000\u0000\u0000\u0000\u0000\u0000\u0000\u0000\u0000\u0000\u0000\u0000\u0000\u0000\u0000\u0000\u0000\u0000\u0000\u0000\u0000\u0000\u0000\u0000\u0000\u0000\u0000\u0000\u0000\u0000\u0000\u0000\u0000\u0000\u0000\u0000\u0000\u0000\u0000\u0000\u0000\u0000\u0000\u0000\u0000\u0000\u0000\u0000\u0000\u0000\u0000\u0000\u0000\u0000\u0000\u0000\u0000\u0000\u0000\u0000\u0000\u0000\u0000\u0000\u0000\u0000\u0000\u0000\u0000\u0000\u0000\u0000\u0000\u0000\u0000\u0000\u0000\u0000\u0000\u0000\u0000\u0000\u0000\u0000\u0000\u0000\u0000\u0000\u0000\u0000\u0000\u0000\u0000\u0000\u0000\u0000\u0000\u0000\u0000\u0000\u0000\u0000\u0000\u0000\u0000\u0000\u0000\u0000\u0000\u0000\u0000\u0000\u0000\u0000\u0000\u0000\u0000\u0000\u0000\u0000\u0000\u0000\u0000\u0000\u0000\u0000\u0000\u0000\u0000\u0000\u0000\u0000\u0000\u0000\u0000\u0000\u0000\u0000\u0000\u0000\u0000\u0000\u0000\u0000\u0000\u0000\u0000\u0000\u0000\u0000\u0000\u0000\u0000\u0000\u0000\u0000\u0000\u0000\u0000\u0000\u0000\u0000\u0000\u0000\u0000\u0000\u0000\u0000\u0000\u0000\u0000\u0000\u0000\u0000\u0000\u0000\u0000\u0000\u0000\u0000\u0000\u0000\u0000\u0000\u0000\u0000\u0000\u0000\u0000\u0000\u0000\u0000\u0000\u0000\u0000\u0000\u0000\u0000\u0000\u0000\u0000\u0000\u0000\u0000\u0000\u0000\u0000\u0000\u0000\u0000\u0000\u0000\u0000\u0000\u0000\u0000\u0000\u0000\u0000\u0000\u0000\u0000\u0000\u0000\u0000\u0000\u0000\u0000\u0000\u0000\u0000\u0000\u0000\u0000���N�0\u0010E�H�C�-Jܲ@\b5��\u0012*Q>�ēƪc[�ii����\u0010B�\u0015j7�\u0012��{2��h�nm���ƻR\f����U^\u001B7/���%�\u0017\u0019�rZY�\u0014\u001B@1\u0019__�f�\u0000�q��R4D�AJ�\u001Ah\u0015\u0016>����V\u0011�ƹ\f�Z�9����NV�\u00118ʩ�\u0010��\u0013�ji){^��-I\u0004�\"{�\u0016v^�P!XS)bR�r��K�s(�3�`c\u0002�0���\u000E���\u0006��7\u001EM4\u001A�����ZƐk+�|\\|z�(���P��6\u0015h_-[�@�!���\u0000Pk��\u0016�2n�}�?\u0015�L��� ��%�\u0013\u001C��\u001Bd����dN\u0018\"m",
         "type": "\"string\""
        },
        {
         "metadata": "{}",
         "name": "�ǞDO97*�~��ɸ8�O�c\u001C|n��\u0007�\u0004E��\u0014�\u0011���B\u0010��!$}�����;{���[����2�\u0006\u0000\u0000��\u0003\u0000PK\u0003\u0004\u0014\u0000\u0006\u0000\b\u0000\u0000\u0000!\u0000�U0#�\u0000\u0000\u0000L\u0002\u0000\u0000\u000B\u0000\b\u0002_rels/.rels �\u0004\u0002(�\u0000\u0002\u0000\u0000\u0000\u0000\u0000\u0000\u0000\u0000\u0000\u0000\u0000\u0000\u0000\u0000\u0000\u0000\u0000\u0000\u0000\u0000\u0000\u0000\u0000\u0000\u0000\u0000\u0000\u0000\u0000\u0000\u0000\u0000\u0000\u0000\u0000\u0000\u0000\u0000\u0000\u0000\u0000\u0000\u0000\u0000\u0000\u0000\u0000\u0000\u0000\u0000\u0000\u0000\u0000\u0000\u0000\u0000\u0000\u0000\u0000\u0000\u0000\u0000\u0000\u0000\u0000\u0000\u0000\u0000\u0000\u0000\u0000\u0000\u0000\u0000\u0000\u0000\u0000\u0000\u0000\u0000\u0000\u0000\u0000\u0000\u0000\u0000\u0000\u0000\u0000\u0000\u0000\u0000\u0000\u0000\u0000\u0000\u0000\u0000\u0000\u0000\u0000\u0000\u0000\u0000\u0000\u0000\u0000\u0000\u0000\u0000\u0000\u0000\u0000\u0000\u0000\u0000\u0000\u0000\u0000\u0000\u0000\u0000\u0000\u0000\u0000\u0000\u0000\u0000\u0000\u0000\u0000\u0000\u0000\u0000\u0000\u0000\u0000\u0000\u0000\u0000\u0000\u0000\u0000\u0000\u0000\u0000\u0000\u0000\u0000\u0000\u0000\u0000\u0000\u0000\u0000\u0000\u0000\u0000\u0000\u0000\u0000\u0000\u0000\u0000\u0000\u0000\u0000\u0000\u0000\u0000\u0000\u0000\u0000\u0000\u0000\u0000\u0000\u0000\u0000\u0000\u0000\u0000\u0000\u0000\u0000\u0000\u0000\u0000\u0000\u0000\u0000\u0000\u0000\u0000\u0000\u0000\u0000\u0000\u0000\u0000\u0000\u0000\u0000\u0000\u0000\u0000\u0000\u0000\u0000\u0000\u0000\u0000\u0000\u0000\u0000\u0000\u0000\u0000\u0000\u0000\u0000\u0000\u0000\u0000\u0000\u0000\u0000\u0000\u0000\u0000\u0000\u0000\u0000\u0000\u0000\u0000\u0000\u0000\u0000\u0000\u0000\u0000\u0000\u0000\u0000\u0000\u0000\u0000\u0000\u0000\u0000\u0000\u0000\u0000\u0000\u0000\u0000\u0000\u0000\u0000\u0000\u0000\u0000\u0000\u0000\u0000\u0000\u0000\u0000\u0000\u0000\u0000\u0000\u0000\u0000\u0000\u0000\u0000\u0000\u0000\u0000\u0000\u0000\u0000\u0000\u0000\u0000\u0000\u0000\u0000\u0000\u0000\u0000\u0000\u0000\u0000\u0000\u0000\u0000\u0000\u0000\u0000\u0000\u0000\u0000\u0000\u0000\u0000\u0000\u0000\u0000\u0000\u0000\u0000\u0000\u0000\u0000\u0000\u0000\u0000\u0000\u0000\u0000\u0000\u0000\u0000\u0000\u0000\u0000\u0000\u0000\u0000\u0000\u0000\u0000\u0000\u0000\u0000\u0000\u0000\u0000\u0000\u0000\u0000\u0000\u0000\u0000\u0000\u0000\u0000\u0000\u0000\u0000\u0000\u0000\u0000\u0000\u0000\u0000\u0000\u0000\u0000\u0000\u0000\u0000\u0000\u0000\u0000\u0000\u0000\u0000\u0000\u0000\u0000\u0000\u0000\u0000\u0000\u0000\u0000\u0000\u0000\u0000\u0000\u0000\u0000\u0000\u0000\u0000\u0000\u0000\u0000\u0000\u0000\u0000\u0000\u0000\u0000\u0000\u0000\u0000\u0000\u0000\u0000\u0000\u0000\u0000\u0000\u0000\u0000\u0000\u0000\u0000\u0000\u0000\u0000\u0000\u0000\u0000\u0000\u0000\u0000\u0000\u0000\u0000\u0000\u0000\u0000\u0000\u0000\u0000\u0000\u0000\u0000\u0000\u0000\u0000\u0000\u0000\u0000\u0000\u0000\u0000\u0000\u0000\u0000\u0000\u0000\u0000\u0000\u0000\u0000\u0000\u0000\u0000\u0000\u0000\u0000\u0000\u0000\u0000\u0000\u0000\u0000\u0000\u0000\u0000\u0000\u0000\u0000\u0000\u0000\u0000\u0000\u0000\u0000\u0000\u0000\u0000\u0000\u0000\u0000\u0000\u0000\u0000\u0000\u0000\u0000\u0000\u0000\u0000\u0000\u0000\u0000\u0000\u0000\u0000\u0000\u0000\u0000\u0000\u0000\u0000\u0000\u0000\u0000\u0000\u0000\u0000\u0000\u0000\u0000��MO�0\f��H�����ݐ\u0010BKwAH�!T~�I�\u000F���$\u001Bݿ'\u001C\u0010T\u001A�\u0003G�~����<���!��4��\u0012\u0014;#�w����qu\u0007*&r�Fq���\u0011v�����GJy(v��*����K��#F��D�\u0010�.W\u001A\t\u0013�\u001C�\u0016=��Z�MY�b��\u0001�BS���7��ϛז��",
         "type": "\"string\""
        }
       ],
       "type": "table"
      }
     },
     "output_type": "display_data"
    }
   ],
   "source": [
    "#read multiple csv files from a folder\n",
    "df=spark.read.csv(path='dbfs:/FileStore/tables/',header=True)\n",
    "display(df)"
   ]
  },
  {
   "cell_type": "markdown",
   "metadata": {
    "application/vnd.databricks.v1+cell": {
     "cellMetadata": {},
     "inputWidgets": {},
     "nuid": "ff93dd31-41da-4cc1-8d3e-5296d3d20d91",
     "showTitle": false,
     "tableResultSettingsMap": {},
     "title": ""
    }
   },
   "source": [
    "## Write Dataframe in to CSV using, write object\n"
   ]
  },
  {
   "cell_type": "code",
   "execution_count": 0,
   "metadata": {
    "application/vnd.databricks.v1+cell": {
     "cellMetadata": {
      "byteLimit": 2048000,
      "rowLimit": 10000
     },
     "inputWidgets": {},
     "nuid": "e5c6bd9a-6584-4709-829e-06cb3beb2451",
     "showTitle": false,
     "tableResultSettingsMap": {},
     "title": ""
    }
   },
   "outputs": [
    {
     "output_type": "display_data",
     "data": {
      "text/html": [
       "<style scoped>\n",
       "  .table-result-container {\n",
       "    max-height: 300px;\n",
       "    overflow: auto;\n",
       "  }\n",
       "  table, th, td {\n",
       "    border: 1px solid black;\n",
       "    border-collapse: collapse;\n",
       "  }\n",
       "  th, td {\n",
       "    padding: 5px;\n",
       "  }\n",
       "  th {\n",
       "    text-align: left;\n",
       "  }\n",
       "</style><div class='table-result-container'><table class='table-result'><thead style='background-color: white'><tr><th>id</th><th>name</th><th>salary</th></tr></thead><tbody><tr><td>1</td><td>ram</td><td>15.2</td></tr><tr><td>2</td><td>Mohan</td><td>25.3</td></tr><tr><td>3</td><td>Mukesh</td><td>45.2</td></tr></tbody></table></div>"
      ]
     },
     "metadata": {
      "application/vnd.databricks.v1+output": {
       "addedWidgets": {},
       "aggData": [],
       "aggError": "",
       "aggOverflow": false,
       "aggSchema": [],
       "aggSeriesLimitReached": false,
       "aggType": "",
       "arguments": {},
       "columnCustomDisplayInfos": {},
       "data": [
        [
         1,
         "ram",
         15.2
        ],
        [
         2,
         "Mohan",
         25.3
        ],
        [
         3,
         "Mukesh",
         45.2
        ]
       ],
       "datasetInfos": [],
       "dbfsResultPath": null,
       "isJsonSchema": true,
       "metadata": {},
       "overflow": false,
       "plotOptions": {
        "customPlotOptions": {},
        "displayType": "table",
        "pivotAggregation": null,
        "pivotColumns": null,
        "xColumns": null,
        "yColumns": null
       },
       "removedWidgets": [],
       "schema": [
        {
         "metadata": "{}",
         "name": "id",
         "type": "\"long\""
        },
        {
         "metadata": "{}",
         "name": "name",
         "type": "\"string\""
        },
        {
         "metadata": "{}",
         "name": "salary",
         "type": "\"double\""
        }
       ],
       "type": "table"
      }
     },
     "output_type": "display_data"
    }
   ],
   "source": [
    "# from pyspark.sql import *\n",
    "# data\n",
    "from pyspark.sql.types import *\n",
    "sample_data =[(1,'ram',15.20),(2,'Mohan',25.30),(3,'Mukesh',45.20)]\n",
    "df=spark.createDataFrame(data=sample_data,schema=['id','name','salary'])\n",
    "display(df)"
   ]
  },
  {
   "cell_type": "code",
   "execution_count": 0,
   "metadata": {
    "application/vnd.databricks.v1+cell": {
     "cellMetadata": {
      "byteLimit": 2048000,
      "rowLimit": 10000
     },
     "inputWidgets": {},
     "nuid": "28cf5434-23f6-4bf9-90e0-f05a5bdb97ef",
     "showTitle": false,
     "tableResultSettingsMap": {},
     "title": ""
    }
   },
   "outputs": [],
   "source": [
    "# help(df.write.csv)"
   ]
  },
  {
   "cell_type": "code",
   "execution_count": 0,
   "metadata": {
    "application/vnd.databricks.v1+cell": {
     "cellMetadata": {
      "byteLimit": 2048000,
      "rowLimit": 10000
     },
     "inputWidgets": {},
     "nuid": "18718073-01f3-43e0-b8dd-9ce5ed793ad1",
     "showTitle": false,
     "tableResultSettingsMap": {},
     "title": ""
    }
   },
   "outputs": [],
   "source": [
    "df.write.csv(path='dbfs:/FileStore/tables/export',header=True)"
   ]
  },
  {
   "cell_type": "code",
   "execution_count": 0,
   "metadata": {
    "application/vnd.databricks.v1+cell": {
     "cellMetadata": {
      "byteLimit": 2048000,
      "rowLimit": 10000
     },
     "inputWidgets": {},
     "nuid": "e6cba70f-9e81-4ebd-97b9-5d0e079efdfb",
     "showTitle": false,
     "tableResultSettingsMap": {},
     "title": ""
    }
   },
   "outputs": [
    {
     "output_type": "display_data",
     "data": {
      "text/html": [
       "<style scoped>\n",
       "  .table-result-container {\n",
       "    max-height: 300px;\n",
       "    overflow: auto;\n",
       "  }\n",
       "  table, th, td {\n",
       "    border: 1px solid black;\n",
       "    border-collapse: collapse;\n",
       "  }\n",
       "  th, td {\n",
       "    padding: 5px;\n",
       "  }\n",
       "  th {\n",
       "    text-align: left;\n",
       "  }\n",
       "</style><div class='table-result-container'><table class='table-result'><thead style='background-color: white'><tr><th>_c0</th><th>_c1</th><th>_c2</th></tr></thead><tbody><tr><td>id</td><td>name</td><td>salary</td></tr><tr><td>3</td><td>Mukesh</td><td>45.2</td></tr><tr><td>id</td><td>name</td><td>salary</td></tr><tr><td>2</td><td>Mohan</td><td>25.3</td></tr><tr><td>id</td><td>name</td><td>salary</td></tr><tr><td>1</td><td>ram</td><td>15.2</td></tr><tr><td>id</td><td>name</td><td>salary</td></tr></tbody></table></div>"
      ]
     },
     "metadata": {
      "application/vnd.databricks.v1+output": {
       "addedWidgets": {},
       "aggData": [],
       "aggError": "",
       "aggOverflow": false,
       "aggSchema": [],
       "aggSeriesLimitReached": false,
       "aggType": "",
       "arguments": {},
       "columnCustomDisplayInfos": {},
       "data": [
        [
         "id",
         "name",
         "salary"
        ],
        [
         "3",
         "Mukesh",
         "45.2"
        ],
        [
         "id",
         "name",
         "salary"
        ],
        [
         "2",
         "Mohan",
         "25.3"
        ],
        [
         "id",
         "name",
         "salary"
        ],
        [
         "1",
         "ram",
         "15.2"
        ],
        [
         "id",
         "name",
         "salary"
        ]
       ],
       "datasetInfos": [],
       "dbfsResultPath": null,
       "isJsonSchema": true,
       "metadata": {},
       "overflow": false,
       "plotOptions": {
        "customPlotOptions": {},
        "displayType": "table",
        "pivotAggregation": null,
        "pivotColumns": null,
        "xColumns": null,
        "yColumns": null
       },
       "removedWidgets": [],
       "schema": [
        {
         "metadata": "{}",
         "name": "_c0",
         "type": "\"string\""
        },
        {
         "metadata": "{}",
         "name": "_c1",
         "type": "\"string\""
        },
        {
         "metadata": "{}",
         "name": "_c2",
         "type": "\"string\""
        }
       ],
       "type": "table"
      }
     },
     "output_type": "display_data"
    }
   ],
   "source": [
    "display(spark.read.csv(path='dbfs:/FileStore/tables/export'),header=True)"
   ]
  },
  {
   "cell_type": "markdown",
   "metadata": {
    "application/vnd.databricks.v1+cell": {
     "cellMetadata": {},
     "inputWidgets": {},
     "nuid": "cc4006e8-4baa-454f-b4a1-eca0666735b4",
     "showTitle": false,
     "tableResultSettingsMap": {},
     "title": ""
    }
   },
   "source": [
    "## Read Jason File in Pyspark\n",
    "#### use spark.read.json \n",
    "#### or\n",
    "#### spark.read.format(source='json').option(key='Header',value='True').load('dbfs:/FileStore/tables/emp1-1.csv')\n",
    "#### similarly we can use to read other files like parquet etc."
   ]
  },
  {
   "cell_type": "code",
   "execution_count": 0,
   "metadata": {
    "application/vnd.databricks.v1+cell": {
     "cellMetadata": {
      "byteLimit": 2048000,
      "rowLimit": 10000
     },
     "inputWidgets": {},
     "nuid": "a37b94f4-b547-44c2-877f-3616113f1ba7",
     "showTitle": false,
     "tableResultSettingsMap": {},
     "title": ""
    }
   },
   "outputs": [
    {
     "output_type": "display_data",
     "data": {
      "text/html": [
       "<style scoped>\n",
       "  .table-result-container {\n",
       "    max-height: 300px;\n",
       "    overflow: auto;\n",
       "  }\n",
       "  table, th, td {\n",
       "    border: 1px solid black;\n",
       "    border-collapse: collapse;\n",
       "  }\n",
       "  th, td {\n",
       "    padding: 5px;\n",
       "  }\n",
       "  th {\n",
       "    text-align: left;\n",
       "  }\n",
       "</style><div class='table-result-container'><table class='table-result'><thead style='background-color: white'><tr><th>id</th><th>name</th><th>Salary</th></tr></thead><tbody><tr><td>1</td><td>ram</td><td>3000</td></tr><tr><td>2</td><td>shyam</td><td>4000</td></tr><tr><td>3</td><td>mohan</td><td>4000</td></tr></tbody></table></div>"
      ]
     },
     "metadata": {
      "application/vnd.databricks.v1+output": {
       "addedWidgets": {},
       "aggData": [],
       "aggError": "",
       "aggOverflow": false,
       "aggSchema": [],
       "aggSeriesLimitReached": false,
       "aggType": "",
       "arguments": {},
       "columnCustomDisplayInfos": {},
       "data": [
        [
         1,
         "ram",
         3000
        ],
        [
         2,
         "shyam",
         4000
        ],
        [
         3,
         "mohan",
         4000
        ]
       ],
       "datasetInfos": [],
       "dbfsResultPath": null,
       "isJsonSchema": true,
       "metadata": {},
       "overflow": false,
       "plotOptions": {
        "customPlotOptions": {},
        "displayType": "table",
        "pivotAggregation": null,
        "pivotColumns": null,
        "xColumns": null,
        "yColumns": null
       },
       "removedWidgets": [],
       "schema": [
        {
         "metadata": "{}",
         "name": "id",
         "type": "\"integer\""
        },
        {
         "metadata": "{}",
         "name": "name",
         "type": "\"string\""
        },
        {
         "metadata": "{}",
         "name": "Salary",
         "type": "\"integer\""
        }
       ],
       "type": "table"
      }
     },
     "output_type": "display_data"
    }
   ],
   "source": [
    "#use of StructType.add method to create schema\n",
    "from pyspark.sql.types import *\n",
    "sample_data =[(1,'ram',3000),(2,'shyam',4000),(3,'mohan',4000)]\n",
    "sample_schema=StructType().add(field=\"id\",data_type=IntegerType(),nullable=True)\\\n",
    "                        .add(field=\"name\",data_type=StringType(),nullable=True)\\\n",
    "                        .add(field=\"Salary\",data_type=IntegerType(),nullable=True) \n",
    "                            \n",
    "df=spark.createDataFrame(data=sample_data,schema=sample_schema)\n",
    "display(df)"
   ]
  },
  {
   "cell_type": "code",
   "execution_count": 0,
   "metadata": {
    "application/vnd.databricks.v1+cell": {
     "cellMetadata": {
      "byteLimit": 2048000,
      "rowLimit": 10000
     },
     "inputWidgets": {},
     "nuid": "091ecf46-8e31-4472-ab0b-2f361d43a5fa",
     "showTitle": false,
     "tableResultSettingsMap": {},
     "title": ""
    }
   },
   "outputs": [
    {
     "output_type": "stream",
     "name": "stdout",
     "output_type": "stream",
     "text": [
      "+---+-----+------+-----+-------+-------------+------------+\n| id| name|Salary|Bonus|Country|Copied_Salary|Total_Salary|\n+---+-----+------+-----+-------+-------------+------------+\n|  1|  ram|  3000|  150|  india|         3000|        3150|\n|  2|shyam|  4000|  200|  india|         4000|        4200|\n|  3|mohan|  4000|  200|  india|         4000|        4200|\n+---+-----+------+-----+-------+-------------+------------+\n\nroot\n |-- id: integer (nullable = true)\n |-- name: string (nullable = true)\n |-- Salary: integer (nullable = true)\n |-- Bonus: integer (nullable = true)\n |-- Country: string (nullable = false)\n |-- Copied_Salary: integer (nullable = true)\n |-- Total_Salary: integer (nullable = true)\n\n"
     ]
    }
   ],
   "source": [
    "# help(df.withColumn)\n",
    "# add a new column with withColumn\n",
    "from pyspark.sql.functions import col,lit\n",
    "# df.show()\n",
    "df1=df \\\n",
    "        .withColumn(colName=\"Bonus\",col=(col(\"Salary\")*.05).cast(dataType=IntegerType())) \\\n",
    "        .withColumn(\"Country\",lit(\"india\")) \\\n",
    "        .withColumn(\"Copied_Salary\",col(\"Salary\")) \\\n",
    "        .withColumn(\"Total_Salary\",col=(col(\"Salary\")+col(\"Bonus\")).cast(dataType=IntegerType()))    \n",
    "df1.show()\n",
    "# df.printSchema()\n",
    "df1.printSchema()"
   ]
  },
  {
   "cell_type": "markdown",
   "metadata": {
    "application/vnd.databricks.v1+cell": {
     "cellMetadata": {},
     "inputWidgets": {},
     "nuid": "df40c63c-d9e7-4554-a9ce-7401757a1fff",
     "showTitle": false,
     "tableResultSettingsMap": {},
     "title": ""
    }
   },
   "source": [
    "## withColumnRenamed() : rename column in pyspark"
   ]
  },
  {
   "cell_type": "code",
   "execution_count": 0,
   "metadata": {
    "application/vnd.databricks.v1+cell": {
     "cellMetadata": {
      "byteLimit": 2048000,
      "rowLimit": 10000
     },
     "inputWidgets": {},
     "nuid": "d31eb4b9-1691-4e45-a994-0e45e3ccb04b",
     "showTitle": false,
     "tableResultSettingsMap": {},
     "title": ""
    }
   },
   "outputs": [
    {
     "output_type": "stream",
     "name": "stdout",
     "output_type": "stream",
     "text": [
      "+---+-----+------+-----+-------+-------------+------------+\n| id| name|Salary|Bonus|Country|Copied_Salary|Total_Salary|\n+---+-----+------+-----+-------+-------------+------------+\n|  1|  ram|  3000|  150|  india|         3000|        3150|\n|  2|shyam|  4000|  200|  india|         4000|        4200|\n|  3|mohan|  4000|  200|  india|         4000|        4200|\n+---+-----+------+-----+-------+-------------+------------+\n\n"
     ]
    }
   ],
   "source": [
    "df1.show()"
   ]
  },
  {
   "cell_type": "code",
   "execution_count": 0,
   "metadata": {
    "application/vnd.databricks.v1+cell": {
     "cellMetadata": {
      "byteLimit": 2048000,
      "rowLimit": 10000
     },
     "inputWidgets": {},
     "nuid": "4c60fe1c-eec1-40aa-8714-aff21dcd6c4d",
     "showTitle": false,
     "tableResultSettingsMap": {},
     "title": ""
    }
   },
   "outputs": [
    {
     "output_type": "stream",
     "name": "stdout",
     "output_type": "stream",
     "text": [
      "+---+-----+------+-----+-------+--------------+------------+\n| id| name|Salary|Bonus|Country|Dup_Salary_col|Total_Salary|\n+---+-----+------+-----+-------+--------------+------------+\n|  1|  ram|  3000|  150|  india|          3000|        3150|\n|  2|shyam|  4000|  200|  india|          4000|        4200|\n|  3|mohan|  4000|  200|  india|          4000|        4200|\n+---+-----+------+-----+-------+--------------+------------+\n\n"
     ]
    }
   ],
   "source": [
    "df2=df1.withColumnRenamed(\"Copied_Salary\",\"Dup_Salary_col\")\n",
    "df2.show()"
   ]
  },
  {
   "cell_type": "markdown",
   "metadata": {
    "application/vnd.databricks.v1+cell": {
     "cellMetadata": {},
     "inputWidgets": {},
     "nuid": "9ebfac8e-14a3-4238-adca-e2f6550ef01d",
     "showTitle": false,
     "tableResultSettingsMap": {},
     "title": ""
    }
   },
   "source": [
    "# use nested columns in the structure in pyspark"
   ]
  },
  {
   "cell_type": "code",
   "execution_count": 0,
   "metadata": {
    "application/vnd.databricks.v1+cell": {
     "cellMetadata": {
      "byteLimit": 2048000,
      "rowLimit": 10000
     },
     "inputWidgets": {},
     "nuid": "33791bbd-9322-45ce-9cc5-4533db2e74bd",
     "showTitle": false,
     "tableResultSettingsMap": {},
     "title": ""
    }
   },
   "outputs": [
    {
     "output_type": "display_data",
     "data": {
      "text/html": [
       "<style scoped>\n",
       "  .table-result-container {\n",
       "    max-height: 300px;\n",
       "    overflow: auto;\n",
       "  }\n",
       "  table, th, td {\n",
       "    border: 1px solid black;\n",
       "    border-collapse: collapse;\n",
       "  }\n",
       "  th, td {\n",
       "    padding: 5px;\n",
       "  }\n",
       "  th {\n",
       "    text-align: left;\n",
       "  }\n",
       "</style><div class='table-result-container'><table class='table-result'><thead style='background-color: white'><tr><th>id</th><th>name</th><th>Salary</th></tr></thead><tbody><tr><td>1</td><td>List(ram, singh)</td><td>2000</td></tr><tr><td>2</td><td>List(Adam, Grant)</td><td>3000</td></tr><tr><td>3</td><td>List(Naval, Ravikant)</td><td>3000</td></tr></tbody></table></div>"
      ]
     },
     "metadata": {
      "application/vnd.databricks.v1+output": {
       "addedWidgets": {},
       "aggData": [],
       "aggError": "",
       "aggOverflow": false,
       "aggSchema": [],
       "aggSeriesLimitReached": false,
       "aggType": "",
       "arguments": {},
       "columnCustomDisplayInfos": {},
       "data": [
        [
         1,
         [
          "ram",
          "singh"
         ],
         2000
        ],
        [
         2,
         [
          "Adam",
          "Grant"
         ],
         3000
        ],
        [
         3,
         [
          "Naval",
          "Ravikant"
         ],
         3000
        ]
       ],
       "datasetInfos": [],
       "dbfsResultPath": null,
       "isJsonSchema": true,
       "metadata": {},
       "overflow": false,
       "plotOptions": {
        "customPlotOptions": {},
        "displayType": "table",
        "pivotAggregation": null,
        "pivotColumns": null,
        "xColumns": null,
        "yColumns": null
       },
       "removedWidgets": [],
       "schema": [
        {
         "metadata": "{}",
         "name": "id",
         "type": "\"integer\""
        },
        {
         "metadata": "{}",
         "name": "name",
         "type": "{\"type\":\"struct\",\"fields\":[{\"name\":\"firstname\",\"type\":\"string\",\"nullable\":true,\"metadata\":{}},{\"name\":\"Lastname\",\"type\":\"string\",\"nullable\":true,\"metadata\":{}}]}"
        },
        {
         "metadata": "{}",
         "name": "Salary",
         "type": "\"integer\""
        }
       ],
       "type": "table"
      }
     },
     "output_type": "display_data"
    }
   ],
   "source": [
    "from pyspark.sql.types import *\n",
    "sample_data =[(1,('ram','singh'),2000),(2,('Adam','Grant'),3000),(3,('Naval','Ravikant'),3000)]\n",
    "structname= StructType([ \\\n",
    "                    StructField(\"firstname\",StringType()), \\\n",
    "                    StructField(\"Lastname\",StringType())\n",
    "])\n",
    "sample_schema= StructType([ \\\n",
    "                StructField(\"id\",IntegerType()),\\\n",
    "                StructField(\"name\",structname), \\\n",
    "                StructField(\"Salary\",IntegerType())\n",
    "])\n",
    "df=spark.createDataFrame(data=sample_data,schema=sample_schema)\n",
    "display(df)"
   ]
  },
  {
   "cell_type": "markdown",
   "metadata": {
    "application/vnd.databricks.v1+cell": {
     "cellMetadata": {},
     "inputWidgets": {},
     "nuid": "80eb4b26-927c-4161-9b93-cbb59f1ef0f6",
     "showTitle": false,
     "tableResultSettingsMap": {},
     "title": ""
    }
   },
   "source": [
    "# use ArrayType Columns in Pyspark"
   ]
  },
  {
   "cell_type": "code",
   "execution_count": 0,
   "metadata": {
    "application/vnd.databricks.v1+cell": {
     "cellMetadata": {
      "byteLimit": 2048000,
      "rowLimit": 10000
     },
     "inputWidgets": {},
     "nuid": "809e0e7c-611f-4f0b-a332-41cfa35a048d",
     "showTitle": false,
     "tableResultSettingsMap": {},
     "title": ""
    }
   },
   "outputs": [
    {
     "output_type": "display_data",
     "data": {
      "text/html": [
       "<style scoped>\n",
       "  .table-result-container {\n",
       "    max-height: 300px;\n",
       "    overflow: auto;\n",
       "  }\n",
       "  table, th, td {\n",
       "    border: 1px solid black;\n",
       "    border-collapse: collapse;\n",
       "  }\n",
       "  th, td {\n",
       "    padding: 5px;\n",
       "  }\n",
       "  th {\n",
       "    text-align: left;\n",
       "  }\n",
       "</style><div class='table-result-container'><table class='table-result'><thead style='background-color: white'><tr><th>id</th><th>Courses</th><th>Fees</th></tr></thead><tbody><tr><td>1</td><td>List(C++, Java)</td><td>20</td></tr><tr><td>2</td><td>List(Python, SQL)</td><td>30</td></tr></tbody></table></div>"
      ]
     },
     "metadata": {
      "application/vnd.databricks.v1+output": {
       "addedWidgets": {},
       "aggData": [],
       "aggError": "",
       "aggOverflow": false,
       "aggSchema": [],
       "aggSeriesLimitReached": false,
       "aggType": "",
       "arguments": {},
       "columnCustomDisplayInfos": {},
       "data": [
        [
         1,
         [
          "C++",
          "Java"
         ],
         20
        ],
        [
         2,
         [
          "Python",
          "SQL"
         ],
         30
        ]
       ],
       "datasetInfos": [],
       "dbfsResultPath": null,
       "isJsonSchema": true,
       "metadata": {},
       "overflow": false,
       "plotOptions": {
        "customPlotOptions": {},
        "displayType": "table",
        "pivotAggregation": null,
        "pivotColumns": null,
        "xColumns": null,
        "yColumns": null
       },
       "removedWidgets": [],
       "schema": [
        {
         "metadata": "{}",
         "name": "id",
         "type": "\"integer\""
        },
        {
         "metadata": "{}",
         "name": "Courses",
         "type": "{\"type\":\"array\",\"elementType\":\"string\",\"containsNull\":true}"
        },
        {
         "metadata": "{}",
         "name": "Fees",
         "type": "\"integer\""
        }
       ],
       "type": "table"
      }
     },
     "output_type": "display_data"
    }
   ],
   "source": [
    "from pyspark.sql.types import *\n",
    "data =[(1,['C++','Java'],20),(2,['Python','SQL'],30)]\n",
    "schema= StructType([ \\\n",
    "                    StructField(\"id\",IntegerType()), \\\n",
    "                    StructField(\"Courses\",ArrayType(StringType())),\\\n",
    "                    StructField(\"Fees\",IntegerType())\n",
    "])\n",
    "df=spark.createDataFrame(data=data,schema=schema)\n",
    "# df.show()\n",
    "display(df)"
   ]
  },
  {
   "cell_type": "code",
   "execution_count": 0,
   "metadata": {
    "application/vnd.databricks.v1+cell": {
     "cellMetadata": {
      "byteLimit": 2048000,
      "rowLimit": 10000
     },
     "inputWidgets": {},
     "nuid": "76dba90f-2819-45ef-84a5-1b58a02b35e3",
     "showTitle": false,
     "tableResultSettingsMap": {},
     "title": ""
    }
   },
   "outputs": [
    {
     "output_type": "stream",
     "name": "stdout",
     "output_type": "stream",
     "text": [
      "+---+-------------+----+--------+--------+\n| id|      Courses|Fees|course_1|course_2|\n+---+-------------+----+--------+--------+\n|  1|  [C++, Java]|  20|     C++|    Java|\n|  2|[Python, SQL]|  30|  Python|     SQL|\n+---+-------------+----+--------+--------+\n\n"
     ]
    }
   ],
   "source": [
    "#explode array function in to multiple columns\n",
    "df1 = df \\\n",
    "        .withColumn(\"course_1\",df.Courses[0]) \\\n",
    "        .withColumn(\"course_2\",df.Courses[1])\n",
    "df1.show()"
   ]
  },
  {
   "cell_type": "code",
   "execution_count": 0,
   "metadata": {
    "application/vnd.databricks.v1+cell": {
     "cellMetadata": {
      "byteLimit": 2048000,
      "rowLimit": 10000
     },
     "inputWidgets": {},
     "nuid": "5178d55c-049b-4f46-aef1-214b5892f014",
     "showTitle": false,
     "tableResultSettingsMap": {},
     "title": ""
    }
   },
   "outputs": [
    {
     "output_type": "stream",
     "name": "stdout",
     "output_type": "stream",
     "text": [
      "+----+----+\n|num1|num2|\n+----+----+\n|   1|   2|\n|   3|   4|\n+----+----+\n\n+----+----+--------+\n|num1|num2|arraycol|\n+----+----+--------+\n|   1|   2|  [1, 2]|\n|   3|   4|  [3, 4]|\n+----+----+--------+\n\n"
     ]
    }
   ],
   "source": [
    "# how to create a arary coulmn from diffferent multiple columns\n",
    "from pyspark.sql.functions import col,array\n",
    "data =[(1,2),(3,4)]\n",
    "sch=['num1','num2']\n",
    "df=spark.createDataFrame(data=data,schema=sch)\n",
    "df.show()\n",
    "df1=df.withColumn('arraycol',array(col('num1'),col('num2')))\n",
    "df1.show()"
   ]
  },
  {
   "cell_type": "code",
   "execution_count": 0,
   "metadata": {
    "application/vnd.databricks.v1+cell": {
     "cellMetadata": {},
     "inputWidgets": {},
     "nuid": "6549780b-ae51-437d-ae52-ce3237dbd1b9",
     "showTitle": false,
     "tableResultSettingsMap": {},
     "title": ""
    }
   },
   "outputs": [],
   "source": [
    "# start from pyspark playlist from wafa studies (video 14)"
   ]
  }
 ],
 "metadata": {
  "application/vnd.databricks.v1+notebook": {
   "computePreferences": null,
   "dashboards": [],
   "environmentMetadata": null,
   "inputWidgetPreferences": null,
   "language": "python",
   "notebookMetadata": {
    "mostRecentlyExecutedCommandWithImplicitDF": {
     "commandId": 4864652622976,
     "dataframes": [
      "_sqldf"
     ]
    },
    "pythonIndentUnit": 4
   },
   "notebookName": "00-Basics_of_Pyspark",
   "widgets": {}
  }
 },
 "nbformat": 4,
 "nbformat_minor": 0
}