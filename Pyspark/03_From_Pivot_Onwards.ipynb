{
 "cells": [
  {
   "cell_type": "code",
   "execution_count": 0,
   "metadata": {
    "application/vnd.databricks.v1+cell": {
     "cellMetadata": {
      "byteLimit": 2048000,
      "rowLimit": 10000
     },
     "inputWidgets": {},
     "nuid": "53af94c1-876c-41d6-951d-f93e5731d2d1",
     "showTitle": false,
     "tableResultSettingsMap": {},
     "title": ""
    }
   },
   "outputs": [
    {
     "output_type": "display_data",
     "data": {
      "text/html": [
       "<style scoped>\n",
       "  .table-result-container {\n",
       "    max-height: 300px;\n",
       "    overflow: auto;\n",
       "  }\n",
       "  table, th, td {\n",
       "    border: 1px solid black;\n",
       "    border-collapse: collapse;\n",
       "  }\n",
       "  th, td {\n",
       "    padding: 5px;\n",
       "  }\n",
       "  th {\n",
       "    text-align: left;\n",
       "  }\n",
       "</style><div class='table-result-container'><table class='table-result'><thead style='background-color: white'><tr><th>id</th><th>name</th><th>gender</th><th>salary</th><th>Dept_name</th></tr></thead><tbody><tr><td>1</td><td>ram</td><td>M</td><td>1000</td><td>IT</td></tr><tr><td>2</td><td>Shyam</td><td>M</td><td>2000</td><td>HR</td></tr><tr><td>3</td><td>Mohana</td><td>F</td><td>3000</td><td>IT</td></tr><tr><td>4</td><td>Mohani</td><td>F</td><td>5000</td><td>HR</td></tr></tbody></table></div>"
      ]
     },
     "metadata": {
      "application/vnd.databricks.v1+output": {
       "addedWidgets": {},
       "aggData": [],
       "aggError": "",
       "aggOverflow": false,
       "aggSchema": [],
       "aggSeriesLimitReached": false,
       "aggType": "",
       "arguments": {},
       "columnCustomDisplayInfos": {},
       "data": [
        [
         1,
         "ram",
         "M",
         1000,
         "IT"
        ],
        [
         2,
         "Shyam",
         "M",
         2000,
         "HR"
        ],
        [
         3,
         "Mohana",
         "F",
         3000,
         "IT"
        ],
        [
         4,
         "Mohani",
         "F",
         5000,
         "HR"
        ]
       ],
       "datasetInfos": [],
       "dbfsResultPath": null,
       "isJsonSchema": true,
       "metadata": {},
       "overflow": false,
       "plotOptions": {
        "customPlotOptions": {},
        "displayType": "table",
        "pivotAggregation": null,
        "pivotColumns": null,
        "xColumns": null,
        "yColumns": null
       },
       "removedWidgets": [],
       "schema": [
        {
         "metadata": "{}",
         "name": "id",
         "type": "\"long\""
        },
        {
         "metadata": "{}",
         "name": "name",
         "type": "\"string\""
        },
        {
         "metadata": "{}",
         "name": "gender",
         "type": "\"string\""
        },
        {
         "metadata": "{}",
         "name": "salary",
         "type": "\"long\""
        },
        {
         "metadata": "{}",
         "name": "Dept_name",
         "type": "\"string\""
        }
       ],
       "type": "table"
      }
     },
     "output_type": "display_data"
    },
    {
     "output_type": "stream",
     "name": "stdout",
     "output_type": "stream",
     "text": [
      "+---------+------+-----+\n|dept_name|gender|count|\n+---------+------+-----+\n|       IT|     M|    1|\n|       HR|     M|    1|\n|       IT|     F|    1|\n|       HR|     F|    1|\n+---------+------+-----+\n\n+---------+---+---+\n|dept_name|  F|  M|\n+---------+---+---+\n|       HR|  1|  1|\n|       IT|  1|  1|\n+---------+---+---+\n\n+---------+---+\n|dept_name|  M|\n+---------+---+\n|       HR|  1|\n|       IT|  1|\n+---------+---+\n\n"
     ]
    }
   ],
   "source": [
    "#pivot is like any other simple pivot in excel,sql etc.\n",
    "\n",
    "from pyspark.sql.functions import when,count,min,max,sum\n",
    "data =[(1,'ram','M',1000,'IT'),(2,'Shyam','M',2000,'HR'),(3,'Mohana','F',3000,'IT'),(4,'Mohani','F',5000,'HR')]\n",
    "sch=['id','name','gender','salary','Dept_name']\n",
    "df=spark.createDataFrame(data,sch)\n",
    "display(df)\n",
    "df.groupBy(['dept_name','gender']).count().show()\n",
    "df.groupBy('dept_name').pivot('gender').count().show() # pivot on all values of gender column\n",
    "df.groupBy('dept_name').pivot('gender',['M']).count().show() # pivot on a specific value for example 'M' here"
   ]
  },
  {
   "cell_type": "code",
   "execution_count": 0,
   "metadata": {
    "application/vnd.databricks.v1+cell": {
     "cellMetadata": {
      "byteLimit": 2048000,
      "rowLimit": 10000
     },
     "inputWidgets": {},
     "nuid": "5649dbea-5e7e-42da-9736-20936e4291e5",
     "showTitle": false,
     "tableResultSettingsMap": {},
     "title": ""
    }
   },
   "outputs": [
    {
     "output_type": "display_data",
     "data": {
      "text/html": [
       "<style scoped>\n",
       "  .table-result-container {\n",
       "    max-height: 300px;\n",
       "    overflow: auto;\n",
       "  }\n",
       "  table, th, td {\n",
       "    border: 1px solid black;\n",
       "    border-collapse: collapse;\n",
       "  }\n",
       "  th, td {\n",
       "    padding: 5px;\n",
       "  }\n",
       "  th {\n",
       "    text-align: left;\n",
       "  }\n",
       "</style><div class='table-result-container'><table class='table-result'><thead style='background-color: white'><tr><th>Dept</th><th>no_males</th><th>no_females</th></tr></thead><tbody><tr><td>IT</td><td>8</td><td>9</td></tr><tr><td>HR</td><td>10</td><td>20</td></tr><tr><td>Payrol</td><td>5</td><td>1</td></tr></tbody></table></div>"
      ]
     },
     "metadata": {
      "application/vnd.databricks.v1+output": {
       "addedWidgets": {},
       "aggData": [],
       "aggError": "",
       "aggOverflow": false,
       "aggSchema": [],
       "aggSeriesLimitReached": false,
       "aggType": "",
       "arguments": {},
       "columnCustomDisplayInfos": {},
       "data": [
        [
         "IT",
         "8",
         "9"
        ],
        [
         "HR",
         "10",
         "20"
        ],
        [
         "Payrol",
         "5",
         "1"
        ]
       ],
       "datasetInfos": [],
       "dbfsResultPath": null,
       "isJsonSchema": true,
       "metadata": {},
       "overflow": false,
       "plotOptions": {
        "customPlotOptions": {},
        "displayType": "table",
        "pivotAggregation": null,
        "pivotColumns": null,
        "xColumns": null,
        "yColumns": null
       },
       "removedWidgets": [],
       "schema": [
        {
         "metadata": "{}",
         "name": "Dept",
         "type": "\"string\""
        },
        {
         "metadata": "{}",
         "name": "no_males",
         "type": "\"string\""
        },
        {
         "metadata": "{}",
         "name": "no_females",
         "type": "\"string\""
        }
       ],
       "type": "table"
      }
     },
     "output_type": "display_data"
    },
    {
     "output_type": "stream",
     "name": "stdout",
     "output_type": "stream",
     "text": [
      "+------+------+-----+\n|  Dept|gender|count|\n+------+------+-----+\n|    IT|  Male|    8|\n|    IT|Female|    9|\n|    HR|  Male|   10|\n|    HR|Female|   20|\n|Payrol|  Male|    5|\n|Payrol|Female|    1|\n+------+------+-----+\n\n"
     ]
    }
   ],
   "source": [
    "#32: Unpivot Dataframe\n",
    "# rotating columns into rows, there is no direct unpivot function , which can be achieved using stack()\n",
    "sch=['Dept','no_males','no_females']\n",
    "data =[('IT','8','9'),('HR','10','20'),('Payrol','5','1')]\n",
    "df=spark.createDataFrame(data,sch)\n",
    "display(df)\n",
    "from pyspark.sql.functions import expr\n",
    "unpivot_df=df.select('Dept',expr(\"stack(2,'Male',no_males,'Female',no_females) as (gender,count)\"))\n",
    "unpivot_df.show()"
   ]
  },
  {
   "cell_type": "code",
   "execution_count": 0,
   "metadata": {
    "application/vnd.databricks.v1+cell": {
     "cellMetadata": {
      "byteLimit": 2048000,
      "rowLimit": 10000
     },
     "inputWidgets": {},
     "nuid": "c6797e1f-f8e3-4ab1-9268-1481eb7c360f",
     "showTitle": false,
     "tableResultSettingsMap": {},
     "title": ""
    }
   },
   "outputs": [
    {
     "output_type": "display_data",
     "data": {
      "text/html": [
       "<style scoped>\n",
       "  .table-result-container {\n",
       "    max-height: 300px;\n",
       "    overflow: auto;\n",
       "  }\n",
       "  table, th, td {\n",
       "    border: 1px solid black;\n",
       "    border-collapse: collapse;\n",
       "  }\n",
       "  th, td {\n",
       "    padding: 5px;\n",
       "  }\n",
       "  th {\n",
       "    text-align: left;\n",
       "  }\n",
       "</style><div class='table-result-container'><table class='table-result'><thead style='background-color: white'><tr><th>id</th><th>name</th><th>gender</th><th>salary</th><th>Dept_name</th></tr></thead><tbody><tr><td>1</td><td>ram</td><td>M</td><td>1000</td><td>null</td></tr><tr><td>2</td><td>Shyam</td><td>M</td><td>2000</td><td>HR</td></tr><tr><td>3</td><td>Mohana</td><td>F</td><td>null</td><td>IT</td></tr><tr><td>4</td><td>null</td><td>F</td><td>5000</td><td>HR</td></tr></tbody></table></div>"
      ]
     },
     "metadata": {
      "application/vnd.databricks.v1+output": {
       "addedWidgets": {},
       "aggData": [],
       "aggError": "",
       "aggOverflow": false,
       "aggSchema": [],
       "aggSeriesLimitReached": false,
       "aggType": "",
       "arguments": {},
       "columnCustomDisplayInfos": {},
       "data": [
        [
         1,
         "ram",
         "M",
         1000,
         null
        ],
        [
         2,
         "Shyam",
         "M",
         2000,
         "HR"
        ],
        [
         3,
         "Mohana",
         "F",
         null,
         "IT"
        ],
        [
         4,
         null,
         "F",
         5000,
         "HR"
        ]
       ],
       "datasetInfos": [],
       "dbfsResultPath": null,
       "isJsonSchema": true,
       "metadata": {},
       "overflow": false,
       "plotOptions": {
        "customPlotOptions": {},
        "displayType": "table",
        "pivotAggregation": null,
        "pivotColumns": null,
        "xColumns": null,
        "yColumns": null
       },
       "removedWidgets": [],
       "schema": [
        {
         "metadata": "{}",
         "name": "id",
         "type": "\"long\""
        },
        {
         "metadata": "{}",
         "name": "name",
         "type": "\"string\""
        },
        {
         "metadata": "{}",
         "name": "gender",
         "type": "\"string\""
        },
        {
         "metadata": "{}",
         "name": "salary",
         "type": "\"long\""
        },
        {
         "metadata": "{}",
         "name": "Dept_name",
         "type": "\"string\""
        }
       ],
       "type": "table"
      }
     },
     "output_type": "display_data"
    },
    {
     "output_type": "stream",
     "name": "stdout",
     "output_type": "stream",
     "text": [
      "+---+--------+------+------+---------+\n| id|    name|gender|salary|Dept_name|\n+---+--------+------+------+---------+\n|  1|     ram|     M|  1000| No_Value|\n|  2|   Shyam|     M|  2000|       HR|\n|  3|  Mohana|     F|  null|       IT|\n|  4|No_Value|     F|  5000|       HR|\n+---+--------+------+------+---------+\n\nUnexpected exception formatting exception. Falling back to standard exception\n"
     ]
    },
    {
     "output_type": "stream",
     "name": "stderr",
     "output_type": "stream",
     "text": [
      "Traceback (most recent call last):\n  File \"/databricks/python/lib/python3.9/site-packages/IPython/core/interactiveshell.py\", line 3378, in run_code\n    exec(code_obj, self.user_global_ns, self.user_ns)\n  File \"<command-3217848536609604>\", line 13, in <module>\n    df_filled = df_strng.fillna(0, subset=[\"salary\"])\nAttributeError: 'NoneType' object has no attribute 'fillna'\n\nDuring handling of the above exception, another exception occurred:\n\nTraceback (most recent call last):\n  File \"/databricks/python/lib/python3.9/site-packages/IPython/core/interactiveshell.py\", line 1997, in showtraceback\n    stb = self.InteractiveTB.structured_traceback(\n  File \"/databricks/python/lib/python3.9/site-packages/IPython/core/ultratb.py\", line 1112, in structured_traceback\n    return FormattedTB.structured_traceback(\n  File \"/databricks/python/lib/python3.9/site-packages/IPython/core/ultratb.py\", line 1006, in structured_traceback\n    return VerboseTB.structured_traceback(\n  File \"/databricks/python/lib/python3.9/site-packages/IPython/core/ultratb.py\", line 859, in structured_traceback\n    formatted_exception = self.format_exception_as_a_whole(etype, evalue, etb, number_of_lines_of_context,\n  File \"/databricks/python/lib/python3.9/site-packages/IPython/core/ultratb.py\", line 812, in format_exception_as_a_whole\n    frames.append(self.format_record(r))\n  File \"/databricks/python/lib/python3.9/site-packages/IPython/core/ultratb.py\", line 730, in format_record\n    result += ''.join(_format_traceback_lines(frame_info.lines, Colors, self.has_colors, lvals))\n  File \"/databricks/python/lib/python3.9/site-packages/stack_data/utils.py\", line 145, in cached_property_wrapper\n    value = obj.__dict__[self.func.__name__] = self.func(obj)\n  File \"/databricks/python/lib/python3.9/site-packages/stack_data/core.py\", line 698, in lines\n    pieces = self.included_pieces\n  File \"/databricks/python/lib/python3.9/site-packages/stack_data/utils.py\", line 145, in cached_property_wrapper\n    value = obj.__dict__[self.func.__name__] = self.func(obj)\n  File \"/databricks/python/lib/python3.9/site-packages/stack_data/core.py\", line 649, in included_pieces\n    pos = scope_pieces.index(self.executing_piece)\n  File \"/databricks/python/lib/python3.9/site-packages/stack_data/utils.py\", line 145, in cached_property_wrapper\n    value = obj.__dict__[self.func.__name__] = self.func(obj)\n  File \"/databricks/python/lib/python3.9/site-packages/stack_data/core.py\", line 628, in executing_piece\n    return only(\n  File \"/databricks/python/lib/python3.9/site-packages/executing/executing.py\", line 164, in only\n    raise NotOneValueFound('Expected one value, found 0')\nexecuting.executing.NotOneValueFound: Expected one value, found 0\n"
     ]
    },
    {
     "output_type": "display_data",
     "data": {
      "text/plain": [
       ""
      ]
     },
     "metadata": {
      "application/vnd.databricks.v1+output": {
       "arguments": {},
       "data": "",
       "errorSummary": "<span class='ansi-red-fg'>AttributeError</span>: 'NoneType' object has no attribute 'fillna'",
       "errorTraceType": "ansi",
       "metadata": {},
       "type": "ipynbError"
      }
     },
     "output_type": "display_data"
    }
   ],
   "source": [
    "# 33. Fill and fillna\n",
    "# when you want to replace nulls/none values inside a dataframe\n",
    "data =[(1,'ram','M',1000,None),(2,'Shyam','M',2000,'HR'),(3,'Mohana','F',None,'IT'),(4,None,'F',5000,'HR')]\n",
    "sch=['id','name','gender','salary','Dept_name']\n",
    "df=spark.createDataFrame(data,sch)\n",
    "display(df)\n",
    "# df.printSchema()\n",
    "df_strng=df.fillna(\"No_Value\").show()\n",
    "display(df_strng)\n",
    "# final_df=df_strng.fillna(0, subset=[\"salary\"])\n",
    "# display(final_df)\n",
    "# df_filled = df.fillna({\"salary\": \"No_Value\"}).na.replace(\"salary\", {None: \"No_Value\"})\n",
    "df_filled = df_strng.fillna(0, subset=[\"salary\"])\n",
    "display(df_filled)\n",
    "# df.na.fill(\"No_Value_Given\").show()"
   ]
  },
  {
   "cell_type": "code",
   "execution_count": 0,
   "metadata": {
    "application/vnd.databricks.v1+cell": {
     "cellMetadata": {
      "byteLimit": 2048000,
      "rowLimit": 10000
     },
     "inputWidgets": {},
     "nuid": "76de093a-b2b7-4477-bb0e-93546419fe6b",
     "showTitle": false,
     "tableResultSettingsMap": {},
     "title": ""
    }
   },
   "outputs": [
    {
     "output_type": "stream",
     "name": "stdout",
     "output_type": "stream",
     "text": [
      "+---+------+------+------+---------+\n| id|  name|gender|salary|Dept_name|\n+---+------+------+------+---------+\n|  1|   ram|     M|  1000|     null|\n|  2| Shyam|     M|  2000|       HR|\n|  3|Mohana|     F|     0|       IT|\n|  4|  null|     F|  5000|       HR|\n+---+------+------+------+---------+\n\n"
     ]
    }
   ],
   "source": [
    "# from pyspark.sql.functions import col\n",
    "\n",
    "# # Replace both None and null values in the \"salary\" column with \"No_Value\"\n",
    "# df_filled = df.fillna({\"salary\": \"No_Value\"}).na.replace(\"salary\", {None: \"No_Value\"})\n",
    "\n",
    "# df_filled.show()\n",
    "\n",
    "data =[(1,'ram','M',1000,None),(2,'Shyam','M',2000,'HR'),(3,'Mohana','F',None,'IT'),(4,None,'F',5000,'HR')]\n",
    "sch=['id','name','gender','salary','Dept_name']\n",
    "df=spark.createDataFrame(data,sch)\n",
    "\n",
    "# Replace both None and null values in the \"salary\" column with \"No_Value\"\n",
    "df_filled = df.fillna(0, subset=[\"salary\"])\n",
    "\n",
    "# Show the DataFrame\n",
    "df_filled.show()"
   ]
  },
  {
   "cell_type": "code",
   "execution_count": 0,
   "metadata": {
    "application/vnd.databricks.v1+cell": {
     "cellMetadata": {
      "byteLimit": 2048000,
      "rowLimit": 10000
     },
     "inputWidgets": {},
     "nuid": "ffc350f9-be4a-4d55-bdb4-e549bb3ec459",
     "showTitle": false,
     "tableResultSettingsMap": {},
     "title": ""
    }
   },
   "outputs": [
    {
     "output_type": "stream",
     "name": "stdout",
     "output_type": "stream",
     "text": [
      "+---+--------+------+------+---------+\n| id|    name|gender|salary|Dept_name|\n+---+--------+------+------+---------+\n|  1|     ram|     M|  1000| NO_VALUE|\n|  2|   Shyam|     M|  2000|       HR|\n|  3|  Mohana|     F|     0|       IT|\n|  4|NO_VALUE|     F|  5000|       HR|\n+---+--------+------+------+---------+\n\n"
     ]
    }
   ],
   "source": [
    "data =[(1,'ram','M',1000,None),(2,'Shyam','M',2000,'HR'),(3,'Mohana','F',None,'IT'),(4,None,'F',5000,'HR')]\n",
    "sch=['id','name','gender','salary','Dept_name']\n",
    "df = spark.createDataFrame(data, sch)\n",
    "\n",
    "# Define default values for each data type\n",
    "default_values = {\n",
    "    \"name\": \"NO_VALUE\",\n",
    "    \"gender\": \"NO_VALUE\",\n",
    "    \"salary\": 0,\n",
    "    \"Dept_name\": \"NO_VALUE\"\n",
    "}\n",
    "\n",
    "# Replace None values with default values\n",
    "for col_name, default_val in default_values.items():\n",
    "    df = df.fillna(default_val, subset=[col_name])\n",
    "\n",
    "# Show the DataFrame\n",
    "df.show()\n"
   ]
  },
  {
   "cell_type": "code",
   "execution_count": 0,
   "metadata": {
    "application/vnd.databricks.v1+cell": {
     "cellMetadata": {
      "byteLimit": 2048000,
      "rowLimit": 10000
     },
     "inputWidgets": {},
     "nuid": "25315653-ed06-4c2f-9d8a-1f5bac26fa61",
     "showTitle": false,
     "tableResultSettingsMap": {},
     "title": ""
    }
   },
   "outputs": [
    {
     "output_type": "stream",
     "name": "stdout",
     "output_type": "stream",
     "text": [
      "+---+--------+------+------+---------+\n| id|    name|gender|salary|Dept_name|\n+---+--------+------+------+---------+\n|  1|     ram|     M|  1000| NO_VALUE|\n|  2|   Shyam|     M|  2000|       HR|\n|  3|  Mohana|     F|     0|       IT|\n|  4|NO_VALUE|     F|  5000|       HR|\n+---+--------+------+------+---------+\n\n"
     ]
    }
   ],
   "source": [
    "data =[(1,'ram','M',1000,None),(2,'Shyam','M',2000,'HR'),(3,'Mohana','F',None,'IT'),(4,None,'F',5000,'HR')]\n",
    "sch=['id','name','gender','salary','Dept_name']\n",
    "df = spark.createDataFrame(data, sch)\n",
    "\n",
    "# Replace None values with default values for each column\n",
    "df_filled = df.fillna(\"NO_VALUE\", subset=[\"name\", \"gender\", \"Dept_name\"]) \\\n",
    "              .fillna(0, subset=[\"salary\"])\n",
    "\n",
    "# Show the DataFrame\n",
    "df_filled.show()\n"
   ]
  },
  {
   "cell_type": "code",
   "execution_count": 0,
   "metadata": {
    "application/vnd.databricks.v1+cell": {
     "cellMetadata": {
      "byteLimit": 2048000,
      "rowLimit": 10000
     },
     "inputWidgets": {},
     "nuid": "2b9d1616-a09a-4f92-9896-1ad0de692525",
     "showTitle": false,
     "tableResultSettingsMap": {},
     "title": ""
    }
   },
   "outputs": [
    {
     "output_type": "display_data",
     "data": {
      "text/html": [
       "<style scoped>\n",
       "  .table-result-container {\n",
       "    max-height: 300px;\n",
       "    overflow: auto;\n",
       "  }\n",
       "  table, th, td {\n",
       "    border: 1px solid black;\n",
       "    border-collapse: collapse;\n",
       "  }\n",
       "  th, td {\n",
       "    padding: 5px;\n",
       "  }\n",
       "  th {\n",
       "    text-align: left;\n",
       "  }\n",
       "</style><div class='table-result-container'><table class='table-result'><thead style='background-color: white'><tr><th>id</th></tr></thead><tbody><tr><td>1</td></tr><tr><td>2</td></tr><tr><td>3</td></tr><tr><td>4</td></tr><tr><td>5</td></tr><tr><td>6</td></tr><tr><td>7</td></tr><tr><td>8</td></tr><tr><td>9</td></tr><tr><td>10</td></tr><tr><td>11</td></tr><tr><td>12</td></tr><tr><td>13</td></tr><tr><td>14</td></tr><tr><td>15</td></tr><tr><td>16</td></tr><tr><td>17</td></tr><tr><td>18</td></tr><tr><td>19</td></tr><tr><td>20</td></tr><tr><td>21</td></tr><tr><td>22</td></tr><tr><td>23</td></tr><tr><td>24</td></tr><tr><td>25</td></tr><tr><td>26</td></tr><tr><td>27</td></tr><tr><td>28</td></tr><tr><td>29</td></tr><tr><td>30</td></tr><tr><td>31</td></tr><tr><td>32</td></tr><tr><td>33</td></tr><tr><td>34</td></tr><tr><td>35</td></tr><tr><td>36</td></tr><tr><td>37</td></tr><tr><td>38</td></tr><tr><td>39</td></tr><tr><td>40</td></tr><tr><td>41</td></tr><tr><td>42</td></tr><tr><td>43</td></tr><tr><td>44</td></tr><tr><td>45</td></tr><tr><td>46</td></tr><tr><td>47</td></tr><tr><td>48</td></tr><tr><td>49</td></tr><tr><td>50</td></tr><tr><td>51</td></tr><tr><td>52</td></tr><tr><td>53</td></tr><tr><td>54</td></tr><tr><td>55</td></tr><tr><td>56</td></tr><tr><td>57</td></tr><tr><td>58</td></tr><tr><td>59</td></tr><tr><td>60</td></tr><tr><td>61</td></tr><tr><td>62</td></tr><tr><td>63</td></tr><tr><td>64</td></tr><tr><td>65</td></tr><tr><td>66</td></tr><tr><td>67</td></tr><tr><td>68</td></tr><tr><td>69</td></tr><tr><td>70</td></tr><tr><td>71</td></tr><tr><td>72</td></tr><tr><td>73</td></tr><tr><td>74</td></tr><tr><td>75</td></tr><tr><td>76</td></tr><tr><td>77</td></tr><tr><td>78</td></tr><tr><td>79</td></tr><tr><td>80</td></tr><tr><td>81</td></tr><tr><td>82</td></tr><tr><td>83</td></tr><tr><td>84</td></tr><tr><td>85</td></tr><tr><td>86</td></tr><tr><td>87</td></tr><tr><td>88</td></tr><tr><td>89</td></tr><tr><td>90</td></tr><tr><td>91</td></tr><tr><td>92</td></tr><tr><td>93</td></tr><tr><td>94</td></tr><tr><td>95</td></tr><tr><td>96</td></tr><tr><td>97</td></tr><tr><td>98</td></tr><tr><td>99</td></tr><tr><td>100</td></tr></tbody></table></div>"
      ]
     },
     "metadata": {
      "application/vnd.databricks.v1+output": {
       "addedWidgets": {},
       "aggData": [],
       "aggError": "",
       "aggOverflow": false,
       "aggSchema": [],
       "aggSeriesLimitReached": false,
       "aggType": "",
       "arguments": {},
       "columnCustomDisplayInfos": {},
       "data": [
        [
         1
        ],
        [
         2
        ],
        [
         3
        ],
        [
         4
        ],
        [
         5
        ],
        [
         6
        ],
        [
         7
        ],
        [
         8
        ],
        [
         9
        ],
        [
         10
        ],
        [
         11
        ],
        [
         12
        ],
        [
         13
        ],
        [
         14
        ],
        [
         15
        ],
        [
         16
        ],
        [
         17
        ],
        [
         18
        ],
        [
         19
        ],
        [
         20
        ],
        [
         21
        ],
        [
         22
        ],
        [
         23
        ],
        [
         24
        ],
        [
         25
        ],
        [
         26
        ],
        [
         27
        ],
        [
         28
        ],
        [
         29
        ],
        [
         30
        ],
        [
         31
        ],
        [
         32
        ],
        [
         33
        ],
        [
         34
        ],
        [
         35
        ],
        [
         36
        ],
        [
         37
        ],
        [
         38
        ],
        [
         39
        ],
        [
         40
        ],
        [
         41
        ],
        [
         42
        ],
        [
         43
        ],
        [
         44
        ],
        [
         45
        ],
        [
         46
        ],
        [
         47
        ],
        [
         48
        ],
        [
         49
        ],
        [
         50
        ],
        [
         51
        ],
        [
         52
        ],
        [
         53
        ],
        [
         54
        ],
        [
         55
        ],
        [
         56
        ],
        [
         57
        ],
        [
         58
        ],
        [
         59
        ],
        [
         60
        ],
        [
         61
        ],
        [
         62
        ],
        [
         63
        ],
        [
         64
        ],
        [
         65
        ],
        [
         66
        ],
        [
         67
        ],
        [
         68
        ],
        [
         69
        ],
        [
         70
        ],
        [
         71
        ],
        [
         72
        ],
        [
         73
        ],
        [
         74
        ],
        [
         75
        ],
        [
         76
        ],
        [
         77
        ],
        [
         78
        ],
        [
         79
        ],
        [
         80
        ],
        [
         81
        ],
        [
         82
        ],
        [
         83
        ],
        [
         84
        ],
        [
         85
        ],
        [
         86
        ],
        [
         87
        ],
        [
         88
        ],
        [
         89
        ],
        [
         90
        ],
        [
         91
        ],
        [
         92
        ],
        [
         93
        ],
        [
         94
        ],
        [
         95
        ],
        [
         96
        ],
        [
         97
        ],
        [
         98
        ],
        [
         99
        ],
        [
         100
        ]
       ],
       "datasetInfos": [],
       "dbfsResultPath": null,
       "isJsonSchema": true,
       "metadata": {},
       "overflow": false,
       "plotOptions": {
        "customPlotOptions": {},
        "displayType": "table",
        "pivotAggregation": null,
        "pivotColumns": null,
        "xColumns": null,
        "yColumns": null
       },
       "removedWidgets": [],
       "schema": [
        {
         "metadata": "{}",
         "name": "id",
         "type": "\"long\""
        }
       ],
       "type": "table"
      }
     },
     "output_type": "display_data"
    },
    {
     "output_type": "stream",
     "name": "stdout",
     "output_type": "stream",
     "text": [
      "+---+\n| id|\n+---+\n|  7|\n|  8|\n| 18|\n| 54|\n| 55|\n| 56|\n| 78|\n| 80|\n| 82|\n| 87|\n| 89|\n| 91|\n| 97|\n+---+\n\n"
     ]
    }
   ],
   "source": [
    "#34. sample :sampling data from large dataset using fractio and seed\n",
    "\n",
    "df=spark.range(1,101)\n",
    "display(df)\n",
    "df.sample(fraction=0.1).show()\n",
    "# df.sample(fraction=0.1,seed=10).show() # shows same random value each time you execute\n",
    "\n",
    "# fraction=0.1: This parameter specifies the fraction of rows to be sampled. Here, 0.1 means 10%, indicating that we want to sample 10% of the DataFrame's rows.\n",
    "# seed=10: This parameter sets the seed for reproducibility. When a seed is specified, the sampling process will generate the same random sample each time it's executed with the same seed value. This is useful for reproducibility purposes. In this case, seed=10 sets the seed value to 10."
   ]
  },
  {
   "cell_type": "code",
   "execution_count": 0,
   "metadata": {
    "application/vnd.databricks.v1+cell": {
     "cellMetadata": {
      "byteLimit": 2048000,
      "rowLimit": 10000
     },
     "inputWidgets": {},
     "nuid": "339f39fb-b346-4861-9d36-17e9cee3c7b5",
     "showTitle": false,
     "tableResultSettingsMap": {},
     "title": ""
    }
   },
   "outputs": [
    {
     "output_type": "display_data",
     "data": {
      "text/html": [
       "<style scoped>\n",
       "  .table-result-container {\n",
       "    max-height: 300px;\n",
       "    overflow: auto;\n",
       "  }\n",
       "  table, th, td {\n",
       "    border: 1px solid black;\n",
       "    border-collapse: collapse;\n",
       "  }\n",
       "  th, td {\n",
       "    padding: 5px;\n",
       "  }\n",
       "  th {\n",
       "    text-align: left;\n",
       "  }\n",
       "</style><div class='table-result-container'><table class='table-result'><thead style='background-color: white'><tr><th>id</th><th>name</th><th>gender</th><th>salary</th><th>Dept_name</th></tr></thead><tbody><tr><td>1</td><td>ram</td><td>M</td><td>1000</td><td>null</td></tr><tr><td>2</td><td>Shyam</td><td>M</td><td>2000</td><td>HR</td></tr><tr><td>3</td><td>Mohana</td><td>F</td><td>null</td><td>IT</td></tr><tr><td>4</td><td>null</td><td>F</td><td>5000</td><td>HR</td></tr></tbody></table></div>"
      ]
     },
     "metadata": {
      "application/vnd.databricks.v1+output": {
       "addedWidgets": {},
       "aggData": [],
       "aggError": "",
       "aggOverflow": false,
       "aggSchema": [],
       "aggSeriesLimitReached": false,
       "aggType": "",
       "arguments": {},
       "columnCustomDisplayInfos": {},
       "data": [
        [
         1,
         "ram",
         "M",
         1000,
         null
        ],
        [
         2,
         "Shyam",
         "M",
         2000,
         "HR"
        ],
        [
         3,
         "Mohana",
         "F",
         null,
         "IT"
        ],
        [
         4,
         null,
         "F",
         5000,
         "HR"
        ]
       ],
       "datasetInfos": [],
       "dbfsResultPath": null,
       "isJsonSchema": true,
       "metadata": {},
       "overflow": false,
       "plotOptions": {
        "customPlotOptions": {},
        "displayType": "table",
        "pivotAggregation": null,
        "pivotColumns": null,
        "xColumns": null,
        "yColumns": null
       },
       "removedWidgets": [],
       "schema": [
        {
         "metadata": "{}",
         "name": "id",
         "type": "\"long\""
        },
        {
         "metadata": "{}",
         "name": "name",
         "type": "\"string\""
        },
        {
         "metadata": "{}",
         "name": "gender",
         "type": "\"string\""
        },
        {
         "metadata": "{}",
         "name": "salary",
         "type": "\"long\""
        },
        {
         "metadata": "{}",
         "name": "Dept_name",
         "type": "\"string\""
        }
       ],
       "type": "table"
      }
     },
     "output_type": "display_data"
    },
    {
     "output_type": "stream",
     "name": "stdout",
     "output_type": "stream",
     "text": [
      "<class 'list'>\nram\n"
     ]
    }
   ],
   "source": [
    "#35. Collect : these are actions not transformation ..it returns an array/list of rows\n",
    "#use collect for small dataset not for big datasets\n",
    "data =[(1,'ram','M',1000,None),(2,'Shyam','M',2000,'HR'),(3,'Mohana','F',None,'IT'),(4,None,'F',5000,'HR')]\n",
    "sch=['id','name','gender','salary','Dept_name']\n",
    "df = spark.createDataFrame(data, sch)\n",
    "display(df)\n",
    "list_row=df.collect()\n",
    "print(type(list_row))\n",
    "print(list_row[0][1])\n"
   ]
  },
  {
   "cell_type": "code",
   "execution_count": 0,
   "metadata": {
    "application/vnd.databricks.v1+cell": {
     "cellMetadata": {
      "byteLimit": 2048000,
      "rowLimit": 10000
     },
     "inputWidgets": {},
     "nuid": "5768004c-e9f7-4a2a-b752-8f0ee8291c21",
     "showTitle": false,
     "tableResultSettingsMap": {},
     "title": ""
    }
   },
   "outputs": [
    {
     "output_type": "display_data",
     "data": {
      "text/html": [
       "<style scoped>\n",
       "  .table-result-container {\n",
       "    max-height: 300px;\n",
       "    overflow: auto;\n",
       "  }\n",
       "  table, th, td {\n",
       "    border: 1px solid black;\n",
       "    border-collapse: collapse;\n",
       "  }\n",
       "  th, td {\n",
       "    padding: 5px;\n",
       "  }\n",
       "  th {\n",
       "    text-align: left;\n",
       "  }\n",
       "</style><div class='table-result-container'><table class='table-result'><thead style='background-color: white'><tr><th>id</th><th>name</th><th>gender</th><th>salary</th><th>Dept_name</th></tr></thead><tbody><tr><td>1</td><td>ram</td><td>M</td><td>1000</td><td>null</td></tr><tr><td>2</td><td>Shyam</td><td>M</td><td>2000</td><td>HR</td></tr><tr><td>3</td><td>Mohana</td><td>F</td><td>null</td><td>IT</td></tr><tr><td>4</td><td>null</td><td>F</td><td>5000</td><td>HR</td></tr></tbody></table></div>"
      ]
     },
     "metadata": {
      "application/vnd.databricks.v1+output": {
       "addedWidgets": {},
       "aggData": [],
       "aggError": "",
       "aggOverflow": false,
       "aggSchema": [],
       "aggSeriesLimitReached": false,
       "aggType": "",
       "arguments": {},
       "columnCustomDisplayInfos": {},
       "data": [
        [
         1,
         "ram",
         "M",
         1000,
         null
        ],
        [
         2,
         "Shyam",
         "M",
         2000,
         "HR"
        ],
        [
         3,
         "Mohana",
         "F",
         null,
         "IT"
        ],
        [
         4,
         null,
         "F",
         5000,
         "HR"
        ]
       ],
       "datasetInfos": [],
       "dbfsResultPath": null,
       "isJsonSchema": true,
       "metadata": {},
       "overflow": false,
       "plotOptions": {
        "customPlotOptions": {},
        "displayType": "table",
        "pivotAggregation": null,
        "pivotColumns": null,
        "xColumns": null,
        "yColumns": null
       },
       "removedWidgets": [],
       "schema": [
        {
         "metadata": "{}",
         "name": "id",
         "type": "\"long\""
        },
        {
         "metadata": "{}",
         "name": "name",
         "type": "\"string\""
        },
        {
         "metadata": "{}",
         "name": "gender",
         "type": "\"string\""
        },
        {
         "metadata": "{}",
         "name": "salary",
         "type": "\"long\""
        },
        {
         "metadata": "{}",
         "name": "Dept_name",
         "type": "\"string\""
        }
       ],
       "type": "table"
      }
     },
     "output_type": "display_data"
    },
    {
     "output_type": "display_data",
     "data": {
      "text/html": [
       "<style scoped>\n",
       "  .table-result-container {\n",
       "    max-height: 300px;\n",
       "    overflow: auto;\n",
       "  }\n",
       "  table, th, td {\n",
       "    border: 1px solid black;\n",
       "    border-collapse: collapse;\n",
       "  }\n",
       "  th, td {\n",
       "    padding: 5px;\n",
       "  }\n",
       "  th {\n",
       "    text-align: left;\n",
       "  }\n",
       "</style><div class='table-result-container'><table class='table-result'><thead style='background-color: white'><tr><th>id</th><th>name</th><th>gender</th><th>salary</th><th>Dept_name</th><th>Gender_Category</th></tr></thead><tbody><tr><td>3</td><td>Mohana</td><td>F</td><td>null</td><td>IT</td><td>Female</td></tr></tbody></table></div>"
      ]
     },
     "metadata": {
      "application/vnd.databricks.v1+output": {
       "addedWidgets": {},
       "aggData": [],
       "aggError": "",
       "aggOverflow": false,
       "aggSchema": [],
       "aggSeriesLimitReached": false,
       "aggType": "",
       "arguments": {},
       "columnCustomDisplayInfos": {},
       "data": [
        [
         3,
         "Mohana",
         "F",
         null,
         "IT",
         "Female"
        ]
       ],
       "datasetInfos": [],
       "dbfsResultPath": null,
       "isJsonSchema": true,
       "metadata": {},
       "overflow": false,
       "plotOptions": {
        "customPlotOptions": {},
        "displayType": "table",
        "pivotAggregation": null,
        "pivotColumns": null,
        "xColumns": null,
        "yColumns": null
       },
       "removedWidgets": [],
       "schema": [
        {
         "metadata": "{}",
         "name": "id",
         "type": "\"long\""
        },
        {
         "metadata": "{}",
         "name": "name",
         "type": "\"string\""
        },
        {
         "metadata": "{}",
         "name": "gender",
         "type": "\"string\""
        },
        {
         "metadata": "{}",
         "name": "salary",
         "type": "\"long\""
        },
        {
         "metadata": "{}",
         "name": "Dept_name",
         "type": "\"string\""
        },
        {
         "metadata": "{}",
         "name": "Gender_Category",
         "type": "\"string\""
        }
       ],
       "type": "table"
      }
     },
     "output_type": "display_data"
    }
   ],
   "source": [
    "#36.Dataframe.transform functions :\n",
    "# it is used to chain the custom transformations/user defined functions and this function returns the new dataframe after applying the specified transformations\n",
    "#37: pyspark.sql.functions.transform() : this can be applied on a collumn which is an array type. it will perform transformation and then give you back a column with array type column\n",
    "\n",
    "#38. CreateOrReplace TempView() : you can use sql queries like DB \n",
    "# Create a temporary view, these views are session scoped and cannot be shared between the sessions.\n",
    "\n",
    "data =[(1,'ram','M',1000,None),(2,'Shyam','M',2000,'HR'),(3,'Mohana','F',None,'IT'),(4,None,'F',5000,'HR')]\n",
    "sch=['id','name','gender','salary','Dept_name']\n",
    "df = spark.createDataFrame(data, sch)\n",
    "display(df)\n",
    "\n",
    "df.createOrReplaceTempView(\"employees\");\n",
    "sql_df=spark.sql(\"\"\"\n",
    "                 SELECT *,\n",
    "                 case\n",
    "                 when e.gender ='M' then 'Male'\n",
    "                 else 'Female'\n",
    "                 end as Gender_Category\n",
    "                 FROM employees e where salary is null\n",
    "                 \"\"\"\n",
    "                 )\n",
    "display(sql_df)\n",
    "\n",
    "# once the temporary view is created you can utilize normal sql with magic command as below:\n"
   ]
  },
  {
   "cell_type": "code",
   "execution_count": 0,
   "metadata": {
    "application/vnd.databricks.v1+cell": {
     "cellMetadata": {
      "byteLimit": 2048000,
      "implicitDf": true,
      "rowLimit": 10000
     },
     "inputWidgets": {},
     "nuid": "755e159a-6efe-48dc-a44c-10f3a80d7ef7",
     "showTitle": false,
     "tableResultSettingsMap": {},
     "title": ""
    }
   },
   "outputs": [
    {
     "output_type": "display_data",
     "data": {
      "text/html": [
       "<style scoped>\n",
       "  .table-result-container {\n",
       "    max-height: 300px;\n",
       "    overflow: auto;\n",
       "  }\n",
       "  table, th, td {\n",
       "    border: 1px solid black;\n",
       "    border-collapse: collapse;\n",
       "  }\n",
       "  th, td {\n",
       "    padding: 5px;\n",
       "  }\n",
       "  th {\n",
       "    text-align: left;\n",
       "  }\n",
       "</style><div class='table-result-container'><table class='table-result'><thead style='background-color: white'><tr><th>id</th><th>name</th><th>gender</th><th>salary</th><th>Dept_name</th><th>Gender_Category</th></tr></thead><tbody><tr><td>1</td><td>ram</td><td>M</td><td>1000</td><td>null</td><td>Male</td></tr><tr><td>2</td><td>Shyam</td><td>M</td><td>2000</td><td>HR</td><td>Male</td></tr><tr><td>3</td><td>Mohana</td><td>F</td><td>null</td><td>IT</td><td>Female</td></tr><tr><td>4</td><td>null</td><td>F</td><td>5000</td><td>HR</td><td>Female</td></tr></tbody></table></div>"
      ]
     },
     "metadata": {
      "application/vnd.databricks.v1+output": {
       "addedWidgets": {},
       "aggData": [],
       "aggError": "",
       "aggOverflow": false,
       "aggSchema": [],
       "aggSeriesLimitReached": false,
       "aggType": "",
       "arguments": {},
       "columnCustomDisplayInfos": {},
       "data": [
        [
         1,
         "ram",
         "M",
         1000,
         null,
         "Male"
        ],
        [
         2,
         "Shyam",
         "M",
         2000,
         "HR",
         "Male"
        ],
        [
         3,
         "Mohana",
         "F",
         null,
         "IT",
         "Female"
        ],
        [
         4,
         null,
         "F",
         5000,
         "HR",
         "Female"
        ]
       ],
       "datasetInfos": [],
       "dbfsResultPath": null,
       "isJsonSchema": true,
       "metadata": {},
       "overflow": false,
       "plotOptions": {
        "customPlotOptions": {},
        "displayType": "table",
        "pivotAggregation": null,
        "pivotColumns": null,
        "xColumns": null,
        "yColumns": null
       },
       "removedWidgets": [],
       "schema": [
        {
         "metadata": "{}",
         "name": "id",
         "type": "\"long\""
        },
        {
         "metadata": "{}",
         "name": "name",
         "type": "\"string\""
        },
        {
         "metadata": "{}",
         "name": "gender",
         "type": "\"string\""
        },
        {
         "metadata": "{}",
         "name": "salary",
         "type": "\"long\""
        },
        {
         "metadata": "{}",
         "name": "Dept_name",
         "type": "\"string\""
        },
        {
         "metadata": "{}",
         "name": "Gender_Category",
         "type": "\"string\""
        }
       ],
       "type": "table"
      }
     },
     "output_type": "display_data"
    }
   ],
   "source": [
    "%sql\n",
    "                 SELECT *,\n",
    "                 case\n",
    "                 when e.gender ='M' then 'Male'\n",
    "                 else 'Female'\n",
    "                 end as Gender_Category\n",
    "                 FROM employees e  "
   ]
  },
  {
   "cell_type": "code",
   "execution_count": 0,
   "metadata": {
    "application/vnd.databricks.v1+cell": {
     "cellMetadata": {
      "byteLimit": 2048000,
      "rowLimit": 10000
     },
     "inputWidgets": {},
     "nuid": "309ac089-e429-4285-a911-616d5ae50f16",
     "showTitle": false,
     "tableResultSettingsMap": {},
     "title": ""
    }
   },
   "outputs": [
    {
     "output_type": "display_data",
     "data": {
      "text/html": [
       "<style scoped>\n",
       "  .table-result-container {\n",
       "    max-height: 300px;\n",
       "    overflow: auto;\n",
       "  }\n",
       "  table, th, td {\n",
       "    border: 1px solid black;\n",
       "    border-collapse: collapse;\n",
       "  }\n",
       "  th, td {\n",
       "    padding: 5px;\n",
       "  }\n",
       "  th {\n",
       "    text-align: left;\n",
       "  }\n",
       "</style><div class='table-result-container'><table class='table-result'><thead style='background-color: white'><tr><th>id</th><th>name</th><th>gender</th><th>salary</th><th>Dept_name</th></tr></thead><tbody><tr><td>1</td><td>ram</td><td>M</td><td>1000</td><td>null</td></tr><tr><td>2</td><td>Shyam</td><td>M</td><td>2000</td><td>HR</td></tr><tr><td>3</td><td>Mohana</td><td>F</td><td>null</td><td>IT</td></tr><tr><td>4</td><td>null</td><td>F</td><td>5000</td><td>HR</td></tr></tbody></table></div>"
      ]
     },
     "metadata": {
      "application/vnd.databricks.v1+output": {
       "addedWidgets": {},
       "aggData": [],
       "aggError": "",
       "aggOverflow": false,
       "aggSchema": [],
       "aggSeriesLimitReached": false,
       "aggType": "",
       "arguments": {},
       "columnCustomDisplayInfos": {},
       "data": [
        [
         1,
         "ram",
         "M",
         1000,
         null
        ],
        [
         2,
         "Shyam",
         "M",
         2000,
         "HR"
        ],
        [
         3,
         "Mohana",
         "F",
         null,
         "IT"
        ],
        [
         4,
         null,
         "F",
         5000,
         "HR"
        ]
       ],
       "datasetInfos": [],
       "dbfsResultPath": null,
       "isJsonSchema": true,
       "metadata": {},
       "overflow": false,
       "plotOptions": {
        "customPlotOptions": {},
        "displayType": "table",
        "pivotAggregation": null,
        "pivotColumns": null,
        "xColumns": null,
        "yColumns": null
       },
       "removedWidgets": [],
       "schema": [
        {
         "metadata": "{}",
         "name": "id",
         "type": "\"long\""
        },
        {
         "metadata": "{}",
         "name": "name",
         "type": "\"string\""
        },
        {
         "metadata": "{}",
         "name": "gender",
         "type": "\"string\""
        },
        {
         "metadata": "{}",
         "name": "salary",
         "type": "\"long\""
        },
        {
         "metadata": "{}",
         "name": "Dept_name",
         "type": "\"string\""
        }
       ],
       "type": "table"
      }
     },
     "output_type": "display_data"
    },
    {
     "output_type": "display_data",
     "data": {
      "text/html": [
       "<style scoped>\n",
       "  .table-result-container {\n",
       "    max-height: 300px;\n",
       "    overflow: auto;\n",
       "  }\n",
       "  table, th, td {\n",
       "    border: 1px solid black;\n",
       "    border-collapse: collapse;\n",
       "  }\n",
       "  th, td {\n",
       "    padding: 5px;\n",
       "  }\n",
       "  th {\n",
       "    text-align: left;\n",
       "  }\n",
       "</style><div class='table-result-container'><table class='table-result'><thead style='background-color: white'><tr><th>id</th><th>name</th><th>gender</th><th>salary</th><th>Dept_name</th><th>Gender_Category</th></tr></thead><tbody><tr><td>4</td><td>null</td><td>F</td><td>5000</td><td>HR</td><td>Female</td></tr></tbody></table></div>"
      ]
     },
     "metadata": {
      "application/vnd.databricks.v1+output": {
       "addedWidgets": {},
       "aggData": [],
       "aggError": "",
       "aggOverflow": false,
       "aggSchema": [],
       "aggSeriesLimitReached": false,
       "aggType": "",
       "arguments": {},
       "columnCustomDisplayInfos": {},
       "data": [
        [
         4,
         null,
         "F",
         5000,
         "HR",
         "Female"
        ]
       ],
       "datasetInfos": [],
       "dbfsResultPath": null,
       "isJsonSchema": true,
       "metadata": {},
       "overflow": false,
       "plotOptions": {
        "customPlotOptions": {},
        "displayType": "table",
        "pivotAggregation": null,
        "pivotColumns": null,
        "xColumns": null,
        "yColumns": null
       },
       "removedWidgets": [],
       "schema": [
        {
         "metadata": "{}",
         "name": "id",
         "type": "\"long\""
        },
        {
         "metadata": "{}",
         "name": "name",
         "type": "\"string\""
        },
        {
         "metadata": "{}",
         "name": "gender",
         "type": "\"string\""
        },
        {
         "metadata": "{}",
         "name": "salary",
         "type": "\"long\""
        },
        {
         "metadata": "{}",
         "name": "Dept_name",
         "type": "\"string\""
        },
        {
         "metadata": "{}",
         "name": "Gender_Category",
         "type": "\"string\""
        }
       ],
       "type": "table"
      }
     },
     "output_type": "display_data"
    }
   ],
   "source": [
    "#39. CreateOrReplaceGlobalTempView():\n",
    "# it can be access across the session with in spark application\n",
    "# to acces these we need append global_temp.<tablename>\n",
    "\n",
    "data =[(1,'ram','M',1000,None),(2,'Shyam','M',2000,'HR'),(3,'Mohana','F',None,'IT'),(4,None,'F',5000,'HR')]\n",
    "sch=['id','name','gender','salary','Dept_name']\n",
    "df = spark.createDataFrame(data, sch)\n",
    "display(df)\n",
    "\n",
    "df.createOrReplaceGlobalTempView(\"global_employees\");\n",
    "sql_df=spark.sql(\"\"\"\n",
    "                 SELECT *,\n",
    "                 case\n",
    "                 when e.gender ='M' then 'Male'\n",
    "                 else 'Female'\n",
    "                 end as Gender_Category\n",
    "                 FROM employees e where salary >2000\n",
    "                 \"\"\"\n",
    "                 )\n",
    "display(sql_df)"
   ]
  },
  {
   "cell_type": "code",
   "execution_count": 0,
   "metadata": {
    "application/vnd.databricks.v1+cell": {
     "cellMetadata": {
      "byteLimit": 2048000,
      "implicitDf": true,
      "rowLimit": 10000
     },
     "inputWidgets": {},
     "nuid": "123a6784-1bdc-4643-94a7-35e4710d34d1",
     "showTitle": false,
     "tableResultSettingsMap": {},
     "title": ""
    }
   },
   "outputs": [
    {
     "output_type": "display_data",
     "data": {
      "text/html": [
       "<style scoped>\n",
       "  .table-result-container {\n",
       "    max-height: 300px;\n",
       "    overflow: auto;\n",
       "  }\n",
       "  table, th, td {\n",
       "    border: 1px solid black;\n",
       "    border-collapse: collapse;\n",
       "  }\n",
       "  th, td {\n",
       "    padding: 5px;\n",
       "  }\n",
       "  th {\n",
       "    text-align: left;\n",
       "  }\n",
       "</style><div class='table-result-container'><table class='table-result'><thead style='background-color: white'><tr><th>id</th><th>name</th><th>gender</th><th>salary</th><th>Dept_name</th></tr></thead><tbody><tr><td>1</td><td>ram</td><td>M</td><td>1000</td><td>null</td></tr><tr><td>2</td><td>Shyam</td><td>M</td><td>2000</td><td>HR</td></tr><tr><td>3</td><td>Mohana</td><td>F</td><td>null</td><td>IT</td></tr><tr><td>4</td><td>null</td><td>F</td><td>5000</td><td>HR</td></tr></tbody></table></div>"
      ]
     },
     "metadata": {
      "application/vnd.databricks.v1+output": {
       "addedWidgets": {},
       "aggData": [],
       "aggError": "",
       "aggOverflow": false,
       "aggSchema": [],
       "aggSeriesLimitReached": false,
       "aggType": "",
       "arguments": {},
       "columnCustomDisplayInfos": {},
       "data": [
        [
         1,
         "ram",
         "M",
         1000,
         null
        ],
        [
         2,
         "Shyam",
         "M",
         2000,
         "HR"
        ],
        [
         3,
         "Mohana",
         "F",
         null,
         "IT"
        ],
        [
         4,
         null,
         "F",
         5000,
         "HR"
        ]
       ],
       "datasetInfos": [],
       "dbfsResultPath": null,
       "isJsonSchema": true,
       "metadata": {},
       "overflow": false,
       "plotOptions": {
        "customPlotOptions": {},
        "displayType": "table",
        "pivotAggregation": null,
        "pivotColumns": null,
        "xColumns": null,
        "yColumns": null
       },
       "removedWidgets": [],
       "schema": [
        {
         "metadata": "{}",
         "name": "id",
         "type": "\"long\""
        },
        {
         "metadata": "{}",
         "name": "name",
         "type": "\"string\""
        },
        {
         "metadata": "{}",
         "name": "gender",
         "type": "\"string\""
        },
        {
         "metadata": "{}",
         "name": "salary",
         "type": "\"long\""
        },
        {
         "metadata": "{}",
         "name": "Dept_name",
         "type": "\"string\""
        }
       ],
       "type": "table"
      }
     },
     "output_type": "display_data"
    }
   ],
   "source": [
    "%sql\n",
    "--SELECT * from global_employees --The table or view `global_employees` cannot be found\n",
    "SELECT * from global_temp.global_employees; --this will work so to acces global temp table we need append 'global_temp' in front of name\n",
    "-- this table will be acces in another notebook session too\n"
   ]
  },
  {
   "cell_type": "code",
   "execution_count": 0,
   "metadata": {
    "application/vnd.databricks.v1+cell": {
     "cellMetadata": {
      "byteLimit": 2048000,
      "rowLimit": 10000
     },
     "inputWidgets": {},
     "nuid": "d397937e-aca7-4166-92a1-470911be8563",
     "showTitle": false,
     "tableResultSettingsMap": {},
     "title": ""
    }
   },
   "outputs": [
    {
     "output_type": "stream",
     "name": "stdout",
     "output_type": "stream",
     "text": [
      "Out[76]: 'default'"
     ]
    }
   ],
   "source": [
    "spark.catalog.currentDatabase()"
   ]
  },
  {
   "cell_type": "code",
   "execution_count": 0,
   "metadata": {
    "application/vnd.databricks.v1+cell": {
     "cellMetadata": {
      "byteLimit": 2048000,
      "rowLimit": 10000
     },
     "inputWidgets": {},
     "nuid": "121c4ec1-a1a2-4df4-a65c-dad1210bc68d",
     "showTitle": false,
     "tableResultSettingsMap": {},
     "title": ""
    }
   },
   "outputs": [
    {
     "output_type": "stream",
     "name": "stdout",
     "output_type": "stream",
     "text": [
      "Out[77]: [Table(name='employees', catalog=None, namespace=[], description=None, tableType='TEMPORARY', isTemporary=True)]"
     ]
    }
   ],
   "source": [
    "spark.catalog.listTables()"
   ]
  },
  {
   "cell_type": "code",
   "execution_count": 0,
   "metadata": {
    "application/vnd.databricks.v1+cell": {
     "cellMetadata": {
      "byteLimit": 2048000,
      "rowLimit": 10000
     },
     "inputWidgets": {},
     "nuid": "6cebae95-d702-4aef-8748-88182269a23d",
     "showTitle": false,
     "tableResultSettingsMap": {},
     "title": ""
    }
   },
   "outputs": [
    {
     "output_type": "stream",
     "name": "stdout",
     "output_type": "stream",
     "text": [
      "Out[78]: [Table(name='employees', catalog=None, namespace=['global_temp'], description=None, tableType='TEMPORARY', isTemporary=True),\n Table(name='global_employees', catalog=None, namespace=['global_temp'], description=None, tableType='TEMPORARY', isTemporary=True),\n Table(name='employees', catalog=None, namespace=[], description=None, tableType='TEMPORARY', isTemporary=True)]"
     ]
    }
   ],
   "source": [
    "spark.catalog.listTables('global_temp')"
   ]
  },
  {
   "cell_type": "code",
   "execution_count": 0,
   "metadata": {
    "application/vnd.databricks.v1+cell": {
     "cellMetadata": {},
     "inputWidgets": {},
     "nuid": "f4135c81-fcac-4c19-8da8-88adee99cb60",
     "showTitle": false,
     "tableResultSettingsMap": {},
     "title": ""
    }
   },
   "outputs": [],
   "source": []
  }
 ],
 "metadata": {
  "application/vnd.databricks.v1+notebook": {
   "computePreferences": null,
   "dashboards": [],
   "environmentMetadata": null,
   "inputWidgetPreferences": null,
   "language": "python",
   "notebookMetadata": {
    "mostRecentlyExecutedCommandWithImplicitDF": {
     "commandId": 3996229044081696,
     "dataframes": [
      "_sqldf"
     ]
    },
    "pythonIndentUnit": 4
   },
   "notebookName": "03_From_Pivot_Onwards",
   "widgets": {}
  }
 },
 "nbformat": 4,
 "nbformat_minor": 0
}