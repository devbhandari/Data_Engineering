{
 "cells": [
  {
   "cell_type": "code",
   "execution_count": null,
   "id": "54a1d747",
   "metadata": {},
   "outputs": [],
   "source": [
    "# Decorator allow you to tack on extra functionality to an already existing function.\n",
    "# They use @ operator and are then placed on top of the original function.\n",
    "# You can easily add on/off extra fucntionality with a decorator"
   ]
  },
  {
   "cell_type": "code",
   "execution_count": null,
   "id": "4c07ada2",
   "metadata": {},
   "outputs": [
    {
     "data": {
      "text/plain": [
       "<function __main__.func()>"
      ]
     },
     "execution_count": 4,
     "metadata": {},
     "output_type": "execute_result"
    }
   ],
   "source": [
    "# def func():\n",
    "#     return 1\n",
    "# # call function\n",
    "# func()\n",
    "# print(func())\n",
    "# func #<function __main__.func()>"
   ]
  },
  {
   "cell_type": "code",
   "execution_count": null,
   "id": "df2f17a3",
   "metadata": {},
   "outputs": [
    {
     "data": {
      "text/plain": [
       "<function __main__.hello()>"
      ]
     },
     "execution_count": 11,
     "metadata": {},
     "output_type": "execute_result"
    }
   ],
   "source": [
    "def hello():\n",
    "    return 'Hello !'\n",
    "\n",
    "hello()\n",
    "greet=hello #Passing a function to another function\n",
    "# greet # <function __main__.hello()>\n",
    "greet() #'Hello !'\n",
    "\n"
   ]
  },
  {
   "cell_type": "code",
   "execution_count": 16,
   "id": "11dfa12c",
   "metadata": {},
   "outputs": [
    {
     "data": {
      "text/plain": [
       "'Hello !'"
      ]
     },
     "execution_count": 16,
     "metadata": {},
     "output_type": "execute_result"
    }
   ],
   "source": [
    "# del hello\n",
    "# hello\n",
    "greet()"
   ]
  },
  {
   "cell_type": "code",
   "execution_count": 24,
   "id": "001344af",
   "metadata": {},
   "outputs": [
    {
     "name": "stdout",
     "output_type": "stream",
     "text": [
      "The hello() function has been executed !\n",
      "\t This is the greet() func inside hello!\n",
      "\t This is welcome() inside hello\n",
      "This is the end of the hello functon !\n"
     ]
    }
   ],
   "source": [
    "def hello(name='Ram'):\n",
    "    print('The hello() function has been executed !')\n",
    "\n",
    "    def greet():\n",
    "        return '\\t This is the greet() func inside hello!'\n",
    "    \n",
    "    def welcome():\n",
    "        return'\\t This is welcome() inside hello'\n",
    "    print(greet())\n",
    "    print(welcome())\n",
    "    print('This is the end of the hello functon !')\n",
    "\n",
    "# Call function\n",
    "hello()"
   ]
  },
  {
   "cell_type": "code",
   "execution_count": null,
   "id": "80a59d5f",
   "metadata": {},
   "outputs": [
    {
     "name": "stdout",
     "output_type": "stream",
     "text": [
      "\t This is the greet() func inside hello!\n"
     ]
    }
   ],
   "source": [
    "# welcome() #name 'welcome' is not defined because of scope inside hello only\n",
    "# how to access outside hello\n",
    "\n",
    "def hello(name='Ram'):\n",
    "    print('The hello() function has been executed !')\n",
    "\n",
    "    def greet():\n",
    "        return '\\t This is the greet() func inside hello!'\n",
    "    \n",
    "    def welcome():\n",
    "        return'\\t This is welcome() inside hello'\n",
    "    print('I am going to return a fucntion !')\n",
    "\n",
    "    if name=='Ram':\n",
    "        return greet\n",
    "    else:\n",
    "        return welcome\n",
    "\n",
    "# mynew_func=hello('Ram')\n",
    "# mynew_func #<function __main__.hello.<locals>.greet()>\n",
    "print(mynew_func()) #This is the greet() func inside hello!\n"
   ]
  },
  {
   "cell_type": "code",
   "execution_count": null,
   "id": "279c2cb8",
   "metadata": {},
   "outputs": [
    {
     "data": {
      "text/plain": [
       "<function __main__.cool.<locals>.super_cool()>"
      ]
     },
     "execution_count": 39,
     "metadata": {},
     "output_type": "execute_result"
    }
   ],
   "source": [
    "#  function returning another function, also known as closures or higher-order functions\n",
    "\n",
    "def cool():\n",
    "    \n",
    "    def super_cool():\n",
    "        return 'I am very cool'\n",
    "    return super_cool\n",
    "\n",
    "# cool() #<function __main__.cool.<locals>.super_cool()>\n",
    "\n",
    "# some_func=cool()\n",
    "\n",
    "# some_func #<function __main__.cool.<locals>.super_cool()>\n",
    "\n",
    "# some_func() # 'I am very cool'"
   ]
  },
  {
   "cell_type": "code",
   "execution_count": null,
   "id": "b70556b6",
   "metadata": {},
   "outputs": [
    {
     "name": "stdout",
     "output_type": "stream",
     "text": [
      "Other code runs here !\n",
      "Hi Ram !\n"
     ]
    }
   ],
   "source": [
    "#Passing a function as an argument\n",
    "def hello():\n",
    "    return 'Hi Ram !'\n",
    "\n",
    "def other(some_def_func):\n",
    "    print('Other code runs here !')\n",
    "    print(some_def_func())\n",
    "# hello()\n",
    "other(hello)"
   ]
  },
  {
   "cell_type": "code",
   "execution_count": null,
   "id": "553f4c74",
   "metadata": {},
   "outputs": [
    {
     "name": "stdout",
     "output_type": "stream",
     "text": [
      "Some extra code before the original funciton !\n",
      "I want to be decorated !!\n",
      "Some extra code, after the original function !\n"
     ]
    }
   ],
   "source": [
    "# Decorator\n",
    "def new_decorator(org_func):\n",
    "\n",
    "    def wrap_func():\n",
    "        print('Some extra code before the original funciton !')\n",
    "\n",
    "        org_func()\n",
    "\n",
    "        print('Some extra code, after the original function !')\n",
    "\n",
    "    return wrap_func\n",
    "\n",
    "# function\n",
    "def func_needs_decorator():\n",
    "    print('I want to be decorated !!')\n",
    "\n",
    "# function call\n",
    "# func_needs_decorator()\n",
    "\n",
    "decorated_func=new_decorator(func_needs_decorator)\n",
    "decorated_func()\n",
    "\n"
   ]
  },
  {
   "cell_type": "code",
   "execution_count": null,
   "id": "ac04ac21",
   "metadata": {},
   "outputs": [
    {
     "name": "stdout",
     "output_type": "stream",
     "text": [
      "Some extra code before the original funciton !\n",
      "I want to be decorated !!\n",
      "Some extra code, after the original function !\n"
     ]
    }
   ],
   "source": [
    "# decorator creation,this is your on/off switch\n",
    "@new_decorator #<-- this is your on/off (just comment this) switch\n",
    "# function\n",
    "def func_needs_decorator():\n",
    "    print('I want to be decorated !!')\n",
    "\n",
    "func_needs_decorator()"
   ]
  },
  {
   "cell_type": "code",
   "execution_count": null,
   "id": "dd3f1f9b",
   "metadata": {},
   "outputs": [],
   "source": []
  },
  {
   "cell_type": "code",
   "execution_count": null,
   "id": "d54d783e",
   "metadata": {},
   "outputs": [],
   "source": []
  },
  {
   "cell_type": "code",
   "execution_count": null,
   "id": "df83e419",
   "metadata": {},
   "outputs": [],
   "source": []
  },
  {
   "cell_type": "code",
   "execution_count": null,
   "id": "5fc167da",
   "metadata": {},
   "outputs": [],
   "source": []
  },
  {
   "cell_type": "code",
   "execution_count": null,
   "id": "26c68068",
   "metadata": {},
   "outputs": [],
   "source": []
  }
 ],
 "metadata": {
  "kernelspec": {
   "display_name": "Python 3",
   "language": "python",
   "name": "python3"
  },
  "language_info": {
   "codemirror_mode": {
    "name": "ipython",
    "version": 3
   },
   "file_extension": ".py",
   "mimetype": "text/x-python",
   "name": "python",
   "nbconvert_exporter": "python",
   "pygments_lexer": "ipython3",
   "version": "3.11.3"
  }
 },
 "nbformat": 4,
 "nbformat_minor": 5
}
