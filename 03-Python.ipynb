{
 "cells": [
  {
   "cell_type": "markdown",
   "id": "9aaf9e1b",
   "metadata": {},
   "source": [
    "# We will be learning advanced python functions like lambda, filter map and nested statement,methods and functions\n"
   ]
  },
  {
   "cell_type": "code",
   "execution_count": null,
   "id": "cd9f5fcd",
   "metadata": {
    "vscode": {
     "languageId": "plaintext"
    }
   },
   "outputs": [],
   "source": []
  }
 ],
 "metadata": {
  "language_info": {
   "name": "python"
  }
 },
 "nbformat": 4,
 "nbformat_minor": 5
}
