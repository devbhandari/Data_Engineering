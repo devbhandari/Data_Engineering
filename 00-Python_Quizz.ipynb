{
 "cells": [
  {
   "cell_type": "code",
   "execution_count": 2,
   "id": "f6fc0817",
   "metadata": {},
   "outputs": [
    {
     "name": "stdout",
     "output_type": "stream",
     "text": [
      "[0, 2, 4, 6, 8]\n"
     ]
    }
   ],
   "source": [
    "l=[]\n",
    "for i in range(10):\n",
    "    if i%2==0:\n",
    "        l.append(i)\n",
    "print(l)"
   ]
  },
  {
   "cell_type": "code",
   "execution_count": 3,
   "id": "83eabe5d",
   "metadata": {},
   "outputs": [
    {
     "name": "stdout",
     "output_type": "stream",
     "text": [
      "hi\n"
     ]
    }
   ],
   "source": [
    "print('hi')"
   ]
  },
  {
   "cell_type": "code",
   "execution_count": 7,
   "id": "e19cba56",
   "metadata": {},
   "outputs": [
    {
     "name": "stdout",
     "output_type": "stream",
     "text": [
      "Entered user informations are following: \n",
      "User name is rama , age is 25 , height is 5.8 and \n",
      "Are you currently learning Python? True\n"
     ]
    }
   ],
   "source": [
    "#Variables and Data Types\n",
    "'''\n",
    "Task1\n",
    "Create variables for:\n",
    "Your name (string)\n",
    "Your age (int)\n",
    "Your height (float)\n",
    "Are you currently learning Python? (boolean)\n",
    "Print them with formatted strings.\n",
    "'''\n",
    "v_name=\"rama\"\n",
    "v_age=25\n",
    "v_height=5.8\n",
    "v_lerarning=True\n",
    "\n",
    "print(f\"Entered user informations are following: \\n\" \n",
    "      f\"User name is {v_name} , age is {v_age} , height is {v_height} and \\n\" \n",
    "     f\"Are you currently learning Python? {v_lerarning}\"\n",
    "     );"
   ]
  },
  {
   "cell_type": "code",
   "execution_count": 22,
   "id": "e2523b3f",
   "metadata": {},
   "outputs": [
    {
     "name": "stdout",
     "output_type": "stream",
     "text": [
      "Mohan\n",
      "Shyam\n"
     ]
    }
   ],
   "source": [
    "'''\n",
    "Task 2: Conditional Statements\n",
    "Write a program to:\n",
    "Check if a person is eligible to vote (age >= 18)\n",
    "Print different messages for different age ranges\n",
    "'''\n",
    "\n",
    "d_user={\n",
    "    \"Ram\":12,\n",
    "    \"Mohan\":18,\n",
    "    \"Shyam\":20,\n",
    "    \"Mukesh\":15\n",
    "}\n",
    "# print(d_userinfo)\n",
    "for key,value in d_user.items():\n",
    "    if value>=18:\n",
    "        print(key)"
   ]
  },
  {
   "cell_type": "code",
   "execution_count": 34,
   "id": "ff9d2d97",
   "metadata": {},
   "outputs": [
    {
     "name": "stdout",
     "output_type": "stream",
     "text": [
      " base-square list is : [1, 4, 9, 16, 25, 36, 49, 64, 81, 100]\n",
      " even list is : [2, 4, 6, 8, 10]\n"
     ]
    }
   ],
   "source": [
    "'''\n",
    "🔹 Task 3: Loops and Lists\n",
    "Write a program that:\n",
    "Creates a list of numbers from 1 to 10\n",
    "Squares each number using a for loop\n",
    "Prints only even squares\n",
    "'''\n",
    "list1=[]\n",
    "even_list=[]\n",
    "for i in range(1,11):\n",
    "    square=i*i\n",
    "    list1.append(square)\n",
    "    if square%2==0:\n",
    "        even_list.append(i)\n",
    "print(f\" base-square list is : {list1}\")\n",
    "print(f\" even list is : {even_list}\")\n",
    "\n"
   ]
  },
  {
   "cell_type": "code",
   "execution_count": 36,
   "id": "fa7ee1d6",
   "metadata": {},
   "outputs": [
    {
     "name": "stdout",
     "output_type": "stream",
     "text": [
      "[4, 16, 36, 64, 100]\n"
     ]
    }
   ],
   "source": [
    "list1 = [i*i for i in range(1, 11) if i*i%2 ==0]\n",
    "print(list1)\n"
   ]
  },
  {
   "cell_type": "code",
   "execution_count": 43,
   "id": "9f2c230d",
   "metadata": {},
   "outputs": [],
   "source": [
    "'''\n",
    "Task 4: Functions\n",
    "Write a function:\n",
    "That takes two numbers and returns their sum, difference, and product\n",
    "That checks if a string is a palindrome (same forward and backward)\n",
    "\n",
    "'''\n",
    "def fn_math(num1, num2):\n",
    "    return(num1+num2,num2-num1,num1*num2);"
   ]
  },
  {
   "cell_type": "code",
   "execution_count": 46,
   "id": "2bab0baf",
   "metadata": {},
   "outputs": [
    {
     "name": "stdout",
     "output_type": "stream",
     "text": [
      " summation is 6\n",
      " Difference is 2\n",
      " Product is 8\n"
     ]
    }
   ],
   "source": [
    "summ,diff,prd=fn_math(2,4)\n",
    "print(f\" summation is {summ}\\n\"\n",
    "      f\" Difference is {diff}\\n\"\n",
    "      f\" Product is {prd}\"\n",
    "     )"
   ]
  },
  {
   "cell_type": "code",
   "execution_count": null,
   "id": "bb48e8f1",
   "metadata": {},
   "outputs": [],
   "source": [
    "'''\n",
    "Task 5: Dictionaries and JSON\n",
    "Create a dictionary of your details (name, skills, city)\n",
    "Convert it to JSON using json module\n",
    "Access specific values using keys\n",
    "python\n",
    "Copy\n",
    "Edit\n",
    "\n",
    "Task 6: File Handling\n",
    "Create a text file and write 5 lines of data\n",
    "Read that file and count how many lines it has\n",
    "\n",
    "Task 7: Classes and Objects\n",
    "Create a class Student with attributes name, age, marks\n",
    "Add a method to display the details\n",
    "Create 2-3 student objects and call their method\n",
    "\n",
    "Task 8: Exception Handling\n",
    "Take two numbers from user input and divide them\n",
    "Handle exceptions like divide by zero, invalid input\n",
    "\n",
    "Task 9: List Comprehension\n",
    "Create a list of even numbers from 1 to 100 using list comprehension\n",
    "Filter all numbers divisible by 5 from it\n",
    "\n",
    "Task 10: Mini Project Idea (Optional)\n",
    "Build a To-Do List CLI App:\n",
    "Add task\n",
    "Delete task\n",
    "List all tasks\n",
    "Mark task as complete\n",
    "Save tasks to file\n",
    "'''"
   ]
  },
  {
   "cell_type": "code",
   "execution_count": 2,
   "id": "fc498b5c",
   "metadata": {},
   "outputs": [
    {
     "data": {
      "text/plain": [
       "'Ramsingh'"
      ]
     },
     "execution_count": 2,
     "metadata": {},
     "output_type": "execute_result"
    }
   ],
   "source": [
    "str1=\"Ramsingh\"\n",
    "# str1[::-1]\n",
    "str1"
   ]
  },
  {
   "cell_type": "code",
   "execution_count": null,
   "id": "59486a26",
   "metadata": {},
   "outputs": [],
   "source": []
  }
 ],
 "metadata": {
  "kernelspec": {
   "display_name": "Python 3",
   "language": "python",
   "name": "python3"
  },
  "language_info": {
   "codemirror_mode": {
    "name": "ipython",
    "version": 3
   },
   "file_extension": ".py",
   "mimetype": "text/x-python",
   "name": "python",
   "nbconvert_exporter": "python",
   "pygments_lexer": "ipython3",
   "version": "3.11.3"
  }
 },
 "nbformat": 4,
 "nbformat_minor": 5
}
